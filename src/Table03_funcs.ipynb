{
 "cells": [
  {
   "cell_type": "code",
   "execution_count": null,
   "id": "96c0c860-f232-41e3-b2d1-e92ee5440572",
   "metadata": {},
   "outputs": [],
   "source": [
    "ticks = pd.read_csv ('../data/manual/ticks_v2.csv', sep=\",\")\n",
    "ticks['gvkey'] = ticks['gvkey'].fillna(0.0).astype(int)\n",
    "ticks['Permco'] = ticks['Permco'].fillna(0.0).astype(int)\n",
    "ticks.head(10)"
   ]
  },
  {
   "cell_type": "code",
   "execution_count": null,
   "id": "9f681439-4c02-454f-a3fc-3a08ca6bbee4",
   "metadata": {},
   "outputs": [],
   "source": []
  },
  {
   "cell_type": "code",
   "execution_count": null,
   "id": "ca992359-6ce1-44bd-b448-c5b7a8cde441",
   "metadata": {},
   "outputs": [],
   "source": []
  },
  {
   "cell_type": "code",
   "execution_count": null,
   "id": "6835c5ee-9293-46df-b9e3-216fcaa35ff4",
   "metadata": {},
   "outputs": [],
   "source": [
    "import pandas as pd\n",
    "import wrds\n",
    "import config\n",
    "from datetime import datetime\n",
    "\n",
    "db = wrds.Connection(wrds_username=config.WRDS_USERNAME)"
   ]
  },
  {
   "cell_type": "code",
   "execution_count": null,
   "id": "c19aff18-de81-441a-8911-eb31c7ac43d2",
   "metadata": {},
   "outputs": [],
   "source": [
    "# Function to convert date to quarter format 'YYYYQ#'\n",
    "def date_to_quarter(date):\n",
    "    year = date.year\n",
    "    quarter = (date.month - 1) // 3 + 1\n",
    "    return f\"{year}Q{quarter}\"\n",
    "\n",
    "# Function to convert quarter 'YYYYQ#' to date format\n",
    "def quarter_to_date(quarter):\n",
    "    year = int(quarter[:4])\n",
    "    quarter = int(quarter[-1])\n",
    "    month = quarter * 3 \n",
    "    return datetime(year, month, 1) + pd.DateOffset(months=1) - pd.DateOffset(days=1)\n"
   ]
  },
  {
   "cell_type": "code",
   "execution_count": null,
   "id": "44ba222f-cf0f-4320-81c7-f90a62f3a115",
   "metadata": {},
   "outputs": [],
   "source": [
    "empty_tickers = []\n",
    "prim_dealers = pd.DataFrame()\n",
    "\n",
    "# Iterate over DataFrame rows and fetch data for each ticker\n",
    "for index, row in ticks.iterrows():\n",
    "    gvkey = row['gvkey']\n",
    "    start_date = row['Start Date']\n",
    "    end_date = row['End Date']     # Formatting date for the query\n",
    "    \n",
    "    # Fetch financial data for the ticker if available\n",
    "    new_data = fetch_financial_data(gvkey, start_date, end_date)\n",
    "    if isinstance(new_data, tuple):\n",
    "        empty_tickers.append({row['Ticker']:gvkey})\n",
    "    else:\n",
    "        prim_dealers = pd.concat([new_data, prim_dealers], axis=0)\n",
    "print(empty_tickers)"
   ]
  },
  {
   "cell_type": "code",
   "execution_count": null,
   "id": "8a0add19-ddd0-46f7-9838-35c236f5bee7",
   "metadata": {},
   "outputs": [],
   "source": []
  },
  {
   "cell_type": "code",
   "execution_count": null,
   "id": "19f0dfc8-cff7-4c4d-a297-3fce9adceb1c",
   "metadata": {},
   "outputs": [],
   "source": [
    "prim_dealers = prim_dealers.drop_duplicates()\n",
    "prim_dealers['datafqtr'] = prim_dealers['datafqtr'].apply(quarter_to_date)"
   ]
  },
  {
   "cell_type": "code",
   "execution_count": null,
   "id": "0b7aefb5-2e33-4af3-9f77-07fbad19f7c9",
   "metadata": {},
   "outputs": [],
   "source": [
    "quarterly_sum_pd = prim_dealers.groupby('datafqtr').agg({\n",
    "    'total_assets': 'sum',\n",
    "    'book_debt': 'sum',\n",
    "    'book_equity': 'sum',\n",
    "    'market_equity': 'sum'\n",
    "}).reset_index()"
   ]
  },
  {
   "cell_type": "code",
   "execution_count": null,
   "id": "2b3c3647-0d24-4a4b-bae0-16b25e20c416",
   "metadata": {},
   "outputs": [],
   "source": [
    "quarterly_sum_pd = quarterly_sum_pd[quarterly_sum_pd['datafqtr'] >= '1970-01-01']\n",
    "quarterly_sum_pd = quarterly_sum_pd[quarterly_sum_pd['datafqtr'] <= '2012-12-31']"
   ]
  },
  {
   "cell_type": "code",
   "execution_count": null,
   "id": "d6021e10-efa7-4b73-b3d4-9d2283d86235",
   "metadata": {},
   "outputs": [],
   "source": [
    "# calculate market and book capital ratios\n",
    "quarterly_sum_pd['market_cap_ratio'] = quarterly_sum_pd['market_equity'] / (quarterly_sum_pd['book_debt'] + quarterly_sum_pd['market_equity'])\n",
    "quarterly_sum_pd['book_cap_ratio'] = quarterly_sum_pd['book_equity'] / (quarterly_sum_pd['book_debt'] + quarterly_sum_pd['book_equity'])\n",
    "\n",
    "# standardize the capital ratios for plotting\n",
    "quarterly_sum_pd['market_cap_ratio_std'] = (quarterly_sum_pd['market_cap_ratio'] - quarterly_sum_pd['market_cap_ratio'].mean()) / quarterly_sum_pd['market_cap_ratio'].std()\n",
    "quarterly_sum_pd['book_cap_ratio_std'] = (quarterly_sum_pd['book_cap_ratio'] - quarterly_sum_pd['book_cap_ratio'].mean()) / quarterly_sum_pd['book_cap_ratio'].std()"
   ]
  },
  {
   "cell_type": "code",
   "execution_count": null,
   "id": "08ffb412-857f-407c-8f76-78a8e7c36da1",
   "metadata": {},
   "outputs": [],
   "source": [
    "# import load_fred and pull data from load_fred_macro_data\n",
    "from load_fred import load_fred_macro_data\n",
    "macro_data = load_fred_macro_data()\n",
    "\n",
    "macro_data = macro_data.rename(columns={'UNRATE': 'unemp_rate', \n",
    "                                        'NFCI': 'nfci', \n",
    "                                        'GDP': 'nom_gdp', \n",
    "                                        'GDPC1': 'real_gdp', \n",
    "                                        'A191RL1Q225SBEA': 'real_gdp_growth',\n",
    "                                        'BOGZ1FL664090005Q': 'bd_fin_assets',\n",
    "                                        'BOGZ1FL664190005Q': 'bd_liabilities',\n",
    "                                        })\n",
    "\n",
    "macro_data['aem_leverage'] = macro_data['bd_fin_assets'] / (macro_data['bd_fin_assets'] - macro_data['bd_liabilities'])\n",
    "macro_data['aem_leverage_ratio'] = 1 / macro_data['aem_leverage'] \n",
    "macro_data.index = pd.to_datetime(macro_data.index)"
   ]
  },
  {
   "cell_type": "code",
   "execution_count": null,
   "id": "9697124c-a1da-41e0-864b-a462cac14b24",
   "metadata": {},
   "outputs": [],
   "source": [
    "# import from previous fred data (1969-2012)\n",
    "fred_bd_data = pd.read_csv('fred_bd_aem.csv', index_col=0)\n",
    "fred_bd_data.index = fred_bd_data.index.astype(str)\n",
    "fred_bd_data.index = fred_bd_data.index.str[:4] + 'Q' + fred_bd_data.index.str[5] \n",
    "fred_bd_data = fred_bd_data.loc['1969Q4':'2012Q4']\n",
    "fred_bd_data.index = fred_bd_data.index.to_series().apply(quarter_to_date)"
   ]
  },
  {
   "cell_type": "code",
   "execution_count": null,
   "id": "d89cd812-6dcf-46bc-a821-12544387c122",
   "metadata": {},
   "outputs": [],
   "source": [
    "# prepare data for aem leverage -- but it didn't match the plot \n",
    "# this can be used for recent data \n",
    "macro_data_2 = pd.DataFrame()\n",
    "macro_data_2['bd_fin_assets'] = fred_bd_data['FL664090005.Q']\n",
    "macro_data_2['bd_liabilities'] = fred_bd_data['FL664190005.Q']\n",
    "macro_data_2['aem_leverage'] =  macro_data_2['bd_fin_assets'] / (macro_data_2['bd_fin_assets'] - macro_data_2['bd_liabilities'])"
   ]
  },
  {
   "cell_type": "code",
   "execution_count": null,
   "id": "e1ca927e-ae26-44a6-95b0-f53bfe9b8fe0",
   "metadata": {},
   "outputs": [],
   "source": [
    "# level data for Panel A\n",
    "levels = quarterly_sum_pd[['datafqtr', 'market_cap_ratio', 'book_cap_ratio']].merge(macro_data[['aem_leverage']], left_on='datafqtr', right_index=True)\n",
    "levels = levels.set_index('datafqtr')"
   ]
  },
  {
   "cell_type": "code",
   "execution_count": null,
   "id": "4a0852e4-ea79-4666-a2cc-601696006361",
   "metadata": {},
   "outputs": [],
   "source": []
  },
  {
   "cell_type": "code",
   "execution_count": null,
   "id": "a94cf2e5-90d8-47f5-8776-f58f833a33fc",
   "metadata": {},
   "outputs": [],
   "source": [
    "# AR(1) for market capital ratio\n",
    "cleaned_data = quarterly_sum_pd['market_cap_ratio'].dropna()\n",
    "model = AutoReg(cleaned_data, lags=1)\n",
    "model_fitted = model.fit()\n",
    "\n",
    "quarterly_sum_pd['innovations_mkt_cap'] = model_fitted.resid\n",
    "quarterly_sum_pd['market_capital_factor'] = quarterly_sum_pd['innovations_mkt_cap'] / quarterly_sum_pd['market_cap_ratio'].shift(1)\n",
    "quarterly_sum_pd = quarterly_sum_pd.drop(columns=['innovations_mkt_cap'])\n",
    "quarterly_sum_pd['market_capital_factor_std'] = (quarterly_sum_pd['market_capital_factor'] - quarterly_sum_pd['market_capital_factor'].mean()) / quarterly_sum_pd['market_capital_factor'].std()"
   ]
  },
  {
   "cell_type": "code",
   "execution_count": null,
   "id": "04665e29-ac1f-46a7-8786-5fdd1b3817c4",
   "metadata": {},
   "outputs": [],
   "source": [
    "# AR(1) for book capital ratio\n",
    "cleaned_data = quarterly_sum_pd['book_cap_ratio'].dropna()\n",
    "model = AutoReg(cleaned_data, lags=1)\n",
    "model_fitted = model.fit()\n",
    "\n",
    "quarterly_sum_pd['innovations_book_cap'] = model_fitted.resid\n",
    "quarterly_sum_pd['book_capital_factor'] = quarterly_sum_pd['innovations_book_cap'] / quarterly_sum_pd['book_cap_ratio'].shift(1)\n",
    "quarterly_sum_pd['book_capital_factor_std'] = (quarterly_sum_pd['book_capital_factor'] - quarterly_sum_pd['book_capital_factor'].mean()) / quarterly_sum_pd['book_capital_factor'].std()"
   ]
  },
  {
   "cell_type": "code",
   "execution_count": null,
   "id": "767c0791-ff08-4bd7-a6b2-09b4a180ae42",
   "metadata": {},
   "outputs": [],
   "source": [
    "# calculate the aem leverage factor, the seasonally adjusted growth rate in broker–dealer book leverage\n",
    "macro_data['leverage_growth'] = macro_data['aem_leverage'].pct_change()\n",
    "macro_data['leverage_growth'] = macro_data['leverage_growth'].fillna(0)\n",
    "\n",
    "decomposition = seasonal_decompose(macro_data['leverage_growth'], model='additive')\n",
    "macro_data['seasonal'] = decomposition.seasonal\n",
    "macro_data['aem_leverage_factor'] = macro_data['leverage_growth'] - macro_data['seasonal']"
   ]
  },
  {
   "cell_type": "code",
   "execution_count": null,
   "id": "9c169228-c5aa-4bc0-ace5-4d16bc8f09ff",
   "metadata": {},
   "outputs": [],
   "source": [
    "# factor data for Panel B\n",
    "factors = quarterly_sum_pd[['datafqtr', 'market_capital_factor', 'book_capital_factor']].merge(macro_data[['aem_leverage_factor']], left_on='datafqtr', right_index=True)\n",
    "factors = factors.set_index('datafqtr')"
   ]
  },
  {
   "cell_type": "code",
   "execution_count": null,
   "id": "5d49e41a-e7f1-4db7-9071-f7506751f6dc",
   "metadata": {},
   "outputs": [],
   "source": []
  },
  {
   "cell_type": "code",
   "execution_count": null,
   "id": "f4509291-028b-4ff9-83e7-754a574a1b23",
   "metadata": {},
   "outputs": [],
   "source": [
    "# shiller's e/p\n",
    "# shiller_cape = load_shiller_pe()\n",
    "\n",
    "shiller_cape = pd.read_excel('Shiller_CAPE.xls', skiprows=9, usecols=\"A,M\")\n",
    "shiller_cape.columns = ['date', 'cape']\n",
    "\n",
    "shiller_cape['date'] = shiller_cape['date'].astype(str)\n",
    "shiller_cape['date'] = pd.to_datetime(shiller_cape['date'], format='%Y.%m') + pd.offsets.MonthEnd(0)\n",
    "\n",
    "shiller_cape = shiller_cape[(shiller_cape['date'] >= '1970-01-01') & (shiller_cape['date'] <= '2012-12-31')]\n",
    "shiller_cape = shiller_cape.set_index('date')\n",
    "\n",
    "shiller_cape['e/p'] = 1 / shiller_cape['cape']\n",
    "shiller_cape"
   ]
  },
  {
   "cell_type": "code",
   "execution_count": null,
   "id": "3d1a872f-3501-450b-aa36-02b6e16190ee",
   "metadata": {},
   "outputs": [],
   "source": [
    "# CRSP value-weighted stock index (volatility)\n",
    "def pull_CRSP_Value_Weighted_Index():\n",
    "    \"\"\"\n",
    "    Pulls a value-weighted stock index from the CRSP database.\n",
    "\n",
    "    Returns:\n",
    "    - pandas.DataFrame: DataFrame containing the value-weighted stock index data.\n",
    "\n",
    "    Note:\n",
    "    This function executes a SQL query to retrieve the value-weighted stock index data from CRSP. \n",
    "    The returned DataFrame includes columns for 'date' and 'vwretd' (value-weighted return including dividends).\n",
    "    \"\"\"\n",
    "    \n",
    "    sql_query = \"\"\"\n",
    "        SELECT date, vwretd\n",
    "        FROM crsp.msi as msi\n",
    "        WHERE msi.date >= '1970-01-01' AND msi.date <= '2012-12-31'\n",
    "        \"\"\"\n",
    "    \n",
    "    data = db.raw_sql(sql_query, date_cols=[\"date\"])\n",
    "    return data"
   ]
  },
  {
   "cell_type": "code",
   "execution_count": null,
   "id": "ed42dfb3-b914-4f3b-b4c5-3ce527415213",
   "metadata": {},
   "outputs": [],
   "source": [
    "value_wtd_indx = pull_CRSP_Value_Weighted_Index()\n",
    "\n",
    "value_wtd_indx['date'] = pd.to_datetime(value_wtd_indx['date'])\n",
    "value_wtd_indx.set_index('date', inplace=True)\n",
    "\n",
    "value_wtd_indx['change'] = value_wtd_indx['vwretd'].pct_change()\n",
    "volatility_by_quarter = value_wtd_indx['change'].groupby(pd.Grouper(freq='Q')).std()\n",
    "annualized_volatility = volatility_by_quarter.rename('mkt_vol')"
   ]
  },
  {
   "cell_type": "code",
   "execution_count": null,
   "id": "d860a231-bcfe-41c7-b167-0dd8eea61c20",
   "metadata": {},
   "outputs": [],
   "source": [
    "startdate = '19700101'\n",
    "enddate = '20121231'\n",
    "\n",
    "rawdata = web.DataReader('F-F_Research_Data_5_Factors_2x3', data_source='famafrench',start=startdate,end=enddate)\n",
    "ff_facs = rawdata[0] / 100\n",
    "# convert the yyyy-mm to timestamp object. default is to put first of month, but should be end of month\n",
    "ff_facs = ff_facs.to_timestamp().resample('Q').last()\n",
    "ff_facs.rename(columns={'Mkt-RF':'MKT'},inplace=True)\n",
    "ff_facs.rename(columns={'MKT':'mkt_ret'},inplace=True)"
   ]
  },
  {
   "cell_type": "code",
   "execution_count": null,
   "id": "afe7b139-0614-4102-b022-ec5bc5a63c94",
   "metadata": {},
   "outputs": [],
   "source": []
  },
  {
   "cell_type": "code",
   "execution_count": null,
   "id": "46ff2a21-14f3-435f-b278-ed9f024a7ed5",
   "metadata": {},
   "outputs": [],
   "source": []
  },
  {
   "cell_type": "code",
   "execution_count": null,
   "id": "1150d8d5-1d25-494b-8c2d-90e31da49db4",
   "metadata": {},
   "outputs": [],
   "source": [
    "# prepare the macro data \n",
    "macro_merged = shiller_cape[['e/p']].merge(macro_data[['unemp_rate', 'nfci', 'real_gdp']], left_index=True, right_index=True)\n",
    "macro_merged = macro_merged.merge(ff_facs[['mkt_ret']],left_index=True, right_index=True)\n",
    "macro_merged = macro_merged.merge(annualized_volatility, left_index=True, right_index=True)\n",
    "\n",
    "# take the difference (for factor comparison)\n",
    "macro_merged_2 = np.log(macro_merged / macro_merged.shift(1))"
   ]
  },
  {
   "cell_type": "code",
   "execution_count": null,
   "id": "6947a901-0bdf-4246-812c-0aad95892b36",
   "metadata": {},
   "outputs": [],
   "source": []
  },
  {
   "cell_type": "code",
   "execution_count": null,
   "id": "83d77bab-6ab5-4729-a051-4a2cc7209040",
   "metadata": {},
   "outputs": [],
   "source": [
    "levels2 = levels.merge(macro_merged, left_index=True, right_index=True)\n",
    "levels2.columns = ['Market capital', 'Book capital', 'AEM leverage', \n",
    "                    'E/P', 'Unemployment', 'Financial conditions', 'GDP', 'Market excess return', 'Market volatility']"
   ]
  },
  {
   "cell_type": "code",
   "execution_count": null,
   "id": "44de8813-13cd-4712-8947-bb4862fbf821",
   "metadata": {},
   "outputs": [],
   "source": [
    "# get the correlation of levels\n",
    "correlation_panelA = levels2.iloc[:,:3].corr()"
   ]
  },
  {
   "cell_type": "code",
   "execution_count": null,
   "id": "b5010917-98d1-4d38-8705-9286dff71769",
   "metadata": {},
   "outputs": [],
   "source": [
    "# get the correlation of levels with macro variables\n",
    "main_cols = levels2[['Market capital', 'Book capital', 'AEM leverage']]\n",
    "other_cols = levels2[['E/P', 'Unemployment', 'GDP', 'Financial conditions', 'Market volatility']]\n",
    "\n",
    "correlation_results_panelA = pd.DataFrame(index=main_cols.columns)\n",
    "\n",
    "for column in other_cols.columns:\n",
    "    correlation_results_panelA[column] = main_cols.corrwith(other_cols[column])"
   ]
  },
  {
   "cell_type": "code",
   "execution_count": null,
   "id": "b8a2c068-8217-4368-bb41-5d6433ceb189",
   "metadata": {},
   "outputs": [],
   "source": [
    "# final result \n",
    "pd.concat([correlation_panelA, correlation_results_panelA.T], axis=0)"
   ]
  },
  {
   "cell_type": "code",
   "execution_count": null,
   "id": "7098049f-fd79-44b2-a4f6-534923e9a6dd",
   "metadata": {},
   "outputs": [],
   "source": []
  },
  {
   "cell_type": "code",
   "execution_count": null,
   "id": "89dbacf6-6836-415e-b812-0613e7d81814",
   "metadata": {},
   "outputs": [],
   "source": [
    "factors2 = factors.merge(macro_merged_2, left_index=True, right_index=True)\n",
    "factors2.columns = ['Market capital factor', 'Book capital factor', 'AEM leverage factor', \n",
    "                    'E/P growth', 'Unemployment growth', 'Financial conditions growth', 'GDP growth', 'Market excess return', 'Market volatility growth']"
   ]
  },
  {
   "cell_type": "code",
   "execution_count": null,
   "id": "6a3d83e0-d070-4020-b6db-c6621ca64bf8",
   "metadata": {},
   "outputs": [],
   "source": [
    "# get the correlation of factors\n",
    "correlation_panelB = factors2.iloc[:,:3].corr()"
   ]
  },
  {
   "cell_type": "code",
   "execution_count": null,
   "id": "dd0138b0-04bf-42c7-8b6b-c2d5c7cb055e",
   "metadata": {},
   "outputs": [],
   "source": [
    "# get the correlation of factors with macro variables\n",
    "main_cols = factors2[['Market capital factor', 'Book capital factor', 'AEM leverage factor']]\n",
    "other_cols = factors2[['Market excess return', 'E/P growth', 'Unemployment growth', 'GDP growth', 'Financial conditions growth', 'Market volatility growth']]\n",
    "\n",
    "correlation_results_panelB = pd.DataFrame(index=main_cols.columns)\n",
    "\n",
    "for column in other_cols.columns:\n",
    "    correlation_results_panelB[column] = main_cols.corrwith(other_cols[column])"
   ]
  },
  {
   "cell_type": "code",
   "execution_count": null,
   "id": "e148e067-b2a1-4055-9f85-3f691d737e10",
   "metadata": {},
   "outputs": [],
   "source": [
    "# final result \n",
    "pd.concat([correlation_panelB, correlation_results_panelB.T], axis=0)\n"
   ]
  },
  {
   "cell_type": "code",
   "execution_count": null,
   "id": "12f22f1b-008f-4c14-b894-ce9dc17dc403",
   "metadata": {},
   "outputs": [],
   "source": []
  },
  {
   "cell_type": "code",
   "execution_count": null,
   "id": "e10c9ada-3022-4969-87f1-c74e7d2f85a1",
   "metadata": {},
   "outputs": [],
   "source": []
  }
 ],
 "metadata": {
  "kernelspec": {
   "display_name": "Python 3 (ipykernel)",
   "language": "python",
   "name": "python3"
  },
  "language_info": {
   "codemirror_mode": {
    "name": "ipython",
    "version": 3
   },
   "file_extension": ".py",
   "mimetype": "text/x-python",
   "name": "python",
   "nbconvert_exporter": "python",
   "pygments_lexer": "ipython3",
   "version": "3.11.7"
  }
 },
 "nbformat": 4,
 "nbformat_minor": 5
}
