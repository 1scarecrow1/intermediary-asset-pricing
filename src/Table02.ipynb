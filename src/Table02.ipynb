{
 "cells": [
  {
   "cell_type": "code",
   "execution_count": 20,
   "id": "initial_id",
   "metadata": {
    "collapsed": true,
    "ExecuteTime": {
     "end_time": "2024-02-19T17:37:45.168038Z",
     "start_time": "2024-02-19T17:37:45.149019900Z"
    }
   },
   "outputs": [
    {
     "data": {
      "text/plain": "                           Primary Dealer  \\\n0                   ABN AMRO INCORPORATED   \n1           AUBREY G. LANSTON & CO., INC.   \n2                           BA Securities   \n3                                Banc One   \n4                         Bank of America   \n..                                    ...   \n107         WERTHEIM SCHRODER & CO., INC.   \n108  WESTPAC POLLOCK GOV'T SECURITIES INC   \n109                 WHITE, WELD & CO INC.   \n110        YAMAICHI INT'L (AMERICA), INC.   \n111                                 Zions   \n\n                                       Holding Company         Ticker  \\\n0                                                  NaN            ABN   \n1                                       Citigroup Inc.       C (NYSE)   \n2                          Bank of America Corporation     BAC (NYSE)   \n3    JPMorgan Chase & Co. (Acquired by JPMorgan Chase)     JPM (NYSE)   \n4                          Bank of America Corporation     BAC (NYSE)   \n..                                                 ...            ...   \n107                       Schroder Wertheim & Co. Inc.            NaN   \n108                        Westpac Banking Corporation     WBK (NYSE)   \n109                          Merrill Lynch & Co., Inc.            NaN   \n110                Yamaichi Securities Company Limited            NaN   \n111                               Zions Bancorporation  ZION (NASDAQ)   \n\n     Start Date   End Date  Permco  gvkey  \n0     9/29/1998  9/15/2006   31989  15504  \n1     5/19/1960  4/17/2000   20483   3243  \n2     4/18/1994  9/30/1997     437   7647  \n3      4/1/1999   8/1/2004   20436   2968  \n4    11/17/1971  4/15/1994     437   7647  \n..          ...        ...     ...    ...  \n107   6/24/1988  11/8/1990       0      0  \n108    2/4/1987  6/27/1990   22027  15362  \n109   2/26/1976  4/18/1978   21190   7267  \n110   9/29/1988  12/4/1997       0      0  \n111   8/11/1993  3/31/2002   21305   8007  \n\n[112 rows x 7 columns]",
      "text/html": "<div>\n<style scoped>\n    .dataframe tbody tr th:only-of-type {\n        vertical-align: middle;\n    }\n\n    .dataframe tbody tr th {\n        vertical-align: top;\n    }\n\n    .dataframe thead th {\n        text-align: right;\n    }\n</style>\n<table border=\"1\" class=\"dataframe\">\n  <thead>\n    <tr style=\"text-align: right;\">\n      <th></th>\n      <th>Primary Dealer</th>\n      <th>Holding Company</th>\n      <th>Ticker</th>\n      <th>Start Date</th>\n      <th>End Date</th>\n      <th>Permco</th>\n      <th>gvkey</th>\n    </tr>\n  </thead>\n  <tbody>\n    <tr>\n      <th>0</th>\n      <td>ABN AMRO INCORPORATED</td>\n      <td>NaN</td>\n      <td>ABN</td>\n      <td>9/29/1998</td>\n      <td>9/15/2006</td>\n      <td>31989</td>\n      <td>15504</td>\n    </tr>\n    <tr>\n      <th>1</th>\n      <td>AUBREY G. LANSTON &amp; CO., INC.</td>\n      <td>Citigroup Inc.</td>\n      <td>C (NYSE)</td>\n      <td>5/19/1960</td>\n      <td>4/17/2000</td>\n      <td>20483</td>\n      <td>3243</td>\n    </tr>\n    <tr>\n      <th>2</th>\n      <td>BA Securities</td>\n      <td>Bank of America Corporation</td>\n      <td>BAC (NYSE)</td>\n      <td>4/18/1994</td>\n      <td>9/30/1997</td>\n      <td>437</td>\n      <td>7647</td>\n    </tr>\n    <tr>\n      <th>3</th>\n      <td>Banc One</td>\n      <td>JPMorgan Chase &amp; Co. (Acquired by JPMorgan Chase)</td>\n      <td>JPM (NYSE)</td>\n      <td>4/1/1999</td>\n      <td>8/1/2004</td>\n      <td>20436</td>\n      <td>2968</td>\n    </tr>\n    <tr>\n      <th>4</th>\n      <td>Bank of America</td>\n      <td>Bank of America Corporation</td>\n      <td>BAC (NYSE)</td>\n      <td>11/17/1971</td>\n      <td>4/15/1994</td>\n      <td>437</td>\n      <td>7647</td>\n    </tr>\n    <tr>\n      <th>...</th>\n      <td>...</td>\n      <td>...</td>\n      <td>...</td>\n      <td>...</td>\n      <td>...</td>\n      <td>...</td>\n      <td>...</td>\n    </tr>\n    <tr>\n      <th>107</th>\n      <td>WERTHEIM SCHRODER &amp; CO., INC.</td>\n      <td>Schroder Wertheim &amp; Co. Inc.</td>\n      <td>NaN</td>\n      <td>6/24/1988</td>\n      <td>11/8/1990</td>\n      <td>0</td>\n      <td>0</td>\n    </tr>\n    <tr>\n      <th>108</th>\n      <td>WESTPAC POLLOCK GOV'T SECURITIES INC</td>\n      <td>Westpac Banking Corporation</td>\n      <td>WBK (NYSE)</td>\n      <td>2/4/1987</td>\n      <td>6/27/1990</td>\n      <td>22027</td>\n      <td>15362</td>\n    </tr>\n    <tr>\n      <th>109</th>\n      <td>WHITE, WELD &amp; CO INC.</td>\n      <td>Merrill Lynch &amp; Co., Inc.</td>\n      <td>NaN</td>\n      <td>2/26/1976</td>\n      <td>4/18/1978</td>\n      <td>21190</td>\n      <td>7267</td>\n    </tr>\n    <tr>\n      <th>110</th>\n      <td>YAMAICHI INT'L (AMERICA), INC.</td>\n      <td>Yamaichi Securities Company Limited</td>\n      <td>NaN</td>\n      <td>9/29/1988</td>\n      <td>12/4/1997</td>\n      <td>0</td>\n      <td>0</td>\n    </tr>\n    <tr>\n      <th>111</th>\n      <td>Zions</td>\n      <td>Zions Bancorporation</td>\n      <td>ZION (NASDAQ)</td>\n      <td>8/11/1993</td>\n      <td>3/31/2002</td>\n      <td>21305</td>\n      <td>8007</td>\n    </tr>\n  </tbody>\n</table>\n<p>112 rows × 7 columns</p>\n</div>"
     },
     "execution_count": 20,
     "metadata": {},
     "output_type": "execute_result"
    }
   ],
   "source": [
    "import pandas as pd\n",
    "ticks = pd.read_csv ('ticks.csv', sep=\"|\")\n",
    "ticks['gvkey'] = ticks['gvkey'].fillna(0.0).astype(int)\n",
    "ticks['Permco'] = ticks['Permco'].fillna(0.0).astype(int)\n",
    "ticks"
   ]
  },
  {
   "cell_type": "code",
   "execution_count": 12,
   "outputs": [
    {
     "name": "stdout",
     "output_type": "stream",
     "text": [
      "Loading library list...\n",
      "Done\n"
     ]
    }
   ],
   "source": [
    "import pandas as pd\n",
    "import wrds\n",
    "import config\n",
    "from datetime import datetime\n",
    "\n",
    "db = wrds.Connection(wrds_username=config.WRDS_USERNAME)"
   ],
   "metadata": {
    "collapsed": false,
    "ExecuteTime": {
     "end_time": "2024-02-19T17:34:36.973074600Z",
     "start_time": "2024-02-19T17:34:34.929796600Z"
    }
   },
   "id": "166a88c43e8e4529"
  },
  {
   "cell_type": "code",
   "execution_count": 56,
   "outputs": [],
   "source": [
    "def fetch_financial_data(pgvkey, start_date, end_date):\n",
    "    \"\"\"\n",
    "    Fetch financial data for a given ticker and date range from the CCM database in WRDS.\n",
    "    \n",
    "    :param gvkey: The gvkey symbol for the company.\n",
    "    :param start_date: The start date for the data in YYYY-MM-DD format.\n",
    "    :param end_date: The end date for the data in YYYY-MM-DD format or 'Current'.\n",
    "    :return: A DataFrame containing the financial data.\n",
    "    \"\"\"\n",
    "    if not gvkey:  # Skip if no ticker is available\n",
    "        return pd.DataFrame()\n",
    "    \n",
    "    # If the end date is 'Current', replace it with today's date\n",
    "    if end_date == 'Current':\n",
    "        end_date = datetime.today().strftime('%Y-%m-%d')\n",
    "    \n",
    "    # Convert dates to the correct format if necessary\n",
    "    start_date = pd.to_datetime(start_date).strftime('%Y-%m-%d')\n",
    "    end_date = pd.to_datetime(end_date).strftime('%Y-%m-%d')\n",
    "    \n",
    "        \n",
    "    query = f\"\"\"\n",
    "    SELECT datadate, at AS total_assets, lt AS book_debt, ceq AS book_equity, csho*prcc_f AS market_equity, gvkey, conm\n",
    "    FROM comp.funda as cst\n",
    "    WHERE cst.gvkey = '{str(pgvkey).zfill(6)}'\n",
    "    AND cst.datadate BETWEEN '{start_date}' AND '{end_date}'\n",
    "    AND indfmt='INDL'\n",
    "    AND datafmt='STD'\n",
    "    AND popsrc='D'\n",
    "    AND consol='C'\n",
    "    \"\"\"\n",
    "    data = db.raw_sql(query)\n",
    "    return data"
   ],
   "metadata": {
    "collapsed": false,
    "ExecuteTime": {
     "end_time": "2024-02-19T18:43:35.932997500Z",
     "start_time": "2024-02-19T18:43:35.923576600Z"
    }
   },
   "id": "55a28c3e64ac4d95"
  },
  {
   "cell_type": "markdown",
   "source": [
    "Get all data for primary dealers"
   ],
   "metadata": {
    "collapsed": false
   },
   "id": "7e6269f530d9a301"
  },
  {
   "cell_type": "code",
   "execution_count": 57,
   "outputs": [
    {
     "name": "stderr",
     "output_type": "stream",
     "text": [
      "C:\\Users\\jsime\\AppData\\Local\\Temp\\ipykernel_19320\\3471547033.py:14: FutureWarning: The behavior of DataFrame concatenation with empty or all-NA entries is deprecated. In a future version, this will no longer exclude empty or all-NA columns when determining the result dtypes. To retain the old behavior, exclude the relevant entries before the concat operation.\n",
      "  prim_dealers = pd.concat([new_data, prim_dealers], axis=0)\n",
      "C:\\Users\\jsime\\AppData\\Local\\Temp\\ipykernel_19320\\3471547033.py:14: FutureWarning: The behavior of DataFrame concatenation with empty or all-NA entries is deprecated. In a future version, this will no longer exclude empty or all-NA columns when determining the result dtypes. To retain the old behavior, exclude the relevant entries before the concat operation.\n",
      "  prim_dealers = pd.concat([new_data, prim_dealers], axis=0)\n",
      "C:\\Users\\jsime\\AppData\\Local\\Temp\\ipykernel_19320\\3471547033.py:14: FutureWarning: The behavior of DataFrame concatenation with empty or all-NA entries is deprecated. In a future version, this will no longer exclude empty or all-NA columns when determining the result dtypes. To retain the old behavior, exclude the relevant entries before the concat operation.\n",
      "  prim_dealers = pd.concat([new_data, prim_dealers], axis=0)\n",
      "C:\\Users\\jsime\\AppData\\Local\\Temp\\ipykernel_19320\\3471547033.py:14: FutureWarning: The behavior of DataFrame concatenation with empty or all-NA entries is deprecated. In a future version, this will no longer exclude empty or all-NA columns when determining the result dtypes. To retain the old behavior, exclude the relevant entries before the concat operation.\n",
      "  prim_dealers = pd.concat([new_data, prim_dealers], axis=0)\n",
      "C:\\Users\\jsime\\AppData\\Local\\Temp\\ipykernel_19320\\3471547033.py:14: FutureWarning: The behavior of DataFrame concatenation with empty or all-NA entries is deprecated. In a future version, this will no longer exclude empty or all-NA columns when determining the result dtypes. To retain the old behavior, exclude the relevant entries before the concat operation.\n",
      "  prim_dealers = pd.concat([new_data, prim_dealers], axis=0)\n",
      "C:\\Users\\jsime\\AppData\\Local\\Temp\\ipykernel_19320\\3471547033.py:14: FutureWarning: The behavior of DataFrame concatenation with empty or all-NA entries is deprecated. In a future version, this will no longer exclude empty or all-NA columns when determining the result dtypes. To retain the old behavior, exclude the relevant entries before the concat operation.\n",
      "  prim_dealers = pd.concat([new_data, prim_dealers], axis=0)\n",
      "C:\\Users\\jsime\\AppData\\Local\\Temp\\ipykernel_19320\\3471547033.py:14: FutureWarning: The behavior of DataFrame concatenation with empty or all-NA entries is deprecated. In a future version, this will no longer exclude empty or all-NA columns when determining the result dtypes. To retain the old behavior, exclude the relevant entries before the concat operation.\n",
      "  prim_dealers = pd.concat([new_data, prim_dealers], axis=0)\n",
      "C:\\Users\\jsime\\AppData\\Local\\Temp\\ipykernel_19320\\3471547033.py:14: FutureWarning: The behavior of DataFrame concatenation with empty or all-NA entries is deprecated. In a future version, this will no longer exclude empty or all-NA columns when determining the result dtypes. To retain the old behavior, exclude the relevant entries before the concat operation.\n",
      "  prim_dealers = pd.concat([new_data, prim_dealers], axis=0)\n",
      "C:\\Users\\jsime\\AppData\\Local\\Temp\\ipykernel_19320\\3471547033.py:14: FutureWarning: The behavior of DataFrame concatenation with empty or all-NA entries is deprecated. In a future version, this will no longer exclude empty or all-NA columns when determining the result dtypes. To retain the old behavior, exclude the relevant entries before the concat operation.\n",
      "  prim_dealers = pd.concat([new_data, prim_dealers], axis=0)\n",
      "C:\\Users\\jsime\\AppData\\Local\\Temp\\ipykernel_19320\\3471547033.py:14: FutureWarning: The behavior of DataFrame concatenation with empty or all-NA entries is deprecated. In a future version, this will no longer exclude empty or all-NA columns when determining the result dtypes. To retain the old behavior, exclude the relevant entries before the concat operation.\n",
      "  prim_dealers = pd.concat([new_data, prim_dealers], axis=0)\n",
      "C:\\Users\\jsime\\AppData\\Local\\Temp\\ipykernel_19320\\3471547033.py:14: FutureWarning: The behavior of DataFrame concatenation with empty or all-NA entries is deprecated. In a future version, this will no longer exclude empty or all-NA columns when determining the result dtypes. To retain the old behavior, exclude the relevant entries before the concat operation.\n",
      "  prim_dealers = pd.concat([new_data, prim_dealers], axis=0)\n",
      "C:\\Users\\jsime\\AppData\\Local\\Temp\\ipykernel_19320\\3471547033.py:14: FutureWarning: The behavior of DataFrame concatenation with empty or all-NA entries is deprecated. In a future version, this will no longer exclude empty or all-NA columns when determining the result dtypes. To retain the old behavior, exclude the relevant entries before the concat operation.\n",
      "  prim_dealers = pd.concat([new_data, prim_dealers], axis=0)\n",
      "C:\\Users\\jsime\\AppData\\Local\\Temp\\ipykernel_19320\\3471547033.py:14: FutureWarning: The behavior of DataFrame concatenation with empty or all-NA entries is deprecated. In a future version, this will no longer exclude empty or all-NA columns when determining the result dtypes. To retain the old behavior, exclude the relevant entries before the concat operation.\n",
      "  prim_dealers = pd.concat([new_data, prim_dealers], axis=0)\n",
      "C:\\Users\\jsime\\AppData\\Local\\Temp\\ipykernel_19320\\3471547033.py:14: FutureWarning: The behavior of DataFrame concatenation with empty or all-NA entries is deprecated. In a future version, this will no longer exclude empty or all-NA columns when determining the result dtypes. To retain the old behavior, exclude the relevant entries before the concat operation.\n",
      "  prim_dealers = pd.concat([new_data, prim_dealers], axis=0)\n",
      "C:\\Users\\jsime\\AppData\\Local\\Temp\\ipykernel_19320\\3471547033.py:14: FutureWarning: The behavior of DataFrame concatenation with empty or all-NA entries is deprecated. In a future version, this will no longer exclude empty or all-NA columns when determining the result dtypes. To retain the old behavior, exclude the relevant entries before the concat operation.\n",
      "  prim_dealers = pd.concat([new_data, prim_dealers], axis=0)\n"
     ]
    },
    {
     "name": "stdout",
     "output_type": "stream",
     "text": [
      "[]\n"
     ]
    }
   ],
   "source": [
    "empty_tickers = []\n",
    "prim_dealers = pd.DataFrame()\n",
    "# Iterate over DataFrame rows and fetch data for each ticker\n",
    "for index, row in ticks.iterrows():\n",
    "    gvkey = row['gvkey']\n",
    "    start_date = row['Start Date']\n",
    "    end_date = row['End Date']      # Formatting date for the query\n",
    "    \n",
    "    # Fetch financial data for the ticker if available\n",
    "    new_data = fetch_financial_data(gvkey, start_date, end_date)\n",
    "    if isinstance(new_data, tuple):\n",
    "        empty_tickers.append({row['Ticker']:gvkey})\n",
    "    else:\n",
    "        prim_dealers = pd.concat([new_data, prim_dealers], axis=0)\n",
    "print(empty_tickers)"
   ],
   "metadata": {
    "collapsed": false,
    "ExecuteTime": {
     "end_time": "2024-02-19T18:43:40.772743300Z",
     "start_time": "2024-02-19T18:43:37.356143300Z"
    }
   },
   "id": "3d3f1614b57407a0"
  },
  {
   "cell_type": "markdown",
   "source": [
    "Get data from all firms in Compustat"
   ],
   "metadata": {
    "collapsed": false
   },
   "id": "e12ccdf41a715c81"
  },
  {
   "cell_type": "code",
   "execution_count": null,
   "outputs": [],
   "source": [],
   "metadata": {
    "collapsed": false
   },
   "id": "a56682993146eafa"
  },
  {
   "cell_type": "code",
   "execution_count": 59,
   "outputs": [
    {
     "data": {
      "text/plain": "      datadate  total_assets    book_debt  book_equity  market_equity   gvkey  \\\n0   1993-12-31     50782.297    47213.898     3226.500    7121.765625  008007   \n1   1994-12-31     59315.898    55469.500     3334.400    7226.264375  008007   \n2   1995-12-31     72134.375    66822.250     5009.797   11641.080000  008007   \n3   1996-12-31     80175.375    74111.188     5875.398   16038.580500  008007   \n4   1997-12-31     88540.188    81518.000     6834.199   29396.486250  008007   \n..         ...           ...          ...          ...            ...     ...   \n3   2001-12-31    531713.000   517166.000     9767.000   24997.940000  015504   \n4   2002-12-31    582984.873   567686.209    10450.400   25655.008000  015504   \n5   2003-12-31    705982.489   684869.917    15411.170   38457.492840  015504   \n6   2004-12-31    823953.817   797891.813    19230.729   44400.773200  015504   \n7   2005-12-31   1043048.097  1014447.298    26314.109   49088.828800  015504   \n\n                    conm  \n0       WELLS FARGO & CO  \n1       WELLS FARGO & CO  \n2       WELLS FARGO & CO  \n3       WELLS FARGO & CO  \n4       WELLS FARGO & CO  \n..                   ...  \n3   ABN-AMRO HOLDINGS NV  \n4   ABN-AMRO HOLDINGS NV  \n5   ABN-AMRO HOLDINGS NV  \n6   ABN-AMRO HOLDINGS NV  \n7   ABN-AMRO HOLDINGS NV  \n\n[816 rows x 7 columns]",
      "text/html": "<div>\n<style scoped>\n    .dataframe tbody tr th:only-of-type {\n        vertical-align: middle;\n    }\n\n    .dataframe tbody tr th {\n        vertical-align: top;\n    }\n\n    .dataframe thead th {\n        text-align: right;\n    }\n</style>\n<table border=\"1\" class=\"dataframe\">\n  <thead>\n    <tr style=\"text-align: right;\">\n      <th></th>\n      <th>datadate</th>\n      <th>total_assets</th>\n      <th>book_debt</th>\n      <th>book_equity</th>\n      <th>market_equity</th>\n      <th>gvkey</th>\n      <th>conm</th>\n    </tr>\n  </thead>\n  <tbody>\n    <tr>\n      <th>0</th>\n      <td>1993-12-31</td>\n      <td>50782.297</td>\n      <td>47213.898</td>\n      <td>3226.500</td>\n      <td>7121.765625</td>\n      <td>008007</td>\n      <td>WELLS FARGO &amp; CO</td>\n    </tr>\n    <tr>\n      <th>1</th>\n      <td>1994-12-31</td>\n      <td>59315.898</td>\n      <td>55469.500</td>\n      <td>3334.400</td>\n      <td>7226.264375</td>\n      <td>008007</td>\n      <td>WELLS FARGO &amp; CO</td>\n    </tr>\n    <tr>\n      <th>2</th>\n      <td>1995-12-31</td>\n      <td>72134.375</td>\n      <td>66822.250</td>\n      <td>5009.797</td>\n      <td>11641.080000</td>\n      <td>008007</td>\n      <td>WELLS FARGO &amp; CO</td>\n    </tr>\n    <tr>\n      <th>3</th>\n      <td>1996-12-31</td>\n      <td>80175.375</td>\n      <td>74111.188</td>\n      <td>5875.398</td>\n      <td>16038.580500</td>\n      <td>008007</td>\n      <td>WELLS FARGO &amp; CO</td>\n    </tr>\n    <tr>\n      <th>4</th>\n      <td>1997-12-31</td>\n      <td>88540.188</td>\n      <td>81518.000</td>\n      <td>6834.199</td>\n      <td>29396.486250</td>\n      <td>008007</td>\n      <td>WELLS FARGO &amp; CO</td>\n    </tr>\n    <tr>\n      <th>...</th>\n      <td>...</td>\n      <td>...</td>\n      <td>...</td>\n      <td>...</td>\n      <td>...</td>\n      <td>...</td>\n      <td>...</td>\n    </tr>\n    <tr>\n      <th>3</th>\n      <td>2001-12-31</td>\n      <td>531713.000</td>\n      <td>517166.000</td>\n      <td>9767.000</td>\n      <td>24997.940000</td>\n      <td>015504</td>\n      <td>ABN-AMRO HOLDINGS NV</td>\n    </tr>\n    <tr>\n      <th>4</th>\n      <td>2002-12-31</td>\n      <td>582984.873</td>\n      <td>567686.209</td>\n      <td>10450.400</td>\n      <td>25655.008000</td>\n      <td>015504</td>\n      <td>ABN-AMRO HOLDINGS NV</td>\n    </tr>\n    <tr>\n      <th>5</th>\n      <td>2003-12-31</td>\n      <td>705982.489</td>\n      <td>684869.917</td>\n      <td>15411.170</td>\n      <td>38457.492840</td>\n      <td>015504</td>\n      <td>ABN-AMRO HOLDINGS NV</td>\n    </tr>\n    <tr>\n      <th>6</th>\n      <td>2004-12-31</td>\n      <td>823953.817</td>\n      <td>797891.813</td>\n      <td>19230.729</td>\n      <td>44400.773200</td>\n      <td>015504</td>\n      <td>ABN-AMRO HOLDINGS NV</td>\n    </tr>\n    <tr>\n      <th>7</th>\n      <td>2005-12-31</td>\n      <td>1043048.097</td>\n      <td>1014447.298</td>\n      <td>26314.109</td>\n      <td>49088.828800</td>\n      <td>015504</td>\n      <td>ABN-AMRO HOLDINGS NV</td>\n    </tr>\n  </tbody>\n</table>\n<p>816 rows × 7 columns</p>\n</div>"
     },
     "execution_count": 59,
     "metadata": {},
     "output_type": "execute_result"
    }
   ],
   "source": [
    "prim_dealers = prim_dealers.drop_duplicates()\n",
    "prim_dealers"
   ],
   "metadata": {
    "collapsed": false,
    "ExecuteTime": {
     "end_time": "2024-02-19T18:45:44.396711900Z",
     "start_time": "2024-02-19T18:45:44.370890Z"
    }
   },
   "id": "4cbe7b7586a88656"
  },
  {
   "cell_type": "code",
   "execution_count": 61,
   "outputs": [
    {
     "data": {
      "text/plain": "       datadate  total_assets     book_debt  book_equity  market_equity\n0    1960-12-31  8.835297e+03  4.505152e+03      746.347   0.000000e+00\n1    1961-12-31  9.856233e+03  5.006815e+03      771.122   8.476998e+02\n2    1962-12-31  1.039177e+04  5.191507e+03      811.380   1.936547e+03\n3    1963-12-31  1.135703e+04  9.798979e+03     1377.017   1.962843e+03\n4    1964-12-31  1.885544e+04  1.670331e+04     1818.247   2.841011e+03\n..          ...           ...           ...          ...            ...\n153  2022-12-31  1.966493e+07  1.821493e+07  1321360.741   1.257698e+06\n154  2023-03-31  2.271969e+06  2.178447e+06    23685.000   4.714652e+04\n155  2023-10-31  6.666081e+06  6.280510e+06   361929.000   4.375408e+05\n156  2023-11-30  5.790516e+04  4.810262e+04     9709.785   7.464621e+03\n157  2023-12-31  8.776014e+06  8.067776e+06   651893.083   8.579271e+05\n\n[158 rows x 5 columns]",
      "text/html": "<div>\n<style scoped>\n    .dataframe tbody tr th:only-of-type {\n        vertical-align: middle;\n    }\n\n    .dataframe tbody tr th {\n        vertical-align: top;\n    }\n\n    .dataframe thead th {\n        text-align: right;\n    }\n</style>\n<table border=\"1\" class=\"dataframe\">\n  <thead>\n    <tr style=\"text-align: right;\">\n      <th></th>\n      <th>datadate</th>\n      <th>total_assets</th>\n      <th>book_debt</th>\n      <th>book_equity</th>\n      <th>market_equity</th>\n    </tr>\n  </thead>\n  <tbody>\n    <tr>\n      <th>0</th>\n      <td>1960-12-31</td>\n      <td>8.835297e+03</td>\n      <td>4.505152e+03</td>\n      <td>746.347</td>\n      <td>0.000000e+00</td>\n    </tr>\n    <tr>\n      <th>1</th>\n      <td>1961-12-31</td>\n      <td>9.856233e+03</td>\n      <td>5.006815e+03</td>\n      <td>771.122</td>\n      <td>8.476998e+02</td>\n    </tr>\n    <tr>\n      <th>2</th>\n      <td>1962-12-31</td>\n      <td>1.039177e+04</td>\n      <td>5.191507e+03</td>\n      <td>811.380</td>\n      <td>1.936547e+03</td>\n    </tr>\n    <tr>\n      <th>3</th>\n      <td>1963-12-31</td>\n      <td>1.135703e+04</td>\n      <td>9.798979e+03</td>\n      <td>1377.017</td>\n      <td>1.962843e+03</td>\n    </tr>\n    <tr>\n      <th>4</th>\n      <td>1964-12-31</td>\n      <td>1.885544e+04</td>\n      <td>1.670331e+04</td>\n      <td>1818.247</td>\n      <td>2.841011e+03</td>\n    </tr>\n    <tr>\n      <th>...</th>\n      <td>...</td>\n      <td>...</td>\n      <td>...</td>\n      <td>...</td>\n      <td>...</td>\n    </tr>\n    <tr>\n      <th>153</th>\n      <td>2022-12-31</td>\n      <td>1.966493e+07</td>\n      <td>1.821493e+07</td>\n      <td>1321360.741</td>\n      <td>1.257698e+06</td>\n    </tr>\n    <tr>\n      <th>154</th>\n      <td>2023-03-31</td>\n      <td>2.271969e+06</td>\n      <td>2.178447e+06</td>\n      <td>23685.000</td>\n      <td>4.714652e+04</td>\n    </tr>\n    <tr>\n      <th>155</th>\n      <td>2023-10-31</td>\n      <td>6.666081e+06</td>\n      <td>6.280510e+06</td>\n      <td>361929.000</td>\n      <td>4.375408e+05</td>\n    </tr>\n    <tr>\n      <th>156</th>\n      <td>2023-11-30</td>\n      <td>5.790516e+04</td>\n      <td>4.810262e+04</td>\n      <td>9709.785</td>\n      <td>7.464621e+03</td>\n    </tr>\n    <tr>\n      <th>157</th>\n      <td>2023-12-31</td>\n      <td>8.776014e+06</td>\n      <td>8.067776e+06</td>\n      <td>651893.083</td>\n      <td>8.579271e+05</td>\n    </tr>\n  </tbody>\n</table>\n<p>158 rows × 5 columns</p>\n</div>"
     },
     "execution_count": 61,
     "metadata": {},
     "output_type": "execute_result"
    }
   ],
   "source": [
    "yearly_sum_pd = prim_dealers.groupby('datadate').agg({\n",
    "    'total_assets': 'sum',\n",
    "    'book_debt': 'sum',\n",
    "    'book_equity': 'sum',\n",
    "    'market_equity': 'sum'\n",
    "}).reset_index()\n",
    "yearly_sum_pd"
   ],
   "metadata": {
    "collapsed": false,
    "ExecuteTime": {
     "end_time": "2024-02-19T18:48:13.747421500Z",
     "start_time": "2024-02-19T18:48:13.703959300Z"
    }
   },
   "id": "2c0e2b0b568e40d"
  },
  {
   "cell_type": "code",
   "execution_count": 5,
   "outputs": [],
   "source": [
    "def pull_CRSP_Comp_Link_Table(wrds_username=config.WRDS_USERNAME):\n",
    "    sql_query = \"\"\"\n",
    "        SELECT \n",
    "            gvkey, lpermco AS permco, linktype, linkprim, linkdt, linkenddt, tic\n",
    "        FROM \n",
    "            crsp.ccmxpf_linkhist\n",
    "        WHERE \n",
    "            substr(linktype,1,1)='L' AND \n",
    "            (linkprim ='C' OR linkprim='P')\n",
    "        \"\"\"\n",
    "    db = wrds.Connection(wrds_username=wrds_username)\n",
    "    ccm = db.raw_sql(sql_query, date_cols=[\"linkdt\", \"linkenddt\"])\n",
    "    db.close()\n",
    "    return ccm"
   ],
   "metadata": {
    "collapsed": false,
    "ExecuteTime": {
     "end_time": "2024-02-18T18:10:14.208968600Z",
     "start_time": "2024-02-18T18:10:14.195854800Z"
    }
   },
   "id": "9903af193242e135"
  },
  {
   "cell_type": "code",
   "execution_count": null,
   "outputs": [],
   "source": [
    "pull_CRSP_Comp_Link_Table()"
   ],
   "metadata": {
    "collapsed": false
   },
   "id": "42c854a1f8543083"
  },
  {
   "cell_type": "code",
   "execution_count": 35,
   "outputs": [
    {
     "data": {
      "text/plain": "        gvkey                       conm     tic     sic LINKPRIM LIID  \\\n0        1000      A & E PLASTIK PAK INC    AE.2  3089.0        P   01   \n1        1001    A & M FOOD SERVICES INC   AMFD.  5812.0        P   01   \n2        1002                   AAI CORP  AAIC.1  3825.0        C   01   \n3        1003      A.A. IMPORTING CO INC    ANTQ  5712.0        C   01   \n4        1004                   AAR CORP     AIR  5080.0        P   01   \n...       ...                        ...     ...     ...      ...  ...   \n31944  349994     CLEARMIND MEDICINE INC    CMND  2834.0        P   01   \n31945  350681       GETNET ADQUIRENCIA E     GET  7374.0        P   90   \n31946  351038  QUOIN PHARMACEUTICALS LTD    QNRX  2834.0        P   90   \n31947  352262           COOL COMPANY LTD    CLCO  4400.0        P   01   \n31948  353444                 HALEON PLC     HLN  2834.0        P   90   \n\n      LINKTYPE  LPERMNO  LPERMCO      LINKDT  LINKENDDT  \n0           LU    25881    23369  11/13/1970  6/30/1978  \n1           LU    10015     6398   9/20/1983  7/31/1986  \n2           LC    10023    22159  12/14/1972   6/5/1973  \n3           LU    10031     6672   12/7/1983  8/16/1989  \n4           LU    54594    20000   4/24/1972          E  \n...        ...      ...      ...         ...        ...  \n31944       LC    23514    59438  11/15/2022          E  \n31945       LC    22205    58855  10/22/2021  3/31/2023  \n31946       LC    16161    55612  10/29/2021          E  \n31947       LC    23773    59507   3/17/2023          E  \n31948       LC    23209    59330   7/22/2022          E  \n\n[31949 rows x 11 columns]",
      "text/html": "<div>\n<style scoped>\n    .dataframe tbody tr th:only-of-type {\n        vertical-align: middle;\n    }\n\n    .dataframe tbody tr th {\n        vertical-align: top;\n    }\n\n    .dataframe thead th {\n        text-align: right;\n    }\n</style>\n<table border=\"1\" class=\"dataframe\">\n  <thead>\n    <tr style=\"text-align: right;\">\n      <th></th>\n      <th>gvkey</th>\n      <th>conm</th>\n      <th>tic</th>\n      <th>sic</th>\n      <th>LINKPRIM</th>\n      <th>LIID</th>\n      <th>LINKTYPE</th>\n      <th>LPERMNO</th>\n      <th>LPERMCO</th>\n      <th>LINKDT</th>\n      <th>LINKENDDT</th>\n    </tr>\n  </thead>\n  <tbody>\n    <tr>\n      <th>0</th>\n      <td>1000</td>\n      <td>A &amp; E PLASTIK PAK INC</td>\n      <td>AE.2</td>\n      <td>3089.0</td>\n      <td>P</td>\n      <td>01</td>\n      <td>LU</td>\n      <td>25881</td>\n      <td>23369</td>\n      <td>11/13/1970</td>\n      <td>6/30/1978</td>\n    </tr>\n    <tr>\n      <th>1</th>\n      <td>1001</td>\n      <td>A &amp; M FOOD SERVICES INC</td>\n      <td>AMFD.</td>\n      <td>5812.0</td>\n      <td>P</td>\n      <td>01</td>\n      <td>LU</td>\n      <td>10015</td>\n      <td>6398</td>\n      <td>9/20/1983</td>\n      <td>7/31/1986</td>\n    </tr>\n    <tr>\n      <th>2</th>\n      <td>1002</td>\n      <td>AAI CORP</td>\n      <td>AAIC.1</td>\n      <td>3825.0</td>\n      <td>C</td>\n      <td>01</td>\n      <td>LC</td>\n      <td>10023</td>\n      <td>22159</td>\n      <td>12/14/1972</td>\n      <td>6/5/1973</td>\n    </tr>\n    <tr>\n      <th>3</th>\n      <td>1003</td>\n      <td>A.A. IMPORTING CO INC</td>\n      <td>ANTQ</td>\n      <td>5712.0</td>\n      <td>C</td>\n      <td>01</td>\n      <td>LU</td>\n      <td>10031</td>\n      <td>6672</td>\n      <td>12/7/1983</td>\n      <td>8/16/1989</td>\n    </tr>\n    <tr>\n      <th>4</th>\n      <td>1004</td>\n      <td>AAR CORP</td>\n      <td>AIR</td>\n      <td>5080.0</td>\n      <td>P</td>\n      <td>01</td>\n      <td>LU</td>\n      <td>54594</td>\n      <td>20000</td>\n      <td>4/24/1972</td>\n      <td>E</td>\n    </tr>\n    <tr>\n      <th>...</th>\n      <td>...</td>\n      <td>...</td>\n      <td>...</td>\n      <td>...</td>\n      <td>...</td>\n      <td>...</td>\n      <td>...</td>\n      <td>...</td>\n      <td>...</td>\n      <td>...</td>\n      <td>...</td>\n    </tr>\n    <tr>\n      <th>31944</th>\n      <td>349994</td>\n      <td>CLEARMIND MEDICINE INC</td>\n      <td>CMND</td>\n      <td>2834.0</td>\n      <td>P</td>\n      <td>01</td>\n      <td>LC</td>\n      <td>23514</td>\n      <td>59438</td>\n      <td>11/15/2022</td>\n      <td>E</td>\n    </tr>\n    <tr>\n      <th>31945</th>\n      <td>350681</td>\n      <td>GETNET ADQUIRENCIA E</td>\n      <td>GET</td>\n      <td>7374.0</td>\n      <td>P</td>\n      <td>90</td>\n      <td>LC</td>\n      <td>22205</td>\n      <td>58855</td>\n      <td>10/22/2021</td>\n      <td>3/31/2023</td>\n    </tr>\n    <tr>\n      <th>31946</th>\n      <td>351038</td>\n      <td>QUOIN PHARMACEUTICALS LTD</td>\n      <td>QNRX</td>\n      <td>2834.0</td>\n      <td>P</td>\n      <td>90</td>\n      <td>LC</td>\n      <td>16161</td>\n      <td>55612</td>\n      <td>10/29/2021</td>\n      <td>E</td>\n    </tr>\n    <tr>\n      <th>31947</th>\n      <td>352262</td>\n      <td>COOL COMPANY LTD</td>\n      <td>CLCO</td>\n      <td>4400.0</td>\n      <td>P</td>\n      <td>01</td>\n      <td>LC</td>\n      <td>23773</td>\n      <td>59507</td>\n      <td>3/17/2023</td>\n      <td>E</td>\n    </tr>\n    <tr>\n      <th>31948</th>\n      <td>353444</td>\n      <td>HALEON PLC</td>\n      <td>HLN</td>\n      <td>2834.0</td>\n      <td>P</td>\n      <td>90</td>\n      <td>LC</td>\n      <td>23209</td>\n      <td>59330</td>\n      <td>7/22/2022</td>\n      <td>E</td>\n    </tr>\n  </tbody>\n</table>\n<p>31949 rows × 11 columns</p>\n</div>"
     },
     "execution_count": 35,
     "metadata": {},
     "output_type": "execute_result"
    }
   ],
   "source": [
    "linktable = pd.read_csv('linktable.csv')\n",
    "linktable"
   ],
   "metadata": {
    "collapsed": false,
    "ExecuteTime": {
     "end_time": "2024-02-19T17:47:41.172891200Z",
     "start_time": "2024-02-19T17:47:41.104295500Z"
    }
   },
   "id": "fbdff30426a3124b"
  },
  {
   "cell_type": "code",
   "execution_count": 36,
   "outputs": [
    {
     "data": {
      "text/plain": "                          Primary Dealer  \\\n0                  ABN AMRO INCORPORATED   \n1          AUBREY G. LANSTON & CO., INC.   \n2                              Citigroup   \n3                          BA Securities   \n4                        Bank of America   \n..                                   ...   \n93  SMITH BARNEY, HARRIS UPHAM & CO.,INC   \n94        SECURITY PACIFIC NATIONAL BANK   \n95              SOUTHERN CALIF S&L ASSOC   \n96               TD SECURITIES (USA) LLC   \n97                                 Zions   \n\n                                    Holding Company          Ticker  \\\n0                                               NaN             ABN   \n1                                    Citigroup Inc.        C (NYSE)   \n2                                    Citigroup Inc.        C (NYSE)   \n3                       Bank of America Corporation      BAC (NYSE)   \n4                       Bank of America Corporation      BAC (NYSE)   \n..                                              ...             ...   \n93                            Primerica Corporation             PRI   \n94                     Security Pacific Corporation            6020   \n95  California Federal Savings and Loan Association             NaN   \n96                        The Toronto-Dominion Bank  TD (NYSE, TSX)   \n97                             Zions Bancorporation   ZION (NASDAQ)   \n\n    Start Date   End Date  Permco  gvkey                        conm    tic  \\\n0    9/29/1998  9/15/2006   31989  15504        ABN-AMRO HOLDINGS NV  ABNYY   \n1    5/19/1960  4/17/2000   20483   3243               CITIGROUP INC      C   \n2    6/15/1961    Current   20483   3243               CITIGROUP INC      C   \n3    4/18/1994  9/30/1997     437   7647        BANK OF AMERICA CORP    BAC   \n4   11/17/1971  4/15/1994     437   7647        BANK OF AMERICA CORP    BAC   \n..         ...        ...     ...    ...                         ...    ...   \n93   8/22/1979  8/31/1998   22177   1414               PRIMERICA INC    PRI   \n94  12/11/1986  1/17/1991    4205   9577       SECURITY PACIFIC CORP  7448B   \n95    6/7/1983   8/5/1983    5884   2612  CALIFORNIA FED BANCORP INC  CAL.2   \n96   2/11/2014    Current   29152  15706       TORONTO DOMINION BANK     TD   \n97   8/11/1993  3/31/2002   21305   8007            WELLS FARGO & CO    WFC   \n\n       sic LINKPRIM LIID LINKTYPE  LPERMNO  LPERMCO      LINKDT  LINKENDDT  \n0   6020.0        P   90       LC    84766    31989   5/21/1997  4/24/2008  \n1   6199.0        P   01       LC    70519    20483  10/29/1986          E  \n2   6199.0        P   01       LC    70519    20483  10/29/1986          E  \n3   6020.0        P   01       LC    59408     3151  12/14/1972          E  \n4   6020.0        P   01       LC    59408     3151  12/14/1972          E  \n..     ...      ...  ...      ...      ...      ...         ...        ...  \n93  6311.0        C  00X       LC    10241    22177    1/1/1950  1/30/1962  \n94  6020.0        P   01       LU    60839     4205  12/14/1972  4/30/1992  \n95  6035.0        P   01       LC    66456     5884   3/29/1983   1/3/1997  \n96  6020.0        P   01       LC    83835    29152   8/30/1996          E  \n97  6020.0        P   01       LC    38703    21305  12/10/1962          E  \n\n[98 rows x 17 columns]",
      "text/html": "<div>\n<style scoped>\n    .dataframe tbody tr th:only-of-type {\n        vertical-align: middle;\n    }\n\n    .dataframe tbody tr th {\n        vertical-align: top;\n    }\n\n    .dataframe thead th {\n        text-align: right;\n    }\n</style>\n<table border=\"1\" class=\"dataframe\">\n  <thead>\n    <tr style=\"text-align: right;\">\n      <th></th>\n      <th>Primary Dealer</th>\n      <th>Holding Company</th>\n      <th>Ticker</th>\n      <th>Start Date</th>\n      <th>End Date</th>\n      <th>Permco</th>\n      <th>gvkey</th>\n      <th>conm</th>\n      <th>tic</th>\n      <th>sic</th>\n      <th>LINKPRIM</th>\n      <th>LIID</th>\n      <th>LINKTYPE</th>\n      <th>LPERMNO</th>\n      <th>LPERMCO</th>\n      <th>LINKDT</th>\n      <th>LINKENDDT</th>\n    </tr>\n  </thead>\n  <tbody>\n    <tr>\n      <th>0</th>\n      <td>ABN AMRO INCORPORATED</td>\n      <td>NaN</td>\n      <td>ABN</td>\n      <td>9/29/1998</td>\n      <td>9/15/2006</td>\n      <td>31989</td>\n      <td>15504</td>\n      <td>ABN-AMRO HOLDINGS NV</td>\n      <td>ABNYY</td>\n      <td>6020.0</td>\n      <td>P</td>\n      <td>90</td>\n      <td>LC</td>\n      <td>84766</td>\n      <td>31989</td>\n      <td>5/21/1997</td>\n      <td>4/24/2008</td>\n    </tr>\n    <tr>\n      <th>1</th>\n      <td>AUBREY G. LANSTON &amp; CO., INC.</td>\n      <td>Citigroup Inc.</td>\n      <td>C (NYSE)</td>\n      <td>5/19/1960</td>\n      <td>4/17/2000</td>\n      <td>20483</td>\n      <td>3243</td>\n      <td>CITIGROUP INC</td>\n      <td>C</td>\n      <td>6199.0</td>\n      <td>P</td>\n      <td>01</td>\n      <td>LC</td>\n      <td>70519</td>\n      <td>20483</td>\n      <td>10/29/1986</td>\n      <td>E</td>\n    </tr>\n    <tr>\n      <th>2</th>\n      <td>Citigroup</td>\n      <td>Citigroup Inc.</td>\n      <td>C (NYSE)</td>\n      <td>6/15/1961</td>\n      <td>Current</td>\n      <td>20483</td>\n      <td>3243</td>\n      <td>CITIGROUP INC</td>\n      <td>C</td>\n      <td>6199.0</td>\n      <td>P</td>\n      <td>01</td>\n      <td>LC</td>\n      <td>70519</td>\n      <td>20483</td>\n      <td>10/29/1986</td>\n      <td>E</td>\n    </tr>\n    <tr>\n      <th>3</th>\n      <td>BA Securities</td>\n      <td>Bank of America Corporation</td>\n      <td>BAC (NYSE)</td>\n      <td>4/18/1994</td>\n      <td>9/30/1997</td>\n      <td>437</td>\n      <td>7647</td>\n      <td>BANK OF AMERICA CORP</td>\n      <td>BAC</td>\n      <td>6020.0</td>\n      <td>P</td>\n      <td>01</td>\n      <td>LC</td>\n      <td>59408</td>\n      <td>3151</td>\n      <td>12/14/1972</td>\n      <td>E</td>\n    </tr>\n    <tr>\n      <th>4</th>\n      <td>Bank of America</td>\n      <td>Bank of America Corporation</td>\n      <td>BAC (NYSE)</td>\n      <td>11/17/1971</td>\n      <td>4/15/1994</td>\n      <td>437</td>\n      <td>7647</td>\n      <td>BANK OF AMERICA CORP</td>\n      <td>BAC</td>\n      <td>6020.0</td>\n      <td>P</td>\n      <td>01</td>\n      <td>LC</td>\n      <td>59408</td>\n      <td>3151</td>\n      <td>12/14/1972</td>\n      <td>E</td>\n    </tr>\n    <tr>\n      <th>...</th>\n      <td>...</td>\n      <td>...</td>\n      <td>...</td>\n      <td>...</td>\n      <td>...</td>\n      <td>...</td>\n      <td>...</td>\n      <td>...</td>\n      <td>...</td>\n      <td>...</td>\n      <td>...</td>\n      <td>...</td>\n      <td>...</td>\n      <td>...</td>\n      <td>...</td>\n      <td>...</td>\n      <td>...</td>\n    </tr>\n    <tr>\n      <th>93</th>\n      <td>SMITH BARNEY, HARRIS UPHAM &amp; CO.,INC</td>\n      <td>Primerica Corporation</td>\n      <td>PRI</td>\n      <td>8/22/1979</td>\n      <td>8/31/1998</td>\n      <td>22177</td>\n      <td>1414</td>\n      <td>PRIMERICA INC</td>\n      <td>PRI</td>\n      <td>6311.0</td>\n      <td>C</td>\n      <td>00X</td>\n      <td>LC</td>\n      <td>10241</td>\n      <td>22177</td>\n      <td>1/1/1950</td>\n      <td>1/30/1962</td>\n    </tr>\n    <tr>\n      <th>94</th>\n      <td>SECURITY PACIFIC NATIONAL BANK</td>\n      <td>Security Pacific Corporation</td>\n      <td>6020</td>\n      <td>12/11/1986</td>\n      <td>1/17/1991</td>\n      <td>4205</td>\n      <td>9577</td>\n      <td>SECURITY PACIFIC CORP</td>\n      <td>7448B</td>\n      <td>6020.0</td>\n      <td>P</td>\n      <td>01</td>\n      <td>LU</td>\n      <td>60839</td>\n      <td>4205</td>\n      <td>12/14/1972</td>\n      <td>4/30/1992</td>\n    </tr>\n    <tr>\n      <th>95</th>\n      <td>SOUTHERN CALIF S&amp;L ASSOC</td>\n      <td>California Federal Savings and Loan Association</td>\n      <td>NaN</td>\n      <td>6/7/1983</td>\n      <td>8/5/1983</td>\n      <td>5884</td>\n      <td>2612</td>\n      <td>CALIFORNIA FED BANCORP INC</td>\n      <td>CAL.2</td>\n      <td>6035.0</td>\n      <td>P</td>\n      <td>01</td>\n      <td>LC</td>\n      <td>66456</td>\n      <td>5884</td>\n      <td>3/29/1983</td>\n      <td>1/3/1997</td>\n    </tr>\n    <tr>\n      <th>96</th>\n      <td>TD SECURITIES (USA) LLC</td>\n      <td>The Toronto-Dominion Bank</td>\n      <td>TD (NYSE, TSX)</td>\n      <td>2/11/2014</td>\n      <td>Current</td>\n      <td>29152</td>\n      <td>15706</td>\n      <td>TORONTO DOMINION BANK</td>\n      <td>TD</td>\n      <td>6020.0</td>\n      <td>P</td>\n      <td>01</td>\n      <td>LC</td>\n      <td>83835</td>\n      <td>29152</td>\n      <td>8/30/1996</td>\n      <td>E</td>\n    </tr>\n    <tr>\n      <th>97</th>\n      <td>Zions</td>\n      <td>Zions Bancorporation</td>\n      <td>ZION (NASDAQ)</td>\n      <td>8/11/1993</td>\n      <td>3/31/2002</td>\n      <td>21305</td>\n      <td>8007</td>\n      <td>WELLS FARGO &amp; CO</td>\n      <td>WFC</td>\n      <td>6020.0</td>\n      <td>P</td>\n      <td>01</td>\n      <td>LC</td>\n      <td>38703</td>\n      <td>21305</td>\n      <td>12/10/1962</td>\n      <td>E</td>\n    </tr>\n  </tbody>\n</table>\n<p>98 rows × 17 columns</p>\n</div>"
     },
     "execution_count": 36,
     "metadata": {},
     "output_type": "execute_result"
    }
   ],
   "source": [
    "merged = pd.merge(ticks, linktable, left_on='gvkey', right_on='gvkey')\n",
    "merged"
   ],
   "metadata": {
    "collapsed": false,
    "ExecuteTime": {
     "end_time": "2024-02-19T17:48:35.384926Z",
     "start_time": "2024-02-19T17:48:35.322713400Z"
    }
   },
   "id": "55f0b418e4d91e25"
  },
  {
   "cell_type": "markdown",
   "source": [
    "### Get all data from broker dealers with SIC code 6211 or 6221 that are not in list of primary dealers\n"
   ],
   "metadata": {
    "collapsed": false
   },
   "id": "c492b79f3ffaaab"
  },
  {
   "cell_type": "code",
   "execution_count": 103,
   "outputs": [
    {
     "data": {
      "text/plain": "        gvkey                          conm    tic     sic LINKPRIM LIID  \\\n167      1148              ADVEST GROUP INC  ADV.2  6211.0        P   01   \n987      1967               BACHE GROUP INC   BAC.  6211.0        P   01   \n1379     2330          BOSTON CO INC  -CL B  BSTNB  6211.0        C  00X   \n1380     2330          BOSTON CO INC  -CL B  BSTNB  6211.0        C   01   \n1475     2432    BROWN (ROBERT C.) & CO INC   RCBI  6211.0        P   01   \n...       ...                           ...    ...     ...      ...  ...   \n30429  178073        B. RILEY FINANCIAL INC   RILY  6211.0        P   03   \n30479  178519    LPL FINANCIAL HOLDINGS INC   LPLA  6211.0        P   01   \n30548  178848  DIRECT MARKETS HOLDINGS CORP  MKTSQ  6211.0        P   01   \n31100  185518          GLOBAL BROKERAGE INC   GLBR  6211.0        C   01   \n31489  209386             VAN DER MOOLEN NV  VDMHY  6211.0        P   90   \n\n      LINKTYPE  LPERMNO  LPERMCO      LINKDT   LINKENDDT  \n167         LU    64514      420  11/21/1980   2/28/2001  \n987         LU    54893    25401   5/31/1972   6/11/1981  \n1379        LU    18877    22881    1/1/1975   1/30/1975  \n1380        LU    18877    22881   1/31/1975   9/30/1981  \n1475        LU    19538     6441   9/30/1983  11/30/1989  \n...        ...      ...      ...         ...         ...  \n30429       LC    15540    55369   7/16/2015           E  \n30479       LC    12400    53576  11/18/2010           E  \n30548       LC    92312    52781  10/16/2007   9/13/2012  \n31100       LC    12446    53607   12/2/2010           E  \n31489       LC    89197    42289  10/18/2001   12/5/2007  \n\n[165 rows x 11 columns]",
      "text/html": "<div>\n<style scoped>\n    .dataframe tbody tr th:only-of-type {\n        vertical-align: middle;\n    }\n\n    .dataframe tbody tr th {\n        vertical-align: top;\n    }\n\n    .dataframe thead th {\n        text-align: right;\n    }\n</style>\n<table border=\"1\" class=\"dataframe\">\n  <thead>\n    <tr style=\"text-align: right;\">\n      <th></th>\n      <th>gvkey</th>\n      <th>conm</th>\n      <th>tic</th>\n      <th>sic</th>\n      <th>LINKPRIM</th>\n      <th>LIID</th>\n      <th>LINKTYPE</th>\n      <th>LPERMNO</th>\n      <th>LPERMCO</th>\n      <th>LINKDT</th>\n      <th>LINKENDDT</th>\n    </tr>\n  </thead>\n  <tbody>\n    <tr>\n      <th>167</th>\n      <td>1148</td>\n      <td>ADVEST GROUP INC</td>\n      <td>ADV.2</td>\n      <td>6211.0</td>\n      <td>P</td>\n      <td>01</td>\n      <td>LU</td>\n      <td>64514</td>\n      <td>420</td>\n      <td>11/21/1980</td>\n      <td>2/28/2001</td>\n    </tr>\n    <tr>\n      <th>987</th>\n      <td>1967</td>\n      <td>BACHE GROUP INC</td>\n      <td>BAC.</td>\n      <td>6211.0</td>\n      <td>P</td>\n      <td>01</td>\n      <td>LU</td>\n      <td>54893</td>\n      <td>25401</td>\n      <td>5/31/1972</td>\n      <td>6/11/1981</td>\n    </tr>\n    <tr>\n      <th>1379</th>\n      <td>2330</td>\n      <td>BOSTON CO INC  -CL B</td>\n      <td>BSTNB</td>\n      <td>6211.0</td>\n      <td>C</td>\n      <td>00X</td>\n      <td>LU</td>\n      <td>18877</td>\n      <td>22881</td>\n      <td>1/1/1975</td>\n      <td>1/30/1975</td>\n    </tr>\n    <tr>\n      <th>1380</th>\n      <td>2330</td>\n      <td>BOSTON CO INC  -CL B</td>\n      <td>BSTNB</td>\n      <td>6211.0</td>\n      <td>C</td>\n      <td>01</td>\n      <td>LU</td>\n      <td>18877</td>\n      <td>22881</td>\n      <td>1/31/1975</td>\n      <td>9/30/1981</td>\n    </tr>\n    <tr>\n      <th>1475</th>\n      <td>2432</td>\n      <td>BROWN (ROBERT C.) &amp; CO INC</td>\n      <td>RCBI</td>\n      <td>6211.0</td>\n      <td>P</td>\n      <td>01</td>\n      <td>LU</td>\n      <td>19538</td>\n      <td>6441</td>\n      <td>9/30/1983</td>\n      <td>11/30/1989</td>\n    </tr>\n    <tr>\n      <th>...</th>\n      <td>...</td>\n      <td>...</td>\n      <td>...</td>\n      <td>...</td>\n      <td>...</td>\n      <td>...</td>\n      <td>...</td>\n      <td>...</td>\n      <td>...</td>\n      <td>...</td>\n      <td>...</td>\n    </tr>\n    <tr>\n      <th>30429</th>\n      <td>178073</td>\n      <td>B. RILEY FINANCIAL INC</td>\n      <td>RILY</td>\n      <td>6211.0</td>\n      <td>P</td>\n      <td>03</td>\n      <td>LC</td>\n      <td>15540</td>\n      <td>55369</td>\n      <td>7/16/2015</td>\n      <td>E</td>\n    </tr>\n    <tr>\n      <th>30479</th>\n      <td>178519</td>\n      <td>LPL FINANCIAL HOLDINGS INC</td>\n      <td>LPLA</td>\n      <td>6211.0</td>\n      <td>P</td>\n      <td>01</td>\n      <td>LC</td>\n      <td>12400</td>\n      <td>53576</td>\n      <td>11/18/2010</td>\n      <td>E</td>\n    </tr>\n    <tr>\n      <th>30548</th>\n      <td>178848</td>\n      <td>DIRECT MARKETS HOLDINGS CORP</td>\n      <td>MKTSQ</td>\n      <td>6211.0</td>\n      <td>P</td>\n      <td>01</td>\n      <td>LC</td>\n      <td>92312</td>\n      <td>52781</td>\n      <td>10/16/2007</td>\n      <td>9/13/2012</td>\n    </tr>\n    <tr>\n      <th>31100</th>\n      <td>185518</td>\n      <td>GLOBAL BROKERAGE INC</td>\n      <td>GLBR</td>\n      <td>6211.0</td>\n      <td>C</td>\n      <td>01</td>\n      <td>LC</td>\n      <td>12446</td>\n      <td>53607</td>\n      <td>12/2/2010</td>\n      <td>E</td>\n    </tr>\n    <tr>\n      <th>31489</th>\n      <td>209386</td>\n      <td>VAN DER MOOLEN NV</td>\n      <td>VDMHY</td>\n      <td>6211.0</td>\n      <td>P</td>\n      <td>90</td>\n      <td>LC</td>\n      <td>89197</td>\n      <td>42289</td>\n      <td>10/18/2001</td>\n      <td>12/5/2007</td>\n    </tr>\n  </tbody>\n</table>\n<p>165 rows × 11 columns</p>\n</div>"
     },
     "execution_count": 103,
     "metadata": {},
     "output_type": "execute_result"
    }
   ],
   "source": [
    "linked_bd = linktable[((linktable['sic'] == 6211) | (linktable['sic'] == 6221)) & (~linktable['gvkey'].isin(ticks['gvkey'].tolist()))]\n",
    "linked_bd"
   ],
   "metadata": {
    "collapsed": false,
    "ExecuteTime": {
     "end_time": "2024-02-19T20:01:57.224475400Z",
     "start_time": "2024-02-19T20:01:57.192908Z"
    }
   },
   "id": "4a6c39dcbbd7437c"
  },
  {
   "cell_type": "code",
   "execution_count": 105,
   "outputs": [
    {
     "name": "stderr",
     "output_type": "stream",
     "text": [
      "C:\\Users\\jsime\\AppData\\Local\\Temp\\ipykernel_19320\\1247283076.py:11: FutureWarning: The behavior of DataFrame concatenation with empty or all-NA entries is deprecated. In a future version, this will no longer exclude empty or all-NA columns when determining the result dtypes. To retain the old behavior, exclude the relevant entries before the concat operation.\n",
      "  broker_dealers = pd.concat([new_data, broker_dealers], axis=0)\n",
      "C:\\Users\\jsime\\AppData\\Local\\Temp\\ipykernel_19320\\1247283076.py:11: FutureWarning: The behavior of DataFrame concatenation with empty or all-NA entries is deprecated. In a future version, this will no longer exclude empty or all-NA columns when determining the result dtypes. To retain the old behavior, exclude the relevant entries before the concat operation.\n",
      "  broker_dealers = pd.concat([new_data, broker_dealers], axis=0)\n",
      "C:\\Users\\jsime\\AppData\\Local\\Temp\\ipykernel_19320\\1247283076.py:11: FutureWarning: The behavior of DataFrame concatenation with empty or all-NA entries is deprecated. In a future version, this will no longer exclude empty or all-NA columns when determining the result dtypes. To retain the old behavior, exclude the relevant entries before the concat operation.\n",
      "  broker_dealers = pd.concat([new_data, broker_dealers], axis=0)\n",
      "C:\\Users\\jsime\\AppData\\Local\\Temp\\ipykernel_19320\\1247283076.py:11: FutureWarning: The behavior of DataFrame concatenation with empty or all-NA entries is deprecated. In a future version, this will no longer exclude empty or all-NA columns when determining the result dtypes. To retain the old behavior, exclude the relevant entries before the concat operation.\n",
      "  broker_dealers = pd.concat([new_data, broker_dealers], axis=0)\n",
      "C:\\Users\\jsime\\AppData\\Local\\Temp\\ipykernel_19320\\1247283076.py:11: FutureWarning: The behavior of DataFrame concatenation with empty or all-NA entries is deprecated. In a future version, this will no longer exclude empty or all-NA columns when determining the result dtypes. To retain the old behavior, exclude the relevant entries before the concat operation.\n",
      "  broker_dealers = pd.concat([new_data, broker_dealers], axis=0)\n",
      "C:\\Users\\jsime\\AppData\\Local\\Temp\\ipykernel_19320\\1247283076.py:11: FutureWarning: The behavior of DataFrame concatenation with empty or all-NA entries is deprecated. In a future version, this will no longer exclude empty or all-NA columns when determining the result dtypes. To retain the old behavior, exclude the relevant entries before the concat operation.\n",
      "  broker_dealers = pd.concat([new_data, broker_dealers], axis=0)\n",
      "C:\\Users\\jsime\\AppData\\Local\\Temp\\ipykernel_19320\\1247283076.py:11: FutureWarning: The behavior of DataFrame concatenation with empty or all-NA entries is deprecated. In a future version, this will no longer exclude empty or all-NA columns when determining the result dtypes. To retain the old behavior, exclude the relevant entries before the concat operation.\n",
      "  broker_dealers = pd.concat([new_data, broker_dealers], axis=0)\n",
      "C:\\Users\\jsime\\AppData\\Local\\Temp\\ipykernel_19320\\1247283076.py:11: FutureWarning: The behavior of DataFrame concatenation with empty or all-NA entries is deprecated. In a future version, this will no longer exclude empty or all-NA columns when determining the result dtypes. To retain the old behavior, exclude the relevant entries before the concat operation.\n",
      "  broker_dealers = pd.concat([new_data, broker_dealers], axis=0)\n",
      "C:\\Users\\jsime\\AppData\\Local\\Temp\\ipykernel_19320\\1247283076.py:11: FutureWarning: The behavior of DataFrame concatenation with empty or all-NA entries is deprecated. In a future version, this will no longer exclude empty or all-NA columns when determining the result dtypes. To retain the old behavior, exclude the relevant entries before the concat operation.\n",
      "  broker_dealers = pd.concat([new_data, broker_dealers], axis=0)\n",
      "C:\\Users\\jsime\\AppData\\Local\\Temp\\ipykernel_19320\\1247283076.py:11: FutureWarning: The behavior of DataFrame concatenation with empty or all-NA entries is deprecated. In a future version, this will no longer exclude empty or all-NA columns when determining the result dtypes. To retain the old behavior, exclude the relevant entries before the concat operation.\n",
      "  broker_dealers = pd.concat([new_data, broker_dealers], axis=0)\n",
      "C:\\Users\\jsime\\AppData\\Local\\Temp\\ipykernel_19320\\1247283076.py:11: FutureWarning: The behavior of DataFrame concatenation with empty or all-NA entries is deprecated. In a future version, this will no longer exclude empty or all-NA columns when determining the result dtypes. To retain the old behavior, exclude the relevant entries before the concat operation.\n",
      "  broker_dealers = pd.concat([new_data, broker_dealers], axis=0)\n",
      "C:\\Users\\jsime\\AppData\\Local\\Temp\\ipykernel_19320\\1247283076.py:11: FutureWarning: The behavior of DataFrame concatenation with empty or all-NA entries is deprecated. In a future version, this will no longer exclude empty or all-NA columns when determining the result dtypes. To retain the old behavior, exclude the relevant entries before the concat operation.\n",
      "  broker_dealers = pd.concat([new_data, broker_dealers], axis=0)\n",
      "C:\\Users\\jsime\\AppData\\Local\\Temp\\ipykernel_19320\\1247283076.py:11: FutureWarning: The behavior of DataFrame concatenation with empty or all-NA entries is deprecated. In a future version, this will no longer exclude empty or all-NA columns when determining the result dtypes. To retain the old behavior, exclude the relevant entries before the concat operation.\n",
      "  broker_dealers = pd.concat([new_data, broker_dealers], axis=0)\n",
      "C:\\Users\\jsime\\AppData\\Local\\Temp\\ipykernel_19320\\1247283076.py:11: FutureWarning: The behavior of DataFrame concatenation with empty or all-NA entries is deprecated. In a future version, this will no longer exclude empty or all-NA columns when determining the result dtypes. To retain the old behavior, exclude the relevant entries before the concat operation.\n",
      "  broker_dealers = pd.concat([new_data, broker_dealers], axis=0)\n",
      "C:\\Users\\jsime\\AppData\\Local\\Temp\\ipykernel_19320\\1247283076.py:11: FutureWarning: The behavior of DataFrame concatenation with empty or all-NA entries is deprecated. In a future version, this will no longer exclude empty or all-NA columns when determining the result dtypes. To retain the old behavior, exclude the relevant entries before the concat operation.\n",
      "  broker_dealers = pd.concat([new_data, broker_dealers], axis=0)\n",
      "C:\\Users\\jsime\\AppData\\Local\\Temp\\ipykernel_19320\\1247283076.py:11: FutureWarning: The behavior of DataFrame concatenation with empty or all-NA entries is deprecated. In a future version, this will no longer exclude empty or all-NA columns when determining the result dtypes. To retain the old behavior, exclude the relevant entries before the concat operation.\n",
      "  broker_dealers = pd.concat([new_data, broker_dealers], axis=0)\n",
      "C:\\Users\\jsime\\AppData\\Local\\Temp\\ipykernel_19320\\1247283076.py:11: FutureWarning: The behavior of DataFrame concatenation with empty or all-NA entries is deprecated. In a future version, this will no longer exclude empty or all-NA columns when determining the result dtypes. To retain the old behavior, exclude the relevant entries before the concat operation.\n",
      "  broker_dealers = pd.concat([new_data, broker_dealers], axis=0)\n"
     ]
    },
    {
     "name": "stdout",
     "output_type": "stream",
     "text": [
      "[]\n"
     ]
    }
   ],
   "source": [
    "empty_tickers = []\n",
    "broker_dealers = pd.DataFrame()\n",
    "for index, row in linked_bd.iterrows():\n",
    "    gvkey = row['gvkey']\n",
    "    start_date = '1960-01-01'\n",
    "    end_date = '2012-12-31'    \n",
    "    new_data = fetch_financial_data(gvkey, start_date, end_date)\n",
    "    if isinstance(new_data, tuple):\n",
    "        empty_tickers.append({row['conm']:gvkey})\n",
    "    else:\n",
    "        broker_dealers = pd.concat([new_data, broker_dealers], axis=0)\n",
    "print(empty_tickers)"
   ],
   "metadata": {
    "collapsed": false,
    "ExecuteTime": {
     "end_time": "2024-02-19T20:02:35.870645200Z",
     "start_time": "2024-02-19T20:02:28.341643700Z"
    }
   },
   "id": "8d7a3ea66807fda8"
  },
  {
   "cell_type": "code",
   "execution_count": 106,
   "outputs": [
    {
     "data": {
      "text/plain": "      datadate  total_assets  book_debt  book_equity  market_equity   gvkey  \\\n0   1999-12-31       842.252    729.293          NaN            NaN  209386   \n1   2000-12-31       876.311    726.460          NaN            NaN  209386   \n2   2001-12-31      3631.252   3064.614      538.155    1098.808600  209386   \n3   2002-12-31      1567.193   1174.844      327.342     825.624310  209386   \n4   2003-12-31      1114.079    818.679      253.830     333.861110  209386   \n..         ...           ...        ...          ...            ...     ...   \n15  1996-09-30       965.177    875.935       89.242      81.929250  001148   \n16  1997-09-30      1078.839    973.186      105.653     227.151465  001148   \n17  1998-09-30      1233.271   1109.604      123.667     182.335875  001148   \n18  1999-09-30      1462.621   1327.485      135.136     162.881250  001148   \n19  2000-09-30      2088.889   1938.089      150.800     279.927375  001148   \n\n                 conm  \n0   VAN DER MOOLEN NV  \n1   VAN DER MOOLEN NV  \n2   VAN DER MOOLEN NV  \n3   VAN DER MOOLEN NV  \n4   VAN DER MOOLEN NV  \n..                ...  \n15   ADVEST GROUP INC  \n16   ADVEST GROUP INC  \n17   ADVEST GROUP INC  \n18   ADVEST GROUP INC  \n19   ADVEST GROUP INC  \n\n[1627 rows x 7 columns]",
      "text/html": "<div>\n<style scoped>\n    .dataframe tbody tr th:only-of-type {\n        vertical-align: middle;\n    }\n\n    .dataframe tbody tr th {\n        vertical-align: top;\n    }\n\n    .dataframe thead th {\n        text-align: right;\n    }\n</style>\n<table border=\"1\" class=\"dataframe\">\n  <thead>\n    <tr style=\"text-align: right;\">\n      <th></th>\n      <th>datadate</th>\n      <th>total_assets</th>\n      <th>book_debt</th>\n      <th>book_equity</th>\n      <th>market_equity</th>\n      <th>gvkey</th>\n      <th>conm</th>\n    </tr>\n  </thead>\n  <tbody>\n    <tr>\n      <th>0</th>\n      <td>1999-12-31</td>\n      <td>842.252</td>\n      <td>729.293</td>\n      <td>NaN</td>\n      <td>NaN</td>\n      <td>209386</td>\n      <td>VAN DER MOOLEN NV</td>\n    </tr>\n    <tr>\n      <th>1</th>\n      <td>2000-12-31</td>\n      <td>876.311</td>\n      <td>726.460</td>\n      <td>NaN</td>\n      <td>NaN</td>\n      <td>209386</td>\n      <td>VAN DER MOOLEN NV</td>\n    </tr>\n    <tr>\n      <th>2</th>\n      <td>2001-12-31</td>\n      <td>3631.252</td>\n      <td>3064.614</td>\n      <td>538.155</td>\n      <td>1098.808600</td>\n      <td>209386</td>\n      <td>VAN DER MOOLEN NV</td>\n    </tr>\n    <tr>\n      <th>3</th>\n      <td>2002-12-31</td>\n      <td>1567.193</td>\n      <td>1174.844</td>\n      <td>327.342</td>\n      <td>825.624310</td>\n      <td>209386</td>\n      <td>VAN DER MOOLEN NV</td>\n    </tr>\n    <tr>\n      <th>4</th>\n      <td>2003-12-31</td>\n      <td>1114.079</td>\n      <td>818.679</td>\n      <td>253.830</td>\n      <td>333.861110</td>\n      <td>209386</td>\n      <td>VAN DER MOOLEN NV</td>\n    </tr>\n    <tr>\n      <th>...</th>\n      <td>...</td>\n      <td>...</td>\n      <td>...</td>\n      <td>...</td>\n      <td>...</td>\n      <td>...</td>\n      <td>...</td>\n    </tr>\n    <tr>\n      <th>15</th>\n      <td>1996-09-30</td>\n      <td>965.177</td>\n      <td>875.935</td>\n      <td>89.242</td>\n      <td>81.929250</td>\n      <td>001148</td>\n      <td>ADVEST GROUP INC</td>\n    </tr>\n    <tr>\n      <th>16</th>\n      <td>1997-09-30</td>\n      <td>1078.839</td>\n      <td>973.186</td>\n      <td>105.653</td>\n      <td>227.151465</td>\n      <td>001148</td>\n      <td>ADVEST GROUP INC</td>\n    </tr>\n    <tr>\n      <th>17</th>\n      <td>1998-09-30</td>\n      <td>1233.271</td>\n      <td>1109.604</td>\n      <td>123.667</td>\n      <td>182.335875</td>\n      <td>001148</td>\n      <td>ADVEST GROUP INC</td>\n    </tr>\n    <tr>\n      <th>18</th>\n      <td>1999-09-30</td>\n      <td>1462.621</td>\n      <td>1327.485</td>\n      <td>135.136</td>\n      <td>162.881250</td>\n      <td>001148</td>\n      <td>ADVEST GROUP INC</td>\n    </tr>\n    <tr>\n      <th>19</th>\n      <td>2000-09-30</td>\n      <td>2088.889</td>\n      <td>1938.089</td>\n      <td>150.800</td>\n      <td>279.927375</td>\n      <td>001148</td>\n      <td>ADVEST GROUP INC</td>\n    </tr>\n  </tbody>\n</table>\n<p>1627 rows × 7 columns</p>\n</div>"
     },
     "execution_count": 106,
     "metadata": {},
     "output_type": "execute_result"
    }
   ],
   "source": [
    "broker_dealers = broker_dealers.drop_duplicates()\n",
    "broker_dealers"
   ],
   "metadata": {
    "collapsed": false,
    "ExecuteTime": {
     "end_time": "2024-02-19T20:02:39.114230300Z",
     "start_time": "2024-02-19T20:02:39.087734600Z"
    }
   },
   "id": "8c9e90a7eea13588"
  },
  {
   "cell_type": "code",
   "execution_count": 107,
   "outputs": [
    {
     "data": {
      "text/plain": "       datadate  total_assets_bd  book_debt_bd  book_equity_bd  \\\n0    1960-12-31           64.700        30.700           0.000   \n1    1961-12-31           75.200        39.984           0.000   \n2    1962-12-31          596.288       536.342          59.895   \n3    1963-12-31          624.431       561.682          23.477   \n4    1964-12-31          716.440       649.862          23.733   \n..          ...              ...           ...             ...   \n366  2012-03-31           15.491         8.235           7.256   \n367  2012-06-30         3561.298      3203.698         357.600   \n368  2012-09-30        40689.854     32587.463        7684.875   \n369  2012-11-30        36293.541     32162.737        3436.015   \n370  2012-12-31       250033.509    222541.763       21890.761   \n\n     market_equity_bd  \n0            0.000000  \n1            0.000000  \n2            0.000000  \n3            0.000000  \n4            0.000000  \n..                ...  \n366         26.673150  \n367        175.774794  \n368      13429.889470  \n369       3448.171520  \n370      24642.680700  \n\n[371 rows x 5 columns]",
      "text/html": "<div>\n<style scoped>\n    .dataframe tbody tr th:only-of-type {\n        vertical-align: middle;\n    }\n\n    .dataframe tbody tr th {\n        vertical-align: top;\n    }\n\n    .dataframe thead th {\n        text-align: right;\n    }\n</style>\n<table border=\"1\" class=\"dataframe\">\n  <thead>\n    <tr style=\"text-align: right;\">\n      <th></th>\n      <th>datadate</th>\n      <th>total_assets_bd</th>\n      <th>book_debt_bd</th>\n      <th>book_equity_bd</th>\n      <th>market_equity_bd</th>\n    </tr>\n  </thead>\n  <tbody>\n    <tr>\n      <th>0</th>\n      <td>1960-12-31</td>\n      <td>64.700</td>\n      <td>30.700</td>\n      <td>0.000</td>\n      <td>0.000000</td>\n    </tr>\n    <tr>\n      <th>1</th>\n      <td>1961-12-31</td>\n      <td>75.200</td>\n      <td>39.984</td>\n      <td>0.000</td>\n      <td>0.000000</td>\n    </tr>\n    <tr>\n      <th>2</th>\n      <td>1962-12-31</td>\n      <td>596.288</td>\n      <td>536.342</td>\n      <td>59.895</td>\n      <td>0.000000</td>\n    </tr>\n    <tr>\n      <th>3</th>\n      <td>1963-12-31</td>\n      <td>624.431</td>\n      <td>561.682</td>\n      <td>23.477</td>\n      <td>0.000000</td>\n    </tr>\n    <tr>\n      <th>4</th>\n      <td>1964-12-31</td>\n      <td>716.440</td>\n      <td>649.862</td>\n      <td>23.733</td>\n      <td>0.000000</td>\n    </tr>\n    <tr>\n      <th>...</th>\n      <td>...</td>\n      <td>...</td>\n      <td>...</td>\n      <td>...</td>\n      <td>...</td>\n    </tr>\n    <tr>\n      <th>366</th>\n      <td>2012-03-31</td>\n      <td>15.491</td>\n      <td>8.235</td>\n      <td>7.256</td>\n      <td>26.673150</td>\n    </tr>\n    <tr>\n      <th>367</th>\n      <td>2012-06-30</td>\n      <td>3561.298</td>\n      <td>3203.698</td>\n      <td>357.600</td>\n      <td>175.774794</td>\n    </tr>\n    <tr>\n      <th>368</th>\n      <td>2012-09-30</td>\n      <td>40689.854</td>\n      <td>32587.463</td>\n      <td>7684.875</td>\n      <td>13429.889470</td>\n    </tr>\n    <tr>\n      <th>369</th>\n      <td>2012-11-30</td>\n      <td>36293.541</td>\n      <td>32162.737</td>\n      <td>3436.015</td>\n      <td>3448.171520</td>\n    </tr>\n    <tr>\n      <th>370</th>\n      <td>2012-12-31</td>\n      <td>250033.509</td>\n      <td>222541.763</td>\n      <td>21890.761</td>\n      <td>24642.680700</td>\n    </tr>\n  </tbody>\n</table>\n<p>371 rows × 5 columns</p>\n</div>"
     },
     "execution_count": 107,
     "metadata": {},
     "output_type": "execute_result"
    }
   ],
   "source": [
    "yearly_sum_bd = broker_dealers.groupby('datadate').agg({\n",
    "    'total_assets': 'sum',\n",
    "    'book_debt': 'sum',\n",
    "    'book_equity': 'sum',\n",
    "    'market_equity': 'sum'\n",
    "}).reset_index()\n",
    "yearly_sum_bd = yearly_sum_bd.rename(columns={'total_assets':'total_assets_bd', 'book_debt':'book_debt_bd', 'book_equity':'book_equity_bd','market_equity':'market_equity_bd' })\n",
    "yearly_sum_bd"
   ],
   "metadata": {
    "collapsed": false,
    "ExecuteTime": {
     "end_time": "2024-02-19T20:02:42.025696700Z",
     "start_time": "2024-02-19T20:02:42.010746400Z"
    }
   },
   "id": "4981fe1e741d21de"
  },
  {
   "cell_type": "code",
   "execution_count": 108,
   "outputs": [
    {
     "data": {
      "text/plain": "      total_assets     book_debt  book_equity  market_equity  total_assets_bd  \\\nyear                                                                            \n1960  8.835297e+03  4.505152e+03      746.347   0.000000e+00           64.700   \n1961  9.856233e+03  5.006815e+03      771.122   8.476998e+02           75.200   \n1962  1.039177e+04  5.191507e+03      811.380   1.936547e+03          596.288   \n1963  1.135703e+04  9.798979e+03     1377.017   1.962843e+03          624.431   \n1964  1.885544e+04  1.670331e+04     1818.247   2.841011e+03          716.440   \n1965  2.057146e+04  1.826910e+04     1920.637   2.882466e+03          692.547   \n1966  2.191825e+04  1.952541e+04     2033.901   2.583758e+03          877.911   \n1967  2.458797e+04  2.208529e+04     2122.413   2.702707e+03         1331.803   \n1968  2.771266e+04  2.507688e+04     2225.453   3.620185e+03         1145.109   \n1969  3.246661e+04  2.952803e+04     2469.511   3.213643e+03         1422.050   \n1970  3.834176e+04  3.496507e+04     2892.354   3.339911e+03         2208.451   \n1971  4.576397e+04  4.202574e+04     3229.665   4.482702e+03         2487.608   \n1972  5.593672e+04  5.196867e+04     3420.911   4.906063e+03         3689.163   \n1973  7.021171e+04  6.586432e+04     3740.116   3.970551e+03         3657.981   \n1974  7.848777e+04  7.372397e+04     3996.323   2.592040e+03         4275.996   \n1975  8.210193e+04  7.748725e+04     4499.748   3.092486e+03         6707.453   \n1976  9.132380e+04  8.630369e+04     4900.147   4.679208e+03         9769.746   \n1977  1.079246e+05  1.023092e+05     5401.737   4.317002e+03        11395.891   \n1978  1.275664e+05  1.207351e+05     6644.098   4.471928e+03        10596.699   \n1979  1.669253e+05  1.518684e+05    14717.089   1.659735e+04        14634.381   \n1980  1.868499e+05  1.699945e+05    16478.633   2.036287e+04        17319.795   \n1981  2.098301e+05  1.909973e+05    18485.997   2.021323e+04        23175.286   \n1982  2.243988e+05  2.035529e+05    20275.462   2.957431e+04        65170.982   \n1983  3.334537e+05  3.057589e+05    26269.035   3.952904e+04        73210.811   \n1984  4.410808e+05  4.071473e+05    31166.377   3.871165e+04        89288.325   \n1985  4.985783e+05  4.608472e+05    34865.781   4.984015e+04       144384.903   \n1986  6.287239e+05  5.817710e+05    44064.969   6.898620e+04       196188.834   \n1987  7.426556e+05  6.910977e+05    47521.715   6.464965e+04       192707.141   \n1988  8.148282e+05  7.544517e+05    55703.189   6.761058e+04       186116.133   \n1989  1.123925e+06  1.048617e+06    69967.406   1.085505e+05       193806.556   \n1990  1.164147e+06  1.087964e+06    69959.988   8.550142e+04       185882.819   \n1991  1.137509e+06  1.064395e+06    66850.626   1.171588e+05       254364.028   \n1992  1.090730e+06  1.017253e+06    67647.809   1.321120e+05       336575.724   \n1993  1.854017e+06  1.739590e+06    94962.858   2.051288e+05       299438.369   \n1994  1.794131e+06  1.710128e+06    76825.838   1.055642e+05       315795.953   \n1995  2.196213e+06  2.082875e+06   104712.486   1.591099e+05       364611.139   \n1996  2.594022e+06  2.468386e+06   116163.679   2.189292e+05       397384.235   \n1997  3.552339e+06  3.392502e+06   146848.886   3.744262e+05       511448.293   \n1998  5.531776e+06  5.250772e+06   258206.152   6.201915e+05       460574.457   \n1999  6.116472e+06  5.796696e+06   297307.631   7.829493e+05       563039.502   \n2000  8.800216e+06  8.328568e+06   439939.052   1.218901e+06       759439.939   \n2001  8.658743e+06  8.181125e+06   452506.063   1.073983e+06       748709.621   \n2002  8.574401e+06  8.126400e+06   428138.680   7.732833e+05       756620.599   \n2003  1.020420e+07  9.677706e+06   498795.914   1.077202e+06       955024.169   \n2004  1.306258e+07  1.236090e+07   664322.692   1.286215e+06      1125717.886   \n2005  1.619906e+07  1.543661e+07   691025.489   1.305207e+06       784551.122   \n2006  1.783142e+07  1.696300e+07   796219.358   1.571207e+06       591575.942   \n2007  2.188721e+07  2.094492e+07   814927.803   1.307666e+06       661665.003   \n2008  1.972536e+07  1.886589e+07   605570.368   5.189121e+05       218911.626   \n2009  1.831539e+07  1.721389e+07   940185.535   9.518142e+05       243401.460   \n2010  1.982790e+07  1.860252e+07  1061529.937   1.023601e+06       237028.389   \n2011  2.080501e+07  1.951228e+07  1127247.736   6.755196e+05       244524.448   \n2012  2.075861e+07  1.940244e+07  1179122.287   9.526651e+05       250049.000   \n\n      book_debt_bd  book_equity_bd  market_equity_bd  \nyear                                                  \n1960        30.700           0.000          0.000000  \n1961        39.984           0.000          0.000000  \n1962       536.342          59.895          0.000000  \n1963       561.682          23.477          0.000000  \n1964       649.862          23.733          0.000000  \n1965       620.037          24.344         82.826538  \n1966       796.532          80.678        119.232469  \n1967      1138.242         190.997        596.893982  \n1968       925.955         214.180        904.362257  \n1969      1167.846         249.415        657.512800  \n1970      1892.143         311.734        841.265658  \n1971      2087.808         395.443        892.293316  \n1972      3102.917         575.337       1061.336979  \n1973      3138.723         501.011        574.088356  \n1974      3617.601         644.328        628.851088  \n1975      5797.496         906.986        894.171179  \n1976      8723.904        1043.261       1327.962855  \n1977     10317.460        1074.167       1056.356390  \n1978      9433.091        1163.263       1113.262674  \n1979     13107.094        1525.606       2432.979216  \n1980     15258.053        2038.075       4229.657894  \n1981     21105.026        2041.645       2395.831201  \n1982     62532.500        2564.486       4475.445472  \n1983     69440.125        3382.721       6089.518786  \n1984     85398.899        3528.937       6021.424587  \n1985    139557.281        4459.096       8676.253559  \n1986    188990.917        6822.355       8743.644798  \n1987    184867.465        6262.332       6056.890351  \n1988    179380.982        5173.044       5753.124877  \n1989    188023.666        4014.280       4850.526280  \n1990    180832.866        3310.853       5267.029135  \n1991    246530.526        5821.852       4358.495236  \n1992    327075.678        7008.701       7075.524696  \n1993    288976.461        8183.039      10825.501649  \n1994    306128.759        8012.062       8808.168761  \n1995    354227.189        8825.460      11869.648361  \n1996    385931.622        9928.320      14933.215872  \n1997    493248.791       17955.696      19369.638908  \n1998    439003.171       21128.032      24388.735300  \n1999    537685.275       24853.292      50008.142112  \n2000    716467.972       39624.322      47788.545531  \n2001    715879.271       31875.447      21261.814519  \n2002    722397.017       33315.366      15857.510201  \n2003    907038.887       46843.971      22074.225336  \n2004   1072365.559       52347.343      26808.262675  \n2005    741233.303       42640.276      43637.074160  \n2006    555081.915       35949.342      57828.017630  \n2007    627317.937       30044.245      45222.696094  \n2008    194924.425       19317.389      17425.118419  \n2009    213523.883       24270.112      28081.722354  \n2010    208412.702       24105.824      31928.625701  \n2011    215400.163       22847.988      23604.352190  \n2012    222549.998       21898.017      24669.353850  ",
      "text/html": "<div>\n<style scoped>\n    .dataframe tbody tr th:only-of-type {\n        vertical-align: middle;\n    }\n\n    .dataframe tbody tr th {\n        vertical-align: top;\n    }\n\n    .dataframe thead th {\n        text-align: right;\n    }\n</style>\n<table border=\"1\" class=\"dataframe\">\n  <thead>\n    <tr style=\"text-align: right;\">\n      <th></th>\n      <th>total_assets</th>\n      <th>book_debt</th>\n      <th>book_equity</th>\n      <th>market_equity</th>\n      <th>total_assets_bd</th>\n      <th>book_debt_bd</th>\n      <th>book_equity_bd</th>\n      <th>market_equity_bd</th>\n    </tr>\n    <tr>\n      <th>year</th>\n      <th></th>\n      <th></th>\n      <th></th>\n      <th></th>\n      <th></th>\n      <th></th>\n      <th></th>\n      <th></th>\n    </tr>\n  </thead>\n  <tbody>\n    <tr>\n      <th>1960</th>\n      <td>8.835297e+03</td>\n      <td>4.505152e+03</td>\n      <td>746.347</td>\n      <td>0.000000e+00</td>\n      <td>64.700</td>\n      <td>30.700</td>\n      <td>0.000</td>\n      <td>0.000000</td>\n    </tr>\n    <tr>\n      <th>1961</th>\n      <td>9.856233e+03</td>\n      <td>5.006815e+03</td>\n      <td>771.122</td>\n      <td>8.476998e+02</td>\n      <td>75.200</td>\n      <td>39.984</td>\n      <td>0.000</td>\n      <td>0.000000</td>\n    </tr>\n    <tr>\n      <th>1962</th>\n      <td>1.039177e+04</td>\n      <td>5.191507e+03</td>\n      <td>811.380</td>\n      <td>1.936547e+03</td>\n      <td>596.288</td>\n      <td>536.342</td>\n      <td>59.895</td>\n      <td>0.000000</td>\n    </tr>\n    <tr>\n      <th>1963</th>\n      <td>1.135703e+04</td>\n      <td>9.798979e+03</td>\n      <td>1377.017</td>\n      <td>1.962843e+03</td>\n      <td>624.431</td>\n      <td>561.682</td>\n      <td>23.477</td>\n      <td>0.000000</td>\n    </tr>\n    <tr>\n      <th>1964</th>\n      <td>1.885544e+04</td>\n      <td>1.670331e+04</td>\n      <td>1818.247</td>\n      <td>2.841011e+03</td>\n      <td>716.440</td>\n      <td>649.862</td>\n      <td>23.733</td>\n      <td>0.000000</td>\n    </tr>\n    <tr>\n      <th>1965</th>\n      <td>2.057146e+04</td>\n      <td>1.826910e+04</td>\n      <td>1920.637</td>\n      <td>2.882466e+03</td>\n      <td>692.547</td>\n      <td>620.037</td>\n      <td>24.344</td>\n      <td>82.826538</td>\n    </tr>\n    <tr>\n      <th>1966</th>\n      <td>2.191825e+04</td>\n      <td>1.952541e+04</td>\n      <td>2033.901</td>\n      <td>2.583758e+03</td>\n      <td>877.911</td>\n      <td>796.532</td>\n      <td>80.678</td>\n      <td>119.232469</td>\n    </tr>\n    <tr>\n      <th>1967</th>\n      <td>2.458797e+04</td>\n      <td>2.208529e+04</td>\n      <td>2122.413</td>\n      <td>2.702707e+03</td>\n      <td>1331.803</td>\n      <td>1138.242</td>\n      <td>190.997</td>\n      <td>596.893982</td>\n    </tr>\n    <tr>\n      <th>1968</th>\n      <td>2.771266e+04</td>\n      <td>2.507688e+04</td>\n      <td>2225.453</td>\n      <td>3.620185e+03</td>\n      <td>1145.109</td>\n      <td>925.955</td>\n      <td>214.180</td>\n      <td>904.362257</td>\n    </tr>\n    <tr>\n      <th>1969</th>\n      <td>3.246661e+04</td>\n      <td>2.952803e+04</td>\n      <td>2469.511</td>\n      <td>3.213643e+03</td>\n      <td>1422.050</td>\n      <td>1167.846</td>\n      <td>249.415</td>\n      <td>657.512800</td>\n    </tr>\n    <tr>\n      <th>1970</th>\n      <td>3.834176e+04</td>\n      <td>3.496507e+04</td>\n      <td>2892.354</td>\n      <td>3.339911e+03</td>\n      <td>2208.451</td>\n      <td>1892.143</td>\n      <td>311.734</td>\n      <td>841.265658</td>\n    </tr>\n    <tr>\n      <th>1971</th>\n      <td>4.576397e+04</td>\n      <td>4.202574e+04</td>\n      <td>3229.665</td>\n      <td>4.482702e+03</td>\n      <td>2487.608</td>\n      <td>2087.808</td>\n      <td>395.443</td>\n      <td>892.293316</td>\n    </tr>\n    <tr>\n      <th>1972</th>\n      <td>5.593672e+04</td>\n      <td>5.196867e+04</td>\n      <td>3420.911</td>\n      <td>4.906063e+03</td>\n      <td>3689.163</td>\n      <td>3102.917</td>\n      <td>575.337</td>\n      <td>1061.336979</td>\n    </tr>\n    <tr>\n      <th>1973</th>\n      <td>7.021171e+04</td>\n      <td>6.586432e+04</td>\n      <td>3740.116</td>\n      <td>3.970551e+03</td>\n      <td>3657.981</td>\n      <td>3138.723</td>\n      <td>501.011</td>\n      <td>574.088356</td>\n    </tr>\n    <tr>\n      <th>1974</th>\n      <td>7.848777e+04</td>\n      <td>7.372397e+04</td>\n      <td>3996.323</td>\n      <td>2.592040e+03</td>\n      <td>4275.996</td>\n      <td>3617.601</td>\n      <td>644.328</td>\n      <td>628.851088</td>\n    </tr>\n    <tr>\n      <th>1975</th>\n      <td>8.210193e+04</td>\n      <td>7.748725e+04</td>\n      <td>4499.748</td>\n      <td>3.092486e+03</td>\n      <td>6707.453</td>\n      <td>5797.496</td>\n      <td>906.986</td>\n      <td>894.171179</td>\n    </tr>\n    <tr>\n      <th>1976</th>\n      <td>9.132380e+04</td>\n      <td>8.630369e+04</td>\n      <td>4900.147</td>\n      <td>4.679208e+03</td>\n      <td>9769.746</td>\n      <td>8723.904</td>\n      <td>1043.261</td>\n      <td>1327.962855</td>\n    </tr>\n    <tr>\n      <th>1977</th>\n      <td>1.079246e+05</td>\n      <td>1.023092e+05</td>\n      <td>5401.737</td>\n      <td>4.317002e+03</td>\n      <td>11395.891</td>\n      <td>10317.460</td>\n      <td>1074.167</td>\n      <td>1056.356390</td>\n    </tr>\n    <tr>\n      <th>1978</th>\n      <td>1.275664e+05</td>\n      <td>1.207351e+05</td>\n      <td>6644.098</td>\n      <td>4.471928e+03</td>\n      <td>10596.699</td>\n      <td>9433.091</td>\n      <td>1163.263</td>\n      <td>1113.262674</td>\n    </tr>\n    <tr>\n      <th>1979</th>\n      <td>1.669253e+05</td>\n      <td>1.518684e+05</td>\n      <td>14717.089</td>\n      <td>1.659735e+04</td>\n      <td>14634.381</td>\n      <td>13107.094</td>\n      <td>1525.606</td>\n      <td>2432.979216</td>\n    </tr>\n    <tr>\n      <th>1980</th>\n      <td>1.868499e+05</td>\n      <td>1.699945e+05</td>\n      <td>16478.633</td>\n      <td>2.036287e+04</td>\n      <td>17319.795</td>\n      <td>15258.053</td>\n      <td>2038.075</td>\n      <td>4229.657894</td>\n    </tr>\n    <tr>\n      <th>1981</th>\n      <td>2.098301e+05</td>\n      <td>1.909973e+05</td>\n      <td>18485.997</td>\n      <td>2.021323e+04</td>\n      <td>23175.286</td>\n      <td>21105.026</td>\n      <td>2041.645</td>\n      <td>2395.831201</td>\n    </tr>\n    <tr>\n      <th>1982</th>\n      <td>2.243988e+05</td>\n      <td>2.035529e+05</td>\n      <td>20275.462</td>\n      <td>2.957431e+04</td>\n      <td>65170.982</td>\n      <td>62532.500</td>\n      <td>2564.486</td>\n      <td>4475.445472</td>\n    </tr>\n    <tr>\n      <th>1983</th>\n      <td>3.334537e+05</td>\n      <td>3.057589e+05</td>\n      <td>26269.035</td>\n      <td>3.952904e+04</td>\n      <td>73210.811</td>\n      <td>69440.125</td>\n      <td>3382.721</td>\n      <td>6089.518786</td>\n    </tr>\n    <tr>\n      <th>1984</th>\n      <td>4.410808e+05</td>\n      <td>4.071473e+05</td>\n      <td>31166.377</td>\n      <td>3.871165e+04</td>\n      <td>89288.325</td>\n      <td>85398.899</td>\n      <td>3528.937</td>\n      <td>6021.424587</td>\n    </tr>\n    <tr>\n      <th>1985</th>\n      <td>4.985783e+05</td>\n      <td>4.608472e+05</td>\n      <td>34865.781</td>\n      <td>4.984015e+04</td>\n      <td>144384.903</td>\n      <td>139557.281</td>\n      <td>4459.096</td>\n      <td>8676.253559</td>\n    </tr>\n    <tr>\n      <th>1986</th>\n      <td>6.287239e+05</td>\n      <td>5.817710e+05</td>\n      <td>44064.969</td>\n      <td>6.898620e+04</td>\n      <td>196188.834</td>\n      <td>188990.917</td>\n      <td>6822.355</td>\n      <td>8743.644798</td>\n    </tr>\n    <tr>\n      <th>1987</th>\n      <td>7.426556e+05</td>\n      <td>6.910977e+05</td>\n      <td>47521.715</td>\n      <td>6.464965e+04</td>\n      <td>192707.141</td>\n      <td>184867.465</td>\n      <td>6262.332</td>\n      <td>6056.890351</td>\n    </tr>\n    <tr>\n      <th>1988</th>\n      <td>8.148282e+05</td>\n      <td>7.544517e+05</td>\n      <td>55703.189</td>\n      <td>6.761058e+04</td>\n      <td>186116.133</td>\n      <td>179380.982</td>\n      <td>5173.044</td>\n      <td>5753.124877</td>\n    </tr>\n    <tr>\n      <th>1989</th>\n      <td>1.123925e+06</td>\n      <td>1.048617e+06</td>\n      <td>69967.406</td>\n      <td>1.085505e+05</td>\n      <td>193806.556</td>\n      <td>188023.666</td>\n      <td>4014.280</td>\n      <td>4850.526280</td>\n    </tr>\n    <tr>\n      <th>1990</th>\n      <td>1.164147e+06</td>\n      <td>1.087964e+06</td>\n      <td>69959.988</td>\n      <td>8.550142e+04</td>\n      <td>185882.819</td>\n      <td>180832.866</td>\n      <td>3310.853</td>\n      <td>5267.029135</td>\n    </tr>\n    <tr>\n      <th>1991</th>\n      <td>1.137509e+06</td>\n      <td>1.064395e+06</td>\n      <td>66850.626</td>\n      <td>1.171588e+05</td>\n      <td>254364.028</td>\n      <td>246530.526</td>\n      <td>5821.852</td>\n      <td>4358.495236</td>\n    </tr>\n    <tr>\n      <th>1992</th>\n      <td>1.090730e+06</td>\n      <td>1.017253e+06</td>\n      <td>67647.809</td>\n      <td>1.321120e+05</td>\n      <td>336575.724</td>\n      <td>327075.678</td>\n      <td>7008.701</td>\n      <td>7075.524696</td>\n    </tr>\n    <tr>\n      <th>1993</th>\n      <td>1.854017e+06</td>\n      <td>1.739590e+06</td>\n      <td>94962.858</td>\n      <td>2.051288e+05</td>\n      <td>299438.369</td>\n      <td>288976.461</td>\n      <td>8183.039</td>\n      <td>10825.501649</td>\n    </tr>\n    <tr>\n      <th>1994</th>\n      <td>1.794131e+06</td>\n      <td>1.710128e+06</td>\n      <td>76825.838</td>\n      <td>1.055642e+05</td>\n      <td>315795.953</td>\n      <td>306128.759</td>\n      <td>8012.062</td>\n      <td>8808.168761</td>\n    </tr>\n    <tr>\n      <th>1995</th>\n      <td>2.196213e+06</td>\n      <td>2.082875e+06</td>\n      <td>104712.486</td>\n      <td>1.591099e+05</td>\n      <td>364611.139</td>\n      <td>354227.189</td>\n      <td>8825.460</td>\n      <td>11869.648361</td>\n    </tr>\n    <tr>\n      <th>1996</th>\n      <td>2.594022e+06</td>\n      <td>2.468386e+06</td>\n      <td>116163.679</td>\n      <td>2.189292e+05</td>\n      <td>397384.235</td>\n      <td>385931.622</td>\n      <td>9928.320</td>\n      <td>14933.215872</td>\n    </tr>\n    <tr>\n      <th>1997</th>\n      <td>3.552339e+06</td>\n      <td>3.392502e+06</td>\n      <td>146848.886</td>\n      <td>3.744262e+05</td>\n      <td>511448.293</td>\n      <td>493248.791</td>\n      <td>17955.696</td>\n      <td>19369.638908</td>\n    </tr>\n    <tr>\n      <th>1998</th>\n      <td>5.531776e+06</td>\n      <td>5.250772e+06</td>\n      <td>258206.152</td>\n      <td>6.201915e+05</td>\n      <td>460574.457</td>\n      <td>439003.171</td>\n      <td>21128.032</td>\n      <td>24388.735300</td>\n    </tr>\n    <tr>\n      <th>1999</th>\n      <td>6.116472e+06</td>\n      <td>5.796696e+06</td>\n      <td>297307.631</td>\n      <td>7.829493e+05</td>\n      <td>563039.502</td>\n      <td>537685.275</td>\n      <td>24853.292</td>\n      <td>50008.142112</td>\n    </tr>\n    <tr>\n      <th>2000</th>\n      <td>8.800216e+06</td>\n      <td>8.328568e+06</td>\n      <td>439939.052</td>\n      <td>1.218901e+06</td>\n      <td>759439.939</td>\n      <td>716467.972</td>\n      <td>39624.322</td>\n      <td>47788.545531</td>\n    </tr>\n    <tr>\n      <th>2001</th>\n      <td>8.658743e+06</td>\n      <td>8.181125e+06</td>\n      <td>452506.063</td>\n      <td>1.073983e+06</td>\n      <td>748709.621</td>\n      <td>715879.271</td>\n      <td>31875.447</td>\n      <td>21261.814519</td>\n    </tr>\n    <tr>\n      <th>2002</th>\n      <td>8.574401e+06</td>\n      <td>8.126400e+06</td>\n      <td>428138.680</td>\n      <td>7.732833e+05</td>\n      <td>756620.599</td>\n      <td>722397.017</td>\n      <td>33315.366</td>\n      <td>15857.510201</td>\n    </tr>\n    <tr>\n      <th>2003</th>\n      <td>1.020420e+07</td>\n      <td>9.677706e+06</td>\n      <td>498795.914</td>\n      <td>1.077202e+06</td>\n      <td>955024.169</td>\n      <td>907038.887</td>\n      <td>46843.971</td>\n      <td>22074.225336</td>\n    </tr>\n    <tr>\n      <th>2004</th>\n      <td>1.306258e+07</td>\n      <td>1.236090e+07</td>\n      <td>664322.692</td>\n      <td>1.286215e+06</td>\n      <td>1125717.886</td>\n      <td>1072365.559</td>\n      <td>52347.343</td>\n      <td>26808.262675</td>\n    </tr>\n    <tr>\n      <th>2005</th>\n      <td>1.619906e+07</td>\n      <td>1.543661e+07</td>\n      <td>691025.489</td>\n      <td>1.305207e+06</td>\n      <td>784551.122</td>\n      <td>741233.303</td>\n      <td>42640.276</td>\n      <td>43637.074160</td>\n    </tr>\n    <tr>\n      <th>2006</th>\n      <td>1.783142e+07</td>\n      <td>1.696300e+07</td>\n      <td>796219.358</td>\n      <td>1.571207e+06</td>\n      <td>591575.942</td>\n      <td>555081.915</td>\n      <td>35949.342</td>\n      <td>57828.017630</td>\n    </tr>\n    <tr>\n      <th>2007</th>\n      <td>2.188721e+07</td>\n      <td>2.094492e+07</td>\n      <td>814927.803</td>\n      <td>1.307666e+06</td>\n      <td>661665.003</td>\n      <td>627317.937</td>\n      <td>30044.245</td>\n      <td>45222.696094</td>\n    </tr>\n    <tr>\n      <th>2008</th>\n      <td>1.972536e+07</td>\n      <td>1.886589e+07</td>\n      <td>605570.368</td>\n      <td>5.189121e+05</td>\n      <td>218911.626</td>\n      <td>194924.425</td>\n      <td>19317.389</td>\n      <td>17425.118419</td>\n    </tr>\n    <tr>\n      <th>2009</th>\n      <td>1.831539e+07</td>\n      <td>1.721389e+07</td>\n      <td>940185.535</td>\n      <td>9.518142e+05</td>\n      <td>243401.460</td>\n      <td>213523.883</td>\n      <td>24270.112</td>\n      <td>28081.722354</td>\n    </tr>\n    <tr>\n      <th>2010</th>\n      <td>1.982790e+07</td>\n      <td>1.860252e+07</td>\n      <td>1061529.937</td>\n      <td>1.023601e+06</td>\n      <td>237028.389</td>\n      <td>208412.702</td>\n      <td>24105.824</td>\n      <td>31928.625701</td>\n    </tr>\n    <tr>\n      <th>2011</th>\n      <td>2.080501e+07</td>\n      <td>1.951228e+07</td>\n      <td>1127247.736</td>\n      <td>6.755196e+05</td>\n      <td>244524.448</td>\n      <td>215400.163</td>\n      <td>22847.988</td>\n      <td>23604.352190</td>\n    </tr>\n    <tr>\n      <th>2012</th>\n      <td>2.075861e+07</td>\n      <td>1.940244e+07</td>\n      <td>1179122.287</td>\n      <td>9.526651e+05</td>\n      <td>250049.000</td>\n      <td>222549.998</td>\n      <td>21898.017</td>\n      <td>24669.353850</td>\n    </tr>\n  </tbody>\n</table>\n</div>"
     },
     "execution_count": 108,
     "metadata": {},
     "output_type": "execute_result"
    }
   ],
   "source": [
    "merged_pd_bd = pd.merge(yearly_sum_pd, yearly_sum_bd, left_on='datadate', right_on='datadate')\n",
    "merged_pd_bd.index = pd.to_datetime(merged_pd_bd['datadate'])\n",
    "merged_pd_bd['year'] = pd.to_datetime(merged_pd_bd['datadate']).dt.year\n",
    "merged_pd_bd = merged_pd_bd.groupby('year').agg({\n",
    "    'total_assets': 'sum',\n",
    "    'book_debt': 'sum',\n",
    "    'book_equity': 'sum',\n",
    "    'market_equity': 'sum',\n",
    "    'total_assets_bd': 'sum',\n",
    "    'book_debt_bd': 'sum',\n",
    "    'book_equity_bd': 'sum',\n",
    "    'market_equity_bd': 'sum'\n",
    "})\n",
    "merged_pd_bd"
   ],
   "metadata": {
    "collapsed": false,
    "ExecuteTime": {
     "end_time": "2024-02-19T20:02:53.990915600Z",
     "start_time": "2024-02-19T20:02:53.935285600Z"
    }
   },
   "id": "c054719633e8cbc5"
  },
  {
   "cell_type": "code",
   "execution_count": 110,
   "outputs": [
    {
     "data": {
      "text/plain": "tot_assets_rat       0.909538\nbook_debt_rat        0.908265\nbook_equity_rat      0.919713\nmarket_equity_rat    0.912978\ndtype: float64"
     },
     "execution_count": 110,
     "metadata": {},
     "output_type": "execute_result"
    }
   ],
   "source": [
    "merged_pd_bd['tot_assets_rat'] = merged_pd_bd['total_assets']/(merged_pd_bd['total_assets_bd']+merged_pd_bd['total_assets'])\n",
    "merged_pd_bd['book_debt_rat'] = merged_pd_bd['book_debt']/(merged_pd_bd['book_debt_bd']+merged_pd_bd['book_debt'])\n",
    "merged_pd_bd['book_equity_rat'] = merged_pd_bd['book_equity']/(merged_pd_bd['book_equity_bd']+merged_pd_bd['book_equity'])\n",
    "merged_pd_bd['market_equity_rat'] = merged_pd_bd['market_equity']/(merged_pd_bd['market_equity_bd']+merged_pd_bd['market_equity'])\n",
    "merged_pd_bd[['tot_assets_rat', 'book_debt_rat', 'book_equity_rat','market_equity_rat']].mean()"
   ],
   "metadata": {
    "collapsed": false,
    "ExecuteTime": {
     "end_time": "2024-02-19T20:04:19.637544800Z",
     "start_time": "2024-02-19T20:04:19.615617800Z"
    }
   },
   "id": "72024c12a0973d40"
  },
  {
   "cell_type": "markdown",
   "source": [
    "Get data from banks\n",
    "6011 - Federal Reserve Banks\n",
    "6021 - National Commercial Banks\n",
    "6022 - State Commercial Banks\n",
    "6029 - Commercial Banks, nec (not elsewhere classified)\n",
    "6081 - Foreign Bank and Branches and Agencies\n",
    "6082 - Foreign Trade and International Banking Institutions"
   ],
   "metadata": {
    "collapsed": false
   },
   "id": "e0e394da8edbd163"
  },
  {
   "cell_type": "code",
   "execution_count": 153,
   "outputs": [
    {
     "data": {
      "text/plain": "        gvkey                          conm    tic     sic LINKPRIM LIID  \\\n197      1178    AFFILIATED BANKSHARES COLO  AFBK.  6020.0        C  00X   \n198      1178    AFFILIATED BANKSHARES COLO  AFBK.  6020.0        P   01   \n309      1290      ALLIED BANCSHARES INC-TX   ALBN  6020.0        P   01   \n310      1290      ALLIED BANCSHARES INC-TX   ALBN  6020.0        C  00X   \n485      1458        AMERICAN FLETCHER CORP   AFLT  6020.0        C   01   \n...       ...                           ...    ...     ...      ...  ...   \n31673  260758    ATLANTIC SOUTHERN FINL GRP   ASFN  6020.0        C   01   \n31703  264418    1ST CENTURY BANCSHARES INC   FCTY  6020.0        P   01   \n31721  266160    CITIZENS COMMUNITY BANCORP   CZWI  6020.0        P   01   \n31807  285313  BANCO SANTANDER BRASIL  -ADR   BSBR  6020.0        P   90   \n31808  285333  INTERCORP FINANCIAL SVCS INC    IFS  6020.0        P   02   \n\n      LINKTYPE  LPERMNO  LPERMCO      LINKDT   LINKENDDT  \n197         LU    11173       94    1/1/1974   1/30/1974  \n198         LU    11173       94   1/31/1974  11/30/1992  \n309         LC    11870      151   1/31/1974   1/29/1988  \n310         LC    11870      151    1/1/1974   1/30/1974  \n485         LU    12969      106  12/14/1972   1/23/1987  \n...        ...      ...      ...         ...         ...  \n31673       LC    91955    52130   4/16/2007   1/28/2011  \n31703       LC    92870    53112  12/18/2008   6/30/2016  \n31721       LC    91609    51445   11/1/2006           E  \n31807       LC    93054    53230   10/7/2009           E  \n31808       LC    18828    56820   7/19/2019           E  \n\n[1414 rows x 11 columns]",
      "text/html": "<div>\n<style scoped>\n    .dataframe tbody tr th:only-of-type {\n        vertical-align: middle;\n    }\n\n    .dataframe tbody tr th {\n        vertical-align: top;\n    }\n\n    .dataframe thead th {\n        text-align: right;\n    }\n</style>\n<table border=\"1\" class=\"dataframe\">\n  <thead>\n    <tr style=\"text-align: right;\">\n      <th></th>\n      <th>gvkey</th>\n      <th>conm</th>\n      <th>tic</th>\n      <th>sic</th>\n      <th>LINKPRIM</th>\n      <th>LIID</th>\n      <th>LINKTYPE</th>\n      <th>LPERMNO</th>\n      <th>LPERMCO</th>\n      <th>LINKDT</th>\n      <th>LINKENDDT</th>\n    </tr>\n  </thead>\n  <tbody>\n    <tr>\n      <th>197</th>\n      <td>1178</td>\n      <td>AFFILIATED BANKSHARES COLO</td>\n      <td>AFBK.</td>\n      <td>6020.0</td>\n      <td>C</td>\n      <td>00X</td>\n      <td>LU</td>\n      <td>11173</td>\n      <td>94</td>\n      <td>1/1/1974</td>\n      <td>1/30/1974</td>\n    </tr>\n    <tr>\n      <th>198</th>\n      <td>1178</td>\n      <td>AFFILIATED BANKSHARES COLO</td>\n      <td>AFBK.</td>\n      <td>6020.0</td>\n      <td>P</td>\n      <td>01</td>\n      <td>LU</td>\n      <td>11173</td>\n      <td>94</td>\n      <td>1/31/1974</td>\n      <td>11/30/1992</td>\n    </tr>\n    <tr>\n      <th>309</th>\n      <td>1290</td>\n      <td>ALLIED BANCSHARES INC-TX</td>\n      <td>ALBN</td>\n      <td>6020.0</td>\n      <td>P</td>\n      <td>01</td>\n      <td>LC</td>\n      <td>11870</td>\n      <td>151</td>\n      <td>1/31/1974</td>\n      <td>1/29/1988</td>\n    </tr>\n    <tr>\n      <th>310</th>\n      <td>1290</td>\n      <td>ALLIED BANCSHARES INC-TX</td>\n      <td>ALBN</td>\n      <td>6020.0</td>\n      <td>C</td>\n      <td>00X</td>\n      <td>LC</td>\n      <td>11870</td>\n      <td>151</td>\n      <td>1/1/1974</td>\n      <td>1/30/1974</td>\n    </tr>\n    <tr>\n      <th>485</th>\n      <td>1458</td>\n      <td>AMERICAN FLETCHER CORP</td>\n      <td>AFLT</td>\n      <td>6020.0</td>\n      <td>C</td>\n      <td>01</td>\n      <td>LU</td>\n      <td>12969</td>\n      <td>106</td>\n      <td>12/14/1972</td>\n      <td>1/23/1987</td>\n    </tr>\n    <tr>\n      <th>...</th>\n      <td>...</td>\n      <td>...</td>\n      <td>...</td>\n      <td>...</td>\n      <td>...</td>\n      <td>...</td>\n      <td>...</td>\n      <td>...</td>\n      <td>...</td>\n      <td>...</td>\n      <td>...</td>\n    </tr>\n    <tr>\n      <th>31673</th>\n      <td>260758</td>\n      <td>ATLANTIC SOUTHERN FINL GRP</td>\n      <td>ASFN</td>\n      <td>6020.0</td>\n      <td>C</td>\n      <td>01</td>\n      <td>LC</td>\n      <td>91955</td>\n      <td>52130</td>\n      <td>4/16/2007</td>\n      <td>1/28/2011</td>\n    </tr>\n    <tr>\n      <th>31703</th>\n      <td>264418</td>\n      <td>1ST CENTURY BANCSHARES INC</td>\n      <td>FCTY</td>\n      <td>6020.0</td>\n      <td>P</td>\n      <td>01</td>\n      <td>LC</td>\n      <td>92870</td>\n      <td>53112</td>\n      <td>12/18/2008</td>\n      <td>6/30/2016</td>\n    </tr>\n    <tr>\n      <th>31721</th>\n      <td>266160</td>\n      <td>CITIZENS COMMUNITY BANCORP</td>\n      <td>CZWI</td>\n      <td>6020.0</td>\n      <td>P</td>\n      <td>01</td>\n      <td>LC</td>\n      <td>91609</td>\n      <td>51445</td>\n      <td>11/1/2006</td>\n      <td>E</td>\n    </tr>\n    <tr>\n      <th>31807</th>\n      <td>285313</td>\n      <td>BANCO SANTANDER BRASIL  -ADR</td>\n      <td>BSBR</td>\n      <td>6020.0</td>\n      <td>P</td>\n      <td>90</td>\n      <td>LC</td>\n      <td>93054</td>\n      <td>53230</td>\n      <td>10/7/2009</td>\n      <td>E</td>\n    </tr>\n    <tr>\n      <th>31808</th>\n      <td>285333</td>\n      <td>INTERCORP FINANCIAL SVCS INC</td>\n      <td>IFS</td>\n      <td>6020.0</td>\n      <td>P</td>\n      <td>02</td>\n      <td>LC</td>\n      <td>18828</td>\n      <td>56820</td>\n      <td>7/19/2019</td>\n      <td>E</td>\n    </tr>\n  </tbody>\n</table>\n<p>1414 rows × 11 columns</p>\n</div>"
     },
     "execution_count": 153,
     "metadata": {},
     "output_type": "execute_result"
    }
   ],
   "source": [
    "bank_sic = [6011,6021,6022,6029,6081,6082,6020] # these are not all the codes, in the process of looking these up\n",
    "linked_banks = linktable[(linktable['sic'].isin(bank_sic)) & (~linktable['gvkey'].isin(ticks['gvkey'].tolist()))]\n",
    "linked_banks.drop_duplicates()"
   ],
   "metadata": {
    "collapsed": false,
    "ExecuteTime": {
     "end_time": "2024-02-19T21:44:47.027176Z",
     "start_time": "2024-02-19T21:44:46.963836800Z"
    }
   },
   "id": "c51dd4bb927660ec"
  },
  {
   "cell_type": "code",
   "execution_count": 144,
   "outputs": [],
   "source": [
    "def get_comparison_group_data(linktable_df, start_date, end_date):\n",
    "    empty_tickers = []\n",
    "    comparison_group_df = pd.DataFrame()\n",
    "    for index, row in linktable_df.iterrows():\n",
    "        gvkey = row['gvkey']   \n",
    "        new_data = fetch_financial_data(gvkey, start_date, end_date)\n",
    "        if isinstance(new_data, tuple):\n",
    "            empty_tickers.append({row['conm']:gvkey})\n",
    "        else:\n",
    "            comparison_group_df = pd.concat([new_data, comparison_group_df], axis=0)\n",
    "    print('Empty Tickers: %s' % empty_tickers)\n",
    "    return comparison_group_df"
   ],
   "metadata": {
    "collapsed": false,
    "ExecuteTime": {
     "end_time": "2024-02-19T20:46:44.112321300Z",
     "start_time": "2024-02-19T20:46:44.073335900Z"
    }
   },
   "id": "e6e93b56f0024754"
  },
  {
   "cell_type": "code",
   "execution_count": 145,
   "outputs": [
    {
     "name": "stderr",
     "output_type": "stream",
     "text": [
      "C:\\Users\\jsime\\AppData\\Local\\Temp\\ipykernel_19320\\2771333044.py:10: FutureWarning: The behavior of DataFrame concatenation with empty or all-NA entries is deprecated. In a future version, this will no longer exclude empty or all-NA columns when determining the result dtypes. To retain the old behavior, exclude the relevant entries before the concat operation.\n",
      "  comparison_group_df = pd.concat([new_data, comparison_group_df], axis=0)\n",
      "C:\\Users\\jsime\\AppData\\Local\\Temp\\ipykernel_19320\\2771333044.py:10: FutureWarning: The behavior of DataFrame concatenation with empty or all-NA entries is deprecated. In a future version, this will no longer exclude empty or all-NA columns when determining the result dtypes. To retain the old behavior, exclude the relevant entries before the concat operation.\n",
      "  comparison_group_df = pd.concat([new_data, comparison_group_df], axis=0)\n",
      "C:\\Users\\jsime\\AppData\\Local\\Temp\\ipykernel_19320\\2771333044.py:10: FutureWarning: The behavior of DataFrame concatenation with empty or all-NA entries is deprecated. In a future version, this will no longer exclude empty or all-NA columns when determining the result dtypes. To retain the old behavior, exclude the relevant entries before the concat operation.\n",
      "  comparison_group_df = pd.concat([new_data, comparison_group_df], axis=0)\n",
      "C:\\Users\\jsime\\AppData\\Local\\Temp\\ipykernel_19320\\2771333044.py:10: FutureWarning: The behavior of DataFrame concatenation with empty or all-NA entries is deprecated. In a future version, this will no longer exclude empty or all-NA columns when determining the result dtypes. To retain the old behavior, exclude the relevant entries before the concat operation.\n",
      "  comparison_group_df = pd.concat([new_data, comparison_group_df], axis=0)\n",
      "C:\\Users\\jsime\\AppData\\Local\\Temp\\ipykernel_19320\\2771333044.py:10: FutureWarning: The behavior of DataFrame concatenation with empty or all-NA entries is deprecated. In a future version, this will no longer exclude empty or all-NA columns when determining the result dtypes. To retain the old behavior, exclude the relevant entries before the concat operation.\n",
      "  comparison_group_df = pd.concat([new_data, comparison_group_df], axis=0)\n",
      "C:\\Users\\jsime\\AppData\\Local\\Temp\\ipykernel_19320\\2771333044.py:10: FutureWarning: The behavior of DataFrame concatenation with empty or all-NA entries is deprecated. In a future version, this will no longer exclude empty or all-NA columns when determining the result dtypes. To retain the old behavior, exclude the relevant entries before the concat operation.\n",
      "  comparison_group_df = pd.concat([new_data, comparison_group_df], axis=0)\n",
      "C:\\Users\\jsime\\AppData\\Local\\Temp\\ipykernel_19320\\2771333044.py:10: FutureWarning: The behavior of DataFrame concatenation with empty or all-NA entries is deprecated. In a future version, this will no longer exclude empty or all-NA columns when determining the result dtypes. To retain the old behavior, exclude the relevant entries before the concat operation.\n",
      "  comparison_group_df = pd.concat([new_data, comparison_group_df], axis=0)\n",
      "C:\\Users\\jsime\\AppData\\Local\\Temp\\ipykernel_19320\\2771333044.py:10: FutureWarning: The behavior of DataFrame concatenation with empty or all-NA entries is deprecated. In a future version, this will no longer exclude empty or all-NA columns when determining the result dtypes. To retain the old behavior, exclude the relevant entries before the concat operation.\n",
      "  comparison_group_df = pd.concat([new_data, comparison_group_df], axis=0)\n",
      "C:\\Users\\jsime\\AppData\\Local\\Temp\\ipykernel_19320\\2771333044.py:10: FutureWarning: The behavior of DataFrame concatenation with empty or all-NA entries is deprecated. In a future version, this will no longer exclude empty or all-NA columns when determining the result dtypes. To retain the old behavior, exclude the relevant entries before the concat operation.\n",
      "  comparison_group_df = pd.concat([new_data, comparison_group_df], axis=0)\n",
      "C:\\Users\\jsime\\AppData\\Local\\Temp\\ipykernel_19320\\2771333044.py:10: FutureWarning: The behavior of DataFrame concatenation with empty or all-NA entries is deprecated. In a future version, this will no longer exclude empty or all-NA columns when determining the result dtypes. To retain the old behavior, exclude the relevant entries before the concat operation.\n",
      "  comparison_group_df = pd.concat([new_data, comparison_group_df], axis=0)\n",
      "C:\\Users\\jsime\\AppData\\Local\\Temp\\ipykernel_19320\\2771333044.py:10: FutureWarning: The behavior of DataFrame concatenation with empty or all-NA entries is deprecated. In a future version, this will no longer exclude empty or all-NA columns when determining the result dtypes. To retain the old behavior, exclude the relevant entries before the concat operation.\n",
      "  comparison_group_df = pd.concat([new_data, comparison_group_df], axis=0)\n",
      "C:\\Users\\jsime\\AppData\\Local\\Temp\\ipykernel_19320\\2771333044.py:10: FutureWarning: The behavior of DataFrame concatenation with empty or all-NA entries is deprecated. In a future version, this will no longer exclude empty or all-NA columns when determining the result dtypes. To retain the old behavior, exclude the relevant entries before the concat operation.\n",
      "  comparison_group_df = pd.concat([new_data, comparison_group_df], axis=0)\n",
      "C:\\Users\\jsime\\AppData\\Local\\Temp\\ipykernel_19320\\2771333044.py:10: FutureWarning: The behavior of DataFrame concatenation with empty or all-NA entries is deprecated. In a future version, this will no longer exclude empty or all-NA columns when determining the result dtypes. To retain the old behavior, exclude the relevant entries before the concat operation.\n",
      "  comparison_group_df = pd.concat([new_data, comparison_group_df], axis=0)\n",
      "C:\\Users\\jsime\\AppData\\Local\\Temp\\ipykernel_19320\\2771333044.py:10: FutureWarning: The behavior of DataFrame concatenation with empty or all-NA entries is deprecated. In a future version, this will no longer exclude empty or all-NA columns when determining the result dtypes. To retain the old behavior, exclude the relevant entries before the concat operation.\n",
      "  comparison_group_df = pd.concat([new_data, comparison_group_df], axis=0)\n",
      "C:\\Users\\jsime\\AppData\\Local\\Temp\\ipykernel_19320\\2771333044.py:10: FutureWarning: The behavior of DataFrame concatenation with empty or all-NA entries is deprecated. In a future version, this will no longer exclude empty or all-NA columns when determining the result dtypes. To retain the old behavior, exclude the relevant entries before the concat operation.\n",
      "  comparison_group_df = pd.concat([new_data, comparison_group_df], axis=0)\n",
      "C:\\Users\\jsime\\AppData\\Local\\Temp\\ipykernel_19320\\2771333044.py:10: FutureWarning: The behavior of DataFrame concatenation with empty or all-NA entries is deprecated. In a future version, this will no longer exclude empty or all-NA columns when determining the result dtypes. To retain the old behavior, exclude the relevant entries before the concat operation.\n",
      "  comparison_group_df = pd.concat([new_data, comparison_group_df], axis=0)\n",
      "C:\\Users\\jsime\\AppData\\Local\\Temp\\ipykernel_19320\\2771333044.py:10: FutureWarning: The behavior of DataFrame concatenation with empty or all-NA entries is deprecated. In a future version, this will no longer exclude empty or all-NA columns when determining the result dtypes. To retain the old behavior, exclude the relevant entries before the concat operation.\n",
      "  comparison_group_df = pd.concat([new_data, comparison_group_df], axis=0)\n",
      "C:\\Users\\jsime\\AppData\\Local\\Temp\\ipykernel_19320\\2771333044.py:10: FutureWarning: The behavior of DataFrame concatenation with empty or all-NA entries is deprecated. In a future version, this will no longer exclude empty or all-NA columns when determining the result dtypes. To retain the old behavior, exclude the relevant entries before the concat operation.\n",
      "  comparison_group_df = pd.concat([new_data, comparison_group_df], axis=0)\n",
      "C:\\Users\\jsime\\AppData\\Local\\Temp\\ipykernel_19320\\2771333044.py:10: FutureWarning: The behavior of DataFrame concatenation with empty or all-NA entries is deprecated. In a future version, this will no longer exclude empty or all-NA columns when determining the result dtypes. To retain the old behavior, exclude the relevant entries before the concat operation.\n",
      "  comparison_group_df = pd.concat([new_data, comparison_group_df], axis=0)\n",
      "C:\\Users\\jsime\\AppData\\Local\\Temp\\ipykernel_19320\\2771333044.py:10: FutureWarning: The behavior of DataFrame concatenation with empty or all-NA entries is deprecated. In a future version, this will no longer exclude empty or all-NA columns when determining the result dtypes. To retain the old behavior, exclude the relevant entries before the concat operation.\n",
      "  comparison_group_df = pd.concat([new_data, comparison_group_df], axis=0)\n",
      "C:\\Users\\jsime\\AppData\\Local\\Temp\\ipykernel_19320\\2771333044.py:10: FutureWarning: The behavior of DataFrame concatenation with empty or all-NA entries is deprecated. In a future version, this will no longer exclude empty or all-NA columns when determining the result dtypes. To retain the old behavior, exclude the relevant entries before the concat operation.\n",
      "  comparison_group_df = pd.concat([new_data, comparison_group_df], axis=0)\n",
      "C:\\Users\\jsime\\AppData\\Local\\Temp\\ipykernel_19320\\2771333044.py:10: FutureWarning: The behavior of DataFrame concatenation with empty or all-NA entries is deprecated. In a future version, this will no longer exclude empty or all-NA columns when determining the result dtypes. To retain the old behavior, exclude the relevant entries before the concat operation.\n",
      "  comparison_group_df = pd.concat([new_data, comparison_group_df], axis=0)\n",
      "C:\\Users\\jsime\\AppData\\Local\\Temp\\ipykernel_19320\\2771333044.py:10: FutureWarning: The behavior of DataFrame concatenation with empty or all-NA entries is deprecated. In a future version, this will no longer exclude empty or all-NA columns when determining the result dtypes. To retain the old behavior, exclude the relevant entries before the concat operation.\n",
      "  comparison_group_df = pd.concat([new_data, comparison_group_df], axis=0)\n",
      "C:\\Users\\jsime\\AppData\\Local\\Temp\\ipykernel_19320\\2771333044.py:10: FutureWarning: The behavior of DataFrame concatenation with empty or all-NA entries is deprecated. In a future version, this will no longer exclude empty or all-NA columns when determining the result dtypes. To retain the old behavior, exclude the relevant entries before the concat operation.\n",
      "  comparison_group_df = pd.concat([new_data, comparison_group_df], axis=0)\n",
      "C:\\Users\\jsime\\AppData\\Local\\Temp\\ipykernel_19320\\2771333044.py:10: FutureWarning: The behavior of DataFrame concatenation with empty or all-NA entries is deprecated. In a future version, this will no longer exclude empty or all-NA columns when determining the result dtypes. To retain the old behavior, exclude the relevant entries before the concat operation.\n",
      "  comparison_group_df = pd.concat([new_data, comparison_group_df], axis=0)\n",
      "C:\\Users\\jsime\\AppData\\Local\\Temp\\ipykernel_19320\\2771333044.py:10: FutureWarning: The behavior of DataFrame concatenation with empty or all-NA entries is deprecated. In a future version, this will no longer exclude empty or all-NA columns when determining the result dtypes. To retain the old behavior, exclude the relevant entries before the concat operation.\n",
      "  comparison_group_df = pd.concat([new_data, comparison_group_df], axis=0)\n",
      "C:\\Users\\jsime\\AppData\\Local\\Temp\\ipykernel_19320\\2771333044.py:10: FutureWarning: The behavior of DataFrame concatenation with empty or all-NA entries is deprecated. In a future version, this will no longer exclude empty or all-NA columns when determining the result dtypes. To retain the old behavior, exclude the relevant entries before the concat operation.\n",
      "  comparison_group_df = pd.concat([new_data, comparison_group_df], axis=0)\n",
      "C:\\Users\\jsime\\AppData\\Local\\Temp\\ipykernel_19320\\2771333044.py:10: FutureWarning: The behavior of DataFrame concatenation with empty or all-NA entries is deprecated. In a future version, this will no longer exclude empty or all-NA columns when determining the result dtypes. To retain the old behavior, exclude the relevant entries before the concat operation.\n",
      "  comparison_group_df = pd.concat([new_data, comparison_group_df], axis=0)\n",
      "C:\\Users\\jsime\\AppData\\Local\\Temp\\ipykernel_19320\\2771333044.py:10: FutureWarning: The behavior of DataFrame concatenation with empty or all-NA entries is deprecated. In a future version, this will no longer exclude empty or all-NA columns when determining the result dtypes. To retain the old behavior, exclude the relevant entries before the concat operation.\n",
      "  comparison_group_df = pd.concat([new_data, comparison_group_df], axis=0)\n",
      "C:\\Users\\jsime\\AppData\\Local\\Temp\\ipykernel_19320\\2771333044.py:10: FutureWarning: The behavior of DataFrame concatenation with empty or all-NA entries is deprecated. In a future version, this will no longer exclude empty or all-NA columns when determining the result dtypes. To retain the old behavior, exclude the relevant entries before the concat operation.\n",
      "  comparison_group_df = pd.concat([new_data, comparison_group_df], axis=0)\n",
      "C:\\Users\\jsime\\AppData\\Local\\Temp\\ipykernel_19320\\2771333044.py:10: FutureWarning: The behavior of DataFrame concatenation with empty or all-NA entries is deprecated. In a future version, this will no longer exclude empty or all-NA columns when determining the result dtypes. To retain the old behavior, exclude the relevant entries before the concat operation.\n",
      "  comparison_group_df = pd.concat([new_data, comparison_group_df], axis=0)\n",
      "C:\\Users\\jsime\\AppData\\Local\\Temp\\ipykernel_19320\\2771333044.py:10: FutureWarning: The behavior of DataFrame concatenation with empty or all-NA entries is deprecated. In a future version, this will no longer exclude empty or all-NA columns when determining the result dtypes. To retain the old behavior, exclude the relevant entries before the concat operation.\n",
      "  comparison_group_df = pd.concat([new_data, comparison_group_df], axis=0)\n",
      "C:\\Users\\jsime\\AppData\\Local\\Temp\\ipykernel_19320\\2771333044.py:10: FutureWarning: The behavior of DataFrame concatenation with empty or all-NA entries is deprecated. In a future version, this will no longer exclude empty or all-NA columns when determining the result dtypes. To retain the old behavior, exclude the relevant entries before the concat operation.\n",
      "  comparison_group_df = pd.concat([new_data, comparison_group_df], axis=0)\n",
      "C:\\Users\\jsime\\AppData\\Local\\Temp\\ipykernel_19320\\2771333044.py:10: FutureWarning: The behavior of DataFrame concatenation with empty or all-NA entries is deprecated. In a future version, this will no longer exclude empty or all-NA columns when determining the result dtypes. To retain the old behavior, exclude the relevant entries before the concat operation.\n",
      "  comparison_group_df = pd.concat([new_data, comparison_group_df], axis=0)\n",
      "C:\\Users\\jsime\\AppData\\Local\\Temp\\ipykernel_19320\\2771333044.py:10: FutureWarning: The behavior of DataFrame concatenation with empty or all-NA entries is deprecated. In a future version, this will no longer exclude empty or all-NA columns when determining the result dtypes. To retain the old behavior, exclude the relevant entries before the concat operation.\n",
      "  comparison_group_df = pd.concat([new_data, comparison_group_df], axis=0)\n",
      "C:\\Users\\jsime\\AppData\\Local\\Temp\\ipykernel_19320\\2771333044.py:10: FutureWarning: The behavior of DataFrame concatenation with empty or all-NA entries is deprecated. In a future version, this will no longer exclude empty or all-NA columns when determining the result dtypes. To retain the old behavior, exclude the relevant entries before the concat operation.\n",
      "  comparison_group_df = pd.concat([new_data, comparison_group_df], axis=0)\n",
      "C:\\Users\\jsime\\AppData\\Local\\Temp\\ipykernel_19320\\2771333044.py:10: FutureWarning: The behavior of DataFrame concatenation with empty or all-NA entries is deprecated. In a future version, this will no longer exclude empty or all-NA columns when determining the result dtypes. To retain the old behavior, exclude the relevant entries before the concat operation.\n",
      "  comparison_group_df = pd.concat([new_data, comparison_group_df], axis=0)\n",
      "C:\\Users\\jsime\\AppData\\Local\\Temp\\ipykernel_19320\\2771333044.py:10: FutureWarning: The behavior of DataFrame concatenation with empty or all-NA entries is deprecated. In a future version, this will no longer exclude empty or all-NA columns when determining the result dtypes. To retain the old behavior, exclude the relevant entries before the concat operation.\n",
      "  comparison_group_df = pd.concat([new_data, comparison_group_df], axis=0)\n",
      "C:\\Users\\jsime\\AppData\\Local\\Temp\\ipykernel_19320\\2771333044.py:10: FutureWarning: The behavior of DataFrame concatenation with empty or all-NA entries is deprecated. In a future version, this will no longer exclude empty or all-NA columns when determining the result dtypes. To retain the old behavior, exclude the relevant entries before the concat operation.\n",
      "  comparison_group_df = pd.concat([new_data, comparison_group_df], axis=0)\n",
      "C:\\Users\\jsime\\AppData\\Local\\Temp\\ipykernel_19320\\2771333044.py:10: FutureWarning: The behavior of DataFrame concatenation with empty or all-NA entries is deprecated. In a future version, this will no longer exclude empty or all-NA columns when determining the result dtypes. To retain the old behavior, exclude the relevant entries before the concat operation.\n",
      "  comparison_group_df = pd.concat([new_data, comparison_group_df], axis=0)\n",
      "C:\\Users\\jsime\\AppData\\Local\\Temp\\ipykernel_19320\\2771333044.py:10: FutureWarning: The behavior of DataFrame concatenation with empty or all-NA entries is deprecated. In a future version, this will no longer exclude empty or all-NA columns when determining the result dtypes. To retain the old behavior, exclude the relevant entries before the concat operation.\n",
      "  comparison_group_df = pd.concat([new_data, comparison_group_df], axis=0)\n",
      "C:\\Users\\jsime\\AppData\\Local\\Temp\\ipykernel_19320\\2771333044.py:10: FutureWarning: The behavior of DataFrame concatenation with empty or all-NA entries is deprecated. In a future version, this will no longer exclude empty or all-NA columns when determining the result dtypes. To retain the old behavior, exclude the relevant entries before the concat operation.\n",
      "  comparison_group_df = pd.concat([new_data, comparison_group_df], axis=0)\n",
      "C:\\Users\\jsime\\AppData\\Local\\Temp\\ipykernel_19320\\2771333044.py:10: FutureWarning: The behavior of DataFrame concatenation with empty or all-NA entries is deprecated. In a future version, this will no longer exclude empty or all-NA columns when determining the result dtypes. To retain the old behavior, exclude the relevant entries before the concat operation.\n",
      "  comparison_group_df = pd.concat([new_data, comparison_group_df], axis=0)\n",
      "C:\\Users\\jsime\\AppData\\Local\\Temp\\ipykernel_19320\\2771333044.py:10: FutureWarning: The behavior of DataFrame concatenation with empty or all-NA entries is deprecated. In a future version, this will no longer exclude empty or all-NA columns when determining the result dtypes. To retain the old behavior, exclude the relevant entries before the concat operation.\n",
      "  comparison_group_df = pd.concat([new_data, comparison_group_df], axis=0)\n",
      "C:\\Users\\jsime\\AppData\\Local\\Temp\\ipykernel_19320\\2771333044.py:10: FutureWarning: The behavior of DataFrame concatenation with empty or all-NA entries is deprecated. In a future version, this will no longer exclude empty or all-NA columns when determining the result dtypes. To retain the old behavior, exclude the relevant entries before the concat operation.\n",
      "  comparison_group_df = pd.concat([new_data, comparison_group_df], axis=0)\n",
      "C:\\Users\\jsime\\AppData\\Local\\Temp\\ipykernel_19320\\2771333044.py:10: FutureWarning: The behavior of DataFrame concatenation with empty or all-NA entries is deprecated. In a future version, this will no longer exclude empty or all-NA columns when determining the result dtypes. To retain the old behavior, exclude the relevant entries before the concat operation.\n",
      "  comparison_group_df = pd.concat([new_data, comparison_group_df], axis=0)\n",
      "C:\\Users\\jsime\\AppData\\Local\\Temp\\ipykernel_19320\\2771333044.py:10: FutureWarning: The behavior of DataFrame concatenation with empty or all-NA entries is deprecated. In a future version, this will no longer exclude empty or all-NA columns when determining the result dtypes. To retain the old behavior, exclude the relevant entries before the concat operation.\n",
      "  comparison_group_df = pd.concat([new_data, comparison_group_df], axis=0)\n",
      "C:\\Users\\jsime\\AppData\\Local\\Temp\\ipykernel_19320\\2771333044.py:10: FutureWarning: The behavior of DataFrame concatenation with empty or all-NA entries is deprecated. In a future version, this will no longer exclude empty or all-NA columns when determining the result dtypes. To retain the old behavior, exclude the relevant entries before the concat operation.\n",
      "  comparison_group_df = pd.concat([new_data, comparison_group_df], axis=0)\n",
      "C:\\Users\\jsime\\AppData\\Local\\Temp\\ipykernel_19320\\2771333044.py:10: FutureWarning: The behavior of DataFrame concatenation with empty or all-NA entries is deprecated. In a future version, this will no longer exclude empty or all-NA columns when determining the result dtypes. To retain the old behavior, exclude the relevant entries before the concat operation.\n",
      "  comparison_group_df = pd.concat([new_data, comparison_group_df], axis=0)\n",
      "C:\\Users\\jsime\\AppData\\Local\\Temp\\ipykernel_19320\\2771333044.py:10: FutureWarning: The behavior of DataFrame concatenation with empty or all-NA entries is deprecated. In a future version, this will no longer exclude empty or all-NA columns when determining the result dtypes. To retain the old behavior, exclude the relevant entries before the concat operation.\n",
      "  comparison_group_df = pd.concat([new_data, comparison_group_df], axis=0)\n",
      "C:\\Users\\jsime\\AppData\\Local\\Temp\\ipykernel_19320\\2771333044.py:10: FutureWarning: The behavior of DataFrame concatenation with empty or all-NA entries is deprecated. In a future version, this will no longer exclude empty or all-NA columns when determining the result dtypes. To retain the old behavior, exclude the relevant entries before the concat operation.\n",
      "  comparison_group_df = pd.concat([new_data, comparison_group_df], axis=0)\n",
      "C:\\Users\\jsime\\AppData\\Local\\Temp\\ipykernel_19320\\2771333044.py:10: FutureWarning: The behavior of DataFrame concatenation with empty or all-NA entries is deprecated. In a future version, this will no longer exclude empty or all-NA columns when determining the result dtypes. To retain the old behavior, exclude the relevant entries before the concat operation.\n",
      "  comparison_group_df = pd.concat([new_data, comparison_group_df], axis=0)\n",
      "C:\\Users\\jsime\\AppData\\Local\\Temp\\ipykernel_19320\\2771333044.py:10: FutureWarning: The behavior of DataFrame concatenation with empty or all-NA entries is deprecated. In a future version, this will no longer exclude empty or all-NA columns when determining the result dtypes. To retain the old behavior, exclude the relevant entries before the concat operation.\n",
      "  comparison_group_df = pd.concat([new_data, comparison_group_df], axis=0)\n",
      "C:\\Users\\jsime\\AppData\\Local\\Temp\\ipykernel_19320\\2771333044.py:10: FutureWarning: The behavior of DataFrame concatenation with empty or all-NA entries is deprecated. In a future version, this will no longer exclude empty or all-NA columns when determining the result dtypes. To retain the old behavior, exclude the relevant entries before the concat operation.\n",
      "  comparison_group_df = pd.concat([new_data, comparison_group_df], axis=0)\n",
      "C:\\Users\\jsime\\AppData\\Local\\Temp\\ipykernel_19320\\2771333044.py:10: FutureWarning: The behavior of DataFrame concatenation with empty or all-NA entries is deprecated. In a future version, this will no longer exclude empty or all-NA columns when determining the result dtypes. To retain the old behavior, exclude the relevant entries before the concat operation.\n",
      "  comparison_group_df = pd.concat([new_data, comparison_group_df], axis=0)\n",
      "C:\\Users\\jsime\\AppData\\Local\\Temp\\ipykernel_19320\\2771333044.py:10: FutureWarning: The behavior of DataFrame concatenation with empty or all-NA entries is deprecated. In a future version, this will no longer exclude empty or all-NA columns when determining the result dtypes. To retain the old behavior, exclude the relevant entries before the concat operation.\n",
      "  comparison_group_df = pd.concat([new_data, comparison_group_df], axis=0)\n",
      "C:\\Users\\jsime\\AppData\\Local\\Temp\\ipykernel_19320\\2771333044.py:10: FutureWarning: The behavior of DataFrame concatenation with empty or all-NA entries is deprecated. In a future version, this will no longer exclude empty or all-NA columns when determining the result dtypes. To retain the old behavior, exclude the relevant entries before the concat operation.\n",
      "  comparison_group_df = pd.concat([new_data, comparison_group_df], axis=0)\n",
      "C:\\Users\\jsime\\AppData\\Local\\Temp\\ipykernel_19320\\2771333044.py:10: FutureWarning: The behavior of DataFrame concatenation with empty or all-NA entries is deprecated. In a future version, this will no longer exclude empty or all-NA columns when determining the result dtypes. To retain the old behavior, exclude the relevant entries before the concat operation.\n",
      "  comparison_group_df = pd.concat([new_data, comparison_group_df], axis=0)\n",
      "C:\\Users\\jsime\\AppData\\Local\\Temp\\ipykernel_19320\\2771333044.py:10: FutureWarning: The behavior of DataFrame concatenation with empty or all-NA entries is deprecated. In a future version, this will no longer exclude empty or all-NA columns when determining the result dtypes. To retain the old behavior, exclude the relevant entries before the concat operation.\n",
      "  comparison_group_df = pd.concat([new_data, comparison_group_df], axis=0)\n",
      "C:\\Users\\jsime\\AppData\\Local\\Temp\\ipykernel_19320\\2771333044.py:10: FutureWarning: The behavior of DataFrame concatenation with empty or all-NA entries is deprecated. In a future version, this will no longer exclude empty or all-NA columns when determining the result dtypes. To retain the old behavior, exclude the relevant entries before the concat operation.\n",
      "  comparison_group_df = pd.concat([new_data, comparison_group_df], axis=0)\n",
      "C:\\Users\\jsime\\AppData\\Local\\Temp\\ipykernel_19320\\2771333044.py:10: FutureWarning: The behavior of DataFrame concatenation with empty or all-NA entries is deprecated. In a future version, this will no longer exclude empty or all-NA columns when determining the result dtypes. To retain the old behavior, exclude the relevant entries before the concat operation.\n",
      "  comparison_group_df = pd.concat([new_data, comparison_group_df], axis=0)\n",
      "C:\\Users\\jsime\\AppData\\Local\\Temp\\ipykernel_19320\\2771333044.py:10: FutureWarning: The behavior of DataFrame concatenation with empty or all-NA entries is deprecated. In a future version, this will no longer exclude empty or all-NA columns when determining the result dtypes. To retain the old behavior, exclude the relevant entries before the concat operation.\n",
      "  comparison_group_df = pd.concat([new_data, comparison_group_df], axis=0)\n",
      "C:\\Users\\jsime\\AppData\\Local\\Temp\\ipykernel_19320\\2771333044.py:10: FutureWarning: The behavior of DataFrame concatenation with empty or all-NA entries is deprecated. In a future version, this will no longer exclude empty or all-NA columns when determining the result dtypes. To retain the old behavior, exclude the relevant entries before the concat operation.\n",
      "  comparison_group_df = pd.concat([new_data, comparison_group_df], axis=0)\n",
      "C:\\Users\\jsime\\AppData\\Local\\Temp\\ipykernel_19320\\2771333044.py:10: FutureWarning: The behavior of DataFrame concatenation with empty or all-NA entries is deprecated. In a future version, this will no longer exclude empty or all-NA columns when determining the result dtypes. To retain the old behavior, exclude the relevant entries before the concat operation.\n",
      "  comparison_group_df = pd.concat([new_data, comparison_group_df], axis=0)\n",
      "C:\\Users\\jsime\\AppData\\Local\\Temp\\ipykernel_19320\\2771333044.py:10: FutureWarning: The behavior of DataFrame concatenation with empty or all-NA entries is deprecated. In a future version, this will no longer exclude empty or all-NA columns when determining the result dtypes. To retain the old behavior, exclude the relevant entries before the concat operation.\n",
      "  comparison_group_df = pd.concat([new_data, comparison_group_df], axis=0)\n",
      "C:\\Users\\jsime\\AppData\\Local\\Temp\\ipykernel_19320\\2771333044.py:10: FutureWarning: The behavior of DataFrame concatenation with empty or all-NA entries is deprecated. In a future version, this will no longer exclude empty or all-NA columns when determining the result dtypes. To retain the old behavior, exclude the relevant entries before the concat operation.\n",
      "  comparison_group_df = pd.concat([new_data, comparison_group_df], axis=0)\n",
      "C:\\Users\\jsime\\AppData\\Local\\Temp\\ipykernel_19320\\2771333044.py:10: FutureWarning: The behavior of DataFrame concatenation with empty or all-NA entries is deprecated. In a future version, this will no longer exclude empty or all-NA columns when determining the result dtypes. To retain the old behavior, exclude the relevant entries before the concat operation.\n",
      "  comparison_group_df = pd.concat([new_data, comparison_group_df], axis=0)\n",
      "C:\\Users\\jsime\\AppData\\Local\\Temp\\ipykernel_19320\\2771333044.py:10: FutureWarning: The behavior of DataFrame concatenation with empty or all-NA entries is deprecated. In a future version, this will no longer exclude empty or all-NA columns when determining the result dtypes. To retain the old behavior, exclude the relevant entries before the concat operation.\n",
      "  comparison_group_df = pd.concat([new_data, comparison_group_df], axis=0)\n",
      "C:\\Users\\jsime\\AppData\\Local\\Temp\\ipykernel_19320\\2771333044.py:10: FutureWarning: The behavior of DataFrame concatenation with empty or all-NA entries is deprecated. In a future version, this will no longer exclude empty or all-NA columns when determining the result dtypes. To retain the old behavior, exclude the relevant entries before the concat operation.\n",
      "  comparison_group_df = pd.concat([new_data, comparison_group_df], axis=0)\n",
      "C:\\Users\\jsime\\AppData\\Local\\Temp\\ipykernel_19320\\2771333044.py:10: FutureWarning: The behavior of DataFrame concatenation with empty or all-NA entries is deprecated. In a future version, this will no longer exclude empty or all-NA columns when determining the result dtypes. To retain the old behavior, exclude the relevant entries before the concat operation.\n",
      "  comparison_group_df = pd.concat([new_data, comparison_group_df], axis=0)\n",
      "C:\\Users\\jsime\\AppData\\Local\\Temp\\ipykernel_19320\\2771333044.py:10: FutureWarning: The behavior of DataFrame concatenation with empty or all-NA entries is deprecated. In a future version, this will no longer exclude empty or all-NA columns when determining the result dtypes. To retain the old behavior, exclude the relevant entries before the concat operation.\n",
      "  comparison_group_df = pd.concat([new_data, comparison_group_df], axis=0)\n",
      "C:\\Users\\jsime\\AppData\\Local\\Temp\\ipykernel_19320\\2771333044.py:10: FutureWarning: The behavior of DataFrame concatenation with empty or all-NA entries is deprecated. In a future version, this will no longer exclude empty or all-NA columns when determining the result dtypes. To retain the old behavior, exclude the relevant entries before the concat operation.\n",
      "  comparison_group_df = pd.concat([new_data, comparison_group_df], axis=0)\n",
      "C:\\Users\\jsime\\AppData\\Local\\Temp\\ipykernel_19320\\2771333044.py:10: FutureWarning: The behavior of DataFrame concatenation with empty or all-NA entries is deprecated. In a future version, this will no longer exclude empty or all-NA columns when determining the result dtypes. To retain the old behavior, exclude the relevant entries before the concat operation.\n",
      "  comparison_group_df = pd.concat([new_data, comparison_group_df], axis=0)\n",
      "C:\\Users\\jsime\\AppData\\Local\\Temp\\ipykernel_19320\\2771333044.py:10: FutureWarning: The behavior of DataFrame concatenation with empty or all-NA entries is deprecated. In a future version, this will no longer exclude empty or all-NA columns when determining the result dtypes. To retain the old behavior, exclude the relevant entries before the concat operation.\n",
      "  comparison_group_df = pd.concat([new_data, comparison_group_df], axis=0)\n",
      "C:\\Users\\jsime\\AppData\\Local\\Temp\\ipykernel_19320\\2771333044.py:10: FutureWarning: The behavior of DataFrame concatenation with empty or all-NA entries is deprecated. In a future version, this will no longer exclude empty or all-NA columns when determining the result dtypes. To retain the old behavior, exclude the relevant entries before the concat operation.\n",
      "  comparison_group_df = pd.concat([new_data, comparison_group_df], axis=0)\n",
      "C:\\Users\\jsime\\AppData\\Local\\Temp\\ipykernel_19320\\2771333044.py:10: FutureWarning: The behavior of DataFrame concatenation with empty or all-NA entries is deprecated. In a future version, this will no longer exclude empty or all-NA columns when determining the result dtypes. To retain the old behavior, exclude the relevant entries before the concat operation.\n",
      "  comparison_group_df = pd.concat([new_data, comparison_group_df], axis=0)\n",
      "C:\\Users\\jsime\\AppData\\Local\\Temp\\ipykernel_19320\\2771333044.py:10: FutureWarning: The behavior of DataFrame concatenation with empty or all-NA entries is deprecated. In a future version, this will no longer exclude empty or all-NA columns when determining the result dtypes. To retain the old behavior, exclude the relevant entries before the concat operation.\n",
      "  comparison_group_df = pd.concat([new_data, comparison_group_df], axis=0)\n",
      "C:\\Users\\jsime\\AppData\\Local\\Temp\\ipykernel_19320\\2771333044.py:10: FutureWarning: The behavior of DataFrame concatenation with empty or all-NA entries is deprecated. In a future version, this will no longer exclude empty or all-NA columns when determining the result dtypes. To retain the old behavior, exclude the relevant entries before the concat operation.\n",
      "  comparison_group_df = pd.concat([new_data, comparison_group_df], axis=0)\n",
      "C:\\Users\\jsime\\AppData\\Local\\Temp\\ipykernel_19320\\2771333044.py:10: FutureWarning: The behavior of DataFrame concatenation with empty or all-NA entries is deprecated. In a future version, this will no longer exclude empty or all-NA columns when determining the result dtypes. To retain the old behavior, exclude the relevant entries before the concat operation.\n",
      "  comparison_group_df = pd.concat([new_data, comparison_group_df], axis=0)\n",
      "C:\\Users\\jsime\\AppData\\Local\\Temp\\ipykernel_19320\\2771333044.py:10: FutureWarning: The behavior of DataFrame concatenation with empty or all-NA entries is deprecated. In a future version, this will no longer exclude empty or all-NA columns when determining the result dtypes. To retain the old behavior, exclude the relevant entries before the concat operation.\n",
      "  comparison_group_df = pd.concat([new_data, comparison_group_df], axis=0)\n",
      "C:\\Users\\jsime\\AppData\\Local\\Temp\\ipykernel_19320\\2771333044.py:10: FutureWarning: The behavior of DataFrame concatenation with empty or all-NA entries is deprecated. In a future version, this will no longer exclude empty or all-NA columns when determining the result dtypes. To retain the old behavior, exclude the relevant entries before the concat operation.\n",
      "  comparison_group_df = pd.concat([new_data, comparison_group_df], axis=0)\n",
      "C:\\Users\\jsime\\AppData\\Local\\Temp\\ipykernel_19320\\2771333044.py:10: FutureWarning: The behavior of DataFrame concatenation with empty or all-NA entries is deprecated. In a future version, this will no longer exclude empty or all-NA columns when determining the result dtypes. To retain the old behavior, exclude the relevant entries before the concat operation.\n",
      "  comparison_group_df = pd.concat([new_data, comparison_group_df], axis=0)\n",
      "C:\\Users\\jsime\\AppData\\Local\\Temp\\ipykernel_19320\\2771333044.py:10: FutureWarning: The behavior of DataFrame concatenation with empty or all-NA entries is deprecated. In a future version, this will no longer exclude empty or all-NA columns when determining the result dtypes. To retain the old behavior, exclude the relevant entries before the concat operation.\n",
      "  comparison_group_df = pd.concat([new_data, comparison_group_df], axis=0)\n",
      "C:\\Users\\jsime\\AppData\\Local\\Temp\\ipykernel_19320\\2771333044.py:10: FutureWarning: The behavior of DataFrame concatenation with empty or all-NA entries is deprecated. In a future version, this will no longer exclude empty or all-NA columns when determining the result dtypes. To retain the old behavior, exclude the relevant entries before the concat operation.\n",
      "  comparison_group_df = pd.concat([new_data, comparison_group_df], axis=0)\n",
      "C:\\Users\\jsime\\AppData\\Local\\Temp\\ipykernel_19320\\2771333044.py:10: FutureWarning: The behavior of DataFrame concatenation with empty or all-NA entries is deprecated. In a future version, this will no longer exclude empty or all-NA columns when determining the result dtypes. To retain the old behavior, exclude the relevant entries before the concat operation.\n",
      "  comparison_group_df = pd.concat([new_data, comparison_group_df], axis=0)\n",
      "C:\\Users\\jsime\\AppData\\Local\\Temp\\ipykernel_19320\\2771333044.py:10: FutureWarning: The behavior of DataFrame concatenation with empty or all-NA entries is deprecated. In a future version, this will no longer exclude empty or all-NA columns when determining the result dtypes. To retain the old behavior, exclude the relevant entries before the concat operation.\n",
      "  comparison_group_df = pd.concat([new_data, comparison_group_df], axis=0)\n",
      "C:\\Users\\jsime\\AppData\\Local\\Temp\\ipykernel_19320\\2771333044.py:10: FutureWarning: The behavior of DataFrame concatenation with empty or all-NA entries is deprecated. In a future version, this will no longer exclude empty or all-NA columns when determining the result dtypes. To retain the old behavior, exclude the relevant entries before the concat operation.\n",
      "  comparison_group_df = pd.concat([new_data, comparison_group_df], axis=0)\n",
      "C:\\Users\\jsime\\AppData\\Local\\Temp\\ipykernel_19320\\2771333044.py:10: FutureWarning: The behavior of DataFrame concatenation with empty or all-NA entries is deprecated. In a future version, this will no longer exclude empty or all-NA columns when determining the result dtypes. To retain the old behavior, exclude the relevant entries before the concat operation.\n",
      "  comparison_group_df = pd.concat([new_data, comparison_group_df], axis=0)\n",
      "C:\\Users\\jsime\\AppData\\Local\\Temp\\ipykernel_19320\\2771333044.py:10: FutureWarning: The behavior of DataFrame concatenation with empty or all-NA entries is deprecated. In a future version, this will no longer exclude empty or all-NA columns when determining the result dtypes. To retain the old behavior, exclude the relevant entries before the concat operation.\n",
      "  comparison_group_df = pd.concat([new_data, comparison_group_df], axis=0)\n",
      "C:\\Users\\jsime\\AppData\\Local\\Temp\\ipykernel_19320\\2771333044.py:10: FutureWarning: The behavior of DataFrame concatenation with empty or all-NA entries is deprecated. In a future version, this will no longer exclude empty or all-NA columns when determining the result dtypes. To retain the old behavior, exclude the relevant entries before the concat operation.\n",
      "  comparison_group_df = pd.concat([new_data, comparison_group_df], axis=0)\n",
      "C:\\Users\\jsime\\AppData\\Local\\Temp\\ipykernel_19320\\2771333044.py:10: FutureWarning: The behavior of DataFrame concatenation with empty or all-NA entries is deprecated. In a future version, this will no longer exclude empty or all-NA columns when determining the result dtypes. To retain the old behavior, exclude the relevant entries before the concat operation.\n",
      "  comparison_group_df = pd.concat([new_data, comparison_group_df], axis=0)\n",
      "C:\\Users\\jsime\\AppData\\Local\\Temp\\ipykernel_19320\\2771333044.py:10: FutureWarning: The behavior of DataFrame concatenation with empty or all-NA entries is deprecated. In a future version, this will no longer exclude empty or all-NA columns when determining the result dtypes. To retain the old behavior, exclude the relevant entries before the concat operation.\n",
      "  comparison_group_df = pd.concat([new_data, comparison_group_df], axis=0)\n",
      "C:\\Users\\jsime\\AppData\\Local\\Temp\\ipykernel_19320\\2771333044.py:10: FutureWarning: The behavior of DataFrame concatenation with empty or all-NA entries is deprecated. In a future version, this will no longer exclude empty or all-NA columns when determining the result dtypes. To retain the old behavior, exclude the relevant entries before the concat operation.\n",
      "  comparison_group_df = pd.concat([new_data, comparison_group_df], axis=0)\n",
      "C:\\Users\\jsime\\AppData\\Local\\Temp\\ipykernel_19320\\2771333044.py:10: FutureWarning: The behavior of DataFrame concatenation with empty or all-NA entries is deprecated. In a future version, this will no longer exclude empty or all-NA columns when determining the result dtypes. To retain the old behavior, exclude the relevant entries before the concat operation.\n",
      "  comparison_group_df = pd.concat([new_data, comparison_group_df], axis=0)\n",
      "C:\\Users\\jsime\\AppData\\Local\\Temp\\ipykernel_19320\\2771333044.py:10: FutureWarning: The behavior of DataFrame concatenation with empty or all-NA entries is deprecated. In a future version, this will no longer exclude empty or all-NA columns when determining the result dtypes. To retain the old behavior, exclude the relevant entries before the concat operation.\n",
      "  comparison_group_df = pd.concat([new_data, comparison_group_df], axis=0)\n",
      "C:\\Users\\jsime\\AppData\\Local\\Temp\\ipykernel_19320\\2771333044.py:10: FutureWarning: The behavior of DataFrame concatenation with empty or all-NA entries is deprecated. In a future version, this will no longer exclude empty or all-NA columns when determining the result dtypes. To retain the old behavior, exclude the relevant entries before the concat operation.\n",
      "  comparison_group_df = pd.concat([new_data, comparison_group_df], axis=0)\n",
      "C:\\Users\\jsime\\AppData\\Local\\Temp\\ipykernel_19320\\2771333044.py:10: FutureWarning: The behavior of DataFrame concatenation with empty or all-NA entries is deprecated. In a future version, this will no longer exclude empty or all-NA columns when determining the result dtypes. To retain the old behavior, exclude the relevant entries before the concat operation.\n",
      "  comparison_group_df = pd.concat([new_data, comparison_group_df], axis=0)\n",
      "C:\\Users\\jsime\\AppData\\Local\\Temp\\ipykernel_19320\\2771333044.py:10: FutureWarning: The behavior of DataFrame concatenation with empty or all-NA entries is deprecated. In a future version, this will no longer exclude empty or all-NA columns when determining the result dtypes. To retain the old behavior, exclude the relevant entries before the concat operation.\n",
      "  comparison_group_df = pd.concat([new_data, comparison_group_df], axis=0)\n",
      "C:\\Users\\jsime\\AppData\\Local\\Temp\\ipykernel_19320\\2771333044.py:10: FutureWarning: The behavior of DataFrame concatenation with empty or all-NA entries is deprecated. In a future version, this will no longer exclude empty or all-NA columns when determining the result dtypes. To retain the old behavior, exclude the relevant entries before the concat operation.\n",
      "  comparison_group_df = pd.concat([new_data, comparison_group_df], axis=0)\n",
      "C:\\Users\\jsime\\AppData\\Local\\Temp\\ipykernel_19320\\2771333044.py:10: FutureWarning: The behavior of DataFrame concatenation with empty or all-NA entries is deprecated. In a future version, this will no longer exclude empty or all-NA columns when determining the result dtypes. To retain the old behavior, exclude the relevant entries before the concat operation.\n",
      "  comparison_group_df = pd.concat([new_data, comparison_group_df], axis=0)\n",
      "C:\\Users\\jsime\\AppData\\Local\\Temp\\ipykernel_19320\\2771333044.py:10: FutureWarning: The behavior of DataFrame concatenation with empty or all-NA entries is deprecated. In a future version, this will no longer exclude empty or all-NA columns when determining the result dtypes. To retain the old behavior, exclude the relevant entries before the concat operation.\n",
      "  comparison_group_df = pd.concat([new_data, comparison_group_df], axis=0)\n",
      "C:\\Users\\jsime\\AppData\\Local\\Temp\\ipykernel_19320\\2771333044.py:10: FutureWarning: The behavior of DataFrame concatenation with empty or all-NA entries is deprecated. In a future version, this will no longer exclude empty or all-NA columns when determining the result dtypes. To retain the old behavior, exclude the relevant entries before the concat operation.\n",
      "  comparison_group_df = pd.concat([new_data, comparison_group_df], axis=0)\n",
      "C:\\Users\\jsime\\AppData\\Local\\Temp\\ipykernel_19320\\2771333044.py:10: FutureWarning: The behavior of DataFrame concatenation with empty or all-NA entries is deprecated. In a future version, this will no longer exclude empty or all-NA columns when determining the result dtypes. To retain the old behavior, exclude the relevant entries before the concat operation.\n",
      "  comparison_group_df = pd.concat([new_data, comparison_group_df], axis=0)\n",
      "C:\\Users\\jsime\\AppData\\Local\\Temp\\ipykernel_19320\\2771333044.py:10: FutureWarning: The behavior of DataFrame concatenation with empty or all-NA entries is deprecated. In a future version, this will no longer exclude empty or all-NA columns when determining the result dtypes. To retain the old behavior, exclude the relevant entries before the concat operation.\n",
      "  comparison_group_df = pd.concat([new_data, comparison_group_df], axis=0)\n",
      "C:\\Users\\jsime\\AppData\\Local\\Temp\\ipykernel_19320\\2771333044.py:10: FutureWarning: The behavior of DataFrame concatenation with empty or all-NA entries is deprecated. In a future version, this will no longer exclude empty or all-NA columns when determining the result dtypes. To retain the old behavior, exclude the relevant entries before the concat operation.\n",
      "  comparison_group_df = pd.concat([new_data, comparison_group_df], axis=0)\n",
      "C:\\Users\\jsime\\AppData\\Local\\Temp\\ipykernel_19320\\2771333044.py:10: FutureWarning: The behavior of DataFrame concatenation with empty or all-NA entries is deprecated. In a future version, this will no longer exclude empty or all-NA columns when determining the result dtypes. To retain the old behavior, exclude the relevant entries before the concat operation.\n",
      "  comparison_group_df = pd.concat([new_data, comparison_group_df], axis=0)\n",
      "C:\\Users\\jsime\\AppData\\Local\\Temp\\ipykernel_19320\\2771333044.py:10: FutureWarning: The behavior of DataFrame concatenation with empty or all-NA entries is deprecated. In a future version, this will no longer exclude empty or all-NA columns when determining the result dtypes. To retain the old behavior, exclude the relevant entries before the concat operation.\n",
      "  comparison_group_df = pd.concat([new_data, comparison_group_df], axis=0)\n",
      "C:\\Users\\jsime\\AppData\\Local\\Temp\\ipykernel_19320\\2771333044.py:10: FutureWarning: The behavior of DataFrame concatenation with empty or all-NA entries is deprecated. In a future version, this will no longer exclude empty or all-NA columns when determining the result dtypes. To retain the old behavior, exclude the relevant entries before the concat operation.\n",
      "  comparison_group_df = pd.concat([new_data, comparison_group_df], axis=0)\n",
      "C:\\Users\\jsime\\AppData\\Local\\Temp\\ipykernel_19320\\2771333044.py:10: FutureWarning: The behavior of DataFrame concatenation with empty or all-NA entries is deprecated. In a future version, this will no longer exclude empty or all-NA columns when determining the result dtypes. To retain the old behavior, exclude the relevant entries before the concat operation.\n",
      "  comparison_group_df = pd.concat([new_data, comparison_group_df], axis=0)\n",
      "C:\\Users\\jsime\\AppData\\Local\\Temp\\ipykernel_19320\\2771333044.py:10: FutureWarning: The behavior of DataFrame concatenation with empty or all-NA entries is deprecated. In a future version, this will no longer exclude empty or all-NA columns when determining the result dtypes. To retain the old behavior, exclude the relevant entries before the concat operation.\n",
      "  comparison_group_df = pd.concat([new_data, comparison_group_df], axis=0)\n",
      "C:\\Users\\jsime\\AppData\\Local\\Temp\\ipykernel_19320\\2771333044.py:10: FutureWarning: The behavior of DataFrame concatenation with empty or all-NA entries is deprecated. In a future version, this will no longer exclude empty or all-NA columns when determining the result dtypes. To retain the old behavior, exclude the relevant entries before the concat operation.\n",
      "  comparison_group_df = pd.concat([new_data, comparison_group_df], axis=0)\n",
      "C:\\Users\\jsime\\AppData\\Local\\Temp\\ipykernel_19320\\2771333044.py:10: FutureWarning: The behavior of DataFrame concatenation with empty or all-NA entries is deprecated. In a future version, this will no longer exclude empty or all-NA columns when determining the result dtypes. To retain the old behavior, exclude the relevant entries before the concat operation.\n",
      "  comparison_group_df = pd.concat([new_data, comparison_group_df], axis=0)\n",
      "C:\\Users\\jsime\\AppData\\Local\\Temp\\ipykernel_19320\\2771333044.py:10: FutureWarning: The behavior of DataFrame concatenation with empty or all-NA entries is deprecated. In a future version, this will no longer exclude empty or all-NA columns when determining the result dtypes. To retain the old behavior, exclude the relevant entries before the concat operation.\n",
      "  comparison_group_df = pd.concat([new_data, comparison_group_df], axis=0)\n",
      "C:\\Users\\jsime\\AppData\\Local\\Temp\\ipykernel_19320\\2771333044.py:10: FutureWarning: The behavior of DataFrame concatenation with empty or all-NA entries is deprecated. In a future version, this will no longer exclude empty or all-NA columns when determining the result dtypes. To retain the old behavior, exclude the relevant entries before the concat operation.\n",
      "  comparison_group_df = pd.concat([new_data, comparison_group_df], axis=0)\n",
      "C:\\Users\\jsime\\AppData\\Local\\Temp\\ipykernel_19320\\2771333044.py:10: FutureWarning: The behavior of DataFrame concatenation with empty or all-NA entries is deprecated. In a future version, this will no longer exclude empty or all-NA columns when determining the result dtypes. To retain the old behavior, exclude the relevant entries before the concat operation.\n",
      "  comparison_group_df = pd.concat([new_data, comparison_group_df], axis=0)\n",
      "C:\\Users\\jsime\\AppData\\Local\\Temp\\ipykernel_19320\\2771333044.py:10: FutureWarning: The behavior of DataFrame concatenation with empty or all-NA entries is deprecated. In a future version, this will no longer exclude empty or all-NA columns when determining the result dtypes. To retain the old behavior, exclude the relevant entries before the concat operation.\n",
      "  comparison_group_df = pd.concat([new_data, comparison_group_df], axis=0)\n",
      "C:\\Users\\jsime\\AppData\\Local\\Temp\\ipykernel_19320\\2771333044.py:10: FutureWarning: The behavior of DataFrame concatenation with empty or all-NA entries is deprecated. In a future version, this will no longer exclude empty or all-NA columns when determining the result dtypes. To retain the old behavior, exclude the relevant entries before the concat operation.\n",
      "  comparison_group_df = pd.concat([new_data, comparison_group_df], axis=0)\n",
      "C:\\Users\\jsime\\AppData\\Local\\Temp\\ipykernel_19320\\2771333044.py:10: FutureWarning: The behavior of DataFrame concatenation with empty or all-NA entries is deprecated. In a future version, this will no longer exclude empty or all-NA columns when determining the result dtypes. To retain the old behavior, exclude the relevant entries before the concat operation.\n",
      "  comparison_group_df = pd.concat([new_data, comparison_group_df], axis=0)\n",
      "C:\\Users\\jsime\\AppData\\Local\\Temp\\ipykernel_19320\\2771333044.py:10: FutureWarning: The behavior of DataFrame concatenation with empty or all-NA entries is deprecated. In a future version, this will no longer exclude empty or all-NA columns when determining the result dtypes. To retain the old behavior, exclude the relevant entries before the concat operation.\n",
      "  comparison_group_df = pd.concat([new_data, comparison_group_df], axis=0)\n",
      "C:\\Users\\jsime\\AppData\\Local\\Temp\\ipykernel_19320\\2771333044.py:10: FutureWarning: The behavior of DataFrame concatenation with empty or all-NA entries is deprecated. In a future version, this will no longer exclude empty or all-NA columns when determining the result dtypes. To retain the old behavior, exclude the relevant entries before the concat operation.\n",
      "  comparison_group_df = pd.concat([new_data, comparison_group_df], axis=0)\n",
      "C:\\Users\\jsime\\AppData\\Local\\Temp\\ipykernel_19320\\2771333044.py:10: FutureWarning: The behavior of DataFrame concatenation with empty or all-NA entries is deprecated. In a future version, this will no longer exclude empty or all-NA columns when determining the result dtypes. To retain the old behavior, exclude the relevant entries before the concat operation.\n",
      "  comparison_group_df = pd.concat([new_data, comparison_group_df], axis=0)\n",
      "C:\\Users\\jsime\\AppData\\Local\\Temp\\ipykernel_19320\\2771333044.py:10: FutureWarning: The behavior of DataFrame concatenation with empty or all-NA entries is deprecated. In a future version, this will no longer exclude empty or all-NA columns when determining the result dtypes. To retain the old behavior, exclude the relevant entries before the concat operation.\n",
      "  comparison_group_df = pd.concat([new_data, comparison_group_df], axis=0)\n",
      "C:\\Users\\jsime\\AppData\\Local\\Temp\\ipykernel_19320\\2771333044.py:10: FutureWarning: The behavior of DataFrame concatenation with empty or all-NA entries is deprecated. In a future version, this will no longer exclude empty or all-NA columns when determining the result dtypes. To retain the old behavior, exclude the relevant entries before the concat operation.\n",
      "  comparison_group_df = pd.concat([new_data, comparison_group_df], axis=0)\n",
      "C:\\Users\\jsime\\AppData\\Local\\Temp\\ipykernel_19320\\2771333044.py:10: FutureWarning: The behavior of DataFrame concatenation with empty or all-NA entries is deprecated. In a future version, this will no longer exclude empty or all-NA columns when determining the result dtypes. To retain the old behavior, exclude the relevant entries before the concat operation.\n",
      "  comparison_group_df = pd.concat([new_data, comparison_group_df], axis=0)\n",
      "C:\\Users\\jsime\\AppData\\Local\\Temp\\ipykernel_19320\\2771333044.py:10: FutureWarning: The behavior of DataFrame concatenation with empty or all-NA entries is deprecated. In a future version, this will no longer exclude empty or all-NA columns when determining the result dtypes. To retain the old behavior, exclude the relevant entries before the concat operation.\n",
      "  comparison_group_df = pd.concat([new_data, comparison_group_df], axis=0)\n",
      "C:\\Users\\jsime\\AppData\\Local\\Temp\\ipykernel_19320\\2771333044.py:10: FutureWarning: The behavior of DataFrame concatenation with empty or all-NA entries is deprecated. In a future version, this will no longer exclude empty or all-NA columns when determining the result dtypes. To retain the old behavior, exclude the relevant entries before the concat operation.\n",
      "  comparison_group_df = pd.concat([new_data, comparison_group_df], axis=0)\n",
      "C:\\Users\\jsime\\AppData\\Local\\Temp\\ipykernel_19320\\2771333044.py:10: FutureWarning: The behavior of DataFrame concatenation with empty or all-NA entries is deprecated. In a future version, this will no longer exclude empty or all-NA columns when determining the result dtypes. To retain the old behavior, exclude the relevant entries before the concat operation.\n",
      "  comparison_group_df = pd.concat([new_data, comparison_group_df], axis=0)\n",
      "C:\\Users\\jsime\\AppData\\Local\\Temp\\ipykernel_19320\\2771333044.py:10: FutureWarning: The behavior of DataFrame concatenation with empty or all-NA entries is deprecated. In a future version, this will no longer exclude empty or all-NA columns when determining the result dtypes. To retain the old behavior, exclude the relevant entries before the concat operation.\n",
      "  comparison_group_df = pd.concat([new_data, comparison_group_df], axis=0)\n",
      "C:\\Users\\jsime\\AppData\\Local\\Temp\\ipykernel_19320\\2771333044.py:10: FutureWarning: The behavior of DataFrame concatenation with empty or all-NA entries is deprecated. In a future version, this will no longer exclude empty or all-NA columns when determining the result dtypes. To retain the old behavior, exclude the relevant entries before the concat operation.\n",
      "  comparison_group_df = pd.concat([new_data, comparison_group_df], axis=0)\n",
      "C:\\Users\\jsime\\AppData\\Local\\Temp\\ipykernel_19320\\2771333044.py:10: FutureWarning: The behavior of DataFrame concatenation with empty or all-NA entries is deprecated. In a future version, this will no longer exclude empty or all-NA columns when determining the result dtypes. To retain the old behavior, exclude the relevant entries before the concat operation.\n",
      "  comparison_group_df = pd.concat([new_data, comparison_group_df], axis=0)\n",
      "C:\\Users\\jsime\\AppData\\Local\\Temp\\ipykernel_19320\\2771333044.py:10: FutureWarning: The behavior of DataFrame concatenation with empty or all-NA entries is deprecated. In a future version, this will no longer exclude empty or all-NA columns when determining the result dtypes. To retain the old behavior, exclude the relevant entries before the concat operation.\n",
      "  comparison_group_df = pd.concat([new_data, comparison_group_df], axis=0)\n"
     ]
    },
    {
     "name": "stdout",
     "output_type": "stream",
     "text": [
      "Empty Tickers: []\n"
     ]
    }
   ],
   "source": [
    "banks = get_comparison_group_data(linked_banks, '1960-01-01', '2012-12-31')\n",
    "banks = banks.drop_duplicates()"
   ],
   "metadata": {
    "collapsed": false,
    "ExecuteTime": {
     "end_time": "2024-02-19T20:47:48.670771600Z",
     "start_time": "2024-02-19T20:46:45.070987100Z"
    }
   },
   "id": "35b0007b04e5a9dc"
  },
  {
   "cell_type": "code",
   "execution_count": 146,
   "outputs": [
    {
     "data": {
      "text/plain": "      datadate  total_assets   book_debt  book_equity  market_equity   gvkey  \\\n0   2007-12-31     60887.708   55149.327     5738.349            NaN  285313   \n1   2008-12-31    126915.378  105415.604    21497.497            NaN  285313   \n2   2009-12-31    181332.899  141581.540    39750.591   52929.469060  285313   \n3   2010-12-31    225279.708  181167.271    44107.581   51638.506400  285313   \n4   2011-12-31    214680.884  172789.011    41881.694   30876.314260  285313   \n..         ...           ...         ...          ...            ...     ...   \n13  1987-12-31      2536.776    2354.405      171.473     121.224000  001178   \n14  1988-12-31      2616.952    2439.173      167.005      97.241375  001178   \n15  1989-12-31      2611.094    2425.620      174.703     122.208000  001178   \n16  1990-12-31      2738.097    2545.413      181.912     109.897250  001178   \n17  1991-12-31      2912.117    2702.303      199.207     326.781000  001178   \n\n                            conm  \n0   BANCO SANTANDER BRASIL  -ADR  \n1   BANCO SANTANDER BRASIL  -ADR  \n2   BANCO SANTANDER BRASIL  -ADR  \n3   BANCO SANTANDER BRASIL  -ADR  \n4   BANCO SANTANDER BRASIL  -ADR  \n..                           ...  \n13    AFFILIATED BANKSHARES COLO  \n14    AFFILIATED BANKSHARES COLO  \n15    AFFILIATED BANKSHARES COLO  \n16    AFFILIATED BANKSHARES COLO  \n17    AFFILIATED BANKSHARES COLO  \n\n[17052 rows x 7 columns]",
      "text/html": "<div>\n<style scoped>\n    .dataframe tbody tr th:only-of-type {\n        vertical-align: middle;\n    }\n\n    .dataframe tbody tr th {\n        vertical-align: top;\n    }\n\n    .dataframe thead th {\n        text-align: right;\n    }\n</style>\n<table border=\"1\" class=\"dataframe\">\n  <thead>\n    <tr style=\"text-align: right;\">\n      <th></th>\n      <th>datadate</th>\n      <th>total_assets</th>\n      <th>book_debt</th>\n      <th>book_equity</th>\n      <th>market_equity</th>\n      <th>gvkey</th>\n      <th>conm</th>\n    </tr>\n  </thead>\n  <tbody>\n    <tr>\n      <th>0</th>\n      <td>2007-12-31</td>\n      <td>60887.708</td>\n      <td>55149.327</td>\n      <td>5738.349</td>\n      <td>NaN</td>\n      <td>285313</td>\n      <td>BANCO SANTANDER BRASIL  -ADR</td>\n    </tr>\n    <tr>\n      <th>1</th>\n      <td>2008-12-31</td>\n      <td>126915.378</td>\n      <td>105415.604</td>\n      <td>21497.497</td>\n      <td>NaN</td>\n      <td>285313</td>\n      <td>BANCO SANTANDER BRASIL  -ADR</td>\n    </tr>\n    <tr>\n      <th>2</th>\n      <td>2009-12-31</td>\n      <td>181332.899</td>\n      <td>141581.540</td>\n      <td>39750.591</td>\n      <td>52929.469060</td>\n      <td>285313</td>\n      <td>BANCO SANTANDER BRASIL  -ADR</td>\n    </tr>\n    <tr>\n      <th>3</th>\n      <td>2010-12-31</td>\n      <td>225279.708</td>\n      <td>181167.271</td>\n      <td>44107.581</td>\n      <td>51638.506400</td>\n      <td>285313</td>\n      <td>BANCO SANTANDER BRASIL  -ADR</td>\n    </tr>\n    <tr>\n      <th>4</th>\n      <td>2011-12-31</td>\n      <td>214680.884</td>\n      <td>172789.011</td>\n      <td>41881.694</td>\n      <td>30876.314260</td>\n      <td>285313</td>\n      <td>BANCO SANTANDER BRASIL  -ADR</td>\n    </tr>\n    <tr>\n      <th>...</th>\n      <td>...</td>\n      <td>...</td>\n      <td>...</td>\n      <td>...</td>\n      <td>...</td>\n      <td>...</td>\n      <td>...</td>\n    </tr>\n    <tr>\n      <th>13</th>\n      <td>1987-12-31</td>\n      <td>2536.776</td>\n      <td>2354.405</td>\n      <td>171.473</td>\n      <td>121.224000</td>\n      <td>001178</td>\n      <td>AFFILIATED BANKSHARES COLO</td>\n    </tr>\n    <tr>\n      <th>14</th>\n      <td>1988-12-31</td>\n      <td>2616.952</td>\n      <td>2439.173</td>\n      <td>167.005</td>\n      <td>97.241375</td>\n      <td>001178</td>\n      <td>AFFILIATED BANKSHARES COLO</td>\n    </tr>\n    <tr>\n      <th>15</th>\n      <td>1989-12-31</td>\n      <td>2611.094</td>\n      <td>2425.620</td>\n      <td>174.703</td>\n      <td>122.208000</td>\n      <td>001178</td>\n      <td>AFFILIATED BANKSHARES COLO</td>\n    </tr>\n    <tr>\n      <th>16</th>\n      <td>1990-12-31</td>\n      <td>2738.097</td>\n      <td>2545.413</td>\n      <td>181.912</td>\n      <td>109.897250</td>\n      <td>001178</td>\n      <td>AFFILIATED BANKSHARES COLO</td>\n    </tr>\n    <tr>\n      <th>17</th>\n      <td>1991-12-31</td>\n      <td>2912.117</td>\n      <td>2702.303</td>\n      <td>199.207</td>\n      <td>326.781000</td>\n      <td>001178</td>\n      <td>AFFILIATED BANKSHARES COLO</td>\n    </tr>\n  </tbody>\n</table>\n<p>17052 rows × 7 columns</p>\n</div>"
     },
     "execution_count": 146,
     "metadata": {},
     "output_type": "execute_result"
    }
   ],
   "source": [
    "banks"
   ],
   "metadata": {
    "collapsed": false,
    "ExecuteTime": {
     "end_time": "2024-02-19T20:47:53.694883Z",
     "start_time": "2024-02-19T20:47:53.655972800Z"
    }
   },
   "id": "1f775d16edc46157"
  },
  {
   "cell_type": "code",
   "execution_count": 152,
   "outputs": [
    {
     "data": {
      "text/plain": "sic\n6020.0    1413\n6022.0       1\nName: count, dtype: int64"
     },
     "execution_count": 152,
     "metadata": {},
     "output_type": "execute_result"
    }
   ],
   "source": [
    "linked_banks['sic'].value_counts()"
   ],
   "metadata": {
    "collapsed": false,
    "ExecuteTime": {
     "end_time": "2024-02-19T21:37:50.073043300Z",
     "start_time": "2024-02-19T21:37:50.032784900Z"
    }
   },
   "id": "9f94257e28601a1f"
  },
  {
   "cell_type": "code",
   "execution_count": 147,
   "outputs": [
    {
     "data": {
      "text/plain": "       datadate  total_assets_bd  book_debt_bd  book_equity_bd  \\\n0    1960-12-31        78599.073     41552.276        6361.886   \n1    1961-12-31        86176.330     43121.544        6858.341   \n2    1962-12-31        92296.289     48642.078        7224.936   \n3    1963-12-31       126363.247    115456.199        9614.007   \n4    1964-12-31       140929.862    129064.851       10389.785   \n..          ...              ...           ...             ...   \n165  2012-03-31      4534458.104   4320424.337      180131.325   \n166  2012-06-30         4502.981      4026.934         476.043   \n167  2012-09-30      1489418.503   1396915.511       86393.809   \n168  2012-10-31         1534.168      1441.064          93.104   \n169  2012-12-31      8624042.753   7800908.266      735181.372   \n\n     market_equity_bd  \n0            0.000000  \n1            0.000000  \n2        10988.304739  \n3        12355.733646  \n4        13035.880255  \n..                ...  \n165     162161.210470  \n166        221.196470  \n167     131908.920423  \n168          0.000000  \n169     744948.192681  \n\n[170 rows x 5 columns]",
      "text/html": "<div>\n<style scoped>\n    .dataframe tbody tr th:only-of-type {\n        vertical-align: middle;\n    }\n\n    .dataframe tbody tr th {\n        vertical-align: top;\n    }\n\n    .dataframe thead th {\n        text-align: right;\n    }\n</style>\n<table border=\"1\" class=\"dataframe\">\n  <thead>\n    <tr style=\"text-align: right;\">\n      <th></th>\n      <th>datadate</th>\n      <th>total_assets_bd</th>\n      <th>book_debt_bd</th>\n      <th>book_equity_bd</th>\n      <th>market_equity_bd</th>\n    </tr>\n  </thead>\n  <tbody>\n    <tr>\n      <th>0</th>\n      <td>1960-12-31</td>\n      <td>78599.073</td>\n      <td>41552.276</td>\n      <td>6361.886</td>\n      <td>0.000000</td>\n    </tr>\n    <tr>\n      <th>1</th>\n      <td>1961-12-31</td>\n      <td>86176.330</td>\n      <td>43121.544</td>\n      <td>6858.341</td>\n      <td>0.000000</td>\n    </tr>\n    <tr>\n      <th>2</th>\n      <td>1962-12-31</td>\n      <td>92296.289</td>\n      <td>48642.078</td>\n      <td>7224.936</td>\n      <td>10988.304739</td>\n    </tr>\n    <tr>\n      <th>3</th>\n      <td>1963-12-31</td>\n      <td>126363.247</td>\n      <td>115456.199</td>\n      <td>9614.007</td>\n      <td>12355.733646</td>\n    </tr>\n    <tr>\n      <th>4</th>\n      <td>1964-12-31</td>\n      <td>140929.862</td>\n      <td>129064.851</td>\n      <td>10389.785</td>\n      <td>13035.880255</td>\n    </tr>\n    <tr>\n      <th>...</th>\n      <td>...</td>\n      <td>...</td>\n      <td>...</td>\n      <td>...</td>\n      <td>...</td>\n    </tr>\n    <tr>\n      <th>165</th>\n      <td>2012-03-31</td>\n      <td>4534458.104</td>\n      <td>4320424.337</td>\n      <td>180131.325</td>\n      <td>162161.210470</td>\n    </tr>\n    <tr>\n      <th>166</th>\n      <td>2012-06-30</td>\n      <td>4502.981</td>\n      <td>4026.934</td>\n      <td>476.043</td>\n      <td>221.196470</td>\n    </tr>\n    <tr>\n      <th>167</th>\n      <td>2012-09-30</td>\n      <td>1489418.503</td>\n      <td>1396915.511</td>\n      <td>86393.809</td>\n      <td>131908.920423</td>\n    </tr>\n    <tr>\n      <th>168</th>\n      <td>2012-10-31</td>\n      <td>1534.168</td>\n      <td>1441.064</td>\n      <td>93.104</td>\n      <td>0.000000</td>\n    </tr>\n    <tr>\n      <th>169</th>\n      <td>2012-12-31</td>\n      <td>8624042.753</td>\n      <td>7800908.266</td>\n      <td>735181.372</td>\n      <td>744948.192681</td>\n    </tr>\n  </tbody>\n</table>\n<p>170 rows × 5 columns</p>\n</div>"
     },
     "execution_count": 147,
     "metadata": {},
     "output_type": "execute_result"
    }
   ],
   "source": [
    "yearly_sum_banks = banks.groupby('datadate').agg({\n",
    "    'total_assets': 'sum',\n",
    "    'book_debt': 'sum',\n",
    "    'book_equity': 'sum',\n",
    "    'market_equity': 'sum'\n",
    "}).reset_index()\n",
    "yearly_sum_banks = yearly_sum_banks.rename(columns={'total_assets':'total_assets_bd', 'book_debt':'book_debt_bd', 'book_equity':'book_equity_bd','market_equity':'market_equity_bd' })\n",
    "yearly_sum_banks"
   ],
   "metadata": {
    "collapsed": false,
    "ExecuteTime": {
     "end_time": "2024-02-19T20:47:58.172147800Z",
     "start_time": "2024-02-19T20:47:58.141692200Z"
    }
   },
   "id": "4927c3ca99ea9f3b"
  },
  {
   "cell_type": "code",
   "execution_count": 148,
   "outputs": [
    {
     "data": {
      "text/plain": "      total_assets     book_debt  book_equity  market_equity  total_assets_bd  \\\nyear                                                                            \n1960  8.835297e+03  4.505152e+03      746.347   0.000000e+00     7.859907e+04   \n1961  9.856233e+03  5.006815e+03      771.122   8.476998e+02     8.617633e+04   \n1962  1.039177e+04  5.191507e+03      811.380   1.936547e+03     9.229629e+04   \n1963  1.135703e+04  9.798979e+03     1377.017   1.962843e+03     1.263632e+05   \n1964  1.885544e+04  1.670331e+04     1818.247   2.841011e+03     1.409299e+05   \n1965  2.057146e+04  1.826910e+04     1920.637   2.882466e+03     1.574110e+05   \n1966  2.191825e+04  1.952541e+04     2033.901   2.583758e+03     1.718237e+05   \n1967  2.458797e+04  2.208529e+04     2122.413   2.702707e+03     1.987475e+05   \n1968  2.771266e+04  2.507688e+04     2225.453   3.620185e+03     2.244083e+05   \n1969  3.246661e+04  2.952803e+04     2469.511   3.213643e+03     2.493724e+05   \n1970  3.834176e+04  3.496507e+04     2892.354   3.339911e+03     2.795517e+05   \n1971  4.576397e+04  4.202574e+04     3229.665   4.482702e+03     3.231808e+05   \n1972  5.536908e+04  5.146461e+04     3384.766   4.862431e+03     3.893781e+05   \n1973  7.021171e+04  6.586432e+04     3740.116   3.970551e+03     4.742442e+05   \n1974  7.848777e+04  7.372397e+04     3996.323   2.592040e+03     5.377937e+05   \n1975  8.157608e+04  7.702992e+04     4458.659   3.062454e+03     5.445676e+05   \n1976  9.030359e+04  8.536055e+04     4850.514   4.639833e+03     5.894864e+05   \n1977  1.063348e+05  1.008022e+05     5346.312   4.284289e+03     6.698816e+05   \n1978  1.249964e+05  1.182569e+05     6579.715   4.414297e+03     7.944357e+05   \n1979  1.642534e+05  1.492979e+05    14643.052   1.653838e+04     8.959792e+05   \n1980  1.833495e+05  1.666100e+05    16396.739   2.023590e+04     9.902394e+05   \n1981  2.066243e+05  1.879342e+05    18361.552   2.007643e+04     1.087751e+06   \n1982  2.201037e+05  1.994307e+05    20120.893   2.935261e+04     1.232060e+06   \n1983  3.334537e+05  3.057589e+05    26269.035   3.952904e+04     1.308789e+06   \n1984  4.410808e+05  4.071473e+05    31166.377   3.871165e+04     1.418346e+06   \n1985  4.985783e+05  4.608472e+05    34865.781   4.984015e+04     1.556528e+06   \n1986  6.287239e+05  5.817710e+05    44064.969   6.898620e+04     1.795500e+06   \n1987  7.426556e+05  6.910977e+05    47521.715   6.464965e+04     1.843022e+06   \n1988  8.148282e+05  7.544517e+05    55703.189   6.761058e+04     2.021294e+06   \n1989  1.123925e+06  1.048617e+06    69967.406   1.085505e+05     2.160324e+06   \n1990  1.164147e+06  1.087964e+06    69959.988   8.550142e+04     2.209809e+06   \n1991  1.137509e+06  1.064395e+06    66850.626   1.171588e+05     2.282740e+06   \n1992  1.090730e+06  1.017253e+06    67647.809   1.321120e+05     2.549764e+06   \n1993  1.773664e+06  1.662671e+06    92033.404   2.009039e+05     2.931808e+06   \n1994  1.586942e+06  1.510803e+06    70380.838   9.809770e+04     3.244155e+06   \n1995  2.079519e+06  1.970736e+06   100876.486   1.545827e+05     3.409911e+06   \n1996  2.225149e+06  2.116073e+06   101764.679   1.969169e+05     3.704481e+06   \n1997  3.106512e+06  2.966102e+06   130490.886   3.414489e+05     3.993006e+06   \n1998  5.027756e+06  4.769243e+06   240381.152   5.907703e+05     4.030230e+06   \n1999  6.116472e+06  5.796696e+06   297307.631   7.829493e+05     4.495541e+06   \n2000  7.357844e+06  6.954087e+06   377805.052   1.058149e+06     5.642915e+06   \n2001  7.616081e+06  7.185869e+06   406114.063   9.529482e+05     5.848453e+06   \n2002  7.428992e+06  7.030821e+06   378995.680   6.714276e+05     7.112361e+06   \n2003  8.885499e+06  8.419957e+06   440163.914   9.503177e+05     8.952065e+06   \n2004  1.139862e+07  1.076695e+07   597462.692   1.156325e+06     8.908568e+06   \n2005  1.418367e+07  1.349836e+07   619892.489   1.152371e+06     8.507563e+06   \n2006  1.536903e+07  1.459571e+07   711173.358   1.364352e+06     9.639986e+06   \n2007  1.903094e+07  1.819247e+07   723663.803   1.119172e+06     1.060904e+07   \n2008  1.972536e+07  1.886589e+07   605570.368   5.189121e+05     1.067326e+07   \n2009  1.831539e+07  1.721389e+07   940185.535   9.518142e+05     1.125394e+07   \n2010  1.982790e+07  1.860252e+07  1061529.937   1.023601e+06     1.139581e+07   \n2011  2.260939e+07  2.121015e+07  1217779.736   8.402949e+05     1.237521e+07   \n2012  2.277720e+07  2.130353e+07  1280018.287   1.137650e+06     1.316004e+07   \n\n      book_debt_bd  book_equity_bd  market_equity_bd  \nyear                                                  \n1960  4.155228e+04        6361.886      0.000000e+00  \n1961  4.312154e+04        6858.341      0.000000e+00  \n1962  4.864208e+04        7224.936      1.098830e+04  \n1963  1.154562e+05        9614.007      1.235573e+04  \n1964  1.290649e+05       10389.785      1.303588e+04  \n1965  1.445361e+05       11053.722      1.208050e+04  \n1966  1.576631e+05       11627.191      1.364269e+04  \n1967  1.832923e+05       12516.733      1.494430e+04  \n1968  2.077676e+05       13352.231      2.166649e+04  \n1969  2.316443e+05       14634.966      2.032446e+04  \n1970  2.604983e+05       15898.401      2.112900e+04  \n1971  3.020573e+05       17818.165      2.533138e+04  \n1972  3.660491e+05       19759.436      3.352991e+04  \n1973  4.484199e+05       21793.050      3.217291e+04  \n1974  5.092266e+05       24083.811      1.973322e+04  \n1975  5.163180e+05       26690.342      2.268422e+04  \n1976  5.602396e+05       28914.417      2.909996e+04  \n1977  6.379104e+05       31391.577      2.620527e+04  \n1978  7.569691e+05       36616.421      2.922266e+04  \n1979  8.544603e+05       40681.280      3.135571e+04  \n1980  9.432860e+05       45847.579      3.642811e+04  \n1981  1.034841e+06       51704.353      4.153153e+04  \n1982  1.170271e+06       59626.404      4.766615e+04  \n1983  1.238854e+06       65345.248      6.130513e+04  \n1984  1.341562e+06       71125.494      6.741218e+04  \n1985  1.470640e+06       79975.198      9.688958e+04  \n1986  1.694337e+06       94272.794      1.165620e+05  \n1987  1.742638e+06       92728.851      1.124230e+05  \n1988  1.899292e+06      112099.030      1.425166e+05  \n1989  2.029380e+06      119931.030      1.613102e+05  \n1990  2.075093e+06      125822.574      1.151027e+05  \n1991  2.133017e+06      134282.412      1.760103e+05  \n1992  2.368389e+06      161800.531      2.438994e+05  \n1993  2.709684e+06      202660.231      2.884820e+05  \n1994  3.005453e+06      218003.968      2.755068e+05  \n1995  3.154084e+06      235955.270      4.015357e+05  \n1996  3.424319e+06      260228.747      5.452762e+05  \n1997  3.697588e+06      276054.295      8.297630e+05  \n1998  3.733733e+06      279511.309      7.628656e+05  \n1999  4.163322e+06      312082.500      6.782630e+05  \n2000  5.218614e+06      395888.204      8.334781e+05  \n2001  5.396481e+06      425911.795      7.711019e+05  \n2002  6.592382e+06      490950.322      7.288031e+05  \n2003  8.343455e+06      565279.286      9.566217e+05  \n2004  8.231322e+06      630932.938      1.030398e+06  \n2005  7.924644e+06      542037.461      1.016041e+06  \n2006  8.908797e+06      672023.824      1.262346e+06  \n2007  9.808136e+06      728592.822      1.115644e+06  \n2008  9.930090e+06      625385.565      6.579827e+05  \n2009  1.044898e+07      685397.595      7.605879e+05  \n2010  1.050408e+07      780641.550      8.582152e+05  \n2011  1.141417e+07      851141.665      7.667509e+05  \n2012  1.212277e+07      915405.801      9.071094e+05  ",
      "text/html": "<div>\n<style scoped>\n    .dataframe tbody tr th:only-of-type {\n        vertical-align: middle;\n    }\n\n    .dataframe tbody tr th {\n        vertical-align: top;\n    }\n\n    .dataframe thead th {\n        text-align: right;\n    }\n</style>\n<table border=\"1\" class=\"dataframe\">\n  <thead>\n    <tr style=\"text-align: right;\">\n      <th></th>\n      <th>total_assets</th>\n      <th>book_debt</th>\n      <th>book_equity</th>\n      <th>market_equity</th>\n      <th>total_assets_bd</th>\n      <th>book_debt_bd</th>\n      <th>book_equity_bd</th>\n      <th>market_equity_bd</th>\n    </tr>\n    <tr>\n      <th>year</th>\n      <th></th>\n      <th></th>\n      <th></th>\n      <th></th>\n      <th></th>\n      <th></th>\n      <th></th>\n      <th></th>\n    </tr>\n  </thead>\n  <tbody>\n    <tr>\n      <th>1960</th>\n      <td>8.835297e+03</td>\n      <td>4.505152e+03</td>\n      <td>746.347</td>\n      <td>0.000000e+00</td>\n      <td>7.859907e+04</td>\n      <td>4.155228e+04</td>\n      <td>6361.886</td>\n      <td>0.000000e+00</td>\n    </tr>\n    <tr>\n      <th>1961</th>\n      <td>9.856233e+03</td>\n      <td>5.006815e+03</td>\n      <td>771.122</td>\n      <td>8.476998e+02</td>\n      <td>8.617633e+04</td>\n      <td>4.312154e+04</td>\n      <td>6858.341</td>\n      <td>0.000000e+00</td>\n    </tr>\n    <tr>\n      <th>1962</th>\n      <td>1.039177e+04</td>\n      <td>5.191507e+03</td>\n      <td>811.380</td>\n      <td>1.936547e+03</td>\n      <td>9.229629e+04</td>\n      <td>4.864208e+04</td>\n      <td>7224.936</td>\n      <td>1.098830e+04</td>\n    </tr>\n    <tr>\n      <th>1963</th>\n      <td>1.135703e+04</td>\n      <td>9.798979e+03</td>\n      <td>1377.017</td>\n      <td>1.962843e+03</td>\n      <td>1.263632e+05</td>\n      <td>1.154562e+05</td>\n      <td>9614.007</td>\n      <td>1.235573e+04</td>\n    </tr>\n    <tr>\n      <th>1964</th>\n      <td>1.885544e+04</td>\n      <td>1.670331e+04</td>\n      <td>1818.247</td>\n      <td>2.841011e+03</td>\n      <td>1.409299e+05</td>\n      <td>1.290649e+05</td>\n      <td>10389.785</td>\n      <td>1.303588e+04</td>\n    </tr>\n    <tr>\n      <th>1965</th>\n      <td>2.057146e+04</td>\n      <td>1.826910e+04</td>\n      <td>1920.637</td>\n      <td>2.882466e+03</td>\n      <td>1.574110e+05</td>\n      <td>1.445361e+05</td>\n      <td>11053.722</td>\n      <td>1.208050e+04</td>\n    </tr>\n    <tr>\n      <th>1966</th>\n      <td>2.191825e+04</td>\n      <td>1.952541e+04</td>\n      <td>2033.901</td>\n      <td>2.583758e+03</td>\n      <td>1.718237e+05</td>\n      <td>1.576631e+05</td>\n      <td>11627.191</td>\n      <td>1.364269e+04</td>\n    </tr>\n    <tr>\n      <th>1967</th>\n      <td>2.458797e+04</td>\n      <td>2.208529e+04</td>\n      <td>2122.413</td>\n      <td>2.702707e+03</td>\n      <td>1.987475e+05</td>\n      <td>1.832923e+05</td>\n      <td>12516.733</td>\n      <td>1.494430e+04</td>\n    </tr>\n    <tr>\n      <th>1968</th>\n      <td>2.771266e+04</td>\n      <td>2.507688e+04</td>\n      <td>2225.453</td>\n      <td>3.620185e+03</td>\n      <td>2.244083e+05</td>\n      <td>2.077676e+05</td>\n      <td>13352.231</td>\n      <td>2.166649e+04</td>\n    </tr>\n    <tr>\n      <th>1969</th>\n      <td>3.246661e+04</td>\n      <td>2.952803e+04</td>\n      <td>2469.511</td>\n      <td>3.213643e+03</td>\n      <td>2.493724e+05</td>\n      <td>2.316443e+05</td>\n      <td>14634.966</td>\n      <td>2.032446e+04</td>\n    </tr>\n    <tr>\n      <th>1970</th>\n      <td>3.834176e+04</td>\n      <td>3.496507e+04</td>\n      <td>2892.354</td>\n      <td>3.339911e+03</td>\n      <td>2.795517e+05</td>\n      <td>2.604983e+05</td>\n      <td>15898.401</td>\n      <td>2.112900e+04</td>\n    </tr>\n    <tr>\n      <th>1971</th>\n      <td>4.576397e+04</td>\n      <td>4.202574e+04</td>\n      <td>3229.665</td>\n      <td>4.482702e+03</td>\n      <td>3.231808e+05</td>\n      <td>3.020573e+05</td>\n      <td>17818.165</td>\n      <td>2.533138e+04</td>\n    </tr>\n    <tr>\n      <th>1972</th>\n      <td>5.536908e+04</td>\n      <td>5.146461e+04</td>\n      <td>3384.766</td>\n      <td>4.862431e+03</td>\n      <td>3.893781e+05</td>\n      <td>3.660491e+05</td>\n      <td>19759.436</td>\n      <td>3.352991e+04</td>\n    </tr>\n    <tr>\n      <th>1973</th>\n      <td>7.021171e+04</td>\n      <td>6.586432e+04</td>\n      <td>3740.116</td>\n      <td>3.970551e+03</td>\n      <td>4.742442e+05</td>\n      <td>4.484199e+05</td>\n      <td>21793.050</td>\n      <td>3.217291e+04</td>\n    </tr>\n    <tr>\n      <th>1974</th>\n      <td>7.848777e+04</td>\n      <td>7.372397e+04</td>\n      <td>3996.323</td>\n      <td>2.592040e+03</td>\n      <td>5.377937e+05</td>\n      <td>5.092266e+05</td>\n      <td>24083.811</td>\n      <td>1.973322e+04</td>\n    </tr>\n    <tr>\n      <th>1975</th>\n      <td>8.157608e+04</td>\n      <td>7.702992e+04</td>\n      <td>4458.659</td>\n      <td>3.062454e+03</td>\n      <td>5.445676e+05</td>\n      <td>5.163180e+05</td>\n      <td>26690.342</td>\n      <td>2.268422e+04</td>\n    </tr>\n    <tr>\n      <th>1976</th>\n      <td>9.030359e+04</td>\n      <td>8.536055e+04</td>\n      <td>4850.514</td>\n      <td>4.639833e+03</td>\n      <td>5.894864e+05</td>\n      <td>5.602396e+05</td>\n      <td>28914.417</td>\n      <td>2.909996e+04</td>\n    </tr>\n    <tr>\n      <th>1977</th>\n      <td>1.063348e+05</td>\n      <td>1.008022e+05</td>\n      <td>5346.312</td>\n      <td>4.284289e+03</td>\n      <td>6.698816e+05</td>\n      <td>6.379104e+05</td>\n      <td>31391.577</td>\n      <td>2.620527e+04</td>\n    </tr>\n    <tr>\n      <th>1978</th>\n      <td>1.249964e+05</td>\n      <td>1.182569e+05</td>\n      <td>6579.715</td>\n      <td>4.414297e+03</td>\n      <td>7.944357e+05</td>\n      <td>7.569691e+05</td>\n      <td>36616.421</td>\n      <td>2.922266e+04</td>\n    </tr>\n    <tr>\n      <th>1979</th>\n      <td>1.642534e+05</td>\n      <td>1.492979e+05</td>\n      <td>14643.052</td>\n      <td>1.653838e+04</td>\n      <td>8.959792e+05</td>\n      <td>8.544603e+05</td>\n      <td>40681.280</td>\n      <td>3.135571e+04</td>\n    </tr>\n    <tr>\n      <th>1980</th>\n      <td>1.833495e+05</td>\n      <td>1.666100e+05</td>\n      <td>16396.739</td>\n      <td>2.023590e+04</td>\n      <td>9.902394e+05</td>\n      <td>9.432860e+05</td>\n      <td>45847.579</td>\n      <td>3.642811e+04</td>\n    </tr>\n    <tr>\n      <th>1981</th>\n      <td>2.066243e+05</td>\n      <td>1.879342e+05</td>\n      <td>18361.552</td>\n      <td>2.007643e+04</td>\n      <td>1.087751e+06</td>\n      <td>1.034841e+06</td>\n      <td>51704.353</td>\n      <td>4.153153e+04</td>\n    </tr>\n    <tr>\n      <th>1982</th>\n      <td>2.201037e+05</td>\n      <td>1.994307e+05</td>\n      <td>20120.893</td>\n      <td>2.935261e+04</td>\n      <td>1.232060e+06</td>\n      <td>1.170271e+06</td>\n      <td>59626.404</td>\n      <td>4.766615e+04</td>\n    </tr>\n    <tr>\n      <th>1983</th>\n      <td>3.334537e+05</td>\n      <td>3.057589e+05</td>\n      <td>26269.035</td>\n      <td>3.952904e+04</td>\n      <td>1.308789e+06</td>\n      <td>1.238854e+06</td>\n      <td>65345.248</td>\n      <td>6.130513e+04</td>\n    </tr>\n    <tr>\n      <th>1984</th>\n      <td>4.410808e+05</td>\n      <td>4.071473e+05</td>\n      <td>31166.377</td>\n      <td>3.871165e+04</td>\n      <td>1.418346e+06</td>\n      <td>1.341562e+06</td>\n      <td>71125.494</td>\n      <td>6.741218e+04</td>\n    </tr>\n    <tr>\n      <th>1985</th>\n      <td>4.985783e+05</td>\n      <td>4.608472e+05</td>\n      <td>34865.781</td>\n      <td>4.984015e+04</td>\n      <td>1.556528e+06</td>\n      <td>1.470640e+06</td>\n      <td>79975.198</td>\n      <td>9.688958e+04</td>\n    </tr>\n    <tr>\n      <th>1986</th>\n      <td>6.287239e+05</td>\n      <td>5.817710e+05</td>\n      <td>44064.969</td>\n      <td>6.898620e+04</td>\n      <td>1.795500e+06</td>\n      <td>1.694337e+06</td>\n      <td>94272.794</td>\n      <td>1.165620e+05</td>\n    </tr>\n    <tr>\n      <th>1987</th>\n      <td>7.426556e+05</td>\n      <td>6.910977e+05</td>\n      <td>47521.715</td>\n      <td>6.464965e+04</td>\n      <td>1.843022e+06</td>\n      <td>1.742638e+06</td>\n      <td>92728.851</td>\n      <td>1.124230e+05</td>\n    </tr>\n    <tr>\n      <th>1988</th>\n      <td>8.148282e+05</td>\n      <td>7.544517e+05</td>\n      <td>55703.189</td>\n      <td>6.761058e+04</td>\n      <td>2.021294e+06</td>\n      <td>1.899292e+06</td>\n      <td>112099.030</td>\n      <td>1.425166e+05</td>\n    </tr>\n    <tr>\n      <th>1989</th>\n      <td>1.123925e+06</td>\n      <td>1.048617e+06</td>\n      <td>69967.406</td>\n      <td>1.085505e+05</td>\n      <td>2.160324e+06</td>\n      <td>2.029380e+06</td>\n      <td>119931.030</td>\n      <td>1.613102e+05</td>\n    </tr>\n    <tr>\n      <th>1990</th>\n      <td>1.164147e+06</td>\n      <td>1.087964e+06</td>\n      <td>69959.988</td>\n      <td>8.550142e+04</td>\n      <td>2.209809e+06</td>\n      <td>2.075093e+06</td>\n      <td>125822.574</td>\n      <td>1.151027e+05</td>\n    </tr>\n    <tr>\n      <th>1991</th>\n      <td>1.137509e+06</td>\n      <td>1.064395e+06</td>\n      <td>66850.626</td>\n      <td>1.171588e+05</td>\n      <td>2.282740e+06</td>\n      <td>2.133017e+06</td>\n      <td>134282.412</td>\n      <td>1.760103e+05</td>\n    </tr>\n    <tr>\n      <th>1992</th>\n      <td>1.090730e+06</td>\n      <td>1.017253e+06</td>\n      <td>67647.809</td>\n      <td>1.321120e+05</td>\n      <td>2.549764e+06</td>\n      <td>2.368389e+06</td>\n      <td>161800.531</td>\n      <td>2.438994e+05</td>\n    </tr>\n    <tr>\n      <th>1993</th>\n      <td>1.773664e+06</td>\n      <td>1.662671e+06</td>\n      <td>92033.404</td>\n      <td>2.009039e+05</td>\n      <td>2.931808e+06</td>\n      <td>2.709684e+06</td>\n      <td>202660.231</td>\n      <td>2.884820e+05</td>\n    </tr>\n    <tr>\n      <th>1994</th>\n      <td>1.586942e+06</td>\n      <td>1.510803e+06</td>\n      <td>70380.838</td>\n      <td>9.809770e+04</td>\n      <td>3.244155e+06</td>\n      <td>3.005453e+06</td>\n      <td>218003.968</td>\n      <td>2.755068e+05</td>\n    </tr>\n    <tr>\n      <th>1995</th>\n      <td>2.079519e+06</td>\n      <td>1.970736e+06</td>\n      <td>100876.486</td>\n      <td>1.545827e+05</td>\n      <td>3.409911e+06</td>\n      <td>3.154084e+06</td>\n      <td>235955.270</td>\n      <td>4.015357e+05</td>\n    </tr>\n    <tr>\n      <th>1996</th>\n      <td>2.225149e+06</td>\n      <td>2.116073e+06</td>\n      <td>101764.679</td>\n      <td>1.969169e+05</td>\n      <td>3.704481e+06</td>\n      <td>3.424319e+06</td>\n      <td>260228.747</td>\n      <td>5.452762e+05</td>\n    </tr>\n    <tr>\n      <th>1997</th>\n      <td>3.106512e+06</td>\n      <td>2.966102e+06</td>\n      <td>130490.886</td>\n      <td>3.414489e+05</td>\n      <td>3.993006e+06</td>\n      <td>3.697588e+06</td>\n      <td>276054.295</td>\n      <td>8.297630e+05</td>\n    </tr>\n    <tr>\n      <th>1998</th>\n      <td>5.027756e+06</td>\n      <td>4.769243e+06</td>\n      <td>240381.152</td>\n      <td>5.907703e+05</td>\n      <td>4.030230e+06</td>\n      <td>3.733733e+06</td>\n      <td>279511.309</td>\n      <td>7.628656e+05</td>\n    </tr>\n    <tr>\n      <th>1999</th>\n      <td>6.116472e+06</td>\n      <td>5.796696e+06</td>\n      <td>297307.631</td>\n      <td>7.829493e+05</td>\n      <td>4.495541e+06</td>\n      <td>4.163322e+06</td>\n      <td>312082.500</td>\n      <td>6.782630e+05</td>\n    </tr>\n    <tr>\n      <th>2000</th>\n      <td>7.357844e+06</td>\n      <td>6.954087e+06</td>\n      <td>377805.052</td>\n      <td>1.058149e+06</td>\n      <td>5.642915e+06</td>\n      <td>5.218614e+06</td>\n      <td>395888.204</td>\n      <td>8.334781e+05</td>\n    </tr>\n    <tr>\n      <th>2001</th>\n      <td>7.616081e+06</td>\n      <td>7.185869e+06</td>\n      <td>406114.063</td>\n      <td>9.529482e+05</td>\n      <td>5.848453e+06</td>\n      <td>5.396481e+06</td>\n      <td>425911.795</td>\n      <td>7.711019e+05</td>\n    </tr>\n    <tr>\n      <th>2002</th>\n      <td>7.428992e+06</td>\n      <td>7.030821e+06</td>\n      <td>378995.680</td>\n      <td>6.714276e+05</td>\n      <td>7.112361e+06</td>\n      <td>6.592382e+06</td>\n      <td>490950.322</td>\n      <td>7.288031e+05</td>\n    </tr>\n    <tr>\n      <th>2003</th>\n      <td>8.885499e+06</td>\n      <td>8.419957e+06</td>\n      <td>440163.914</td>\n      <td>9.503177e+05</td>\n      <td>8.952065e+06</td>\n      <td>8.343455e+06</td>\n      <td>565279.286</td>\n      <td>9.566217e+05</td>\n    </tr>\n    <tr>\n      <th>2004</th>\n      <td>1.139862e+07</td>\n      <td>1.076695e+07</td>\n      <td>597462.692</td>\n      <td>1.156325e+06</td>\n      <td>8.908568e+06</td>\n      <td>8.231322e+06</td>\n      <td>630932.938</td>\n      <td>1.030398e+06</td>\n    </tr>\n    <tr>\n      <th>2005</th>\n      <td>1.418367e+07</td>\n      <td>1.349836e+07</td>\n      <td>619892.489</td>\n      <td>1.152371e+06</td>\n      <td>8.507563e+06</td>\n      <td>7.924644e+06</td>\n      <td>542037.461</td>\n      <td>1.016041e+06</td>\n    </tr>\n    <tr>\n      <th>2006</th>\n      <td>1.536903e+07</td>\n      <td>1.459571e+07</td>\n      <td>711173.358</td>\n      <td>1.364352e+06</td>\n      <td>9.639986e+06</td>\n      <td>8.908797e+06</td>\n      <td>672023.824</td>\n      <td>1.262346e+06</td>\n    </tr>\n    <tr>\n      <th>2007</th>\n      <td>1.903094e+07</td>\n      <td>1.819247e+07</td>\n      <td>723663.803</td>\n      <td>1.119172e+06</td>\n      <td>1.060904e+07</td>\n      <td>9.808136e+06</td>\n      <td>728592.822</td>\n      <td>1.115644e+06</td>\n    </tr>\n    <tr>\n      <th>2008</th>\n      <td>1.972536e+07</td>\n      <td>1.886589e+07</td>\n      <td>605570.368</td>\n      <td>5.189121e+05</td>\n      <td>1.067326e+07</td>\n      <td>9.930090e+06</td>\n      <td>625385.565</td>\n      <td>6.579827e+05</td>\n    </tr>\n    <tr>\n      <th>2009</th>\n      <td>1.831539e+07</td>\n      <td>1.721389e+07</td>\n      <td>940185.535</td>\n      <td>9.518142e+05</td>\n      <td>1.125394e+07</td>\n      <td>1.044898e+07</td>\n      <td>685397.595</td>\n      <td>7.605879e+05</td>\n    </tr>\n    <tr>\n      <th>2010</th>\n      <td>1.982790e+07</td>\n      <td>1.860252e+07</td>\n      <td>1061529.937</td>\n      <td>1.023601e+06</td>\n      <td>1.139581e+07</td>\n      <td>1.050408e+07</td>\n      <td>780641.550</td>\n      <td>8.582152e+05</td>\n    </tr>\n    <tr>\n      <th>2011</th>\n      <td>2.260939e+07</td>\n      <td>2.121015e+07</td>\n      <td>1217779.736</td>\n      <td>8.402949e+05</td>\n      <td>1.237521e+07</td>\n      <td>1.141417e+07</td>\n      <td>851141.665</td>\n      <td>7.667509e+05</td>\n    </tr>\n    <tr>\n      <th>2012</th>\n      <td>2.277720e+07</td>\n      <td>2.130353e+07</td>\n      <td>1280018.287</td>\n      <td>1.137650e+06</td>\n      <td>1.316004e+07</td>\n      <td>1.212277e+07</td>\n      <td>915405.801</td>\n      <td>9.071094e+05</td>\n    </tr>\n  </tbody>\n</table>\n</div>"
     },
     "execution_count": 148,
     "metadata": {},
     "output_type": "execute_result"
    }
   ],
   "source": [
    "merged_pd_banks = pd.merge(yearly_sum_pd, yearly_sum_banks, left_on='datadate', right_on='datadate')\n",
    "merged_pd_banks.index = pd.to_datetime(merged_pd_banks['datadate'])\n",
    "merged_pd_banks['year'] = pd.to_datetime(merged_pd_banks['datadate']).dt.year\n",
    "merged_pd_banks = merged_pd_banks.groupby('year').agg({\n",
    "    'total_assets': 'sum',\n",
    "    'book_debt': 'sum',\n",
    "    'book_equity': 'sum',\n",
    "    'market_equity': 'sum',\n",
    "    'total_assets_bd': 'sum',\n",
    "    'book_debt_bd': 'sum',\n",
    "    'book_equity_bd': 'sum',\n",
    "    'market_equity_bd': 'sum'\n",
    "})\n",
    "merged_pd_banks"
   ],
   "metadata": {
    "collapsed": false,
    "ExecuteTime": {
     "end_time": "2024-02-19T20:48:00.833736400Z",
     "start_time": "2024-02-19T20:48:00.779041100Z"
    }
   },
   "id": "a268815d02b02f6d"
  },
  {
   "cell_type": "code",
   "execution_count": 151,
   "outputs": [
    {
     "data": {
      "text/plain": "      tot_assets_rat  book_debt_rat  book_equity_rat  market_equity_rat\nyear                                                                   \n1960        0.101051       0.097816         0.104998                NaN\n1961        0.102634       0.104030         0.101072           1.000000\n1962        0.101197       0.096436         0.100964           0.149831\n1963        0.082464       0.078232         0.125286           0.137084\n1964        0.118005       0.114588         0.148939           0.178940\n1965        0.115581       0.112214         0.148033           0.192640\n1966        0.113131       0.110196         0.148883           0.159231\n1967        0.110094       0.107535         0.144982           0.153154\n1968        0.109918       0.107698         0.142862           0.143166\n1969        0.115196       0.113060         0.144378           0.136529\n1970        0.120612       0.118340         0.153924           0.136496\n1971        0.124040       0.122138         0.153444           0.150355\n1972        0.124496       0.123264         0.146247           0.126651\n1973        0.128958       0.128070         0.146481           0.109855\n1974        0.127357       0.126467         0.142319           0.116103\n1975        0.130283       0.129823         0.143140           0.118946\n1976        0.132840       0.132219         0.143655           0.137518\n1977        0.136991       0.136457         0.145526           0.140517\n1978        0.135950       0.135116         0.152322           0.131234\n1979        0.154922       0.148739         0.264677           0.345312\n1980        0.156230       0.150113         0.263425           0.357121\n1981        0.159632       0.153695         0.262061           0.325874\n1982        0.151570       0.145602         0.252308           0.381110\n1983        0.203048       0.197952         0.286735           0.392020\n1984        0.237213       0.232827         0.304681           0.364778\n1985        0.242605       0.238597         0.303601           0.339673\n1986        0.259351       0.255599         0.318532           0.371797\n1987        0.287219       0.283966         0.338834           0.365102\n1988        0.287304       0.284297         0.331957           0.321760\n1989        0.342217       0.340682         0.368446           0.402246\n1990        0.345039       0.343960         0.357335           0.426220\n1991        0.332581       0.332893         0.332370           0.399629\n1992        0.299610       0.300461         0.294828           0.351351\n1993        0.376936       0.380269         0.312302           0.410522\n1994        0.328485       0.334525         0.244052           0.262571\n1995        0.378822       0.384547         0.299486           0.277967\n1996        0.375259       0.381936         0.281123           0.265318\n1997        0.437567       0.445114         0.320975           0.291535\n1998        0.555063       0.560891         0.462367           0.436432\n1999        0.576372       0.581997         0.487877           0.535822\n2000        0.565955       0.571285         0.488314           0.559386\n2001        0.565640       0.571107         0.488103           0.552738\n2002        0.510887       0.516092         0.435654           0.479512\n2003        0.498134       0.502282         0.437781           0.498347\n2004        0.561310       0.566733         0.486376           0.528794\n2005        0.625073       0.630087         0.533502           0.531436\n2006        0.614540       0.620975         0.514152           0.519417\n2007        0.642070       0.649717         0.498303           0.500789\n2008        0.648890       0.655157         0.491951           0.440916\n2009        0.619405       0.622274         0.578368           0.555836\n2010        0.635027       0.639117         0.576238           0.543943\n2011        0.646267       0.650133         0.588606           0.522882\n2012        0.633805       0.637328         0.583039           0.556373",
      "text/html": "<div>\n<style scoped>\n    .dataframe tbody tr th:only-of-type {\n        vertical-align: middle;\n    }\n\n    .dataframe tbody tr th {\n        vertical-align: top;\n    }\n\n    .dataframe thead th {\n        text-align: right;\n    }\n</style>\n<table border=\"1\" class=\"dataframe\">\n  <thead>\n    <tr style=\"text-align: right;\">\n      <th></th>\n      <th>tot_assets_rat</th>\n      <th>book_debt_rat</th>\n      <th>book_equity_rat</th>\n      <th>market_equity_rat</th>\n    </tr>\n    <tr>\n      <th>year</th>\n      <th></th>\n      <th></th>\n      <th></th>\n      <th></th>\n    </tr>\n  </thead>\n  <tbody>\n    <tr>\n      <th>1960</th>\n      <td>0.101051</td>\n      <td>0.097816</td>\n      <td>0.104998</td>\n      <td>NaN</td>\n    </tr>\n    <tr>\n      <th>1961</th>\n      <td>0.102634</td>\n      <td>0.104030</td>\n      <td>0.101072</td>\n      <td>1.000000</td>\n    </tr>\n    <tr>\n      <th>1962</th>\n      <td>0.101197</td>\n      <td>0.096436</td>\n      <td>0.100964</td>\n      <td>0.149831</td>\n    </tr>\n    <tr>\n      <th>1963</th>\n      <td>0.082464</td>\n      <td>0.078232</td>\n      <td>0.125286</td>\n      <td>0.137084</td>\n    </tr>\n    <tr>\n      <th>1964</th>\n      <td>0.118005</td>\n      <td>0.114588</td>\n      <td>0.148939</td>\n      <td>0.178940</td>\n    </tr>\n    <tr>\n      <th>1965</th>\n      <td>0.115581</td>\n      <td>0.112214</td>\n      <td>0.148033</td>\n      <td>0.192640</td>\n    </tr>\n    <tr>\n      <th>1966</th>\n      <td>0.113131</td>\n      <td>0.110196</td>\n      <td>0.148883</td>\n      <td>0.159231</td>\n    </tr>\n    <tr>\n      <th>1967</th>\n      <td>0.110094</td>\n      <td>0.107535</td>\n      <td>0.144982</td>\n      <td>0.153154</td>\n    </tr>\n    <tr>\n      <th>1968</th>\n      <td>0.109918</td>\n      <td>0.107698</td>\n      <td>0.142862</td>\n      <td>0.143166</td>\n    </tr>\n    <tr>\n      <th>1969</th>\n      <td>0.115196</td>\n      <td>0.113060</td>\n      <td>0.144378</td>\n      <td>0.136529</td>\n    </tr>\n    <tr>\n      <th>1970</th>\n      <td>0.120612</td>\n      <td>0.118340</td>\n      <td>0.153924</td>\n      <td>0.136496</td>\n    </tr>\n    <tr>\n      <th>1971</th>\n      <td>0.124040</td>\n      <td>0.122138</td>\n      <td>0.153444</td>\n      <td>0.150355</td>\n    </tr>\n    <tr>\n      <th>1972</th>\n      <td>0.124496</td>\n      <td>0.123264</td>\n      <td>0.146247</td>\n      <td>0.126651</td>\n    </tr>\n    <tr>\n      <th>1973</th>\n      <td>0.128958</td>\n      <td>0.128070</td>\n      <td>0.146481</td>\n      <td>0.109855</td>\n    </tr>\n    <tr>\n      <th>1974</th>\n      <td>0.127357</td>\n      <td>0.126467</td>\n      <td>0.142319</td>\n      <td>0.116103</td>\n    </tr>\n    <tr>\n      <th>1975</th>\n      <td>0.130283</td>\n      <td>0.129823</td>\n      <td>0.143140</td>\n      <td>0.118946</td>\n    </tr>\n    <tr>\n      <th>1976</th>\n      <td>0.132840</td>\n      <td>0.132219</td>\n      <td>0.143655</td>\n      <td>0.137518</td>\n    </tr>\n    <tr>\n      <th>1977</th>\n      <td>0.136991</td>\n      <td>0.136457</td>\n      <td>0.145526</td>\n      <td>0.140517</td>\n    </tr>\n    <tr>\n      <th>1978</th>\n      <td>0.135950</td>\n      <td>0.135116</td>\n      <td>0.152322</td>\n      <td>0.131234</td>\n    </tr>\n    <tr>\n      <th>1979</th>\n      <td>0.154922</td>\n      <td>0.148739</td>\n      <td>0.264677</td>\n      <td>0.345312</td>\n    </tr>\n    <tr>\n      <th>1980</th>\n      <td>0.156230</td>\n      <td>0.150113</td>\n      <td>0.263425</td>\n      <td>0.357121</td>\n    </tr>\n    <tr>\n      <th>1981</th>\n      <td>0.159632</td>\n      <td>0.153695</td>\n      <td>0.262061</td>\n      <td>0.325874</td>\n    </tr>\n    <tr>\n      <th>1982</th>\n      <td>0.151570</td>\n      <td>0.145602</td>\n      <td>0.252308</td>\n      <td>0.381110</td>\n    </tr>\n    <tr>\n      <th>1983</th>\n      <td>0.203048</td>\n      <td>0.197952</td>\n      <td>0.286735</td>\n      <td>0.392020</td>\n    </tr>\n    <tr>\n      <th>1984</th>\n      <td>0.237213</td>\n      <td>0.232827</td>\n      <td>0.304681</td>\n      <td>0.364778</td>\n    </tr>\n    <tr>\n      <th>1985</th>\n      <td>0.242605</td>\n      <td>0.238597</td>\n      <td>0.303601</td>\n      <td>0.339673</td>\n    </tr>\n    <tr>\n      <th>1986</th>\n      <td>0.259351</td>\n      <td>0.255599</td>\n      <td>0.318532</td>\n      <td>0.371797</td>\n    </tr>\n    <tr>\n      <th>1987</th>\n      <td>0.287219</td>\n      <td>0.283966</td>\n      <td>0.338834</td>\n      <td>0.365102</td>\n    </tr>\n    <tr>\n      <th>1988</th>\n      <td>0.287304</td>\n      <td>0.284297</td>\n      <td>0.331957</td>\n      <td>0.321760</td>\n    </tr>\n    <tr>\n      <th>1989</th>\n      <td>0.342217</td>\n      <td>0.340682</td>\n      <td>0.368446</td>\n      <td>0.402246</td>\n    </tr>\n    <tr>\n      <th>1990</th>\n      <td>0.345039</td>\n      <td>0.343960</td>\n      <td>0.357335</td>\n      <td>0.426220</td>\n    </tr>\n    <tr>\n      <th>1991</th>\n      <td>0.332581</td>\n      <td>0.332893</td>\n      <td>0.332370</td>\n      <td>0.399629</td>\n    </tr>\n    <tr>\n      <th>1992</th>\n      <td>0.299610</td>\n      <td>0.300461</td>\n      <td>0.294828</td>\n      <td>0.351351</td>\n    </tr>\n    <tr>\n      <th>1993</th>\n      <td>0.376936</td>\n      <td>0.380269</td>\n      <td>0.312302</td>\n      <td>0.410522</td>\n    </tr>\n    <tr>\n      <th>1994</th>\n      <td>0.328485</td>\n      <td>0.334525</td>\n      <td>0.244052</td>\n      <td>0.262571</td>\n    </tr>\n    <tr>\n      <th>1995</th>\n      <td>0.378822</td>\n      <td>0.384547</td>\n      <td>0.299486</td>\n      <td>0.277967</td>\n    </tr>\n    <tr>\n      <th>1996</th>\n      <td>0.375259</td>\n      <td>0.381936</td>\n      <td>0.281123</td>\n      <td>0.265318</td>\n    </tr>\n    <tr>\n      <th>1997</th>\n      <td>0.437567</td>\n      <td>0.445114</td>\n      <td>0.320975</td>\n      <td>0.291535</td>\n    </tr>\n    <tr>\n      <th>1998</th>\n      <td>0.555063</td>\n      <td>0.560891</td>\n      <td>0.462367</td>\n      <td>0.436432</td>\n    </tr>\n    <tr>\n      <th>1999</th>\n      <td>0.576372</td>\n      <td>0.581997</td>\n      <td>0.487877</td>\n      <td>0.535822</td>\n    </tr>\n    <tr>\n      <th>2000</th>\n      <td>0.565955</td>\n      <td>0.571285</td>\n      <td>0.488314</td>\n      <td>0.559386</td>\n    </tr>\n    <tr>\n      <th>2001</th>\n      <td>0.565640</td>\n      <td>0.571107</td>\n      <td>0.488103</td>\n      <td>0.552738</td>\n    </tr>\n    <tr>\n      <th>2002</th>\n      <td>0.510887</td>\n      <td>0.516092</td>\n      <td>0.435654</td>\n      <td>0.479512</td>\n    </tr>\n    <tr>\n      <th>2003</th>\n      <td>0.498134</td>\n      <td>0.502282</td>\n      <td>0.437781</td>\n      <td>0.498347</td>\n    </tr>\n    <tr>\n      <th>2004</th>\n      <td>0.561310</td>\n      <td>0.566733</td>\n      <td>0.486376</td>\n      <td>0.528794</td>\n    </tr>\n    <tr>\n      <th>2005</th>\n      <td>0.625073</td>\n      <td>0.630087</td>\n      <td>0.533502</td>\n      <td>0.531436</td>\n    </tr>\n    <tr>\n      <th>2006</th>\n      <td>0.614540</td>\n      <td>0.620975</td>\n      <td>0.514152</td>\n      <td>0.519417</td>\n    </tr>\n    <tr>\n      <th>2007</th>\n      <td>0.642070</td>\n      <td>0.649717</td>\n      <td>0.498303</td>\n      <td>0.500789</td>\n    </tr>\n    <tr>\n      <th>2008</th>\n      <td>0.648890</td>\n      <td>0.655157</td>\n      <td>0.491951</td>\n      <td>0.440916</td>\n    </tr>\n    <tr>\n      <th>2009</th>\n      <td>0.619405</td>\n      <td>0.622274</td>\n      <td>0.578368</td>\n      <td>0.555836</td>\n    </tr>\n    <tr>\n      <th>2010</th>\n      <td>0.635027</td>\n      <td>0.639117</td>\n      <td>0.576238</td>\n      <td>0.543943</td>\n    </tr>\n    <tr>\n      <th>2011</th>\n      <td>0.646267</td>\n      <td>0.650133</td>\n      <td>0.588606</td>\n      <td>0.522882</td>\n    </tr>\n    <tr>\n      <th>2012</th>\n      <td>0.633805</td>\n      <td>0.637328</td>\n      <td>0.583039</td>\n      <td>0.556373</td>\n    </tr>\n  </tbody>\n</table>\n</div>"
     },
     "execution_count": 151,
     "metadata": {},
     "output_type": "execute_result"
    }
   ],
   "source": [
    "merged_pd_banks['tot_assets_rat'] = merged_pd_banks['total_assets']/(merged_pd_banks['total_assets_bd']+merged_pd_banks['total_assets'])\n",
    "merged_pd_banks['book_debt_rat'] = merged_pd_banks['book_debt']/(merged_pd_banks['book_debt_bd']+merged_pd_banks['book_debt'])\n",
    "merged_pd_banks['book_equity_rat'] = merged_pd_banks['book_equity']/(merged_pd_banks['book_equity_bd']+merged_pd_banks['book_equity'])\n",
    "merged_pd_banks['market_equity_rat'] = merged_pd_banks['market_equity']/(merged_pd_banks['market_equity_bd']+merged_pd_banks['market_equity'])\n",
    "merged_pd_banks[['tot_assets_rat', 'book_debt_rat', 'book_equity_rat','market_equity_rat']]\n",
    "# these ratios are between 0.1 and 0.2 off of the paper's numbers for banks"
   ],
   "metadata": {
    "collapsed": false,
    "ExecuteTime": {
     "end_time": "2024-02-19T20:50:09.719156900Z",
     "start_time": "2024-02-19T20:50:09.693022700Z"
    }
   },
   "id": "215353ee87d33d43"
  },
  {
   "cell_type": "code",
   "execution_count": 179,
   "outputs": [
    {
     "data": {
      "text/plain": "                          Primary Dealer                      Holding Company  \\\n12                   Becker Paribas Inc.                       Banque Paribas   \n19                Brophy, Gestal, Knight                                  NaN   \n23       CARROLL MCENTEE & MCGINLEY INC.                                  NaN   \n24                C.F. CHILDS & CO., INC                                  NaN   \n26               CHEMICAL SECURITIES INC            Chemical Bank Corporation   \n42                Drexel Burnham Lambert                                  NaN   \n43                  D.W. RICH & CO., INC                                  NaN   \n44               EASTBRIDGE CAPITAL INC.                                  NaN   \n45                             FI Dupont                                  NaN   \n50                FIRST PENNCO SEC. INC.                                  NaN   \n54          HARRIS GOVERNMENT SECURITIES                                  NaN   \n57               IRVING SECURITIES, INC.                 Irving Trust Company   \n61    KLEINWORT BENSON  GOV'T SEC., INC.               Kleinwort Benson Group   \n66                  MALON S. ANDRUS INC.                                  NaN   \n76          THE NIKKO SECURITIES CO. INT           Nikko Securities Co., Ltd.   \n80                NUVEEN GOV'T SEC. INC.                   Nuveen Corporation   \n81                          NY Hanseatic                                  NaN   \n84                   PARIBAS CORPORATION                    BNP Paribas Group   \n88                    Robertson Stephens                                  NaN   \n91         SANWA SECURITIES (USA) CO., L                      Sanwa Bank Ltd.   \n92          SBC WARBURG DILLON READ INC.         Swiss Bank Corporation (SBC)   \n93   SECOND DISTRICT SECURITIES CO., INC                                  NaN   \n94                     Securities Groups                                  NaN   \n98             SG COWEN SECURITIES CORP.                Société Générale S.A.   \n99              S.G. WARBURG & CO., INC.               S.G. Warburg Group PLC   \n104     THOMSON MCKINNON SECURITIES INC.          Thomson McKinnon Group Inc.   \n107        WERTHEIM SCHRODER & CO., INC.         Schroder Wertheim & Co. Inc.   \n110       YAMAICHI INT'L (AMERICA), INC.  Yamaichi Securities Company Limited   \n\n                   Ticker  Start Date   End Date  Permco  gvkey  \n12   BNP (Euronext Paris)  11/17/1971 1984-09-10       0      0  \n19                    NaN    5/8/1987 1988-06-19       0      0  \n23                    NaN   9/29/1976 1994-05-06       0      0  \n24                    NaN   5/19/1960 1965-06-29       0      0  \n26             CHL (NYSE)   5/19/1960 1996-03-31       0      0  \n42                    NaN   5/19/1960 1990-03-28       0      0  \n43                    NaN   5/19/1960 1969-12-31       0      0  \n44                    NaN   6/18/1992 1998-05-29       0      0  \n45                    NaN  12/12/1968 1973-07-18       0      0  \n50                    NaN    3/7/1974 1980-08-27       0      0  \n54                    NaN   7/15/1965 1995-05-31       0      0  \n57                    NaN   5/19/1960 1989-07-31       0      0  \n61                    NaN   2/13/1980 1989-12-27       0      0  \n66                    NaN   5/19/1960 1965-11-24       0      0  \n76                   8601  12/22/1987 1999-01-03       0      0  \n80                    NaN  11/18/1971 1980-08-27       0      0  \n81                    NaN    2/8/1984 1984-07-26       0      0  \n84   BNP (Euronext Paris)    5/1/1997 2000-09-14       0      0  \n88                    NaN   10/1/1997 1998-09-30       0      0  \n91                    NaN   6/20/1988 1998-07-20       0      0  \n92                    SBC   3/29/1990 1998-06-28       0      0  \n93                    NaN   6/15/1961 1980-08-27       0      0  \n94                    NaN   5/19/1960 1983-06-05       0      0  \n98   GLE (Euronext Paris)    7/1/1999 2001-10-31       0      0  \n99             UBS (NYSE)   6/24/1988 1995-07-26       0      0  \n104                   NaN  12/11/1986 1989-07-07       0      0  \n107                   NaN   6/24/1988 1990-11-08       0      0  \n110                   NaN   9/29/1988 1997-12-04       0      0  ",
      "text/html": "<div>\n<style scoped>\n    .dataframe tbody tr th:only-of-type {\n        vertical-align: middle;\n    }\n\n    .dataframe tbody tr th {\n        vertical-align: top;\n    }\n\n    .dataframe thead th {\n        text-align: right;\n    }\n</style>\n<table border=\"1\" class=\"dataframe\">\n  <thead>\n    <tr style=\"text-align: right;\">\n      <th></th>\n      <th>Primary Dealer</th>\n      <th>Holding Company</th>\n      <th>Ticker</th>\n      <th>Start Date</th>\n      <th>End Date</th>\n      <th>Permco</th>\n      <th>gvkey</th>\n    </tr>\n  </thead>\n  <tbody>\n    <tr>\n      <th>12</th>\n      <td>Becker Paribas Inc.</td>\n      <td>Banque Paribas</td>\n      <td>BNP (Euronext Paris)</td>\n      <td>11/17/1971</td>\n      <td>1984-09-10</td>\n      <td>0</td>\n      <td>0</td>\n    </tr>\n    <tr>\n      <th>19</th>\n      <td>Brophy, Gestal, Knight</td>\n      <td>NaN</td>\n      <td>NaN</td>\n      <td>5/8/1987</td>\n      <td>1988-06-19</td>\n      <td>0</td>\n      <td>0</td>\n    </tr>\n    <tr>\n      <th>23</th>\n      <td>CARROLL MCENTEE &amp; MCGINLEY INC.</td>\n      <td>NaN</td>\n      <td>NaN</td>\n      <td>9/29/1976</td>\n      <td>1994-05-06</td>\n      <td>0</td>\n      <td>0</td>\n    </tr>\n    <tr>\n      <th>24</th>\n      <td>C.F. CHILDS &amp; CO., INC</td>\n      <td>NaN</td>\n      <td>NaN</td>\n      <td>5/19/1960</td>\n      <td>1965-06-29</td>\n      <td>0</td>\n      <td>0</td>\n    </tr>\n    <tr>\n      <th>26</th>\n      <td>CHEMICAL SECURITIES INC</td>\n      <td>Chemical Bank Corporation</td>\n      <td>CHL (NYSE)</td>\n      <td>5/19/1960</td>\n      <td>1996-03-31</td>\n      <td>0</td>\n      <td>0</td>\n    </tr>\n    <tr>\n      <th>42</th>\n      <td>Drexel Burnham Lambert</td>\n      <td>NaN</td>\n      <td>NaN</td>\n      <td>5/19/1960</td>\n      <td>1990-03-28</td>\n      <td>0</td>\n      <td>0</td>\n    </tr>\n    <tr>\n      <th>43</th>\n      <td>D.W. RICH &amp; CO., INC</td>\n      <td>NaN</td>\n      <td>NaN</td>\n      <td>5/19/1960</td>\n      <td>1969-12-31</td>\n      <td>0</td>\n      <td>0</td>\n    </tr>\n    <tr>\n      <th>44</th>\n      <td>EASTBRIDGE CAPITAL INC.</td>\n      <td>NaN</td>\n      <td>NaN</td>\n      <td>6/18/1992</td>\n      <td>1998-05-29</td>\n      <td>0</td>\n      <td>0</td>\n    </tr>\n    <tr>\n      <th>45</th>\n      <td>FI Dupont</td>\n      <td>NaN</td>\n      <td>NaN</td>\n      <td>12/12/1968</td>\n      <td>1973-07-18</td>\n      <td>0</td>\n      <td>0</td>\n    </tr>\n    <tr>\n      <th>50</th>\n      <td>FIRST PENNCO SEC. INC.</td>\n      <td>NaN</td>\n      <td>NaN</td>\n      <td>3/7/1974</td>\n      <td>1980-08-27</td>\n      <td>0</td>\n      <td>0</td>\n    </tr>\n    <tr>\n      <th>54</th>\n      <td>HARRIS GOVERNMENT SECURITIES</td>\n      <td>NaN</td>\n      <td>NaN</td>\n      <td>7/15/1965</td>\n      <td>1995-05-31</td>\n      <td>0</td>\n      <td>0</td>\n    </tr>\n    <tr>\n      <th>57</th>\n      <td>IRVING SECURITIES, INC.</td>\n      <td>Irving Trust Company</td>\n      <td>NaN</td>\n      <td>5/19/1960</td>\n      <td>1989-07-31</td>\n      <td>0</td>\n      <td>0</td>\n    </tr>\n    <tr>\n      <th>61</th>\n      <td>KLEINWORT BENSON  GOV'T SEC., INC.</td>\n      <td>Kleinwort Benson Group</td>\n      <td>NaN</td>\n      <td>2/13/1980</td>\n      <td>1989-12-27</td>\n      <td>0</td>\n      <td>0</td>\n    </tr>\n    <tr>\n      <th>66</th>\n      <td>MALON S. ANDRUS INC.</td>\n      <td>NaN</td>\n      <td>NaN</td>\n      <td>5/19/1960</td>\n      <td>1965-11-24</td>\n      <td>0</td>\n      <td>0</td>\n    </tr>\n    <tr>\n      <th>76</th>\n      <td>THE NIKKO SECURITIES CO. INT</td>\n      <td>Nikko Securities Co., Ltd.</td>\n      <td>8601</td>\n      <td>12/22/1987</td>\n      <td>1999-01-03</td>\n      <td>0</td>\n      <td>0</td>\n    </tr>\n    <tr>\n      <th>80</th>\n      <td>NUVEEN GOV'T SEC. INC.</td>\n      <td>Nuveen Corporation</td>\n      <td>NaN</td>\n      <td>11/18/1971</td>\n      <td>1980-08-27</td>\n      <td>0</td>\n      <td>0</td>\n    </tr>\n    <tr>\n      <th>81</th>\n      <td>NY Hanseatic</td>\n      <td>NaN</td>\n      <td>NaN</td>\n      <td>2/8/1984</td>\n      <td>1984-07-26</td>\n      <td>0</td>\n      <td>0</td>\n    </tr>\n    <tr>\n      <th>84</th>\n      <td>PARIBAS CORPORATION</td>\n      <td>BNP Paribas Group</td>\n      <td>BNP (Euronext Paris)</td>\n      <td>5/1/1997</td>\n      <td>2000-09-14</td>\n      <td>0</td>\n      <td>0</td>\n    </tr>\n    <tr>\n      <th>88</th>\n      <td>Robertson Stephens</td>\n      <td>NaN</td>\n      <td>NaN</td>\n      <td>10/1/1997</td>\n      <td>1998-09-30</td>\n      <td>0</td>\n      <td>0</td>\n    </tr>\n    <tr>\n      <th>91</th>\n      <td>SANWA SECURITIES (USA) CO., L</td>\n      <td>Sanwa Bank Ltd.</td>\n      <td>NaN</td>\n      <td>6/20/1988</td>\n      <td>1998-07-20</td>\n      <td>0</td>\n      <td>0</td>\n    </tr>\n    <tr>\n      <th>92</th>\n      <td>SBC WARBURG DILLON READ INC.</td>\n      <td>Swiss Bank Corporation (SBC)</td>\n      <td>SBC</td>\n      <td>3/29/1990</td>\n      <td>1998-06-28</td>\n      <td>0</td>\n      <td>0</td>\n    </tr>\n    <tr>\n      <th>93</th>\n      <td>SECOND DISTRICT SECURITIES CO., INC</td>\n      <td>NaN</td>\n      <td>NaN</td>\n      <td>6/15/1961</td>\n      <td>1980-08-27</td>\n      <td>0</td>\n      <td>0</td>\n    </tr>\n    <tr>\n      <th>94</th>\n      <td>Securities Groups</td>\n      <td>NaN</td>\n      <td>NaN</td>\n      <td>5/19/1960</td>\n      <td>1983-06-05</td>\n      <td>0</td>\n      <td>0</td>\n    </tr>\n    <tr>\n      <th>98</th>\n      <td>SG COWEN SECURITIES CORP.</td>\n      <td>Société Générale S.A.</td>\n      <td>GLE (Euronext Paris)</td>\n      <td>7/1/1999</td>\n      <td>2001-10-31</td>\n      <td>0</td>\n      <td>0</td>\n    </tr>\n    <tr>\n      <th>99</th>\n      <td>S.G. WARBURG &amp; CO., INC.</td>\n      <td>S.G. Warburg Group PLC</td>\n      <td>UBS (NYSE)</td>\n      <td>6/24/1988</td>\n      <td>1995-07-26</td>\n      <td>0</td>\n      <td>0</td>\n    </tr>\n    <tr>\n      <th>104</th>\n      <td>THOMSON MCKINNON SECURITIES INC.</td>\n      <td>Thomson McKinnon Group Inc.</td>\n      <td>NaN</td>\n      <td>12/11/1986</td>\n      <td>1989-07-07</td>\n      <td>0</td>\n      <td>0</td>\n    </tr>\n    <tr>\n      <th>107</th>\n      <td>WERTHEIM SCHRODER &amp; CO., INC.</td>\n      <td>Schroder Wertheim &amp; Co. Inc.</td>\n      <td>NaN</td>\n      <td>6/24/1988</td>\n      <td>1990-11-08</td>\n      <td>0</td>\n      <td>0</td>\n    </tr>\n    <tr>\n      <th>110</th>\n      <td>YAMAICHI INT'L (AMERICA), INC.</td>\n      <td>Yamaichi Securities Company Limited</td>\n      <td>NaN</td>\n      <td>9/29/1988</td>\n      <td>1997-12-04</td>\n      <td>0</td>\n      <td>0</td>\n    </tr>\n  </tbody>\n</table>\n</div>"
     },
     "execution_count": 179,
     "metadata": {},
     "output_type": "execute_result"
    }
   ],
   "source": [
    "tick_inv = ticks.copy()\n",
    "tick_inv['End Date'] = pd.to_datetime(tick_inv['End Date'].replace({'Current': datetime.today()}))\n",
    "\n",
    "# Now apply the filter\n",
    "tick_inv_filtered = tick_inv[tick_inv['End Date'] <= '2012-12-31']\n",
    "tick_inv_filtered = tick_inv_filtered[tick_inv_filtered['gvkey'] == 0]\n",
    "tick_inv_filtered"
   ],
   "metadata": {
    "collapsed": false,
    "ExecuteTime": {
     "end_time": "2024-02-19T22:32:43.954813300Z",
     "start_time": "2024-02-19T22:32:43.913560900Z"
    }
   },
   "id": "7e3ed94cc3e9e0bb"
  },
  {
   "cell_type": "code",
   "execution_count": 177,
   "outputs": [
    {
     "data": {
      "text/plain": "['Becker Paribas Inc.',\n 'Brophy, Gestal, Knight',\n 'CARROLL MCENTEE & MCGINLEY INC.',\n 'C.F. CHILDS & CO., INC',\n 'CHEMICAL SECURITIES INC',\n 'Drexel Burnham Lambert',\n 'D.W. RICH & CO., INC',\n 'FI Dupont',\n 'FIRST PENNCO SEC. INC.',\n 'HARRIS GOVERNMENT SECURITIES',\n 'IRVING SECURITIES, INC.',\n \"KLEINWORT BENSON  GOV'T SEC., INC.\",\n 'MALON S. ANDRUS INC.',\n \"NUVEEN GOV'T SEC. INC.\",\n 'NY Hanseatic',\n 'SECOND DISTRICT SECURITIES CO., INC',\n 'Securities Groups',\n 'S.G. WARBURG & CO., INC.',\n 'THOMSON MCKINNON SECURITIES INC.',\n 'WERTHEIM SCHRODER & CO., INC.']"
     },
     "execution_count": 177,
     "metadata": {},
     "output_type": "execute_result"
    }
   ],
   "source": [
    "tick_inv_filtered[['Primary Dealer', 'Start']].tolist()"
   ],
   "metadata": {
    "collapsed": false,
    "ExecuteTime": {
     "end_time": "2024-02-19T21:59:13.527594500Z",
     "start_time": "2024-02-19T21:59:13.462149800Z"
    }
   },
   "id": "86b82dc6bca74ca9"
  },
  {
   "cell_type": "markdown",
   "source": [
    "Creation of table 2 writeup: Table 2 was the first table our group was tasked with replicating. This table involves getting numbers such as total assets or market equity from CRSP Compustat database for different groups of firms, with the limitation that the firms be US domestic and have data available in CRSP Compustat. These groups were comprised of the primary dealers of the New York Fed, which are detailed in table A.1, all broker dealers, all banks, and all firms in Compustat. There were three time ranges that we observed, 1960-2012, 1960-1990, and 1990-2012. Replicating table 2 turned out to be a lot more involved than initially expected, due largely to the condition that we use the data of holding companies of the primary dealers rather than of the actual primary dealer. This required us to manually go through each individual dealer in the list of 112, and look up information about their holding company during a specified time period where they were considered a primary dealer. This was not a simple task because there were many cases where holding companies shifted multiple time within the specified period - forcing us to try and guess how the original author of the paper made this decision. We ended up choosing the holding company that held the primary dealer for the longest period of time during the specified interval. An alternative method would be to have multiple holding company data pulls for a single primary dealer, which may be the most accurate and most time consuming methodology. What was also a challenge was that firms seemed to have multiple names that they went by, making research and lookups of these firms difficult and easy to make an error.\n",
    "\n",
    "After finishing the main lookup file, ticks.csv, which including all primary dealers listed in table A.1, their holding companies, their start and end dates, and their permcos and gvkeys (identifiers for CRSP and Compustat respectively) we then focused on pulling data from the WRDS database. After establishing a connection with WRDS we were able to query data from multiple sources. We made use of the CRSP Compustat historical link table to do most of this research, as well as some holding companies lookups on Google and chatGPT. We queried a full list of link table data from the WRDS website and downloaded it in Excel format to be able to filter and make notes. We also queried the link table from the WRDS historical table and used this table to help merge SIC codes with our completed ticks.csv dataset. For the financials dataset, we opted to query data by gvkey since the data for table 2 was specifically for company level financials which are found through Compustat.\n",
    "  \n",
    "After having the primary dealer data in the proper format of total assets, total book debt, book equity, and market equity, it was now time to create our subgroups and query data for them. The first one we worked on was the broker dealer dataset, which, as specified in the paper, included all primary dealers in our main dataset plus any firms with the SIC code 6211 or 6221. Using the historical linktable and our primary dealer linktable we created our subset and then used it to query financial data from Compustat. Now with our two different subsets of data, we merged them on the date key and then performed our ratio calculation. This calculation was the total value of primary dealers divided by the sum of the total value of primary dealers and the total value of non-primary dealer broker dealers. We then repeated this methodology for the banks comparison group which was generally comprised of firms with the SIC code 6020. We found that the bank ratios were farther from the paper than the broker dealer ratios. This could be for a multitude of reasons, potentially from differences in how holding companies were handled. "
   ],
   "metadata": {
    "collapsed": false
   },
   "id": "87019e0677bb3437"
  }
 ],
 "metadata": {
  "kernelspec": {
   "name": "my_project_env_kernel",
   "language": "python",
   "display_name": "my_project_env_kernel"
  },
  "language_info": {
   "codemirror_mode": {
    "name": "ipython",
    "version": 2
   },
   "file_extension": ".py",
   "mimetype": "text/x-python",
   "name": "python",
   "nbconvert_exporter": "python",
   "pygments_lexer": "ipython2",
   "version": "2.7.6"
  }
 },
 "nbformat": 4,
 "nbformat_minor": 5
}
