{
 "cells": [
  {
   "cell_type": "code",
   "execution_count": 20,
   "id": "initial_id",
   "metadata": {
    "collapsed": true,
    "ExecuteTime": {
     "end_time": "2024-02-19T17:37:45.168038Z",
     "start_time": "2024-02-19T17:37:45.149019900Z"
    }
   },
   "outputs": [
    {
     "data": {
      "text/plain": "                           Primary Dealer  \\\n0                   ABN AMRO INCORPORATED   \n1           AUBREY G. LANSTON & CO., INC.   \n2                           BA Securities   \n3                                Banc One   \n4                         Bank of America   \n..                                    ...   \n107         WERTHEIM SCHRODER & CO., INC.   \n108  WESTPAC POLLOCK GOV'T SECURITIES INC   \n109                 WHITE, WELD & CO INC.   \n110        YAMAICHI INT'L (AMERICA), INC.   \n111                                 Zions   \n\n                                       Holding Company         Ticker  \\\n0                                                  NaN            ABN   \n1                                       Citigroup Inc.       C (NYSE)   \n2                          Bank of America Corporation     BAC (NYSE)   \n3    JPMorgan Chase & Co. (Acquired by JPMorgan Chase)     JPM (NYSE)   \n4                          Bank of America Corporation     BAC (NYSE)   \n..                                                 ...            ...   \n107                       Schroder Wertheim & Co. Inc.            NaN   \n108                        Westpac Banking Corporation     WBK (NYSE)   \n109                          Merrill Lynch & Co., Inc.            NaN   \n110                Yamaichi Securities Company Limited            NaN   \n111                               Zions Bancorporation  ZION (NASDAQ)   \n\n     Start Date   End Date  Permco  gvkey  \n0     9/29/1998  9/15/2006   31989  15504  \n1     5/19/1960  4/17/2000   20483   3243  \n2     4/18/1994  9/30/1997     437   7647  \n3      4/1/1999   8/1/2004   20436   2968  \n4    11/17/1971  4/15/1994     437   7647  \n..          ...        ...     ...    ...  \n107   6/24/1988  11/8/1990       0      0  \n108    2/4/1987  6/27/1990   22027  15362  \n109   2/26/1976  4/18/1978   21190   7267  \n110   9/29/1988  12/4/1997       0      0  \n111   8/11/1993  3/31/2002   21305   8007  \n\n[112 rows x 7 columns]",
      "text/html": "<div>\n<style scoped>\n    .dataframe tbody tr th:only-of-type {\n        vertical-align: middle;\n    }\n\n    .dataframe tbody tr th {\n        vertical-align: top;\n    }\n\n    .dataframe thead th {\n        text-align: right;\n    }\n</style>\n<table border=\"1\" class=\"dataframe\">\n  <thead>\n    <tr style=\"text-align: right;\">\n      <th></th>\n      <th>Primary Dealer</th>\n      <th>Holding Company</th>\n      <th>Ticker</th>\n      <th>Start Date</th>\n      <th>End Date</th>\n      <th>Permco</th>\n      <th>gvkey</th>\n    </tr>\n  </thead>\n  <tbody>\n    <tr>\n      <th>0</th>\n      <td>ABN AMRO INCORPORATED</td>\n      <td>NaN</td>\n      <td>ABN</td>\n      <td>9/29/1998</td>\n      <td>9/15/2006</td>\n      <td>31989</td>\n      <td>15504</td>\n    </tr>\n    <tr>\n      <th>1</th>\n      <td>AUBREY G. LANSTON &amp; CO., INC.</td>\n      <td>Citigroup Inc.</td>\n      <td>C (NYSE)</td>\n      <td>5/19/1960</td>\n      <td>4/17/2000</td>\n      <td>20483</td>\n      <td>3243</td>\n    </tr>\n    <tr>\n      <th>2</th>\n      <td>BA Securities</td>\n      <td>Bank of America Corporation</td>\n      <td>BAC (NYSE)</td>\n      <td>4/18/1994</td>\n      <td>9/30/1997</td>\n      <td>437</td>\n      <td>7647</td>\n    </tr>\n    <tr>\n      <th>3</th>\n      <td>Banc One</td>\n      <td>JPMorgan Chase &amp; Co. (Acquired by JPMorgan Chase)</td>\n      <td>JPM (NYSE)</td>\n      <td>4/1/1999</td>\n      <td>8/1/2004</td>\n      <td>20436</td>\n      <td>2968</td>\n    </tr>\n    <tr>\n      <th>4</th>\n      <td>Bank of America</td>\n      <td>Bank of America Corporation</td>\n      <td>BAC (NYSE)</td>\n      <td>11/17/1971</td>\n      <td>4/15/1994</td>\n      <td>437</td>\n      <td>7647</td>\n    </tr>\n    <tr>\n      <th>...</th>\n      <td>...</td>\n      <td>...</td>\n      <td>...</td>\n      <td>...</td>\n      <td>...</td>\n      <td>...</td>\n      <td>...</td>\n    </tr>\n    <tr>\n      <th>107</th>\n      <td>WERTHEIM SCHRODER &amp; CO., INC.</td>\n      <td>Schroder Wertheim &amp; Co. Inc.</td>\n      <td>NaN</td>\n      <td>6/24/1988</td>\n      <td>11/8/1990</td>\n      <td>0</td>\n      <td>0</td>\n    </tr>\n    <tr>\n      <th>108</th>\n      <td>WESTPAC POLLOCK GOV'T SECURITIES INC</td>\n      <td>Westpac Banking Corporation</td>\n      <td>WBK (NYSE)</td>\n      <td>2/4/1987</td>\n      <td>6/27/1990</td>\n      <td>22027</td>\n      <td>15362</td>\n    </tr>\n    <tr>\n      <th>109</th>\n      <td>WHITE, WELD &amp; CO INC.</td>\n      <td>Merrill Lynch &amp; Co., Inc.</td>\n      <td>NaN</td>\n      <td>2/26/1976</td>\n      <td>4/18/1978</td>\n      <td>21190</td>\n      <td>7267</td>\n    </tr>\n    <tr>\n      <th>110</th>\n      <td>YAMAICHI INT'L (AMERICA), INC.</td>\n      <td>Yamaichi Securities Company Limited</td>\n      <td>NaN</td>\n      <td>9/29/1988</td>\n      <td>12/4/1997</td>\n      <td>0</td>\n      <td>0</td>\n    </tr>\n    <tr>\n      <th>111</th>\n      <td>Zions</td>\n      <td>Zions Bancorporation</td>\n      <td>ZION (NASDAQ)</td>\n      <td>8/11/1993</td>\n      <td>3/31/2002</td>\n      <td>21305</td>\n      <td>8007</td>\n    </tr>\n  </tbody>\n</table>\n<p>112 rows × 7 columns</p>\n</div>"
     },
     "execution_count": 20,
     "metadata": {},
     "output_type": "execute_result"
    }
   ],
   "source": [
    "import pandas as pd\n",
    "ticks = pd.read_csv ('ticks.csv', sep=\"|\")\n",
    "ticks['gvkey'] = ticks['gvkey'].fillna(0.0).astype(int)\n",
    "ticks['Permco'] = ticks['Permco'].fillna(0.0).astype(int)\n",
    "ticks"
   ]
  },
  {
   "cell_type": "code",
   "execution_count": 3,
   "outputs": [
    {
     "data": {
      "text/plain": "                  Primary Dealer  \\\n0          ABN AMRO INCORPORATED   \n1  AUBREY G. LANSTON & CO., INC.   \n2                  BA Securities   \n3                       Banc One   \n4                Bank of America   \n5                Bank of America   \n6            Bank of Nova Scotia   \n7                  Bankers Trust   \n8                       Barclays   \n9         Barclays De Zoete Wedd   \n\n                                     Holding Company           Ticker  \\\n0                                                NaN              ABN   \n1                                     Citigroup Inc.         C (NYSE)   \n2                        Bank of America Corporation       BAC (NYSE)   \n3  JPMorgan Chase & Co. (Acquired by JPMorgan Chase)       JPM (NYSE)   \n4                        Bank of America Corporation       BAC (NYSE)   \n5                        Bank of America Corporation       BAC (NYSE)   \n6               The Bank of Nova Scotia (Scotiabank)  BNS (NYSE, TSX)   \n7       Deutsche Bank AG (Acquired by Deutsche Bank)       DB (XETRA)   \n8                                       Barclays PLC       BARC (LSE)   \n9                                       Barclays PLC       BARC (LSE)   \n\n   Start Date    End Date  Permco  gvkey  \n0   9/29/1998   9/15/2006   31989  15504  \n1   5/19/1960   4/17/2000   20483   3243  \n2   4/18/1994   9/30/1997     437   7647  \n3    4/1/1999    8/1/2004   20436   2968  \n4  11/17/1971   4/15/1994     437   7647  \n5   5/17/1999   11/1/2010    3151   7647  \n6   10/4/2011     Current   43264  15582  \n7   5/19/1960  10/22/1997       0      0  \n8    4/1/1998     Current   20269  12673  \n9   12/7/1989   6/30/1996   20269  12673  ",
      "text/html": "<div>\n<style scoped>\n    .dataframe tbody tr th:only-of-type {\n        vertical-align: middle;\n    }\n\n    .dataframe tbody tr th {\n        vertical-align: top;\n    }\n\n    .dataframe thead th {\n        text-align: right;\n    }\n</style>\n<table border=\"1\" class=\"dataframe\">\n  <thead>\n    <tr style=\"text-align: right;\">\n      <th></th>\n      <th>Primary Dealer</th>\n      <th>Holding Company</th>\n      <th>Ticker</th>\n      <th>Start Date</th>\n      <th>End Date</th>\n      <th>Permco</th>\n      <th>gvkey</th>\n    </tr>\n  </thead>\n  <tbody>\n    <tr>\n      <th>0</th>\n      <td>ABN AMRO INCORPORATED</td>\n      <td>NaN</td>\n      <td>ABN</td>\n      <td>9/29/1998</td>\n      <td>9/15/2006</td>\n      <td>31989</td>\n      <td>15504</td>\n    </tr>\n    <tr>\n      <th>1</th>\n      <td>AUBREY G. LANSTON &amp; CO., INC.</td>\n      <td>Citigroup Inc.</td>\n      <td>C (NYSE)</td>\n      <td>5/19/1960</td>\n      <td>4/17/2000</td>\n      <td>20483</td>\n      <td>3243</td>\n    </tr>\n    <tr>\n      <th>2</th>\n      <td>BA Securities</td>\n      <td>Bank of America Corporation</td>\n      <td>BAC (NYSE)</td>\n      <td>4/18/1994</td>\n      <td>9/30/1997</td>\n      <td>437</td>\n      <td>7647</td>\n    </tr>\n    <tr>\n      <th>3</th>\n      <td>Banc One</td>\n      <td>JPMorgan Chase &amp; Co. (Acquired by JPMorgan Chase)</td>\n      <td>JPM (NYSE)</td>\n      <td>4/1/1999</td>\n      <td>8/1/2004</td>\n      <td>20436</td>\n      <td>2968</td>\n    </tr>\n    <tr>\n      <th>4</th>\n      <td>Bank of America</td>\n      <td>Bank of America Corporation</td>\n      <td>BAC (NYSE)</td>\n      <td>11/17/1971</td>\n      <td>4/15/1994</td>\n      <td>437</td>\n      <td>7647</td>\n    </tr>\n    <tr>\n      <th>5</th>\n      <td>Bank of America</td>\n      <td>Bank of America Corporation</td>\n      <td>BAC (NYSE)</td>\n      <td>5/17/1999</td>\n      <td>11/1/2010</td>\n      <td>3151</td>\n      <td>7647</td>\n    </tr>\n    <tr>\n      <th>6</th>\n      <td>Bank of Nova Scotia</td>\n      <td>The Bank of Nova Scotia (Scotiabank)</td>\n      <td>BNS (NYSE, TSX)</td>\n      <td>10/4/2011</td>\n      <td>Current</td>\n      <td>43264</td>\n      <td>15582</td>\n    </tr>\n    <tr>\n      <th>7</th>\n      <td>Bankers Trust</td>\n      <td>Deutsche Bank AG (Acquired by Deutsche Bank)</td>\n      <td>DB (XETRA)</td>\n      <td>5/19/1960</td>\n      <td>10/22/1997</td>\n      <td>0</td>\n      <td>0</td>\n    </tr>\n    <tr>\n      <th>8</th>\n      <td>Barclays</td>\n      <td>Barclays PLC</td>\n      <td>BARC (LSE)</td>\n      <td>4/1/1998</td>\n      <td>Current</td>\n      <td>20269</td>\n      <td>12673</td>\n    </tr>\n    <tr>\n      <th>9</th>\n      <td>Barclays De Zoete Wedd</td>\n      <td>Barclays PLC</td>\n      <td>BARC (LSE)</td>\n      <td>12/7/1989</td>\n      <td>6/30/1996</td>\n      <td>20269</td>\n      <td>12673</td>\n    </tr>\n  </tbody>\n</table>\n</div>"
     },
     "execution_count": 3,
     "metadata": {},
     "output_type": "execute_result"
    }
   ],
   "source": [
    "test = pd.read_csv('test.csv', sep='|')\n",
    "test['gvkey'] = test['gvkey'].fillna(0.0).astype(int)\n",
    "test['Permco'] = test['Permco'].fillna(0.0).astype(int)\n",
    "test"
   ],
   "metadata": {
    "collapsed": false,
    "ExecuteTime": {
     "end_time": "2024-02-18T16:02:32.937760200Z",
     "start_time": "2024-02-18T16:02:32.925234200Z"
    }
   },
   "id": "14026f6f74a48a78"
  },
  {
   "cell_type": "code",
   "execution_count": 12,
   "outputs": [
    {
     "name": "stdout",
     "output_type": "stream",
     "text": [
      "Loading library list...\n",
      "Done\n"
     ]
    }
   ],
   "source": [
    "import pandas as pd\n",
    "import wrds\n",
    "import config\n",
    "from datetime import datetime\n",
    "\n",
    "db = wrds.Connection(wrds_username=config.WRDS_USERNAME)"
   ],
   "metadata": {
    "collapsed": false,
    "ExecuteTime": {
     "end_time": "2024-02-19T17:34:36.973074600Z",
     "start_time": "2024-02-19T17:34:34.929796600Z"
    }
   },
   "id": "166a88c43e8e4529"
  },
  {
   "cell_type": "code",
   "execution_count": 33,
   "outputs": [],
   "source": [
    "def fetch_financial_data(pgvkey, start_date, end_date):\n",
    "    \"\"\"\n",
    "    Fetch financial data for a given ticker and date range from the CCM database in WRDS.\n",
    "    \n",
    "    :param gvkey: The gvkey symbol for the company.\n",
    "    :param start_date: The start date for the data in YYYY-MM-DD format.\n",
    "    :param end_date: The end date for the data in YYYY-MM-DD format or 'Current'.\n",
    "    :return: A DataFrame containing the financial data.\n",
    "    \"\"\"\n",
    "    if not gvkey:  # Skip if no ticker is available\n",
    "        return pd.DataFrame()\n",
    "    \n",
    "    # If the end date is 'Current', replace it with today's date\n",
    "    if end_date == 'Current':\n",
    "        end_date = datetime.today().strftime('%Y-%m-%d')\n",
    "    \n",
    "    # Convert dates to the correct format if necessary\n",
    "    start_date = pd.to_datetime(start_date).strftime('%Y-%m-%d')\n",
    "    end_date = pd.to_datetime(end_date).strftime('%Y-%m-%d')\n",
    "    \n",
    "        \n",
    "    query = f\"\"\"\n",
    "    SELECT datadate, at AS total_assets, lt AS book_debt, ceq AS book_equity, csho*prcc_f AS market_equity, gvkey, conm\n",
    "    FROM comp.funda as cst\n",
    "    WHERE cst.gvkey = '{str(pgvkey).zfill(6)}'\n",
    "    AND cst.datadate BETWEEN '{start_date}' AND '{end_date}'\n",
    "    AND indfmt='INDL'\n",
    "    AND datafmt='STD'\n",
    "    AND popsrc='D'\n",
    "    AND consol='C'\n",
    "    \"\"\"\n",
    "    data = db.raw_sql(query)\n",
    "    return data"
   ],
   "metadata": {
    "collapsed": false,
    "ExecuteTime": {
     "end_time": "2024-02-19T17:45:56.619832900Z",
     "start_time": "2024-02-19T17:45:56.607850800Z"
    }
   },
   "id": "55a28c3e64ac4d95"
  },
  {
   "cell_type": "markdown",
   "source": [
    "Get all data for primary dealers"
   ],
   "metadata": {
    "collapsed": false
   },
   "id": "7e6269f530d9a301"
  },
  {
   "cell_type": "code",
   "execution_count": 42,
   "outputs": [
    {
     "name": "stderr",
     "output_type": "stream",
     "text": [
      "C:\\Users\\jsime\\AppData\\Local\\Temp\\ipykernel_19320\\3471547033.py:14: FutureWarning: The behavior of DataFrame concatenation with empty or all-NA entries is deprecated. In a future version, this will no longer exclude empty or all-NA columns when determining the result dtypes. To retain the old behavior, exclude the relevant entries before the concat operation.\n",
      "  prim_dealers = pd.concat([new_data, prim_dealers], axis=0)\n",
      "C:\\Users\\jsime\\AppData\\Local\\Temp\\ipykernel_19320\\3471547033.py:14: FutureWarning: The behavior of DataFrame concatenation with empty or all-NA entries is deprecated. In a future version, this will no longer exclude empty or all-NA columns when determining the result dtypes. To retain the old behavior, exclude the relevant entries before the concat operation.\n",
      "  prim_dealers = pd.concat([new_data, prim_dealers], axis=0)\n",
      "C:\\Users\\jsime\\AppData\\Local\\Temp\\ipykernel_19320\\3471547033.py:14: FutureWarning: The behavior of DataFrame concatenation with empty or all-NA entries is deprecated. In a future version, this will no longer exclude empty or all-NA columns when determining the result dtypes. To retain the old behavior, exclude the relevant entries before the concat operation.\n",
      "  prim_dealers = pd.concat([new_data, prim_dealers], axis=0)\n",
      "C:\\Users\\jsime\\AppData\\Local\\Temp\\ipykernel_19320\\3471547033.py:14: FutureWarning: The behavior of DataFrame concatenation with empty or all-NA entries is deprecated. In a future version, this will no longer exclude empty or all-NA columns when determining the result dtypes. To retain the old behavior, exclude the relevant entries before the concat operation.\n",
      "  prim_dealers = pd.concat([new_data, prim_dealers], axis=0)\n",
      "C:\\Users\\jsime\\AppData\\Local\\Temp\\ipykernel_19320\\3471547033.py:14: FutureWarning: The behavior of DataFrame concatenation with empty or all-NA entries is deprecated. In a future version, this will no longer exclude empty or all-NA columns when determining the result dtypes. To retain the old behavior, exclude the relevant entries before the concat operation.\n",
      "  prim_dealers = pd.concat([new_data, prim_dealers], axis=0)\n",
      "C:\\Users\\jsime\\AppData\\Local\\Temp\\ipykernel_19320\\3471547033.py:14: FutureWarning: The behavior of DataFrame concatenation with empty or all-NA entries is deprecated. In a future version, this will no longer exclude empty or all-NA columns when determining the result dtypes. To retain the old behavior, exclude the relevant entries before the concat operation.\n",
      "  prim_dealers = pd.concat([new_data, prim_dealers], axis=0)\n",
      "C:\\Users\\jsime\\AppData\\Local\\Temp\\ipykernel_19320\\3471547033.py:14: FutureWarning: The behavior of DataFrame concatenation with empty or all-NA entries is deprecated. In a future version, this will no longer exclude empty or all-NA columns when determining the result dtypes. To retain the old behavior, exclude the relevant entries before the concat operation.\n",
      "  prim_dealers = pd.concat([new_data, prim_dealers], axis=0)\n",
      "C:\\Users\\jsime\\AppData\\Local\\Temp\\ipykernel_19320\\3471547033.py:14: FutureWarning: The behavior of DataFrame concatenation with empty or all-NA entries is deprecated. In a future version, this will no longer exclude empty or all-NA columns when determining the result dtypes. To retain the old behavior, exclude the relevant entries before the concat operation.\n",
      "  prim_dealers = pd.concat([new_data, prim_dealers], axis=0)\n",
      "C:\\Users\\jsime\\AppData\\Local\\Temp\\ipykernel_19320\\3471547033.py:14: FutureWarning: The behavior of DataFrame concatenation with empty or all-NA entries is deprecated. In a future version, this will no longer exclude empty or all-NA columns when determining the result dtypes. To retain the old behavior, exclude the relevant entries before the concat operation.\n",
      "  prim_dealers = pd.concat([new_data, prim_dealers], axis=0)\n",
      "C:\\Users\\jsime\\AppData\\Local\\Temp\\ipykernel_19320\\3471547033.py:14: FutureWarning: The behavior of DataFrame concatenation with empty or all-NA entries is deprecated. In a future version, this will no longer exclude empty or all-NA columns when determining the result dtypes. To retain the old behavior, exclude the relevant entries before the concat operation.\n",
      "  prim_dealers = pd.concat([new_data, prim_dealers], axis=0)\n",
      "C:\\Users\\jsime\\AppData\\Local\\Temp\\ipykernel_19320\\3471547033.py:14: FutureWarning: The behavior of DataFrame concatenation with empty or all-NA entries is deprecated. In a future version, this will no longer exclude empty or all-NA columns when determining the result dtypes. To retain the old behavior, exclude the relevant entries before the concat operation.\n",
      "  prim_dealers = pd.concat([new_data, prim_dealers], axis=0)\n",
      "C:\\Users\\jsime\\AppData\\Local\\Temp\\ipykernel_19320\\3471547033.py:14: FutureWarning: The behavior of DataFrame concatenation with empty or all-NA entries is deprecated. In a future version, this will no longer exclude empty or all-NA columns when determining the result dtypes. To retain the old behavior, exclude the relevant entries before the concat operation.\n",
      "  prim_dealers = pd.concat([new_data, prim_dealers], axis=0)\n",
      "C:\\Users\\jsime\\AppData\\Local\\Temp\\ipykernel_19320\\3471547033.py:14: FutureWarning: The behavior of DataFrame concatenation with empty or all-NA entries is deprecated. In a future version, this will no longer exclude empty or all-NA columns when determining the result dtypes. To retain the old behavior, exclude the relevant entries before the concat operation.\n",
      "  prim_dealers = pd.concat([new_data, prim_dealers], axis=0)\n",
      "C:\\Users\\jsime\\AppData\\Local\\Temp\\ipykernel_19320\\3471547033.py:14: FutureWarning: The behavior of DataFrame concatenation with empty or all-NA entries is deprecated. In a future version, this will no longer exclude empty or all-NA columns when determining the result dtypes. To retain the old behavior, exclude the relevant entries before the concat operation.\n",
      "  prim_dealers = pd.concat([new_data, prim_dealers], axis=0)\n",
      "C:\\Users\\jsime\\AppData\\Local\\Temp\\ipykernel_19320\\3471547033.py:14: FutureWarning: The behavior of DataFrame concatenation with empty or all-NA entries is deprecated. In a future version, this will no longer exclude empty or all-NA columns when determining the result dtypes. To retain the old behavior, exclude the relevant entries before the concat operation.\n",
      "  prim_dealers = pd.concat([new_data, prim_dealers], axis=0)\n"
     ]
    },
    {
     "name": "stdout",
     "output_type": "stream",
     "text": [
      "[]\n"
     ]
    }
   ],
   "source": [
    "empty_tickers = []\n",
    "prim_dealers = pd.DataFrame()\n",
    "# Iterate over DataFrame rows and fetch data for each ticker\n",
    "for index, row in ticks.iterrows():\n",
    "    gvkey = row['gvkey']\n",
    "    start_date = row['Start Date']\n",
    "    end_date = row['End Date']      # Formatting date for the query\n",
    "    \n",
    "    # Fetch financial data for the ticker if available\n",
    "    new_data = fetch_financial_data(gvkey, start_date, end_date)\n",
    "    if isinstance(new_data, tuple):\n",
    "        empty_tickers.append({row['Ticker']:gvkey})\n",
    "    else:\n",
    "        prim_dealers = pd.concat([new_data, prim_dealers], axis=0)\n",
    "print(empty_tickers)"
   ],
   "metadata": {
    "collapsed": false,
    "ExecuteTime": {
     "end_time": "2024-02-19T18:05:10.589678200Z",
     "start_time": "2024-02-19T18:05:07.266395400Z"
    }
   },
   "id": "3d3f1614b57407a0"
  },
  {
   "cell_type": "markdown",
   "source": [
    "Get all data from banks"
   ],
   "metadata": {
    "collapsed": false
   },
   "id": "ec41621871cf3ff8"
  },
  {
   "cell_type": "code",
   "execution_count": null,
   "outputs": [],
   "source": [],
   "metadata": {
    "collapsed": false
   },
   "id": "c1af28f6426e4ee5"
  },
  {
   "cell_type": "markdown",
   "source": [
    "Get data from all firms in Compustat"
   ],
   "metadata": {
    "collapsed": false
   },
   "id": "e12ccdf41a715c81"
  },
  {
   "cell_type": "code",
   "execution_count": null,
   "outputs": [],
   "source": [],
   "metadata": {
    "collapsed": false
   },
   "id": "a56682993146eafa"
  },
  {
   "cell_type": "code",
   "execution_count": 43,
   "outputs": [
    {
     "data": {
      "text/plain": "      datadate  total_assets    book_debt  book_equity  market_equity   gvkey  \\\n0   1993-12-31     50782.297    47213.898     3226.500    7121.765625  008007   \n1   1994-12-31     59315.898    55469.500     3334.400    7226.264375  008007   \n2   1995-12-31     72134.375    66822.250     5009.797   11641.080000  008007   \n3   1996-12-31     80175.375    74111.188     5875.398   16038.580500  008007   \n4   1997-12-31     88540.188    81518.000     6834.199   29396.486250  008007   \n..         ...           ...          ...          ...            ...     ...   \n3   2001-12-31    531713.000   517166.000     9767.000   24997.940000  015504   \n4   2002-12-31    582984.873   567686.209    10450.400   25655.008000  015504   \n5   2003-12-31    705982.489   684869.917    15411.170   38457.492840  015504   \n6   2004-12-31    823953.817   797891.813    19230.729   44400.773200  015504   \n7   2005-12-31   1043048.097  1014447.298    26314.109   49088.828800  015504   \n\n                    conm  \n0       WELLS FARGO & CO  \n1       WELLS FARGO & CO  \n2       WELLS FARGO & CO  \n3       WELLS FARGO & CO  \n4       WELLS FARGO & CO  \n..                   ...  \n3   ABN-AMRO HOLDINGS NV  \n4   ABN-AMRO HOLDINGS NV  \n5   ABN-AMRO HOLDINGS NV  \n6   ABN-AMRO HOLDINGS NV  \n7   ABN-AMRO HOLDINGS NV  \n\n[816 rows x 7 columns]",
      "text/html": "<div>\n<style scoped>\n    .dataframe tbody tr th:only-of-type {\n        vertical-align: middle;\n    }\n\n    .dataframe tbody tr th {\n        vertical-align: top;\n    }\n\n    .dataframe thead th {\n        text-align: right;\n    }\n</style>\n<table border=\"1\" class=\"dataframe\">\n  <thead>\n    <tr style=\"text-align: right;\">\n      <th></th>\n      <th>datadate</th>\n      <th>total_assets</th>\n      <th>book_debt</th>\n      <th>book_equity</th>\n      <th>market_equity</th>\n      <th>gvkey</th>\n      <th>conm</th>\n    </tr>\n  </thead>\n  <tbody>\n    <tr>\n      <th>0</th>\n      <td>1993-12-31</td>\n      <td>50782.297</td>\n      <td>47213.898</td>\n      <td>3226.500</td>\n      <td>7121.765625</td>\n      <td>008007</td>\n      <td>WELLS FARGO &amp; CO</td>\n    </tr>\n    <tr>\n      <th>1</th>\n      <td>1994-12-31</td>\n      <td>59315.898</td>\n      <td>55469.500</td>\n      <td>3334.400</td>\n      <td>7226.264375</td>\n      <td>008007</td>\n      <td>WELLS FARGO &amp; CO</td>\n    </tr>\n    <tr>\n      <th>2</th>\n      <td>1995-12-31</td>\n      <td>72134.375</td>\n      <td>66822.250</td>\n      <td>5009.797</td>\n      <td>11641.080000</td>\n      <td>008007</td>\n      <td>WELLS FARGO &amp; CO</td>\n    </tr>\n    <tr>\n      <th>3</th>\n      <td>1996-12-31</td>\n      <td>80175.375</td>\n      <td>74111.188</td>\n      <td>5875.398</td>\n      <td>16038.580500</td>\n      <td>008007</td>\n      <td>WELLS FARGO &amp; CO</td>\n    </tr>\n    <tr>\n      <th>4</th>\n      <td>1997-12-31</td>\n      <td>88540.188</td>\n      <td>81518.000</td>\n      <td>6834.199</td>\n      <td>29396.486250</td>\n      <td>008007</td>\n      <td>WELLS FARGO &amp; CO</td>\n    </tr>\n    <tr>\n      <th>...</th>\n      <td>...</td>\n      <td>...</td>\n      <td>...</td>\n      <td>...</td>\n      <td>...</td>\n      <td>...</td>\n      <td>...</td>\n    </tr>\n    <tr>\n      <th>3</th>\n      <td>2001-12-31</td>\n      <td>531713.000</td>\n      <td>517166.000</td>\n      <td>9767.000</td>\n      <td>24997.940000</td>\n      <td>015504</td>\n      <td>ABN-AMRO HOLDINGS NV</td>\n    </tr>\n    <tr>\n      <th>4</th>\n      <td>2002-12-31</td>\n      <td>582984.873</td>\n      <td>567686.209</td>\n      <td>10450.400</td>\n      <td>25655.008000</td>\n      <td>015504</td>\n      <td>ABN-AMRO HOLDINGS NV</td>\n    </tr>\n    <tr>\n      <th>5</th>\n      <td>2003-12-31</td>\n      <td>705982.489</td>\n      <td>684869.917</td>\n      <td>15411.170</td>\n      <td>38457.492840</td>\n      <td>015504</td>\n      <td>ABN-AMRO HOLDINGS NV</td>\n    </tr>\n    <tr>\n      <th>6</th>\n      <td>2004-12-31</td>\n      <td>823953.817</td>\n      <td>797891.813</td>\n      <td>19230.729</td>\n      <td>44400.773200</td>\n      <td>015504</td>\n      <td>ABN-AMRO HOLDINGS NV</td>\n    </tr>\n    <tr>\n      <th>7</th>\n      <td>2005-12-31</td>\n      <td>1043048.097</td>\n      <td>1014447.298</td>\n      <td>26314.109</td>\n      <td>49088.828800</td>\n      <td>015504</td>\n      <td>ABN-AMRO HOLDINGS NV</td>\n    </tr>\n  </tbody>\n</table>\n<p>816 rows × 7 columns</p>\n</div>"
     },
     "execution_count": 43,
     "metadata": {},
     "output_type": "execute_result"
    }
   ],
   "source": [
    "prim_dealers.drop_duplicates()"
   ],
   "metadata": {
    "collapsed": false,
    "ExecuteTime": {
     "end_time": "2024-02-19T18:05:19.163498200Z",
     "start_time": "2024-02-19T18:05:19.115456Z"
    }
   },
   "id": "4cbe7b7586a88656"
  },
  {
   "cell_type": "code",
   "execution_count": 5,
   "outputs": [],
   "source": [
    "def pull_CRSP_Comp_Link_Table(wrds_username=config.WRDS_USERNAME):\n",
    "    sql_query = \"\"\"\n",
    "        SELECT \n",
    "            gvkey, lpermco AS permco, linktype, linkprim, linkdt, linkenddt, tic\n",
    "        FROM \n",
    "            crsp.ccmxpf_linkhist\n",
    "        WHERE \n",
    "            substr(linktype,1,1)='L' AND \n",
    "            (linkprim ='C' OR linkprim='P')\n",
    "        \"\"\"\n",
    "    db = wrds.Connection(wrds_username=wrds_username)\n",
    "    ccm = db.raw_sql(sql_query, date_cols=[\"linkdt\", \"linkenddt\"])\n",
    "    db.close()\n",
    "    return ccm"
   ],
   "metadata": {
    "collapsed": false,
    "ExecuteTime": {
     "end_time": "2024-02-18T18:10:14.208968600Z",
     "start_time": "2024-02-18T18:10:14.195854800Z"
    }
   },
   "id": "9903af193242e135"
  },
  {
   "cell_type": "code",
   "execution_count": null,
   "outputs": [],
   "source": [
    "pull_CRSP_Comp_Link_Table()"
   ],
   "metadata": {
    "collapsed": false
   },
   "id": "42c854a1f8543083"
  },
  {
   "cell_type": "code",
   "execution_count": 35,
   "outputs": [
    {
     "data": {
      "text/plain": "        gvkey                       conm     tic     sic LINKPRIM LIID  \\\n0        1000      A & E PLASTIK PAK INC    AE.2  3089.0        P   01   \n1        1001    A & M FOOD SERVICES INC   AMFD.  5812.0        P   01   \n2        1002                   AAI CORP  AAIC.1  3825.0        C   01   \n3        1003      A.A. IMPORTING CO INC    ANTQ  5712.0        C   01   \n4        1004                   AAR CORP     AIR  5080.0        P   01   \n...       ...                        ...     ...     ...      ...  ...   \n31944  349994     CLEARMIND MEDICINE INC    CMND  2834.0        P   01   \n31945  350681       GETNET ADQUIRENCIA E     GET  7374.0        P   90   \n31946  351038  QUOIN PHARMACEUTICALS LTD    QNRX  2834.0        P   90   \n31947  352262           COOL COMPANY LTD    CLCO  4400.0        P   01   \n31948  353444                 HALEON PLC     HLN  2834.0        P   90   \n\n      LINKTYPE  LPERMNO  LPERMCO      LINKDT  LINKENDDT  \n0           LU    25881    23369  11/13/1970  6/30/1978  \n1           LU    10015     6398   9/20/1983  7/31/1986  \n2           LC    10023    22159  12/14/1972   6/5/1973  \n3           LU    10031     6672   12/7/1983  8/16/1989  \n4           LU    54594    20000   4/24/1972          E  \n...        ...      ...      ...         ...        ...  \n31944       LC    23514    59438  11/15/2022          E  \n31945       LC    22205    58855  10/22/2021  3/31/2023  \n31946       LC    16161    55612  10/29/2021          E  \n31947       LC    23773    59507   3/17/2023          E  \n31948       LC    23209    59330   7/22/2022          E  \n\n[31949 rows x 11 columns]",
      "text/html": "<div>\n<style scoped>\n    .dataframe tbody tr th:only-of-type {\n        vertical-align: middle;\n    }\n\n    .dataframe tbody tr th {\n        vertical-align: top;\n    }\n\n    .dataframe thead th {\n        text-align: right;\n    }\n</style>\n<table border=\"1\" class=\"dataframe\">\n  <thead>\n    <tr style=\"text-align: right;\">\n      <th></th>\n      <th>gvkey</th>\n      <th>conm</th>\n      <th>tic</th>\n      <th>sic</th>\n      <th>LINKPRIM</th>\n      <th>LIID</th>\n      <th>LINKTYPE</th>\n      <th>LPERMNO</th>\n      <th>LPERMCO</th>\n      <th>LINKDT</th>\n      <th>LINKENDDT</th>\n    </tr>\n  </thead>\n  <tbody>\n    <tr>\n      <th>0</th>\n      <td>1000</td>\n      <td>A &amp; E PLASTIK PAK INC</td>\n      <td>AE.2</td>\n      <td>3089.0</td>\n      <td>P</td>\n      <td>01</td>\n      <td>LU</td>\n      <td>25881</td>\n      <td>23369</td>\n      <td>11/13/1970</td>\n      <td>6/30/1978</td>\n    </tr>\n    <tr>\n      <th>1</th>\n      <td>1001</td>\n      <td>A &amp; M FOOD SERVICES INC</td>\n      <td>AMFD.</td>\n      <td>5812.0</td>\n      <td>P</td>\n      <td>01</td>\n      <td>LU</td>\n      <td>10015</td>\n      <td>6398</td>\n      <td>9/20/1983</td>\n      <td>7/31/1986</td>\n    </tr>\n    <tr>\n      <th>2</th>\n      <td>1002</td>\n      <td>AAI CORP</td>\n      <td>AAIC.1</td>\n      <td>3825.0</td>\n      <td>C</td>\n      <td>01</td>\n      <td>LC</td>\n      <td>10023</td>\n      <td>22159</td>\n      <td>12/14/1972</td>\n      <td>6/5/1973</td>\n    </tr>\n    <tr>\n      <th>3</th>\n      <td>1003</td>\n      <td>A.A. IMPORTING CO INC</td>\n      <td>ANTQ</td>\n      <td>5712.0</td>\n      <td>C</td>\n      <td>01</td>\n      <td>LU</td>\n      <td>10031</td>\n      <td>6672</td>\n      <td>12/7/1983</td>\n      <td>8/16/1989</td>\n    </tr>\n    <tr>\n      <th>4</th>\n      <td>1004</td>\n      <td>AAR CORP</td>\n      <td>AIR</td>\n      <td>5080.0</td>\n      <td>P</td>\n      <td>01</td>\n      <td>LU</td>\n      <td>54594</td>\n      <td>20000</td>\n      <td>4/24/1972</td>\n      <td>E</td>\n    </tr>\n    <tr>\n      <th>...</th>\n      <td>...</td>\n      <td>...</td>\n      <td>...</td>\n      <td>...</td>\n      <td>...</td>\n      <td>...</td>\n      <td>...</td>\n      <td>...</td>\n      <td>...</td>\n      <td>...</td>\n      <td>...</td>\n    </tr>\n    <tr>\n      <th>31944</th>\n      <td>349994</td>\n      <td>CLEARMIND MEDICINE INC</td>\n      <td>CMND</td>\n      <td>2834.0</td>\n      <td>P</td>\n      <td>01</td>\n      <td>LC</td>\n      <td>23514</td>\n      <td>59438</td>\n      <td>11/15/2022</td>\n      <td>E</td>\n    </tr>\n    <tr>\n      <th>31945</th>\n      <td>350681</td>\n      <td>GETNET ADQUIRENCIA E</td>\n      <td>GET</td>\n      <td>7374.0</td>\n      <td>P</td>\n      <td>90</td>\n      <td>LC</td>\n      <td>22205</td>\n      <td>58855</td>\n      <td>10/22/2021</td>\n      <td>3/31/2023</td>\n    </tr>\n    <tr>\n      <th>31946</th>\n      <td>351038</td>\n      <td>QUOIN PHARMACEUTICALS LTD</td>\n      <td>QNRX</td>\n      <td>2834.0</td>\n      <td>P</td>\n      <td>90</td>\n      <td>LC</td>\n      <td>16161</td>\n      <td>55612</td>\n      <td>10/29/2021</td>\n      <td>E</td>\n    </tr>\n    <tr>\n      <th>31947</th>\n      <td>352262</td>\n      <td>COOL COMPANY LTD</td>\n      <td>CLCO</td>\n      <td>4400.0</td>\n      <td>P</td>\n      <td>01</td>\n      <td>LC</td>\n      <td>23773</td>\n      <td>59507</td>\n      <td>3/17/2023</td>\n      <td>E</td>\n    </tr>\n    <tr>\n      <th>31948</th>\n      <td>353444</td>\n      <td>HALEON PLC</td>\n      <td>HLN</td>\n      <td>2834.0</td>\n      <td>P</td>\n      <td>90</td>\n      <td>LC</td>\n      <td>23209</td>\n      <td>59330</td>\n      <td>7/22/2022</td>\n      <td>E</td>\n    </tr>\n  </tbody>\n</table>\n<p>31949 rows × 11 columns</p>\n</div>"
     },
     "execution_count": 35,
     "metadata": {},
     "output_type": "execute_result"
    }
   ],
   "source": [
    "linktable = pd.read_csv('linktable.csv')\n",
    "linktable"
   ],
   "metadata": {
    "collapsed": false,
    "ExecuteTime": {
     "end_time": "2024-02-19T17:47:41.172891200Z",
     "start_time": "2024-02-19T17:47:41.104295500Z"
    }
   },
   "id": "fbdff30426a3124b"
  },
  {
   "cell_type": "code",
   "execution_count": 36,
   "outputs": [
    {
     "data": {
      "text/plain": "                          Primary Dealer  \\\n0                  ABN AMRO INCORPORATED   \n1          AUBREY G. LANSTON & CO., INC.   \n2                              Citigroup   \n3                          BA Securities   \n4                        Bank of America   \n..                                   ...   \n93  SMITH BARNEY, HARRIS UPHAM & CO.,INC   \n94        SECURITY PACIFIC NATIONAL BANK   \n95              SOUTHERN CALIF S&L ASSOC   \n96               TD SECURITIES (USA) LLC   \n97                                 Zions   \n\n                                    Holding Company          Ticker  \\\n0                                               NaN             ABN   \n1                                    Citigroup Inc.        C (NYSE)   \n2                                    Citigroup Inc.        C (NYSE)   \n3                       Bank of America Corporation      BAC (NYSE)   \n4                       Bank of America Corporation      BAC (NYSE)   \n..                                              ...             ...   \n93                            Primerica Corporation             PRI   \n94                     Security Pacific Corporation            6020   \n95  California Federal Savings and Loan Association             NaN   \n96                        The Toronto-Dominion Bank  TD (NYSE, TSX)   \n97                             Zions Bancorporation   ZION (NASDAQ)   \n\n    Start Date   End Date  Permco  gvkey                        conm    tic  \\\n0    9/29/1998  9/15/2006   31989  15504        ABN-AMRO HOLDINGS NV  ABNYY   \n1    5/19/1960  4/17/2000   20483   3243               CITIGROUP INC      C   \n2    6/15/1961    Current   20483   3243               CITIGROUP INC      C   \n3    4/18/1994  9/30/1997     437   7647        BANK OF AMERICA CORP    BAC   \n4   11/17/1971  4/15/1994     437   7647        BANK OF AMERICA CORP    BAC   \n..         ...        ...     ...    ...                         ...    ...   \n93   8/22/1979  8/31/1998   22177   1414               PRIMERICA INC    PRI   \n94  12/11/1986  1/17/1991    4205   9577       SECURITY PACIFIC CORP  7448B   \n95    6/7/1983   8/5/1983    5884   2612  CALIFORNIA FED BANCORP INC  CAL.2   \n96   2/11/2014    Current   29152  15706       TORONTO DOMINION BANK     TD   \n97   8/11/1993  3/31/2002   21305   8007            WELLS FARGO & CO    WFC   \n\n       sic LINKPRIM LIID LINKTYPE  LPERMNO  LPERMCO      LINKDT  LINKENDDT  \n0   6020.0        P   90       LC    84766    31989   5/21/1997  4/24/2008  \n1   6199.0        P   01       LC    70519    20483  10/29/1986          E  \n2   6199.0        P   01       LC    70519    20483  10/29/1986          E  \n3   6020.0        P   01       LC    59408     3151  12/14/1972          E  \n4   6020.0        P   01       LC    59408     3151  12/14/1972          E  \n..     ...      ...  ...      ...      ...      ...         ...        ...  \n93  6311.0        C  00X       LC    10241    22177    1/1/1950  1/30/1962  \n94  6020.0        P   01       LU    60839     4205  12/14/1972  4/30/1992  \n95  6035.0        P   01       LC    66456     5884   3/29/1983   1/3/1997  \n96  6020.0        P   01       LC    83835    29152   8/30/1996          E  \n97  6020.0        P   01       LC    38703    21305  12/10/1962          E  \n\n[98 rows x 17 columns]",
      "text/html": "<div>\n<style scoped>\n    .dataframe tbody tr th:only-of-type {\n        vertical-align: middle;\n    }\n\n    .dataframe tbody tr th {\n        vertical-align: top;\n    }\n\n    .dataframe thead th {\n        text-align: right;\n    }\n</style>\n<table border=\"1\" class=\"dataframe\">\n  <thead>\n    <tr style=\"text-align: right;\">\n      <th></th>\n      <th>Primary Dealer</th>\n      <th>Holding Company</th>\n      <th>Ticker</th>\n      <th>Start Date</th>\n      <th>End Date</th>\n      <th>Permco</th>\n      <th>gvkey</th>\n      <th>conm</th>\n      <th>tic</th>\n      <th>sic</th>\n      <th>LINKPRIM</th>\n      <th>LIID</th>\n      <th>LINKTYPE</th>\n      <th>LPERMNO</th>\n      <th>LPERMCO</th>\n      <th>LINKDT</th>\n      <th>LINKENDDT</th>\n    </tr>\n  </thead>\n  <tbody>\n    <tr>\n      <th>0</th>\n      <td>ABN AMRO INCORPORATED</td>\n      <td>NaN</td>\n      <td>ABN</td>\n      <td>9/29/1998</td>\n      <td>9/15/2006</td>\n      <td>31989</td>\n      <td>15504</td>\n      <td>ABN-AMRO HOLDINGS NV</td>\n      <td>ABNYY</td>\n      <td>6020.0</td>\n      <td>P</td>\n      <td>90</td>\n      <td>LC</td>\n      <td>84766</td>\n      <td>31989</td>\n      <td>5/21/1997</td>\n      <td>4/24/2008</td>\n    </tr>\n    <tr>\n      <th>1</th>\n      <td>AUBREY G. LANSTON &amp; CO., INC.</td>\n      <td>Citigroup Inc.</td>\n      <td>C (NYSE)</td>\n      <td>5/19/1960</td>\n      <td>4/17/2000</td>\n      <td>20483</td>\n      <td>3243</td>\n      <td>CITIGROUP INC</td>\n      <td>C</td>\n      <td>6199.0</td>\n      <td>P</td>\n      <td>01</td>\n      <td>LC</td>\n      <td>70519</td>\n      <td>20483</td>\n      <td>10/29/1986</td>\n      <td>E</td>\n    </tr>\n    <tr>\n      <th>2</th>\n      <td>Citigroup</td>\n      <td>Citigroup Inc.</td>\n      <td>C (NYSE)</td>\n      <td>6/15/1961</td>\n      <td>Current</td>\n      <td>20483</td>\n      <td>3243</td>\n      <td>CITIGROUP INC</td>\n      <td>C</td>\n      <td>6199.0</td>\n      <td>P</td>\n      <td>01</td>\n      <td>LC</td>\n      <td>70519</td>\n      <td>20483</td>\n      <td>10/29/1986</td>\n      <td>E</td>\n    </tr>\n    <tr>\n      <th>3</th>\n      <td>BA Securities</td>\n      <td>Bank of America Corporation</td>\n      <td>BAC (NYSE)</td>\n      <td>4/18/1994</td>\n      <td>9/30/1997</td>\n      <td>437</td>\n      <td>7647</td>\n      <td>BANK OF AMERICA CORP</td>\n      <td>BAC</td>\n      <td>6020.0</td>\n      <td>P</td>\n      <td>01</td>\n      <td>LC</td>\n      <td>59408</td>\n      <td>3151</td>\n      <td>12/14/1972</td>\n      <td>E</td>\n    </tr>\n    <tr>\n      <th>4</th>\n      <td>Bank of America</td>\n      <td>Bank of America Corporation</td>\n      <td>BAC (NYSE)</td>\n      <td>11/17/1971</td>\n      <td>4/15/1994</td>\n      <td>437</td>\n      <td>7647</td>\n      <td>BANK OF AMERICA CORP</td>\n      <td>BAC</td>\n      <td>6020.0</td>\n      <td>P</td>\n      <td>01</td>\n      <td>LC</td>\n      <td>59408</td>\n      <td>3151</td>\n      <td>12/14/1972</td>\n      <td>E</td>\n    </tr>\n    <tr>\n      <th>...</th>\n      <td>...</td>\n      <td>...</td>\n      <td>...</td>\n      <td>...</td>\n      <td>...</td>\n      <td>...</td>\n      <td>...</td>\n      <td>...</td>\n      <td>...</td>\n      <td>...</td>\n      <td>...</td>\n      <td>...</td>\n      <td>...</td>\n      <td>...</td>\n      <td>...</td>\n      <td>...</td>\n      <td>...</td>\n    </tr>\n    <tr>\n      <th>93</th>\n      <td>SMITH BARNEY, HARRIS UPHAM &amp; CO.,INC</td>\n      <td>Primerica Corporation</td>\n      <td>PRI</td>\n      <td>8/22/1979</td>\n      <td>8/31/1998</td>\n      <td>22177</td>\n      <td>1414</td>\n      <td>PRIMERICA INC</td>\n      <td>PRI</td>\n      <td>6311.0</td>\n      <td>C</td>\n      <td>00X</td>\n      <td>LC</td>\n      <td>10241</td>\n      <td>22177</td>\n      <td>1/1/1950</td>\n      <td>1/30/1962</td>\n    </tr>\n    <tr>\n      <th>94</th>\n      <td>SECURITY PACIFIC NATIONAL BANK</td>\n      <td>Security Pacific Corporation</td>\n      <td>6020</td>\n      <td>12/11/1986</td>\n      <td>1/17/1991</td>\n      <td>4205</td>\n      <td>9577</td>\n      <td>SECURITY PACIFIC CORP</td>\n      <td>7448B</td>\n      <td>6020.0</td>\n      <td>P</td>\n      <td>01</td>\n      <td>LU</td>\n      <td>60839</td>\n      <td>4205</td>\n      <td>12/14/1972</td>\n      <td>4/30/1992</td>\n    </tr>\n    <tr>\n      <th>95</th>\n      <td>SOUTHERN CALIF S&amp;L ASSOC</td>\n      <td>California Federal Savings and Loan Association</td>\n      <td>NaN</td>\n      <td>6/7/1983</td>\n      <td>8/5/1983</td>\n      <td>5884</td>\n      <td>2612</td>\n      <td>CALIFORNIA FED BANCORP INC</td>\n      <td>CAL.2</td>\n      <td>6035.0</td>\n      <td>P</td>\n      <td>01</td>\n      <td>LC</td>\n      <td>66456</td>\n      <td>5884</td>\n      <td>3/29/1983</td>\n      <td>1/3/1997</td>\n    </tr>\n    <tr>\n      <th>96</th>\n      <td>TD SECURITIES (USA) LLC</td>\n      <td>The Toronto-Dominion Bank</td>\n      <td>TD (NYSE, TSX)</td>\n      <td>2/11/2014</td>\n      <td>Current</td>\n      <td>29152</td>\n      <td>15706</td>\n      <td>TORONTO DOMINION BANK</td>\n      <td>TD</td>\n      <td>6020.0</td>\n      <td>P</td>\n      <td>01</td>\n      <td>LC</td>\n      <td>83835</td>\n      <td>29152</td>\n      <td>8/30/1996</td>\n      <td>E</td>\n    </tr>\n    <tr>\n      <th>97</th>\n      <td>Zions</td>\n      <td>Zions Bancorporation</td>\n      <td>ZION (NASDAQ)</td>\n      <td>8/11/1993</td>\n      <td>3/31/2002</td>\n      <td>21305</td>\n      <td>8007</td>\n      <td>WELLS FARGO &amp; CO</td>\n      <td>WFC</td>\n      <td>6020.0</td>\n      <td>P</td>\n      <td>01</td>\n      <td>LC</td>\n      <td>38703</td>\n      <td>21305</td>\n      <td>12/10/1962</td>\n      <td>E</td>\n    </tr>\n  </tbody>\n</table>\n<p>98 rows × 17 columns</p>\n</div>"
     },
     "execution_count": 36,
     "metadata": {},
     "output_type": "execute_result"
    }
   ],
   "source": [
    "merged = pd.merge(ticks, linktable, left_on='gvkey', right_on='gvkey')\n",
    "merged"
   ],
   "metadata": {
    "collapsed": false,
    "ExecuteTime": {
     "end_time": "2024-02-19T17:48:35.384926Z",
     "start_time": "2024-02-19T17:48:35.322713400Z"
    }
   },
   "id": "55f0b418e4d91e25"
  },
  {
   "cell_type": "markdown",
   "source": [
    "### Get all data from broker dealers with SIC code 6211 or 6221 that are not in list of primary dealers\n"
   ],
   "metadata": {
    "collapsed": false
   },
   "id": "c492b79f3ffaaab"
  },
  {
   "cell_type": "code",
   "execution_count": 45,
   "outputs": [
    {
     "data": {
      "text/plain": "        gvkey                          conm    tic     sic LINKPRIM LIID  \\\n167      1148              ADVEST GROUP INC  ADV.2  6211.0        P   01   \n987      1967               BACHE GROUP INC   BAC.  6211.0        P   01   \n1379     2330          BOSTON CO INC  -CL B  BSTNB  6211.0        C  00X   \n1380     2330          BOSTON CO INC  -CL B  BSTNB  6211.0        C   01   \n1475     2432    BROWN (ROBERT C.) & CO INC   RCBI  6211.0        P   01   \n...       ...                           ...    ...     ...      ...  ...   \n30429  178073        B. RILEY FINANCIAL INC   RILY  6211.0        P   03   \n30479  178519    LPL FINANCIAL HOLDINGS INC   LPLA  6211.0        P   01   \n30548  178848  DIRECT MARKETS HOLDINGS CORP  MKTSQ  6211.0        P   01   \n31100  185518          GLOBAL BROKERAGE INC   GLBR  6211.0        C   01   \n31489  209386             VAN DER MOOLEN NV  VDMHY  6211.0        P   90   \n\n      LINKTYPE  LPERMNO  LPERMCO      LINKDT   LINKENDDT  \n167         LU    64514      420  11/21/1980   2/28/2001  \n987         LU    54893    25401   5/31/1972   6/11/1981  \n1379        LU    18877    22881    1/1/1975   1/30/1975  \n1380        LU    18877    22881   1/31/1975   9/30/1981  \n1475        LU    19538     6441   9/30/1983  11/30/1989  \n...        ...      ...      ...         ...         ...  \n30429       LC    15540    55369   7/16/2015           E  \n30479       LC    12400    53576  11/18/2010           E  \n30548       LC    92312    52781  10/16/2007   9/13/2012  \n31100       LC    12446    53607   12/2/2010           E  \n31489       LC    89197    42289  10/18/2001   12/5/2007  \n\n[165 rows x 11 columns]",
      "text/html": "<div>\n<style scoped>\n    .dataframe tbody tr th:only-of-type {\n        vertical-align: middle;\n    }\n\n    .dataframe tbody tr th {\n        vertical-align: top;\n    }\n\n    .dataframe thead th {\n        text-align: right;\n    }\n</style>\n<table border=\"1\" class=\"dataframe\">\n  <thead>\n    <tr style=\"text-align: right;\">\n      <th></th>\n      <th>gvkey</th>\n      <th>conm</th>\n      <th>tic</th>\n      <th>sic</th>\n      <th>LINKPRIM</th>\n      <th>LIID</th>\n      <th>LINKTYPE</th>\n      <th>LPERMNO</th>\n      <th>LPERMCO</th>\n      <th>LINKDT</th>\n      <th>LINKENDDT</th>\n    </tr>\n  </thead>\n  <tbody>\n    <tr>\n      <th>167</th>\n      <td>1148</td>\n      <td>ADVEST GROUP INC</td>\n      <td>ADV.2</td>\n      <td>6211.0</td>\n      <td>P</td>\n      <td>01</td>\n      <td>LU</td>\n      <td>64514</td>\n      <td>420</td>\n      <td>11/21/1980</td>\n      <td>2/28/2001</td>\n    </tr>\n    <tr>\n      <th>987</th>\n      <td>1967</td>\n      <td>BACHE GROUP INC</td>\n      <td>BAC.</td>\n      <td>6211.0</td>\n      <td>P</td>\n      <td>01</td>\n      <td>LU</td>\n      <td>54893</td>\n      <td>25401</td>\n      <td>5/31/1972</td>\n      <td>6/11/1981</td>\n    </tr>\n    <tr>\n      <th>1379</th>\n      <td>2330</td>\n      <td>BOSTON CO INC  -CL B</td>\n      <td>BSTNB</td>\n      <td>6211.0</td>\n      <td>C</td>\n      <td>00X</td>\n      <td>LU</td>\n      <td>18877</td>\n      <td>22881</td>\n      <td>1/1/1975</td>\n      <td>1/30/1975</td>\n    </tr>\n    <tr>\n      <th>1380</th>\n      <td>2330</td>\n      <td>BOSTON CO INC  -CL B</td>\n      <td>BSTNB</td>\n      <td>6211.0</td>\n      <td>C</td>\n      <td>01</td>\n      <td>LU</td>\n      <td>18877</td>\n      <td>22881</td>\n      <td>1/31/1975</td>\n      <td>9/30/1981</td>\n    </tr>\n    <tr>\n      <th>1475</th>\n      <td>2432</td>\n      <td>BROWN (ROBERT C.) &amp; CO INC</td>\n      <td>RCBI</td>\n      <td>6211.0</td>\n      <td>P</td>\n      <td>01</td>\n      <td>LU</td>\n      <td>19538</td>\n      <td>6441</td>\n      <td>9/30/1983</td>\n      <td>11/30/1989</td>\n    </tr>\n    <tr>\n      <th>...</th>\n      <td>...</td>\n      <td>...</td>\n      <td>...</td>\n      <td>...</td>\n      <td>...</td>\n      <td>...</td>\n      <td>...</td>\n      <td>...</td>\n      <td>...</td>\n      <td>...</td>\n      <td>...</td>\n    </tr>\n    <tr>\n      <th>30429</th>\n      <td>178073</td>\n      <td>B. RILEY FINANCIAL INC</td>\n      <td>RILY</td>\n      <td>6211.0</td>\n      <td>P</td>\n      <td>03</td>\n      <td>LC</td>\n      <td>15540</td>\n      <td>55369</td>\n      <td>7/16/2015</td>\n      <td>E</td>\n    </tr>\n    <tr>\n      <th>30479</th>\n      <td>178519</td>\n      <td>LPL FINANCIAL HOLDINGS INC</td>\n      <td>LPLA</td>\n      <td>6211.0</td>\n      <td>P</td>\n      <td>01</td>\n      <td>LC</td>\n      <td>12400</td>\n      <td>53576</td>\n      <td>11/18/2010</td>\n      <td>E</td>\n    </tr>\n    <tr>\n      <th>30548</th>\n      <td>178848</td>\n      <td>DIRECT MARKETS HOLDINGS CORP</td>\n      <td>MKTSQ</td>\n      <td>6211.0</td>\n      <td>P</td>\n      <td>01</td>\n      <td>LC</td>\n      <td>92312</td>\n      <td>52781</td>\n      <td>10/16/2007</td>\n      <td>9/13/2012</td>\n    </tr>\n    <tr>\n      <th>31100</th>\n      <td>185518</td>\n      <td>GLOBAL BROKERAGE INC</td>\n      <td>GLBR</td>\n      <td>6211.0</td>\n      <td>C</td>\n      <td>01</td>\n      <td>LC</td>\n      <td>12446</td>\n      <td>53607</td>\n      <td>12/2/2010</td>\n      <td>E</td>\n    </tr>\n    <tr>\n      <th>31489</th>\n      <td>209386</td>\n      <td>VAN DER MOOLEN NV</td>\n      <td>VDMHY</td>\n      <td>6211.0</td>\n      <td>P</td>\n      <td>90</td>\n      <td>LC</td>\n      <td>89197</td>\n      <td>42289</td>\n      <td>10/18/2001</td>\n      <td>12/5/2007</td>\n    </tr>\n  </tbody>\n</table>\n<p>165 rows × 11 columns</p>\n</div>"
     },
     "execution_count": 45,
     "metadata": {},
     "output_type": "execute_result"
    }
   ],
   "source": [
    "linked_bd = linktable[((linktable['sic'] == 6211) | (linktable['sic'] == 6221)) & (~linktable['gvkey'].isin(ticks['gvkey'].tolist()))]\n",
    "linked_bd"
   ],
   "metadata": {
    "collapsed": false,
    "ExecuteTime": {
     "end_time": "2024-02-19T18:11:44.363253400Z",
     "start_time": "2024-02-19T18:11:44.347594500Z"
    }
   },
   "id": "4a6c39dcbbd7437c"
  },
  {
   "cell_type": "code",
   "execution_count": 46,
   "outputs": [
    {
     "name": "stderr",
     "output_type": "stream",
     "text": [
      "C:\\Users\\jsime\\AppData\\Local\\Temp\\ipykernel_19320\\1247283076.py:11: FutureWarning: The behavior of DataFrame concatenation with empty or all-NA entries is deprecated. In a future version, this will no longer exclude empty or all-NA columns when determining the result dtypes. To retain the old behavior, exclude the relevant entries before the concat operation.\n",
      "  broker_dealers = pd.concat([new_data, broker_dealers], axis=0)\n",
      "C:\\Users\\jsime\\AppData\\Local\\Temp\\ipykernel_19320\\1247283076.py:11: FutureWarning: The behavior of DataFrame concatenation with empty or all-NA entries is deprecated. In a future version, this will no longer exclude empty or all-NA columns when determining the result dtypes. To retain the old behavior, exclude the relevant entries before the concat operation.\n",
      "  broker_dealers = pd.concat([new_data, broker_dealers], axis=0)\n",
      "C:\\Users\\jsime\\AppData\\Local\\Temp\\ipykernel_19320\\1247283076.py:11: FutureWarning: The behavior of DataFrame concatenation with empty or all-NA entries is deprecated. In a future version, this will no longer exclude empty or all-NA columns when determining the result dtypes. To retain the old behavior, exclude the relevant entries before the concat operation.\n",
      "  broker_dealers = pd.concat([new_data, broker_dealers], axis=0)\n",
      "C:\\Users\\jsime\\AppData\\Local\\Temp\\ipykernel_19320\\1247283076.py:11: FutureWarning: The behavior of DataFrame concatenation with empty or all-NA entries is deprecated. In a future version, this will no longer exclude empty or all-NA columns when determining the result dtypes. To retain the old behavior, exclude the relevant entries before the concat operation.\n",
      "  broker_dealers = pd.concat([new_data, broker_dealers], axis=0)\n",
      "C:\\Users\\jsime\\AppData\\Local\\Temp\\ipykernel_19320\\1247283076.py:11: FutureWarning: The behavior of DataFrame concatenation with empty or all-NA entries is deprecated. In a future version, this will no longer exclude empty or all-NA columns when determining the result dtypes. To retain the old behavior, exclude the relevant entries before the concat operation.\n",
      "  broker_dealers = pd.concat([new_data, broker_dealers], axis=0)\n",
      "C:\\Users\\jsime\\AppData\\Local\\Temp\\ipykernel_19320\\1247283076.py:11: FutureWarning: The behavior of DataFrame concatenation with empty or all-NA entries is deprecated. In a future version, this will no longer exclude empty or all-NA columns when determining the result dtypes. To retain the old behavior, exclude the relevant entries before the concat operation.\n",
      "  broker_dealers = pd.concat([new_data, broker_dealers], axis=0)\n",
      "C:\\Users\\jsime\\AppData\\Local\\Temp\\ipykernel_19320\\1247283076.py:11: FutureWarning: The behavior of DataFrame concatenation with empty or all-NA entries is deprecated. In a future version, this will no longer exclude empty or all-NA columns when determining the result dtypes. To retain the old behavior, exclude the relevant entries before the concat operation.\n",
      "  broker_dealers = pd.concat([new_data, broker_dealers], axis=0)\n",
      "C:\\Users\\jsime\\AppData\\Local\\Temp\\ipykernel_19320\\1247283076.py:11: FutureWarning: The behavior of DataFrame concatenation with empty or all-NA entries is deprecated. In a future version, this will no longer exclude empty or all-NA columns when determining the result dtypes. To retain the old behavior, exclude the relevant entries before the concat operation.\n",
      "  broker_dealers = pd.concat([new_data, broker_dealers], axis=0)\n",
      "C:\\Users\\jsime\\AppData\\Local\\Temp\\ipykernel_19320\\1247283076.py:11: FutureWarning: The behavior of DataFrame concatenation with empty or all-NA entries is deprecated. In a future version, this will no longer exclude empty or all-NA columns when determining the result dtypes. To retain the old behavior, exclude the relevant entries before the concat operation.\n",
      "  broker_dealers = pd.concat([new_data, broker_dealers], axis=0)\n",
      "C:\\Users\\jsime\\AppData\\Local\\Temp\\ipykernel_19320\\1247283076.py:11: FutureWarning: The behavior of DataFrame concatenation with empty or all-NA entries is deprecated. In a future version, this will no longer exclude empty or all-NA columns when determining the result dtypes. To retain the old behavior, exclude the relevant entries before the concat operation.\n",
      "  broker_dealers = pd.concat([new_data, broker_dealers], axis=0)\n",
      "C:\\Users\\jsime\\AppData\\Local\\Temp\\ipykernel_19320\\1247283076.py:11: FutureWarning: The behavior of DataFrame concatenation with empty or all-NA entries is deprecated. In a future version, this will no longer exclude empty or all-NA columns when determining the result dtypes. To retain the old behavior, exclude the relevant entries before the concat operation.\n",
      "  broker_dealers = pd.concat([new_data, broker_dealers], axis=0)\n",
      "C:\\Users\\jsime\\AppData\\Local\\Temp\\ipykernel_19320\\1247283076.py:11: FutureWarning: The behavior of DataFrame concatenation with empty or all-NA entries is deprecated. In a future version, this will no longer exclude empty or all-NA columns when determining the result dtypes. To retain the old behavior, exclude the relevant entries before the concat operation.\n",
      "  broker_dealers = pd.concat([new_data, broker_dealers], axis=0)\n",
      "C:\\Users\\jsime\\AppData\\Local\\Temp\\ipykernel_19320\\1247283076.py:11: FutureWarning: The behavior of DataFrame concatenation with empty or all-NA entries is deprecated. In a future version, this will no longer exclude empty or all-NA columns when determining the result dtypes. To retain the old behavior, exclude the relevant entries before the concat operation.\n",
      "  broker_dealers = pd.concat([new_data, broker_dealers], axis=0)\n",
      "C:\\Users\\jsime\\AppData\\Local\\Temp\\ipykernel_19320\\1247283076.py:11: FutureWarning: The behavior of DataFrame concatenation with empty or all-NA entries is deprecated. In a future version, this will no longer exclude empty or all-NA columns when determining the result dtypes. To retain the old behavior, exclude the relevant entries before the concat operation.\n",
      "  broker_dealers = pd.concat([new_data, broker_dealers], axis=0)\n",
      "C:\\Users\\jsime\\AppData\\Local\\Temp\\ipykernel_19320\\1247283076.py:11: FutureWarning: The behavior of DataFrame concatenation with empty or all-NA entries is deprecated. In a future version, this will no longer exclude empty or all-NA columns when determining the result dtypes. To retain the old behavior, exclude the relevant entries before the concat operation.\n",
      "  broker_dealers = pd.concat([new_data, broker_dealers], axis=0)\n",
      "C:\\Users\\jsime\\AppData\\Local\\Temp\\ipykernel_19320\\1247283076.py:11: FutureWarning: The behavior of DataFrame concatenation with empty or all-NA entries is deprecated. In a future version, this will no longer exclude empty or all-NA columns when determining the result dtypes. To retain the old behavior, exclude the relevant entries before the concat operation.\n",
      "  broker_dealers = pd.concat([new_data, broker_dealers], axis=0)\n",
      "C:\\Users\\jsime\\AppData\\Local\\Temp\\ipykernel_19320\\1247283076.py:11: FutureWarning: The behavior of DataFrame concatenation with empty or all-NA entries is deprecated. In a future version, this will no longer exclude empty or all-NA columns when determining the result dtypes. To retain the old behavior, exclude the relevant entries before the concat operation.\n",
      "  broker_dealers = pd.concat([new_data, broker_dealers], axis=0)\n"
     ]
    },
    {
     "name": "stdout",
     "output_type": "stream",
     "text": [
      "[]\n"
     ]
    }
   ],
   "source": [
    "empty_tickers = []\n",
    "broker_dealers = pd.DataFrame()\n",
    "for index, row in linked_bd.iterrows():\n",
    "    gvkey = row['gvkey']\n",
    "    start_date = '1960-01-01'\n",
    "    end_date = '2012-12-31'    \n",
    "    new_data = fetch_financial_data(gvkey, start_date, end_date)\n",
    "    if isinstance(new_data, tuple):\n",
    "        empty_tickers.append({row['conm']:gvkey})\n",
    "    else:\n",
    "        broker_dealers = pd.concat([new_data, broker_dealers], axis=0)\n",
    "print(empty_tickers)"
   ],
   "metadata": {
    "collapsed": false,
    "ExecuteTime": {
     "end_time": "2024-02-19T18:11:54.412099800Z",
     "start_time": "2024-02-19T18:11:46.417335100Z"
    }
   },
   "id": "8d7a3ea66807fda8"
  },
  {
   "cell_type": "code",
   "execution_count": 47,
   "outputs": [
    {
     "data": {
      "text/plain": "      datadate  total_assets  book_debt  book_equity  market_equity   gvkey  \\\n0   1999-12-31       842.252    729.293          NaN            NaN  209386   \n1   2000-12-31       876.311    726.460          NaN            NaN  209386   \n2   2001-12-31      3631.252   3064.614      538.155    1098.808600  209386   \n3   2002-12-31      1567.193   1174.844      327.342     825.624310  209386   \n4   2003-12-31      1114.079    818.679      253.830     333.861110  209386   \n..         ...           ...        ...          ...            ...     ...   \n15  1996-09-30       965.177    875.935       89.242      81.929250  001148   \n16  1997-09-30      1078.839    973.186      105.653     227.151465  001148   \n17  1998-09-30      1233.271   1109.604      123.667     182.335875  001148   \n18  1999-09-30      1462.621   1327.485      135.136     162.881250  001148   \n19  2000-09-30      2088.889   1938.089      150.800     279.927375  001148   \n\n                 conm  \n0   VAN DER MOOLEN NV  \n1   VAN DER MOOLEN NV  \n2   VAN DER MOOLEN NV  \n3   VAN DER MOOLEN NV  \n4   VAN DER MOOLEN NV  \n..                ...  \n15   ADVEST GROUP INC  \n16   ADVEST GROUP INC  \n17   ADVEST GROUP INC  \n18   ADVEST GROUP INC  \n19   ADVEST GROUP INC  \n\n[1627 rows x 7 columns]",
      "text/html": "<div>\n<style scoped>\n    .dataframe tbody tr th:only-of-type {\n        vertical-align: middle;\n    }\n\n    .dataframe tbody tr th {\n        vertical-align: top;\n    }\n\n    .dataframe thead th {\n        text-align: right;\n    }\n</style>\n<table border=\"1\" class=\"dataframe\">\n  <thead>\n    <tr style=\"text-align: right;\">\n      <th></th>\n      <th>datadate</th>\n      <th>total_assets</th>\n      <th>book_debt</th>\n      <th>book_equity</th>\n      <th>market_equity</th>\n      <th>gvkey</th>\n      <th>conm</th>\n    </tr>\n  </thead>\n  <tbody>\n    <tr>\n      <th>0</th>\n      <td>1999-12-31</td>\n      <td>842.252</td>\n      <td>729.293</td>\n      <td>NaN</td>\n      <td>NaN</td>\n      <td>209386</td>\n      <td>VAN DER MOOLEN NV</td>\n    </tr>\n    <tr>\n      <th>1</th>\n      <td>2000-12-31</td>\n      <td>876.311</td>\n      <td>726.460</td>\n      <td>NaN</td>\n      <td>NaN</td>\n      <td>209386</td>\n      <td>VAN DER MOOLEN NV</td>\n    </tr>\n    <tr>\n      <th>2</th>\n      <td>2001-12-31</td>\n      <td>3631.252</td>\n      <td>3064.614</td>\n      <td>538.155</td>\n      <td>1098.808600</td>\n      <td>209386</td>\n      <td>VAN DER MOOLEN NV</td>\n    </tr>\n    <tr>\n      <th>3</th>\n      <td>2002-12-31</td>\n      <td>1567.193</td>\n      <td>1174.844</td>\n      <td>327.342</td>\n      <td>825.624310</td>\n      <td>209386</td>\n      <td>VAN DER MOOLEN NV</td>\n    </tr>\n    <tr>\n      <th>4</th>\n      <td>2003-12-31</td>\n      <td>1114.079</td>\n      <td>818.679</td>\n      <td>253.830</td>\n      <td>333.861110</td>\n      <td>209386</td>\n      <td>VAN DER MOOLEN NV</td>\n    </tr>\n    <tr>\n      <th>...</th>\n      <td>...</td>\n      <td>...</td>\n      <td>...</td>\n      <td>...</td>\n      <td>...</td>\n      <td>...</td>\n      <td>...</td>\n    </tr>\n    <tr>\n      <th>15</th>\n      <td>1996-09-30</td>\n      <td>965.177</td>\n      <td>875.935</td>\n      <td>89.242</td>\n      <td>81.929250</td>\n      <td>001148</td>\n      <td>ADVEST GROUP INC</td>\n    </tr>\n    <tr>\n      <th>16</th>\n      <td>1997-09-30</td>\n      <td>1078.839</td>\n      <td>973.186</td>\n      <td>105.653</td>\n      <td>227.151465</td>\n      <td>001148</td>\n      <td>ADVEST GROUP INC</td>\n    </tr>\n    <tr>\n      <th>17</th>\n      <td>1998-09-30</td>\n      <td>1233.271</td>\n      <td>1109.604</td>\n      <td>123.667</td>\n      <td>182.335875</td>\n      <td>001148</td>\n      <td>ADVEST GROUP INC</td>\n    </tr>\n    <tr>\n      <th>18</th>\n      <td>1999-09-30</td>\n      <td>1462.621</td>\n      <td>1327.485</td>\n      <td>135.136</td>\n      <td>162.881250</td>\n      <td>001148</td>\n      <td>ADVEST GROUP INC</td>\n    </tr>\n    <tr>\n      <th>19</th>\n      <td>2000-09-30</td>\n      <td>2088.889</td>\n      <td>1938.089</td>\n      <td>150.800</td>\n      <td>279.927375</td>\n      <td>001148</td>\n      <td>ADVEST GROUP INC</td>\n    </tr>\n  </tbody>\n</table>\n<p>1627 rows × 7 columns</p>\n</div>"
     },
     "execution_count": 47,
     "metadata": {},
     "output_type": "execute_result"
    }
   ],
   "source": [
    "broker_dealers.drop_duplicates()"
   ],
   "metadata": {
    "collapsed": false,
    "ExecuteTime": {
     "end_time": "2024-02-19T18:12:06.596362Z",
     "start_time": "2024-02-19T18:12:06.547216300Z"
    }
   },
   "id": "8c9e90a7eea13588"
  },
  {
   "cell_type": "markdown",
   "source": [
    "Get data from banks\n",
    "6011 - Federal Reserve Banks\n",
    "6021 - National Commercial Banks\n",
    "6022 - State Commercial Banks\n",
    "6029 - Commercial Banks, nec (not elsewhere classified)\n",
    "6081 - Foreign Bank and Branches and Agencies\n",
    "6082 - Foreign Trade and International Banking Institutions"
   ],
   "metadata": {
    "collapsed": false
   },
   "id": "e0e394da8edbd163"
  },
  {
   "cell_type": "code",
   "execution_count": 51,
   "outputs": [
    {
     "data": {
      "text/plain": "Series([], Name: conm, dtype: object)"
     },
     "execution_count": 51,
     "metadata": {},
     "output_type": "execute_result"
    }
   ],
   "source": [
    "bank_sic = [6011,6021,6022,6029,6081,6082] # these are not all the codes, in the process of looking these up\n",
    "linked_banks = linktable[(linktable['sic'].isin(bank_sic))]\n",
    "linked_banks"
   ],
   "metadata": {
    "collapsed": false,
    "ExecuteTime": {
     "end_time": "2024-02-19T18:24:11.251926300Z",
     "start_time": "2024-02-19T18:24:11.195807200Z"
    }
   },
   "id": "c51dd4bb927660ec"
  },
  {
   "cell_type": "code",
   "execution_count": null,
   "outputs": [],
   "source": [],
   "metadata": {
    "collapsed": false
   },
   "id": "e6e93b56f0024754"
  }
 ],
 "metadata": {
  "kernelspec": {
   "name": "my_project_env_kernel",
   "language": "python",
   "display_name": "my_project_env_kernel"
  },
  "language_info": {
   "codemirror_mode": {
    "name": "ipython",
    "version": 2
   },
   "file_extension": ".py",
   "mimetype": "text/x-python",
   "name": "python",
   "nbconvert_exporter": "python",
   "pygments_lexer": "ipython2",
   "version": "2.7.6"
  }
 },
 "nbformat": 4,
 "nbformat_minor": 5
}
