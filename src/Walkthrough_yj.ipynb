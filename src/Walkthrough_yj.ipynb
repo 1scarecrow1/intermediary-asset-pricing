{
 "cells": [
  {
   "cell_type": "code",
   "execution_count": 5,
   "metadata": {},
   "outputs": [],
   "source": [
    "import Table_01\n",
    "import Table_A1\n",
    "import Table_A1_to_latex"
   ]
  },
  {
   "cell_type": "markdown",
   "metadata": {},
   "source": [
    "### 1. Table 01"
   ]
  },
  {
   "cell_type": "markdown",
   "metadata": {},
   "source": [
    "#### 1-1 Pull the NY Fed primary dealers list from the NY Fed website"
   ]
  },
  {
   "cell_type": "markdown",
   "metadata": {},
   "source": [
    "* Utilize the pull_nyfed_primary_dealers_list function, as defined in the 'load_nyfed.py' file, to download the 'nyfed_primary_dealers_list.xls' Excel file. This function saves the downloaded file into the 'data/pulled' directory."
   ]
  },
  {
   "cell_type": "markdown",
   "metadata": {},
   "source": [
    "* This process is managed by the task_pullnyfed_main() function in the 'dodo.py' file. It handles downloading the 'nyfed_primary_dealers_list.xls' Excel file and saving it in the 'data/pulled' directory."
   ]
  },
  {
   "cell_type": "markdown",
   "metadata": {},
   "source": [
    "#### 1-2 Load the NY Fed primary dealers list from the cached files in the 'data/pulled' directory"
   ]
  },
  {
   "cell_type": "markdown",
   "metadata": {},
   "source": [
    "* Use the 'load_nyfed_primary_dealers_list' function to access the NY Fed primary dealers list from the cached data in the 'data/pulled' directory. Focus on the '2000s' and 'Dealer Alpha' worksheets to extract the list of primary dealers as of February 2014, aiming to replicate Table 1."
   ]
  },
  {
   "cell_type": "markdown",
   "metadata": {},
   "source": [
    "#### 1-3 Replicate Table 1 using data from the 'nyfed_primary_dealers_list.xls' Excel file"
   ]
  },
  {
   "cell_type": "markdown",
   "metadata": {},
   "source": [
    "* The '2000s' worksheet provides annual listings of primary dealers from 2000 to 2014; refine this data to isolate dealers active as of February 2014."
   ]
  },
  {
   "cell_type": "code",
   "execution_count": 4,
   "metadata": {},
   "outputs": [
    {
     "data": {
      "text/html": [
       "<div>\n",
       "<style scoped>\n",
       "    .dataframe tbody tr th:only-of-type {\n",
       "        vertical-align: middle;\n",
       "    }\n",
       "\n",
       "    .dataframe tbody tr th {\n",
       "        vertical-align: top;\n",
       "    }\n",
       "\n",
       "    .dataframe thead th {\n",
       "        text-align: right;\n",
       "    }\n",
       "</style>\n",
       "<table border=\"1\" class=\"dataframe\">\n",
       "  <thead>\n",
       "    <tr style=\"text-align: right;\">\n",
       "      <th></th>\n",
       "      <th>Primary Dealer</th>\n",
       "    </tr>\n",
       "  </thead>\n",
       "  <tbody>\n",
       "    <tr>\n",
       "      <th>0</th>\n",
       "      <td>BANK OF NOVA SCOTIA, NEW YORK AGENCY</td>\n",
       "    </tr>\n",
       "    <tr>\n",
       "      <th>1</th>\n",
       "      <td>BARCLAYS CAPITAL INC.</td>\n",
       "    </tr>\n",
       "    <tr>\n",
       "      <th>2</th>\n",
       "      <td>BMO CAPITAL MARKETS CORP.</td>\n",
       "    </tr>\n",
       "    <tr>\n",
       "      <th>3</th>\n",
       "      <td>BNP PARIBAS SECURITIES CORP.</td>\n",
       "    </tr>\n",
       "    <tr>\n",
       "      <th>4</th>\n",
       "      <td>CANTOR FITZGERALD &amp; CO.</td>\n",
       "    </tr>\n",
       "  </tbody>\n",
       "</table>\n",
       "</div>"
      ],
      "text/plain": [
       "                         Primary Dealer\n",
       "0  BANK OF NOVA SCOTIA, NEW YORK AGENCY\n",
       "1   BARCLAYS CAPITAL INC.              \n",
       "2            BMO CAPITAL MARKETS CORP. \n",
       "3      BNP PARIBAS SECURITIES CORP.    \n",
       "4               CANTOR FITZGERALD & CO."
      ]
     },
     "execution_count": 4,
     "metadata": {},
     "output_type": "execute_result"
    }
   ],
   "source": [
    "Table_01.df_2014.head()"
   ]
  },
  {
   "cell_type": "markdown",
   "metadata": {},
   "source": [
    "* The 'Dealer Alpha' worksheet covers all primary dealers from 1960 to 2014, including their start and end dates. Clean this data to facilitate matching with the primary dealer listings found in the '2000s' worksheet.\""
   ]
  },
  {
   "cell_type": "code",
   "execution_count": 5,
   "metadata": {},
   "outputs": [
    {
     "data": {
      "text/html": [
       "<div>\n",
       "<style scoped>\n",
       "    .dataframe tbody tr th:only-of-type {\n",
       "        vertical-align: middle;\n",
       "    }\n",
       "\n",
       "    .dataframe tbody tr th {\n",
       "        vertical-align: top;\n",
       "    }\n",
       "\n",
       "    .dataframe thead th {\n",
       "        text-align: right;\n",
       "    }\n",
       "</style>\n",
       "<table border=\"1\" class=\"dataframe\">\n",
       "  <thead>\n",
       "    <tr style=\"text-align: right;\">\n",
       "      <th></th>\n",
       "      <th>Primary Dealer</th>\n",
       "      <th>Start Date</th>\n",
       "      <th>End Date</th>\n",
       "    </tr>\n",
       "  </thead>\n",
       "  <tbody>\n",
       "    <tr>\n",
       "      <th>0</th>\n",
       "      <td>ABN AMRO BANK, N.V., NY BR</td>\n",
       "      <td>2002-12-09</td>\n",
       "      <td>2006-09-15</td>\n",
       "    </tr>\n",
       "    <tr>\n",
       "      <th>1</th>\n",
       "      <td>ABN AMRO INCORPORATED</td>\n",
       "      <td>1998-09-29</td>\n",
       "      <td>2002-12-08</td>\n",
       "    </tr>\n",
       "    <tr>\n",
       "      <th>2</th>\n",
       "      <td>AUBREY G. LANSTON &amp; CO., INC.</td>\n",
       "      <td>1960-05-19</td>\n",
       "      <td>2000-04-17</td>\n",
       "    </tr>\n",
       "    <tr>\n",
       "      <th>3</th>\n",
       "      <td>BA SECURITIES, INC.</td>\n",
       "      <td>1994-04-18</td>\n",
       "      <td>1997-09-30</td>\n",
       "    </tr>\n",
       "    <tr>\n",
       "      <th>4</th>\n",
       "      <td>BANC OF AMERICA SECURITIES LLC</td>\n",
       "      <td>1999-05-17</td>\n",
       "      <td>2010-11-01</td>\n",
       "    </tr>\n",
       "  </tbody>\n",
       "</table>\n",
       "</div>"
      ],
      "text/plain": [
       "0                             Primary Dealer Start Date    End Date\n",
       "0       ABN AMRO BANK, N.V., NY BR           2002-12-09  2006-09-15\n",
       "1       ABN AMRO INCORPORATED                1998-09-29  2002-12-08\n",
       "2        AUBREY G. LANSTON & CO., INC.       1960-05-19  2000-04-17\n",
       "3        BA SECURITIES, INC.                 1994-04-18  1997-09-30\n",
       "4  BANC OF AMERICA SECURITIES LLC            1999-05-17  2010-11-01"
      ]
     },
     "execution_count": 5,
     "metadata": {},
     "output_type": "execute_result"
    }
   ],
   "source": [
    "Table_01.df_dealer_alpha.head()"
   ]
  },
  {
   "cell_type": "markdown",
   "metadata": {},
   "source": [
    "* Match the 2014 primary dealer list with their start dates, taking care to handle name discrepancies across two Excel sheets, such as extra spaces or differences in punctuation."
   ]
  },
  {
   "cell_type": "markdown",
   "metadata": {},
   "source": [
    "* Also, for dealers who were active, paused, and then resumed, use their latest start date. The code should adjust for these variations to correctly align with the table in the paper. Lastly, arrange the start dates from earliest to most recent."
   ]
  },
  {
   "cell_type": "code",
   "execution_count": 6,
   "metadata": {},
   "outputs": [
    {
     "data": {
      "text/html": [
       "<div>\n",
       "<style scoped>\n",
       "    .dataframe tbody tr th:only-of-type {\n",
       "        vertical-align: middle;\n",
       "    }\n",
       "\n",
       "    .dataframe tbody tr th {\n",
       "        vertical-align: top;\n",
       "    }\n",
       "\n",
       "    .dataframe thead th {\n",
       "        text-align: right;\n",
       "    }\n",
       "</style>\n",
       "<table border=\"1\" class=\"dataframe\">\n",
       "  <thead>\n",
       "    <tr style=\"text-align: right;\">\n",
       "      <th></th>\n",
       "      <th>Primary Dealer</th>\n",
       "      <th>Start Date</th>\n",
       "    </tr>\n",
       "  </thead>\n",
       "  <tbody>\n",
       "    <tr>\n",
       "      <th>0</th>\n",
       "      <td>GOLDMAN, SACHS &amp; CO.</td>\n",
       "      <td>1974-12-04</td>\n",
       "    </tr>\n",
       "    <tr>\n",
       "      <th>1</th>\n",
       "      <td>BARCLAYS CAPITAL INC.</td>\n",
       "      <td>1998-04-01</td>\n",
       "    </tr>\n",
       "    <tr>\n",
       "      <th>2</th>\n",
       "      <td>HSBC SECURITIES (USA) INC.</td>\n",
       "      <td>1999-06-01</td>\n",
       "    </tr>\n",
       "    <tr>\n",
       "      <th>3</th>\n",
       "      <td>BNP PARIBAS SECURITIES CORP.</td>\n",
       "      <td>2000-09-15</td>\n",
       "    </tr>\n",
       "    <tr>\n",
       "      <th>4</th>\n",
       "      <td>DEUTSCHE BANK SECURITIES INC.</td>\n",
       "      <td>2002-03-30</td>\n",
       "    </tr>\n",
       "  </tbody>\n",
       "</table>\n",
       "</div>"
      ],
      "text/plain": [
       "                        Primary Dealer Start Date\n",
       "0  GOLDMAN, SACHS & CO.                1974-12-04\n",
       "1  BARCLAYS CAPITAL INC.               1998-04-01\n",
       "2  HSBC SECURITIES (USA) INC.          1999-06-01\n",
       "3     BNP PARIBAS SECURITIES CORP.     2000-09-15\n",
       "4     DEUTSCHE BANK SECURITIES INC.    2002-03-30"
      ]
     },
     "execution_count": 6,
     "metadata": {},
     "output_type": "execute_result"
    }
   ],
   "source": [
    "Table_01.merged_df.head()"
   ]
  },
  {
   "cell_type": "markdown",
   "metadata": {},
   "source": [
    "* The author manually matched dealers with their publicly-traded holding companies. For the replication, a 'ticks.csv' file was created and placed in the 'data/manual' directory, containing the mapping information between primary dealers and their holding companies. Subsequently, an additional column was introduced to the 'merged_df' table to display the corresponding holding company for each dealer, utilizing the information from the 'ticks.csv' file."
   ]
  },
  {
   "cell_type": "code",
   "execution_count": 7,
   "metadata": {},
   "outputs": [
    {
     "data": {
      "text/html": [
       "<div>\n",
       "<style scoped>\n",
       "    .dataframe tbody tr th:only-of-type {\n",
       "        vertical-align: middle;\n",
       "    }\n",
       "\n",
       "    .dataframe tbody tr th {\n",
       "        vertical-align: top;\n",
       "    }\n",
       "\n",
       "    .dataframe thead th {\n",
       "        text-align: right;\n",
       "    }\n",
       "</style>\n",
       "<table border=\"1\" class=\"dataframe\">\n",
       "  <thead>\n",
       "    <tr style=\"text-align: right;\">\n",
       "      <th></th>\n",
       "      <th>Primary Dealer</th>\n",
       "      <th>Holding Company</th>\n",
       "      <th>Start Date</th>\n",
       "    </tr>\n",
       "  </thead>\n",
       "  <tbody>\n",
       "    <tr>\n",
       "      <th></th>\n",
       "      <td>GOLDMAN, SACHS &amp; CO.</td>\n",
       "      <td>The Goldman Sachs Group, Inc.</td>\n",
       "      <td>12/4/1974</td>\n",
       "    </tr>\n",
       "    <tr>\n",
       "      <th></th>\n",
       "      <td>BARCLAYS CAPITAL INC.</td>\n",
       "      <td>Barclays PLC</td>\n",
       "      <td>4/1/1998</td>\n",
       "    </tr>\n",
       "    <tr>\n",
       "      <th></th>\n",
       "      <td>HSBC SECURITIES (USA) INC.</td>\n",
       "      <td>HSBC Holdings PLC</td>\n",
       "      <td>6/1/1999</td>\n",
       "    </tr>\n",
       "    <tr>\n",
       "      <th></th>\n",
       "      <td>BNP PARIBAS SECURITIES CORP.</td>\n",
       "      <td>BNP Paribas Group</td>\n",
       "      <td>9/15/2000</td>\n",
       "    </tr>\n",
       "    <tr>\n",
       "      <th></th>\n",
       "      <td>DEUTSCHE BANK SECURITIES INC.</td>\n",
       "      <td>Deutsche Bank AG</td>\n",
       "      <td>3/30/2002</td>\n",
       "    </tr>\n",
       "  </tbody>\n",
       "</table>\n",
       "</div>"
      ],
      "text/plain": [
       "                       Primary Dealer                Holding Company  \\\n",
       "  GOLDMAN, SACHS & CO.                 The Goldman Sachs Group, Inc.   \n",
       "  BARCLAYS CAPITAL INC.                                 Barclays PLC   \n",
       "  HSBC SECURITIES (USA) INC.                       HSBC Holdings PLC   \n",
       "     BNP PARIBAS SECURITIES CORP.                  BNP Paribas Group   \n",
       "     DEUTSCHE BANK SECURITIES INC.                  Deutsche Bank AG   \n",
       "\n",
       " Start Date  \n",
       "  12/4/1974  \n",
       "   4/1/1998  \n",
       "   6/1/1999  \n",
       "  9/15/2000  \n",
       "  3/30/2002  "
      ]
     },
     "execution_count": 7,
     "metadata": {},
     "output_type": "execute_result"
    }
   ],
   "source": [
    "Table_01.merged_df_final.head()"
   ]
  },
  {
   "cell_type": "markdown",
   "metadata": {},
   "source": [
    "#### 1-4 Validate adjusted primary dealer names and dates against expected results"
   ]
  },
  {
   "cell_type": "markdown",
   "metadata": {},
   "source": [
    "* Ensure that 'Primary Dealer' names and 'Start Dates' in Table_01.merged_df_final, after removing spaces and periods and applying specific naming exceptions, align with expected results."
   ]
  },
  {
   "cell_type": "markdown",
   "metadata": {},
   "source": [
    "* Exceptions include adjusting 'Bank of Nova Scotia, New York Agency' to 'Bank of Nova Scotia, NY Agency' and shortening 'Merrill Lynch, Pierce, Fenner & Smith Incorporated' to 'Merrill Lynch, Pierce, Fenner & Smith'."
   ]
  },
  {
   "cell_type": "markdown",
   "metadata": {},
   "source": [
    "#### 1-5 Convert the table to LaTeX format using the to_latex() function"
   ]
  },
  {
   "cell_type": "markdown",
   "metadata": {},
   "source": [
    "* The to_latex function, located in the 'Table_01_to_latex.py' file, is used to convert the 'merged_df_final' table into LaTeX format. The resulting LaTeX code is then saved into the 'Table_01_to_latex.tex' file within the output directory."
   ]
  },
  {
   "cell_type": "markdown",
   "metadata": {},
   "source": [
    "* Before converting the table to LaTeX format, replace '&' with '\\\\&' in company names. Since LaTeX uses '&' to recognize table columns, an unescaped '&' in company names can cause errors when generating the table in LaTeX format."
   ]
  },
  {
   "cell_type": "markdown",
   "metadata": {},
   "source": [
    "#### 1-6 Complete the LaTeX setup to replicate Table 1, incorporating the formatted table"
   ]
  },
  {
   "cell_type": "markdown",
   "metadata": {},
   "source": [
    "* Use the 'Table_01_to_latex.tex' file from the 'output' directory, which contains the table in LaTeX format, to create a 'Report_Table_01.tex' file in the 'reports' directory. This action replicates the entire table. The table is inserted into 'Report_Table_01.tex' by employing the '\\input{\\PathToOutput/Table_01_to_latex.tex}' command."
   ]
  },
  {
   "cell_type": "markdown",
   "metadata": {},
   "source": [
    "### 2. Table A.1\n"
   ]
  },
  {
   "cell_type": "markdown",
   "metadata": {},
   "source": [
    "#### 2-1 Load the NY Fed primary dealers list from the cached files in the 'data/pulled' directory"
   ]
  },
  {
   "cell_type": "markdown",
   "metadata": {},
   "source": [
    "* Use the 'load_nyfed_primary_dealers_list' function to access the NY Fed primary dealers list from the cached data in the 'data/pulled' directory. This time, focus on the 'Dealer Alpha' worksheets to extract the list of primary dealers from 1960 to 2014, including their start and end dates, with the aim of replicating Table A.1."
   ]
  },
  {
   "cell_type": "markdown",
   "metadata": {},
   "source": [
    "#### 2-2 Replicate Table A.1 using data from the 'nyfed_primary_dealers_list.xls' Excel file"
   ]
  },
  {
   "cell_type": "markdown",
   "metadata": {},
   "source": [
    "* Clean the data from the 'Dealer Alpha' worksheet to replicate Table A.1, including formatting dates and marking companies still active as primary dealers with 'Current' in the end date column, etc."
   ]
  },
  {
   "cell_type": "code",
   "execution_count": 3,
   "metadata": {},
   "outputs": [
    {
     "data": {
      "text/html": [
       "<div>\n",
       "<style scoped>\n",
       "    .dataframe tbody tr th:only-of-type {\n",
       "        vertical-align: middle;\n",
       "    }\n",
       "\n",
       "    .dataframe tbody tr th {\n",
       "        vertical-align: top;\n",
       "    }\n",
       "\n",
       "    .dataframe thead th {\n",
       "        text-align: right;\n",
       "    }\n",
       "</style>\n",
       "<table border=\"1\" class=\"dataframe\">\n",
       "  <thead>\n",
       "    <tr style=\"text-align: right;\">\n",
       "      <th></th>\n",
       "      <th>Primary Dealer</th>\n",
       "      <th>Start Date</th>\n",
       "      <th>End Date</th>\n",
       "    </tr>\n",
       "  </thead>\n",
       "  <tbody>\n",
       "    <tr>\n",
       "      <th>0</th>\n",
       "      <td>ABN AMRO BANK, N.V., NY BR</td>\n",
       "      <td>12/9/2002</td>\n",
       "      <td>9/15/2006</td>\n",
       "    </tr>\n",
       "    <tr>\n",
       "      <th>1</th>\n",
       "      <td>ABN AMRO INCORPORATED</td>\n",
       "      <td>9/29/1998</td>\n",
       "      <td>12/8/2002</td>\n",
       "    </tr>\n",
       "    <tr>\n",
       "      <th>2</th>\n",
       "      <td>AUBREY G. LANSTON &amp; CO., INC.</td>\n",
       "      <td>5/19/1960</td>\n",
       "      <td>4/17/2000</td>\n",
       "    </tr>\n",
       "    <tr>\n",
       "      <th>3</th>\n",
       "      <td>BA SECURITIES, INC.</td>\n",
       "      <td>4/18/1994</td>\n",
       "      <td>9/30/1997</td>\n",
       "    </tr>\n",
       "    <tr>\n",
       "      <th>4</th>\n",
       "      <td>BANC OF AMERICA SECURITIES LLC</td>\n",
       "      <td>5/17/1999</td>\n",
       "      <td>11/1/2010</td>\n",
       "    </tr>\n",
       "  </tbody>\n",
       "</table>\n",
       "</div>"
      ],
      "text/plain": [
       "0                             Primary Dealer Start Date   End Date\n",
       "0       ABN AMRO BANK, N.V., NY BR            12/9/2002  9/15/2006\n",
       "1       ABN AMRO INCORPORATED                 9/29/1998  12/8/2002\n",
       "2        AUBREY G. LANSTON & CO., INC.        5/19/1960  4/17/2000\n",
       "3        BA SECURITIES, INC.                  4/18/1994  9/30/1997\n",
       "4  BANC OF AMERICA SECURITIES LLC             5/17/1999  11/1/2010"
      ]
     },
     "execution_count": 3,
     "metadata": {},
     "output_type": "execute_result"
    }
   ],
   "source": [
    "Table_A1.df_dealer_alpha.head()"
   ]
  },
  {
   "cell_type": "markdown",
   "metadata": {},
   "source": [
    "#### 2-3 Convert the table to LaTeX format using the to_latex() function"
   ]
  },
  {
   "cell_type": "markdown",
   "metadata": {},
   "source": [
    "* The to_latex function, found in the 'Table_A1_to_latex.py' file, is used to convert the 'df_dealer_alpha' table into LaTeX format. The resulting LaTeX code is then saved in the 'Table_A1_to_latex.tex' file within the output directory."
   ]
  },
  {
   "cell_type": "markdown",
   "metadata": {},
   "source": [
    "* As described in the Table 01 replication process, before converting the table to LaTeX format, replace '&' with '\\\\&' in company names. This is necessary because LaTeX uses '&' to recognize table columns, and an unescaped '&' in company names can cause errors when generating the table in LaTeX format."
   ]
  },
  {
   "cell_type": "markdown",
   "metadata": {},
   "source": [
    "* To match the format presented in Table A.1, separate the primary dealer list at the midpoint, adding a separator column for visual division"
   ]
  },
  {
   "cell_type": "code",
   "execution_count": 6,
   "metadata": {},
   "outputs": [
    {
     "data": {
      "text/html": [
       "<div>\n",
       "<style scoped>\n",
       "    .dataframe tbody tr th:only-of-type {\n",
       "        vertical-align: middle;\n",
       "    }\n",
       "\n",
       "    .dataframe tbody tr th {\n",
       "        vertical-align: top;\n",
       "    }\n",
       "\n",
       "    .dataframe thead th {\n",
       "        text-align: right;\n",
       "    }\n",
       "</style>\n",
       "<table border=\"1\" class=\"dataframe\">\n",
       "  <thead>\n",
       "    <tr style=\"text-align: right;\">\n",
       "      <th></th>\n",
       "      <th>Primary Dealer</th>\n",
       "      <th>Start Date</th>\n",
       "      <th>End Date</th>\n",
       "      <th></th>\n",
       "      <th>Primary Dealer</th>\n",
       "      <th>Start Date</th>\n",
       "      <th>End Date</th>\n",
       "    </tr>\n",
       "  </thead>\n",
       "  <tbody>\n",
       "    <tr>\n",
       "      <th>0</th>\n",
       "      <td>ABN AMRO BANK, N.V., NY BR</td>\n",
       "      <td>12/9/2002</td>\n",
       "      <td>9/15/2006</td>\n",
       "      <td></td>\n",
       "      <td>HARRIS TRUST</td>\n",
       "      <td>7/15/1965</td>\n",
       "      <td>8/31/1988</td>\n",
       "    </tr>\n",
       "    <tr>\n",
       "      <th>1</th>\n",
       "      <td>ABN AMRO INCORPORATED</td>\n",
       "      <td>9/29/1998</td>\n",
       "      <td>12/8/2002</td>\n",
       "      <td></td>\n",
       "      <td>HARRIS-NESBITT THOMSON SEC., INC.</td>\n",
       "      <td>12/31/1992</td>\n",
       "      <td>9/7/1993</td>\n",
       "    </tr>\n",
       "    <tr>\n",
       "      <th>2</th>\n",
       "      <td>AUBREY G. LANSTON \\&amp; CO., INC.</td>\n",
       "      <td>5/19/1960</td>\n",
       "      <td>4/17/2000</td>\n",
       "      <td></td>\n",
       "      <td>HSBC SECURITIES (USA) INC.</td>\n",
       "      <td>6/1/1999</td>\n",
       "      <td>Current</td>\n",
       "    </tr>\n",
       "    <tr>\n",
       "      <th>3</th>\n",
       "      <td>BA SECURITIES, INC.</td>\n",
       "      <td>4/18/1994</td>\n",
       "      <td>9/30/1997</td>\n",
       "      <td></td>\n",
       "      <td>HSBC SECURITIES, INC.</td>\n",
       "      <td>5/9/1994</td>\n",
       "      <td>5/31/1999</td>\n",
       "    </tr>\n",
       "    <tr>\n",
       "      <th>4</th>\n",
       "      <td>BANC OF AMERICA SECURITIES LLC</td>\n",
       "      <td>5/17/1999</td>\n",
       "      <td>11/1/2010</td>\n",
       "      <td></td>\n",
       "      <td>HUTTON</td>\n",
       "      <td>11/2/1977</td>\n",
       "      <td>12/31/1987</td>\n",
       "    </tr>\n",
       "  </tbody>\n",
       "</table>\n",
       "</div>"
      ],
      "text/plain": [
       "0                             Primary Dealer Start Date   End Date    \\\n",
       "0       ABN AMRO BANK, N.V., NY BR            12/9/2002  9/15/2006     \n",
       "1       ABN AMRO INCORPORATED                 9/29/1998  12/8/2002     \n",
       "2       AUBREY G. LANSTON \\& CO., INC.        5/19/1960  4/17/2000     \n",
       "3        BA SECURITIES, INC.                  4/18/1994  9/30/1997     \n",
       "4  BANC OF AMERICA SECURITIES LLC             5/17/1999  11/1/2010     \n",
       "\n",
       "0                        Primary Dealer  Start Date    End Date  \n",
       "0   HARRIS TRUST                          7/15/1965   8/31/1988  \n",
       "1   HARRIS-NESBITT THOMSON SEC., INC.    12/31/1992    9/7/1993  \n",
       "2  HSBC SECURITIES (USA) INC.              6/1/1999     Current  \n",
       "3  HSBC SECURITIES, INC.                   5/9/1994   5/31/1999  \n",
       "4  HUTTON                                 11/2/1977  12/31/1987  "
      ]
     },
     "execution_count": 6,
     "metadata": {},
     "output_type": "execute_result"
    }
   ],
   "source": [
    "Table_A1_to_latex.df_combined.head()"
   ]
  },
  {
   "cell_type": "markdown",
   "metadata": {},
   "source": [
    "#### 2-4 Complete the LaTeX setup to replicate Table A.1, incorporating the formatted table"
   ]
  },
  {
   "cell_type": "markdown",
   "metadata": {},
   "source": [
    "* To replicate the entire table in a report, use the 'Table_A1_to_latex.tex' file from the 'output' directory. Create a 'Report_Table_A1.tex' file in the 'reports' directory and insert the table by using the command '\\input{\\PathToOutput/Table_A1_to_latex.tex}'."
   ]
  },
  {
   "cell_type": "markdown",
   "metadata": {},
   "source": [
    "#### 2-5 Limitations on Replicating Table A.1"
   ]
  },
  {
   "cell_type": "markdown",
   "metadata": {},
   "source": [
    "* While the replication closely mirrors Table A.1 in format, the list of primary dealers, and data accuracy including start and end dates, a perfect match with the original Table A.1 in the paper is not achieved for several reasons: "
   ]
  },
  {
   "cell_type": "markdown",
   "metadata": {},
   "source": [
    "* The original paper used shorter, abbreviated company names in a less consistent manner compared to Table 1, unlike the NY Fed's Excel file which provided full names."
   ]
  },
  {
   "cell_type": "markdown",
   "metadata": {},
   "source": [
    "* The author consolidated the list by combining entries that, despite name changes, continued as primary dealers. In contrast, the Excel file from the NY Fed presents a more extensive list by including all dealers, accounting for their names before and after changes, resulting in a higher number of entries."
   ]
  },
  {
   "cell_type": "markdown",
   "metadata": {},
   "source": [
    "* Due to the differences in abbreviation usage and the consolidation approach by the author, conducting precise unit testing was challenging, as the subjectivity in primary dealer name abbreviation and entry combination affected the direct comparison."
   ]
  }
 ],
 "metadata": {
  "kernelspec": {
   "display_name": "finm",
   "language": "python",
   "name": "python3"
  },
  "language_info": {
   "codemirror_mode": {
    "name": "ipython",
    "version": 3
   },
   "file_extension": ".py",
   "mimetype": "text/x-python",
   "name": "python",
   "nbconvert_exporter": "python",
   "pygments_lexer": "ipython3",
   "version": "3.12.0"
  }
 },
 "nbformat": 4,
 "nbformat_minor": 2
}
