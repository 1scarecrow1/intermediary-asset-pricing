{
 "cells": [
  {
   "cell_type": "markdown",
   "id": "e676eb3a973ce50c",
   "metadata": {
    "collapsed": false
   },
   "source": [
    "# Replicating _Intermediary asset pricing: New evidence from many asset classes_\n",
    "### James, Young Jin Song, Jaehwa Youm, Monica Panigrahy, and Jacob Simeral "
   ]
  },
  {
   "cell_type": "code",
   "execution_count": 1,
   "id": "3dbc082fabd95669",
   "metadata": {
    "ExecuteTime": {
     "end_time": "2024-02-25T17:19:06.970252400Z",
     "start_time": "2024-02-25T17:19:05.716737400Z"
    },
    "collapsed": false
   },
   "outputs": [
    {
     "name": "stdout",
     "output_type": "stream",
     "text": [
      "Attempting to load from: /Users/jamessong/Desktop/GitRepository/intermediary-asset-pricing/data/pulled/nyfed_primary_dealers_list.xls\n",
      "Loading from cache.\n",
      "Attempting to load from: /Users/jamessong/Desktop/GitRepository/intermediary-asset-pricing/data/pulled/nyfed_primary_dealers_list.xls\n",
      "Loading from cache.\n",
      "Attempting to load from: /Users/jamessong/Desktop/GitRepository/intermediary-asset-pricing/data/pulled/nyfed_primary_dealers_list.xls\n",
      "Loading from cache.\n"
     ]
    }
   ],
   "source": [
    "import pandas as pd\n",
    "import wrds\n",
    "import config\n",
    "from datetime import datetime\n",
    "import unittest\n",
    "import matplotlib.pyplot as plt\n",
    "import numpy as np\n",
    "import Table_01\n",
    "import Table_A1\n",
    "import Table02Analysis\n",
    "import Table02Prep\n",
    "import warnings\n",
    "warnings.filterwarnings(\"ignore\", category=FutureWarning)"
   ]
  },
  {
   "cell_type": "markdown",
   "id": "2f34bc35",
   "metadata": {},
   "source": []
  },
  {
   "cell_type": "markdown",
   "id": "5bdf5287",
   "metadata": {},
   "source": [
    "* Utilize the 'pull_nyfed_primary_dealers_list' function, as defined in the 'load_nyfed.py' file, to download the 'nyfed_primary_dealers_list.xls' Excel file. This function saves the downloaded file into the 'data/pulled' directory. "
   ]
  },
  {
   "cell_type": "markdown",
   "id": "70ec612cba0fea33",
   "metadata": {
    "collapsed": false
   },
   "source": [
    "### Table 01"
   ]
  },
  {
   "cell_type": "markdown",
   "id": "fd2a97b4b47a7249",
   "metadata": {
    "ExecuteTime": {
     "end_time": "2024-02-25T17:19:08.581584700Z",
     "start_time": "2024-02-25T17:19:08.577545Z"
    },
    "collapsed": false
   },
   "source": [
    "#### 1.1 Pull the NY Fed primary dealers list from the NY Fed website"
   ]
  },
  {
   "cell_type": "markdown",
   "id": "a653a0fb",
   "metadata": {},
   "source": [
    "* This process is managed by the task_pull_nyfed() function in the 'dodo.py' file. It handles downloading the 'nyfed_primary_dealers_list.xls' Excel file and saving it in the 'data/pulled' directory."
   ]
  },
  {
   "cell_type": "markdown",
   "id": "7888e7da",
   "metadata": {},
   "source": [
    "#### 1.2 Load the NY Fed primary dealers list from the cached file in the 'data/pulled' directory"
   ]
  },
  {
   "cell_type": "markdown",
   "id": "347aff7e",
   "metadata": {},
   "source": [
    "* Use the 'load_nyfed_primary_dealers_list' function to access the NY Fed primary dealers list from the cached data in the 'data/pulled' directory. Focus on the '2000s' and 'Dealer Alpha' worksheets to extract the list of primary dealers as of February 2014, aiming to replicate Table 1."
   ]
  },
  {
   "cell_type": "markdown",
   "id": "5eca1ffb",
   "metadata": {},
   "source": [
    "#### 1.3 Replicate Table 1 using data from the 'nyfed_primary_dealers_list.xls' Excel file"
   ]
  },
  {
   "cell_type": "markdown",
   "id": "1d494fbe",
   "metadata": {},
   "source": [
    "* The '2000s' worksheet provides annual listings of primary dealers from 2000 to 2014; refine this data to isolate dealers active as of February 2014."
   ]
  },
  {
   "cell_type": "code",
   "execution_count": 2,
   "id": "a8e7cd04",
   "metadata": {},
   "outputs": [
    {
     "data": {
      "text/html": [
       "<div>\n",
       "<style scoped>\n",
       "    .dataframe tbody tr th:only-of-type {\n",
       "        vertical-align: middle;\n",
       "    }\n",
       "\n",
       "    .dataframe tbody tr th {\n",
       "        vertical-align: top;\n",
       "    }\n",
       "\n",
       "    .dataframe thead th {\n",
       "        text-align: right;\n",
       "    }\n",
       "</style>\n",
       "<table border=\"1\" class=\"dataframe\">\n",
       "  <thead>\n",
       "    <tr style=\"text-align: right;\">\n",
       "      <th></th>\n",
       "      <th>Primary Dealer</th>\n",
       "    </tr>\n",
       "  </thead>\n",
       "  <tbody>\n",
       "    <tr>\n",
       "      <th>0</th>\n",
       "      <td>BANK OF NOVA SCOTIA, NEW YORK AGENCY</td>\n",
       "    </tr>\n",
       "    <tr>\n",
       "      <th>1</th>\n",
       "      <td>BARCLAYS CAPITAL INC.</td>\n",
       "    </tr>\n",
       "    <tr>\n",
       "      <th>2</th>\n",
       "      <td>BMO CAPITAL MARKETS CORP.</td>\n",
       "    </tr>\n",
       "    <tr>\n",
       "      <th>3</th>\n",
       "      <td>BNP PARIBAS SECURITIES CORP.</td>\n",
       "    </tr>\n",
       "    <tr>\n",
       "      <th>4</th>\n",
       "      <td>CANTOR FITZGERALD &amp; CO.</td>\n",
       "    </tr>\n",
       "  </tbody>\n",
       "</table>\n",
       "</div>"
      ],
      "text/plain": [
       "                         Primary Dealer\n",
       "0  BANK OF NOVA SCOTIA, NEW YORK AGENCY\n",
       "1   BARCLAYS CAPITAL INC.              \n",
       "2            BMO CAPITAL MARKETS CORP. \n",
       "3      BNP PARIBAS SECURITIES CORP.    \n",
       "4               CANTOR FITZGERALD & CO."
      ]
     },
     "execution_count": 2,
     "metadata": {},
     "output_type": "execute_result"
    }
   ],
   "source": [
    "Table_01.df_2014.head()"
   ]
  },
  {
   "cell_type": "markdown",
   "id": "db12aadd",
   "metadata": {},
   "source": [
    "* The 'Dealer Alpha' worksheet covers all primary dealers from 1960 to 2014, including their start and end dates. Clean this data to facilitate matching with the primary dealer listings found in the '2000s' worksheet.\""
   ]
  },
  {
   "cell_type": "code",
   "execution_count": 3,
   "id": "45549ec0",
   "metadata": {},
   "outputs": [
    {
     "data": {
      "text/html": [
       "<div>\n",
       "<style scoped>\n",
       "    .dataframe tbody tr th:only-of-type {\n",
       "        vertical-align: middle;\n",
       "    }\n",
       "\n",
       "    .dataframe tbody tr th {\n",
       "        vertical-align: top;\n",
       "    }\n",
       "\n",
       "    .dataframe thead th {\n",
       "        text-align: right;\n",
       "    }\n",
       "</style>\n",
       "<table border=\"1\" class=\"dataframe\">\n",
       "  <thead>\n",
       "    <tr style=\"text-align: right;\">\n",
       "      <th></th>\n",
       "      <th>Primary Dealer</th>\n",
       "      <th>Start Date</th>\n",
       "      <th>End Date</th>\n",
       "    </tr>\n",
       "  </thead>\n",
       "  <tbody>\n",
       "    <tr>\n",
       "      <th>0</th>\n",
       "      <td>ABN AMRO BANK, N.V., NY BR</td>\n",
       "      <td>2002-12-09</td>\n",
       "      <td>2006-09-15</td>\n",
       "    </tr>\n",
       "    <tr>\n",
       "      <th>1</th>\n",
       "      <td>ABN AMRO INCORPORATED</td>\n",
       "      <td>1998-09-29</td>\n",
       "      <td>2002-12-08</td>\n",
       "    </tr>\n",
       "    <tr>\n",
       "      <th>2</th>\n",
       "      <td>AUBREY G. LANSTON &amp; CO., INC.</td>\n",
       "      <td>1960-05-19</td>\n",
       "      <td>2000-04-17</td>\n",
       "    </tr>\n",
       "    <tr>\n",
       "      <th>3</th>\n",
       "      <td>BA SECURITIES, INC.</td>\n",
       "      <td>1994-04-18</td>\n",
       "      <td>1997-09-30</td>\n",
       "    </tr>\n",
       "    <tr>\n",
       "      <th>4</th>\n",
       "      <td>BANC OF AMERICA SECURITIES LLC</td>\n",
       "      <td>1999-05-17</td>\n",
       "      <td>2010-11-01</td>\n",
       "    </tr>\n",
       "  </tbody>\n",
       "</table>\n",
       "</div>"
      ],
      "text/plain": [
       "0                             Primary Dealer Start Date    End Date\n",
       "0       ABN AMRO BANK, N.V., NY BR           2002-12-09  2006-09-15\n",
       "1       ABN AMRO INCORPORATED                1998-09-29  2002-12-08\n",
       "2        AUBREY G. LANSTON & CO., INC.       1960-05-19  2000-04-17\n",
       "3        BA SECURITIES, INC.                 1994-04-18  1997-09-30\n",
       "4  BANC OF AMERICA SECURITIES LLC            1999-05-17  2010-11-01"
      ]
     },
     "execution_count": 3,
     "metadata": {},
     "output_type": "execute_result"
    }
   ],
   "source": [
    "Table_01.df_dealer_alpha.head()"
   ]
  },
  {
   "cell_type": "markdown",
   "id": "1e6f9fd7",
   "metadata": {},
   "source": [
    "* Match the 2014 primary dealer list with their start dates, taking care to handle name discrepancies across two Excel sheets, such as extra spaces or differences in punctuation. Also, for dealers who were active, paused, and then resumed, use their latest start date. The code should adjust for these variations to correctly align with the table in the paper. Lastly, arrange the start dates from earliest to most recent."
   ]
  },
  {
   "cell_type": "code",
   "execution_count": 4,
   "id": "286fe778",
   "metadata": {},
   "outputs": [
    {
     "data": {
      "text/html": [
       "<div>\n",
       "<style scoped>\n",
       "    .dataframe tbody tr th:only-of-type {\n",
       "        vertical-align: middle;\n",
       "    }\n",
       "\n",
       "    .dataframe tbody tr th {\n",
       "        vertical-align: top;\n",
       "    }\n",
       "\n",
       "    .dataframe thead th {\n",
       "        text-align: right;\n",
       "    }\n",
       "</style>\n",
       "<table border=\"1\" class=\"dataframe\">\n",
       "  <thead>\n",
       "    <tr style=\"text-align: right;\">\n",
       "      <th></th>\n",
       "      <th>Primary Dealer</th>\n",
       "      <th>Start Date</th>\n",
       "    </tr>\n",
       "  </thead>\n",
       "  <tbody>\n",
       "    <tr>\n",
       "      <th>0</th>\n",
       "      <td>GOLDMAN, SACHS &amp; CO.</td>\n",
       "      <td>1974-12-04</td>\n",
       "    </tr>\n",
       "    <tr>\n",
       "      <th>1</th>\n",
       "      <td>BARCLAYS CAPITAL INC.</td>\n",
       "      <td>1998-04-01</td>\n",
       "    </tr>\n",
       "    <tr>\n",
       "      <th>2</th>\n",
       "      <td>HSBC SECURITIES (USA) INC.</td>\n",
       "      <td>1999-06-01</td>\n",
       "    </tr>\n",
       "    <tr>\n",
       "      <th>3</th>\n",
       "      <td>BNP PARIBAS SECURITIES CORP.</td>\n",
       "      <td>2000-09-15</td>\n",
       "    </tr>\n",
       "    <tr>\n",
       "      <th>4</th>\n",
       "      <td>DEUTSCHE BANK SECURITIES INC.</td>\n",
       "      <td>2002-03-30</td>\n",
       "    </tr>\n",
       "  </tbody>\n",
       "</table>\n",
       "</div>"
      ],
      "text/plain": [
       "                        Primary Dealer Start Date\n",
       "0  GOLDMAN, SACHS & CO.                1974-12-04\n",
       "1  BARCLAYS CAPITAL INC.               1998-04-01\n",
       "2  HSBC SECURITIES (USA) INC.          1999-06-01\n",
       "3     BNP PARIBAS SECURITIES CORP.     2000-09-15\n",
       "4     DEUTSCHE BANK SECURITIES INC.    2002-03-30"
      ]
     },
     "execution_count": 4,
     "metadata": {},
     "output_type": "execute_result"
    }
   ],
   "source": [
    "Table_01.merged_df.head()"
   ]
  },
  {
   "cell_type": "markdown",
   "id": "ba72dc0f",
   "metadata": {},
   "source": [
    "* The author manually matched dealers with their publicly-traded holding companies. For the replication, a 'ticks.csv' file was created and placed in the 'data/manual' directory, containing the mapping information between primary dealers and their holding companies. Subsequently, an additional column was introduced to the 'merged_df' table to display the corresponding holding company for each dealer, utilizing the information from the 'ticks.csv' file."
   ]
  },
  {
   "cell_type": "code",
   "execution_count": 5,
   "id": "4e46b067",
   "metadata": {},
   "outputs": [
    {
     "data": {
      "text/html": [
       "<div>\n",
       "<style scoped>\n",
       "    .dataframe tbody tr th:only-of-type {\n",
       "        vertical-align: middle;\n",
       "    }\n",
       "\n",
       "    .dataframe tbody tr th {\n",
       "        vertical-align: top;\n",
       "    }\n",
       "\n",
       "    .dataframe thead th {\n",
       "        text-align: right;\n",
       "    }\n",
       "</style>\n",
       "<table border=\"1\" class=\"dataframe\">\n",
       "  <thead>\n",
       "    <tr style=\"text-align: right;\">\n",
       "      <th></th>\n",
       "      <th>Primary Dealer</th>\n",
       "      <th>Holding Company</th>\n",
       "      <th>Start Date</th>\n",
       "    </tr>\n",
       "  </thead>\n",
       "  <tbody>\n",
       "    <tr>\n",
       "      <th></th>\n",
       "      <td>GOLDMAN, SACHS &amp; CO.</td>\n",
       "      <td>The Goldman Sachs Group, Inc.</td>\n",
       "      <td>12/4/1974</td>\n",
       "    </tr>\n",
       "    <tr>\n",
       "      <th></th>\n",
       "      <td>BARCLAYS CAPITAL INC.</td>\n",
       "      <td>Barclays PLC</td>\n",
       "      <td>4/1/1998</td>\n",
       "    </tr>\n",
       "    <tr>\n",
       "      <th></th>\n",
       "      <td>HSBC SECURITIES (USA) INC.</td>\n",
       "      <td>HSBC Holdings PLC</td>\n",
       "      <td>6/1/1999</td>\n",
       "    </tr>\n",
       "    <tr>\n",
       "      <th></th>\n",
       "      <td>BNP PARIBAS SECURITIES CORP.</td>\n",
       "      <td>BNP Paribas Group</td>\n",
       "      <td>9/15/2000</td>\n",
       "    </tr>\n",
       "    <tr>\n",
       "      <th></th>\n",
       "      <td>DEUTSCHE BANK SECURITIES INC.</td>\n",
       "      <td>Deutsche Bank AG</td>\n",
       "      <td>3/30/2002</td>\n",
       "    </tr>\n",
       "  </tbody>\n",
       "</table>\n",
       "</div>"
      ],
      "text/plain": [
       "                       Primary Dealer                Holding Company  \\\n",
       "  GOLDMAN, SACHS & CO.                 The Goldman Sachs Group, Inc.   \n",
       "  BARCLAYS CAPITAL INC.                                 Barclays PLC   \n",
       "  HSBC SECURITIES (USA) INC.                       HSBC Holdings PLC   \n",
       "     BNP PARIBAS SECURITIES CORP.                  BNP Paribas Group   \n",
       "     DEUTSCHE BANK SECURITIES INC.                  Deutsche Bank AG   \n",
       "\n",
       " Start Date  \n",
       "  12/4/1974  \n",
       "   4/1/1998  \n",
       "   6/1/1999  \n",
       "  9/15/2000  \n",
       "  3/30/2002  "
      ]
     },
     "execution_count": 5,
     "metadata": {},
     "output_type": "execute_result"
    }
   ],
   "source": [
    "Table_01.merged_df_final.head()"
   ]
  },
  {
   "cell_type": "markdown",
   "id": "0d4720e6",
   "metadata": {},
   "source": [
    "#### 1.4 Convert the table to LaTeX format using the to_latex() function"
   ]
  },
  {
   "cell_type": "markdown",
   "id": "8eae08ed",
   "metadata": {},
   "source": [
    "* The to_latex function, located in the 'Table_01_to_latex.py' file, is utilized to convert the 'merged_df_final' table into LaTeX format. The resulting LaTeX code is then saved into the 'Table_01_to_latex.tex' file within the output directory."
   ]
  },
  {
   "cell_type": "markdown",
   "id": "5f8dd38a",
   "metadata": {},
   "source": [
    "* Before converting the table to LaTeX format, replace '&' with '\\\\&' in company names. Since LaTeX uses '&' to recognize table columns, an unescaped '&' in company names can cause errors when generating the table in LaTeX format."
   ]
  },
  {
   "cell_type": "markdown",
   "id": "46bbb007",
   "metadata": {},
   "source": [
    "#### 1.5 Complete the LaTeX setup to replicate Table 1, incorporating the formatted table"
   ]
  },
  {
   "cell_type": "markdown",
   "id": "e0d3ded6",
   "metadata": {},
   "source": [
    "* Use the 'Table_01_to_latex.tex' file from the 'output' directory, which contains the table in LaTeX format, to create a 'Report_Table_01.tex' file in the 'reports' directory. This action replicates the entire table. The table is inserted into 'Report_Table_01.tex' by employing the '\\input{\\PathToOutput/Table_01_to_latex.tex}' command."
   ]
  },
  {
   "cell_type": "markdown",
   "id": "ab56c2c062078121",
   "metadata": {
    "collapsed": false
   },
   "source": [
    "### Table A.1"
   ]
  },
  {
   "cell_type": "code",
   "execution_count": null,
   "id": "461773d9b7e7a090",
   "metadata": {
    "ExecuteTime": {
     "end_time": "2024-02-25T17:19:09.293513700Z",
     "start_time": "2024-02-25T17:19:09.287613200Z"
    },
    "collapsed": false
   },
   "outputs": [],
   "source": []
  },
  {
   "cell_type": "code",
   "execution_count": null,
   "id": "010fb1f2",
   "metadata": {},
   "outputs": [],
   "source": []
  },
  {
   "cell_type": "code",
   "execution_count": null,
   "id": "0265a654",
   "metadata": {},
   "outputs": [],
   "source": []
  },
  {
   "cell_type": "markdown",
   "id": "adec210f4223d3ef",
   "metadata": {
    "collapsed": false
   },
   "source": [
    "### Table 02"
   ]
  },
  {
   "cell_type": "markdown",
   "id": "ad61a72fa30a4607",
   "metadata": {
    "collapsed": false
   },
   "source": [
    "The following code reads in a manual data file that contains necessary information on primary dealers from 1960-2012 and then merges it with the CRSP Compustat Merge Linkhist table to get additional information on each, such as the SIC codes. The linkhist table is also used as the main reference table to pull the other comparison groups for the table."
   ]
  },
  {
   "cell_type": "code",
   "execution_count": null,
   "id": "93ef2fc15ddab854",
   "metadata": {
    "ExecuteTime": {
     "end_time": "2024-02-25T17:19:13.035249300Z",
     "start_time": "2024-02-25T17:19:11.058453Z"
    },
    "collapsed": false
   },
   "outputs": [],
   "source": [
    "db = wrds.Connection(wrds_username=config.WRDS_USERNAME)\n",
    "merged_main, link_hist = Table02Prep.prim_deal_merge_manual_data_w_linktable()\n",
    "merged_main"
   ]
  },
  {
   "cell_type": "markdown",
   "id": "c1c8282fdd65ee88",
   "metadata": {
    "collapsed": false
   },
   "source": [
    "As mentioned above, the next step is now to use the linkhist table to determine what the other comparison groups are. We use SIC codes to determine broker dealers and banks, and we make sure to exclude any firms that are already in the primary dealer group so we do not have duplicates. Below is the reference table for broker dealers, which had explicit SIC codes mentioned in the paper - banks did not have explicit SIC codes mentioned and required research."
   ]
  },
  {
   "cell_type": "code",
   "execution_count": null,
   "id": "48539c37fd6750ab",
   "metadata": {
    "ExecuteTime": {
     "end_time": "2024-02-25T17:19:15.022065200Z",
     "start_time": "2024-02-25T17:19:14.985828300Z"
    },
    "collapsed": false
   },
   "outputs": [],
   "source": [
    "comparison_group_link_dict = Table02Prep.create_comparison_group_linktables(link_hist, merged_main)\n",
    "comparison_group_link_dict['BD']"
   ]
  },
  {
   "cell_type": "markdown",
   "id": "8b54b8a9224bb3fa",
   "metadata": {
    "collapsed": false
   },
   "source": [
    "We then used each of the reference tables (primary dealers, broker dealers, banks, all firms in Compustat) and pulled data from the Compustat Fundamentals Annual table. The paper mentioned use of monthly data, but there was no apparent monthly table for financial statement data from Compustat. This led to some confusion about how these authors generated their ratios - I am wondering if they computed monthly ratios given what months came out of annual and then took the average. The annuals data did come out in a strange format, however, where it seemed like there was data for several months of the year with disproportionate amounts in each month. The quarterly dataset was not used because it did not appear to have the same gvkey compatibility as the annual table."
   ]
  },
  {
   "cell_type": "markdown",
   "id": "de3e1b3cd59b884c",
   "metadata": {
    "collapsed": false
   },
   "source": [
    "![title](img/table02_annuals_dataset.png)"
   ]
  },
  {
   "cell_type": "markdown",
   "id": "9109aa1aff10bd25",
   "metadata": {
    "collapsed": false
   },
   "source": [
    "Below is the dataset for broker dealers. We calculate or directly pull the values we need in our query so we don't need to do it after. It was mentioned in class this was a best practice because it would run on WRDS servers."
   ]
  },
  {
   "cell_type": "code",
   "execution_count": null,
   "id": "76f4f23530d7d203",
   "metadata": {
    "ExecuteTime": {
     "end_time": "2024-02-25T17:20:22.172707400Z",
     "start_time": "2024-02-25T17:20:17.000513400Z"
    },
    "collapsed": false
   },
   "outputs": [],
   "source": [
    "datasets = Table02Prep.pull_data_for_all_comparison_groups(db, comparison_group_link_dict)\n",
    "datasets['PD']"
   ]
  },
  {
   "cell_type": "markdown",
   "id": "3b1794a62a622068",
   "metadata": {
    "collapsed": false
   },
   "source": [
    "We then prep that data further by aggregating by year and standardizing the date to the first of the year. We also convert the datadate to a datetime column that can be sliced."
   ]
  },
  {
   "cell_type": "code",
   "execution_count": null,
   "id": "813ccfbe61cb9163",
   "metadata": {
    "ExecuteTime": {
     "end_time": "2024-02-25T17:25:20.016108200Z",
     "start_time": "2024-02-25T17:25:19.739413600Z"
    },
    "collapsed": false
   },
   "outputs": [],
   "source": [
    "prepped_datasets = Table02Prep.prep_datasets(datasets)\n",
    "prepped_datasets['PD']"
   ]
  },
  {
   "cell_type": "markdown",
   "id": "b27184b3159948b8",
   "metadata": {
    "collapsed": false
   },
   "source": [
    "We then weave in some of our analysis into the process, whenever the necessary dataset for the analysis is first available. Below is our main table of ratios, where we have computed the\n",
    "$$\n",
    "\\frac{\\text{Primary dealers amount}}{\\text{Comparison group amount (less PD) + Primary dealers amount}}\n",
    "$$"
   ]
  },
  {
   "cell_type": "code",
   "execution_count": null,
   "id": "26a44860a2d6ae61",
   "metadata": {
    "ExecuteTime": {
     "end_time": "2024-02-25T17:25:22.445545500Z",
     "start_time": "2024-02-25T17:25:22.276867900Z"
    },
    "collapsed": false
   },
   "outputs": [],
   "source": [
    "Table02Analysis.create_summary_stat_table_for_data(datasets)\n",
    "table = Table02Prep.create_ratios_for_table(prepped_datasets)\n",
    "table"
   ]
  },
  {
   "cell_type": "markdown",
   "id": "5239d5ab38661caf",
   "metadata": {
    "collapsed": false
   },
   "source": [
    "We create a figure that can give the reader insight into how the ratios have shifted over time for each category and comparison group. We had to clean some of the data and fill null values to have the graph look reasonable but without changing the overall shape of it too dramatically."
   ]
  },
  {
   "cell_type": "code",
   "execution_count": null,
   "id": "d2a92e2e26ec82b2",
   "metadata": {
    "ExecuteTime": {
     "end_time": "2024-02-25T17:24:09.179916500Z",
     "start_time": "2024-02-25T17:24:07.607285800Z"
    },
    "collapsed": false
   },
   "outputs": [],
   "source": [
    "Table02Analysis.create_figure_for_data(table)"
   ]
  },
  {
   "cell_type": "markdown",
   "id": "6fa95ce709d8e2ea",
   "metadata": {
    "collapsed": false
   },
   "source": [
    "Lastly, we get our final table which was what we were trying to replicate from the paper. This table is then converted to LaTeX and outputted to a .tex file."
   ]
  },
  {
   "cell_type": "code",
   "execution_count": null,
   "id": "c6c82d404f8cf20e",
   "metadata": {
    "ExecuteTime": {
     "end_time": "2024-02-25T17:28:12.544923400Z",
     "start_time": "2024-02-25T17:28:12.503083Z"
    },
    "collapsed": false
   },
   "outputs": [],
   "source": [
    "formatted_table = Table02Prep.format_final_table(table)\n",
    "formatted_table"
   ]
  },
  {
   "cell_type": "markdown",
   "id": "9d0f81f884a00995",
   "metadata": {
    "collapsed": false
   },
   "source": [
    "### Table 03"
   ]
  },
  {
   "cell_type": "code",
   "execution_count": null,
   "id": "5dc348c83f46681f",
   "metadata": {
    "collapsed": false
   },
   "outputs": [],
   "source": []
  }
 ],
 "metadata": {
  "kernelspec": {
   "display_name": "Python 3",
   "language": "python",
   "name": "python3"
  },
  "language_info": {
   "codemirror_mode": {
    "name": "ipython",
    "version": 3
   },
   "file_extension": ".py",
   "mimetype": "text/x-python",
   "name": "python",
   "nbconvert_exporter": "python",
   "pygments_lexer": "ipython3",
   "version": "3.12.0"
  }
 },
 "nbformat": 4,
 "nbformat_minor": 5
}
